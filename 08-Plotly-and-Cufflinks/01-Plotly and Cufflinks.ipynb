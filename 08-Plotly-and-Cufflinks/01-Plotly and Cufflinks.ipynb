{
 "cells": [
  {
   "attachments": {},
   "cell_type": "markdown",
   "metadata": {},
   "source": [
    "# Plotly and Cufflinks"
   ]
  },
  {
   "attachments": {},
   "cell_type": "markdown",
   "metadata": {},
   "source": [
    "Plotly is a library that allows you to create interactive plots that you can use in dashboards or websites (you can save them as html files or static images).\n",
    "\n",
    "## Installation\n",
    "\n",
    "In order for this all to work, you'll need to install plotly and cufflinks to call plots directly off of a pandas dataframe. These libraries are not currently available through **conda** but are available through **pip**. Install the libraries at your command line/terminal using:\n",
    "\n",
    "    pip install plotly\n",
    "    pip install cufflinks\n",
    "\n",
    "** NOTE: Make sure you only have one installation of Python on your computer when you do this, otherwise the installation may not work. **\n",
    "\n",
    "## Imports and Set-up\n",
    "pip install cufflinks --upgrade"
   ]
  },
  {
   "cell_type": "code",
   "execution_count": 1,
   "metadata": {
    "collapsed": true
   },
   "outputs": [],
   "source": [
    "import pandas as pd\n",
    "import numpy as np\n",
    "%matplotlib inline"
   ]
  },
  {
   "cell_type": "code",
   "execution_count": 2,
   "metadata": {
    "collapsed": false
   },
   "outputs": [
    {
     "name": "stdout",
     "output_type": "stream",
     "text": [
      "5.9.0\n"
     ]
    }
   ],
   "source": [
    "from plotly import __version__\n",
    "from plotly.offline import download_plotlyjs, init_notebook_mode, plot, iplot\n",
    "\n",
    "print(__version__) # requires version >= 1.9.0"
   ]
  },
  {
   "cell_type": "code",
   "execution_count": 3,
   "metadata": {
    "collapsed": true
   },
   "outputs": [],
   "source": [
    "import cufflinks as cf"
   ]
  },
  {
   "cell_type": "code",
   "execution_count": 4,
   "metadata": {
    "collapsed": false
   },
   "outputs": [
    {
     "data": {
      "text/html": [
       "        <script type=\"text/javascript\">\n",
       "        window.PlotlyConfig = {MathJaxConfig: 'local'};\n",
       "        if (window.MathJax && window.MathJax.Hub && window.MathJax.Hub.Config) {window.MathJax.Hub.Config({SVG: {font: \"STIX-Web\"}});}\n",
       "        if (typeof require !== 'undefined') {\n",
       "        require.undef(\"plotly\");\n",
       "        requirejs.config({\n",
       "            paths: {\n",
       "                'plotly': ['https://cdn.plot.ly/plotly-2.12.1.min']\n",
       "            }\n",
       "        });\n",
       "        require(['plotly'], function(Plotly) {\n",
       "            window._Plotly = Plotly;\n",
       "        });\n",
       "        }\n",
       "        </script>\n",
       "        "
      ]
     },
     "metadata": {},
     "output_type": "display_data"
    }
   ],
   "source": [
    "# For Notebooks\n",
    "init_notebook_mode(connected=True)"
   ]
  },
  {
   "cell_type": "code",
   "execution_count": 5,
   "metadata": {
    "collapsed": false
   },
   "outputs": [
    {
     "data": {
      "text/html": [
       "        <script type=\"text/javascript\">\n",
       "        window.PlotlyConfig = {MathJaxConfig: 'local'};\n",
       "        if (window.MathJax && window.MathJax.Hub && window.MathJax.Hub.Config) {window.MathJax.Hub.Config({SVG: {font: \"STIX-Web\"}});}\n",
       "        if (typeof require !== 'undefined') {\n",
       "        require.undef(\"plotly\");\n",
       "        requirejs.config({\n",
       "            paths: {\n",
       "                'plotly': ['https://cdn.plot.ly/plotly-2.12.1.min']\n",
       "            }\n",
       "        });\n",
       "        require(['plotly'], function(Plotly) {\n",
       "            window._Plotly = Plotly;\n",
       "        });\n",
       "        }\n",
       "        </script>\n",
       "        "
      ]
     },
     "metadata": {},
     "output_type": "display_data"
    }
   ],
   "source": [
    "# For offline use\n",
    "cf.go_offline()"
   ]
  },
  {
   "cell_type": "markdown",
   "metadata": {},
   "source": [
    "### Fake Data"
   ]
  },
  {
   "cell_type": "code",
   "execution_count": 6,
   "metadata": {
    "collapsed": false
   },
   "outputs": [],
   "source": [
    "df = pd.DataFrame(np.random.randn(100,4),columns='A B C D'.split())"
   ]
  },
  {
   "cell_type": "code",
   "execution_count": 7,
   "metadata": {
    "collapsed": false
   },
   "outputs": [
    {
     "data": {
      "text/html": [
       "<div>\n",
       "<style scoped>\n",
       "    .dataframe tbody tr th:only-of-type {\n",
       "        vertical-align: middle;\n",
       "    }\n",
       "\n",
       "    .dataframe tbody tr th {\n",
       "        vertical-align: top;\n",
       "    }\n",
       "\n",
       "    .dataframe thead th {\n",
       "        text-align: right;\n",
       "    }\n",
       "</style>\n",
       "<table border=\"1\" class=\"dataframe\">\n",
       "  <thead>\n",
       "    <tr style=\"text-align: right;\">\n",
       "      <th></th>\n",
       "      <th>A</th>\n",
       "      <th>B</th>\n",
       "      <th>C</th>\n",
       "      <th>D</th>\n",
       "    </tr>\n",
       "  </thead>\n",
       "  <tbody>\n",
       "    <tr>\n",
       "      <th>0</th>\n",
       "      <td>-1.233678</td>\n",
       "      <td>1.613697</td>\n",
       "      <td>-0.343709</td>\n",
       "      <td>-0.452516</td>\n",
       "    </tr>\n",
       "    <tr>\n",
       "      <th>1</th>\n",
       "      <td>0.735461</td>\n",
       "      <td>-1.774345</td>\n",
       "      <td>-1.603707</td>\n",
       "      <td>-1.184741</td>\n",
       "    </tr>\n",
       "    <tr>\n",
       "      <th>2</th>\n",
       "      <td>0.182979</td>\n",
       "      <td>-0.720329</td>\n",
       "      <td>-1.011752</td>\n",
       "      <td>-0.679372</td>\n",
       "    </tr>\n",
       "    <tr>\n",
       "      <th>3</th>\n",
       "      <td>0.499721</td>\n",
       "      <td>-0.611795</td>\n",
       "      <td>2.352070</td>\n",
       "      <td>-0.766349</td>\n",
       "    </tr>\n",
       "    <tr>\n",
       "      <th>4</th>\n",
       "      <td>-0.416438</td>\n",
       "      <td>-0.500945</td>\n",
       "      <td>-0.078008</td>\n",
       "      <td>-2.103783</td>\n",
       "    </tr>\n",
       "  </tbody>\n",
       "</table>\n",
       "</div>"
      ],
      "text/plain": [
       "          A         B         C         D\n",
       "0 -1.233678  1.613697 -0.343709 -0.452516\n",
       "1  0.735461 -1.774345 -1.603707 -1.184741\n",
       "2  0.182979 -0.720329 -1.011752 -0.679372\n",
       "3  0.499721 -0.611795  2.352070 -0.766349\n",
       "4 -0.416438 -0.500945 -0.078008 -2.103783"
      ]
     },
     "execution_count": 7,
     "metadata": {},
     "output_type": "execute_result"
    }
   ],
   "source": [
    "df.head()"
   ]
  },
  {
   "cell_type": "code",
   "execution_count": 8,
   "metadata": {
    "collapsed": true
   },
   "outputs": [],
   "source": [
    "df2 = pd.DataFrame({'Category':['A','B','C'],'Values':[32,43,50]})"
   ]
  },
  {
   "cell_type": "code",
   "execution_count": 9,
   "metadata": {
    "collapsed": false
   },
   "outputs": [
    {
     "data": {
      "text/html": [
       "<div>\n",
       "<style scoped>\n",
       "    .dataframe tbody tr th:only-of-type {\n",
       "        vertical-align: middle;\n",
       "    }\n",
       "\n",
       "    .dataframe tbody tr th {\n",
       "        vertical-align: top;\n",
       "    }\n",
       "\n",
       "    .dataframe thead th {\n",
       "        text-align: right;\n",
       "    }\n",
       "</style>\n",
       "<table border=\"1\" class=\"dataframe\">\n",
       "  <thead>\n",
       "    <tr style=\"text-align: right;\">\n",
       "      <th></th>\n",
       "      <th>Category</th>\n",
       "      <th>Values</th>\n",
       "    </tr>\n",
       "  </thead>\n",
       "  <tbody>\n",
       "    <tr>\n",
       "      <th>0</th>\n",
       "      <td>A</td>\n",
       "      <td>32</td>\n",
       "    </tr>\n",
       "    <tr>\n",
       "      <th>1</th>\n",
       "      <td>B</td>\n",
       "      <td>43</td>\n",
       "    </tr>\n",
       "    <tr>\n",
       "      <th>2</th>\n",
       "      <td>C</td>\n",
       "      <td>50</td>\n",
       "    </tr>\n",
       "  </tbody>\n",
       "</table>\n",
       "</div>"
      ],
      "text/plain": [
       "  Category  Values\n",
       "0        A      32\n",
       "1        B      43\n",
       "2        C      50"
      ]
     },
     "execution_count": 9,
     "metadata": {},
     "output_type": "execute_result"
    }
   ],
   "source": [
    "df2.head()"
   ]
  },
  {
   "cell_type": "markdown",
   "metadata": {},
   "source": [
    "## Using Cufflinks and iplot()\n",
    "\n",
    "* scatter\n",
    "* bar\n",
    "* box\n",
    "* spread\n",
    "* ratio\n",
    "* heatmap\n",
    "* surface\n",
    "* histogram\n",
    "* bubble"
   ]
  },
  {
   "cell_type": "markdown",
   "metadata": {},
   "source": [
    "## Scatter"
   ]
  },
  {
   "cell_type": "code",
   "execution_count": 10,
   "metadata": {
    "collapsed": false
   },
   "outputs": [
    {
     "data": {
      "application/vnd.plotly.v1+json": {
       "config": {
        "linkText": "Export to plot.ly",
        "plotlyServerURL": "https://plot.ly",
        "showLink": true
       },
       "data": [
        {
         "line": {
          "color": "rgba(255, 153, 51, 1.0)",
          "dash": "solid",
          "shape": "linear",
          "width": 1.3
         },
         "marker": {
          "size": 10,
          "symbol": "circle"
         },
         "mode": "markers",
         "name": "B",
         "text": "",
         "type": "scatter",
         "x": [
          -1.23367774458424,
          0.7354606535590142,
          0.18297916358793126,
          0.4997206964909568,
          -0.4164376791113165,
          0.7725868189495974,
          -0.3190709225596303,
          -0.34509557310354055,
          0.17571314182171857,
          1.2832496432359026,
          -0.6701622872223576,
          0.1726151343541529,
          -0.5371486714244423,
          0.14866247108121355,
          -1.1134174896360065,
          0.9181426264528164,
          0.2916545629339712,
          -1.5327750870756958,
          -1.4981000212493611,
          -0.6778356750220685,
          1.735421358474536,
          -0.6843482671654342,
          -2.3903111255154244,
          -0.19203745335697894,
          -0.7727337242600216,
          0.4851640083650962,
          -0.03687388157122996,
          -0.28013428904290666,
          0.13278542161376505,
          0.3119355241632733,
          1.5559893421845665,
          -0.14961659575442454,
          -0.6254401403525508,
          0.14409253691847518,
          -0.17776408261353757,
          -1.506867556747576,
          -0.9417607912397659,
          1.8817932769503896,
          -0.09791659724689179,
          2.341697749668085,
          -1.0463068519188832,
          0.7667785456655989,
          0.3744052165922298,
          -0.11600890719464242,
          1.3157688037328155,
          -0.47044669371950476,
          0.5387585482327067,
          0.7425985029443694,
          0.9624955022877838,
          -0.2984520913272161,
          -0.2183144798873457,
          0.9022682433066121,
          1.155171384106318,
          -0.4639222451394979,
          1.9799373349193057,
          -0.9709105566083415,
          0.4266930092556539,
          0.7982776980272756,
          -0.788330192220676,
          2.214154651931596,
          0.8517386094525903,
          0.7307109968115925,
          0.7635729782447669,
          0.10645212322818463,
          0.36019364897067474,
          0.9746982639638698,
          -0.5556653065216498,
          0.17462254664205748,
          -1.8419332782616773,
          -1.985223300131962,
          0.7467115259440948,
          2.2401539237310297,
          -0.8646309336109702,
          0.03176867873429596,
          1.0856986000536937,
          0.5765714008077054,
          1.8425945746859302,
          -0.5982346749068658,
          1.281876291366642,
          -1.4856750066733857,
          -0.40617642583972385,
          1.227860895027526,
          -0.1516154355428637,
          -0.19119937484773103,
          1.6412982490327952,
          -0.16593239072305466,
          -1.2920286182886802,
          -0.8691861682544956,
          -1.850680027577851,
          2.257954454887254,
          2.6285325515955864,
          -0.0684629034273146,
          1.7513799068573954,
          -0.46705614107678833,
          -0.10754645646971306,
          0.3550472312638334,
          -0.030799279632314668,
          0.48260371806705854,
          0.6037213493070618,
          1.2001353535703647
         ],
         "y": [
          1.6136967679655434,
          -1.7743454628646287,
          -0.7203287172843124,
          -0.6117954031487445,
          -0.5009445747690496,
          -0.24161844138377042,
          -0.08872694595508866,
          0.9414124362805255,
          -1.3156998667030655,
          -1.4071666051435512,
          0.5936163122545488,
          -1.4425960457191493,
          0.8871373825005632,
          0.7934761210859214,
          1.6388025932684638,
          -0.11005133315602779,
          -0.10825386825750678,
          0.0025098233379851074,
          0.2872930674671653,
          -0.6648284861864668,
          -0.15297087907323706,
          -0.22340340462924857,
          -1.046194162796279,
          -0.6992987713385544,
          -1.428382051025518,
          2.2717657882437416,
          -0.2991219216134819,
          0.8036729570996414,
          0.07473183143488986,
          0.03629793496927448,
          0.7282501907601823,
          -0.468992428764272,
          1.1354729217609987,
          -0.17500536226349744,
          -0.8823112338592987,
          -1.0267863666982082,
          0.22929164557760115,
          0.08166986290003601,
          -0.4330250214952117,
          -1.4768571379632707,
          -0.03836514380320835,
          0.5605916358916565,
          0.3208280805065191,
          -0.30636035654476584,
          -0.5856938781868646,
          -0.9413963300297031,
          -1.8328437051415842,
          0.3633607192627451,
          0.014613820067525655,
          -2.0581325295536987,
          -0.5814716694456769,
          -0.645961870134278,
          -0.9509169358479385,
          -0.5364320563027563,
          -0.09927241848365108,
          1.1677610430726344,
          0.3140389325576045,
          2.2953591028356666,
          -0.811016454177509,
          -1.0738306708614167,
          -0.5448157712114431,
          1.0117744371276478,
          0.4037143519820321,
          -0.07573006893551563,
          0.20146794629997267,
          -0.3682498559607633,
          -1.051561812832864,
          0.9742748100847685,
          -1.8840815140861575,
          -1.163604661761712,
          0.2695935706119995,
          -0.2153451906084906,
          -0.4643422556942716,
          -0.03181141759971215,
          1.601791961152759,
          -1.263754355144204,
          -0.4277428623143499,
          0.3758165557541959,
          0.466825436020422,
          0.12952785501322436,
          -1.1010703462267066,
          -1.2236492596008608,
          0.01927986704213586,
          -0.6869701717286061,
          -0.6547097891615642,
          -0.2396485802567933,
          -0.05472819079502166,
          -2.6898646855476485,
          -1.2873936728903954,
          0.6240206318014331,
          1.249178232250976,
          0.4185312567426191,
          -1.4588386970350944,
          -0.19460072611954962,
          0.509326925798342,
          0.1338898266727817,
          -1.2748281912315276,
          -1.3360835573105292,
          -0.2282333872994752,
          1.0511136019093947
         ]
        }
       ],
       "layout": {
        "legend": {
         "bgcolor": "#F5F6F9",
         "font": {
          "color": "#4D5663"
         }
        },
        "paper_bgcolor": "#F5F6F9",
        "plot_bgcolor": "#F5F6F9",
        "template": {
         "data": {
          "bar": [
           {
            "error_x": {
             "color": "#2a3f5f"
            },
            "error_y": {
             "color": "#2a3f5f"
            },
            "marker": {
             "line": {
              "color": "#E5ECF6",
              "width": 0.5
             },
             "pattern": {
              "fillmode": "overlay",
              "size": 10,
              "solidity": 0.2
             }
            },
            "type": "bar"
           }
          ],
          "barpolar": [
           {
            "marker": {
             "line": {
              "color": "#E5ECF6",
              "width": 0.5
             },
             "pattern": {
              "fillmode": "overlay",
              "size": 10,
              "solidity": 0.2
             }
            },
            "type": "barpolar"
           }
          ],
          "carpet": [
           {
            "aaxis": {
             "endlinecolor": "#2a3f5f",
             "gridcolor": "white",
             "linecolor": "white",
             "minorgridcolor": "white",
             "startlinecolor": "#2a3f5f"
            },
            "baxis": {
             "endlinecolor": "#2a3f5f",
             "gridcolor": "white",
             "linecolor": "white",
             "minorgridcolor": "white",
             "startlinecolor": "#2a3f5f"
            },
            "type": "carpet"
           }
          ],
          "choropleth": [
           {
            "colorbar": {
             "outlinewidth": 0,
             "ticks": ""
            },
            "type": "choropleth"
           }
          ],
          "contour": [
           {
            "colorbar": {
             "outlinewidth": 0,
             "ticks": ""
            },
            "colorscale": [
             [
              0,
              "#0d0887"
             ],
             [
              0.1111111111111111,
              "#46039f"
             ],
             [
              0.2222222222222222,
              "#7201a8"
             ],
             [
              0.3333333333333333,
              "#9c179e"
             ],
             [
              0.4444444444444444,
              "#bd3786"
             ],
             [
              0.5555555555555556,
              "#d8576b"
             ],
             [
              0.6666666666666666,
              "#ed7953"
             ],
             [
              0.7777777777777778,
              "#fb9f3a"
             ],
             [
              0.8888888888888888,
              "#fdca26"
             ],
             [
              1,
              "#f0f921"
             ]
            ],
            "type": "contour"
           }
          ],
          "contourcarpet": [
           {
            "colorbar": {
             "outlinewidth": 0,
             "ticks": ""
            },
            "type": "contourcarpet"
           }
          ],
          "heatmap": [
           {
            "colorbar": {
             "outlinewidth": 0,
             "ticks": ""
            },
            "colorscale": [
             [
              0,
              "#0d0887"
             ],
             [
              0.1111111111111111,
              "#46039f"
             ],
             [
              0.2222222222222222,
              "#7201a8"
             ],
             [
              0.3333333333333333,
              "#9c179e"
             ],
             [
              0.4444444444444444,
              "#bd3786"
             ],
             [
              0.5555555555555556,
              "#d8576b"
             ],
             [
              0.6666666666666666,
              "#ed7953"
             ],
             [
              0.7777777777777778,
              "#fb9f3a"
             ],
             [
              0.8888888888888888,
              "#fdca26"
             ],
             [
              1,
              "#f0f921"
             ]
            ],
            "type": "heatmap"
           }
          ],
          "heatmapgl": [
           {
            "colorbar": {
             "outlinewidth": 0,
             "ticks": ""
            },
            "colorscale": [
             [
              0,
              "#0d0887"
             ],
             [
              0.1111111111111111,
              "#46039f"
             ],
             [
              0.2222222222222222,
              "#7201a8"
             ],
             [
              0.3333333333333333,
              "#9c179e"
             ],
             [
              0.4444444444444444,
              "#bd3786"
             ],
             [
              0.5555555555555556,
              "#d8576b"
             ],
             [
              0.6666666666666666,
              "#ed7953"
             ],
             [
              0.7777777777777778,
              "#fb9f3a"
             ],
             [
              0.8888888888888888,
              "#fdca26"
             ],
             [
              1,
              "#f0f921"
             ]
            ],
            "type": "heatmapgl"
           }
          ],
          "histogram": [
           {
            "marker": {
             "pattern": {
              "fillmode": "overlay",
              "size": 10,
              "solidity": 0.2
             }
            },
            "type": "histogram"
           }
          ],
          "histogram2d": [
           {
            "colorbar": {
             "outlinewidth": 0,
             "ticks": ""
            },
            "colorscale": [
             [
              0,
              "#0d0887"
             ],
             [
              0.1111111111111111,
              "#46039f"
             ],
             [
              0.2222222222222222,
              "#7201a8"
             ],
             [
              0.3333333333333333,
              "#9c179e"
             ],
             [
              0.4444444444444444,
              "#bd3786"
             ],
             [
              0.5555555555555556,
              "#d8576b"
             ],
             [
              0.6666666666666666,
              "#ed7953"
             ],
             [
              0.7777777777777778,
              "#fb9f3a"
             ],
             [
              0.8888888888888888,
              "#fdca26"
             ],
             [
              1,
              "#f0f921"
             ]
            ],
            "type": "histogram2d"
           }
          ],
          "histogram2dcontour": [
           {
            "colorbar": {
             "outlinewidth": 0,
             "ticks": ""
            },
            "colorscale": [
             [
              0,
              "#0d0887"
             ],
             [
              0.1111111111111111,
              "#46039f"
             ],
             [
              0.2222222222222222,
              "#7201a8"
             ],
             [
              0.3333333333333333,
              "#9c179e"
             ],
             [
              0.4444444444444444,
              "#bd3786"
             ],
             [
              0.5555555555555556,
              "#d8576b"
             ],
             [
              0.6666666666666666,
              "#ed7953"
             ],
             [
              0.7777777777777778,
              "#fb9f3a"
             ],
             [
              0.8888888888888888,
              "#fdca26"
             ],
             [
              1,
              "#f0f921"
             ]
            ],
            "type": "histogram2dcontour"
           }
          ],
          "mesh3d": [
           {
            "colorbar": {
             "outlinewidth": 0,
             "ticks": ""
            },
            "type": "mesh3d"
           }
          ],
          "parcoords": [
           {
            "line": {
             "colorbar": {
              "outlinewidth": 0,
              "ticks": ""
             }
            },
            "type": "parcoords"
           }
          ],
          "pie": [
           {
            "automargin": true,
            "type": "pie"
           }
          ],
          "scatter": [
           {
            "fillpattern": {
             "fillmode": "overlay",
             "size": 10,
             "solidity": 0.2
            },
            "type": "scatter"
           }
          ],
          "scatter3d": [
           {
            "line": {
             "colorbar": {
              "outlinewidth": 0,
              "ticks": ""
             }
            },
            "marker": {
             "colorbar": {
              "outlinewidth": 0,
              "ticks": ""
             }
            },
            "type": "scatter3d"
           }
          ],
          "scattercarpet": [
           {
            "marker": {
             "colorbar": {
              "outlinewidth": 0,
              "ticks": ""
             }
            },
            "type": "scattercarpet"
           }
          ],
          "scattergeo": [
           {
            "marker": {
             "colorbar": {
              "outlinewidth": 0,
              "ticks": ""
             }
            },
            "type": "scattergeo"
           }
          ],
          "scattergl": [
           {
            "marker": {
             "colorbar": {
              "outlinewidth": 0,
              "ticks": ""
             }
            },
            "type": "scattergl"
           }
          ],
          "scattermapbox": [
           {
            "marker": {
             "colorbar": {
              "outlinewidth": 0,
              "ticks": ""
             }
            },
            "type": "scattermapbox"
           }
          ],
          "scatterpolar": [
           {
            "marker": {
             "colorbar": {
              "outlinewidth": 0,
              "ticks": ""
             }
            },
            "type": "scatterpolar"
           }
          ],
          "scatterpolargl": [
           {
            "marker": {
             "colorbar": {
              "outlinewidth": 0,
              "ticks": ""
             }
            },
            "type": "scatterpolargl"
           }
          ],
          "scatterternary": [
           {
            "marker": {
             "colorbar": {
              "outlinewidth": 0,
              "ticks": ""
             }
            },
            "type": "scatterternary"
           }
          ],
          "surface": [
           {
            "colorbar": {
             "outlinewidth": 0,
             "ticks": ""
            },
            "colorscale": [
             [
              0,
              "#0d0887"
             ],
             [
              0.1111111111111111,
              "#46039f"
             ],
             [
              0.2222222222222222,
              "#7201a8"
             ],
             [
              0.3333333333333333,
              "#9c179e"
             ],
             [
              0.4444444444444444,
              "#bd3786"
             ],
             [
              0.5555555555555556,
              "#d8576b"
             ],
             [
              0.6666666666666666,
              "#ed7953"
             ],
             [
              0.7777777777777778,
              "#fb9f3a"
             ],
             [
              0.8888888888888888,
              "#fdca26"
             ],
             [
              1,
              "#f0f921"
             ]
            ],
            "type": "surface"
           }
          ],
          "table": [
           {
            "cells": {
             "fill": {
              "color": "#EBF0F8"
             },
             "line": {
              "color": "white"
             }
            },
            "header": {
             "fill": {
              "color": "#C8D4E3"
             },
             "line": {
              "color": "white"
             }
            },
            "type": "table"
           }
          ]
         },
         "layout": {
          "annotationdefaults": {
           "arrowcolor": "#2a3f5f",
           "arrowhead": 0,
           "arrowwidth": 1
          },
          "autotypenumbers": "strict",
          "coloraxis": {
           "colorbar": {
            "outlinewidth": 0,
            "ticks": ""
           }
          },
          "colorscale": {
           "diverging": [
            [
             0,
             "#8e0152"
            ],
            [
             0.1,
             "#c51b7d"
            ],
            [
             0.2,
             "#de77ae"
            ],
            [
             0.3,
             "#f1b6da"
            ],
            [
             0.4,
             "#fde0ef"
            ],
            [
             0.5,
             "#f7f7f7"
            ],
            [
             0.6,
             "#e6f5d0"
            ],
            [
             0.7,
             "#b8e186"
            ],
            [
             0.8,
             "#7fbc41"
            ],
            [
             0.9,
             "#4d9221"
            ],
            [
             1,
             "#276419"
            ]
           ],
           "sequential": [
            [
             0,
             "#0d0887"
            ],
            [
             0.1111111111111111,
             "#46039f"
            ],
            [
             0.2222222222222222,
             "#7201a8"
            ],
            [
             0.3333333333333333,
             "#9c179e"
            ],
            [
             0.4444444444444444,
             "#bd3786"
            ],
            [
             0.5555555555555556,
             "#d8576b"
            ],
            [
             0.6666666666666666,
             "#ed7953"
            ],
            [
             0.7777777777777778,
             "#fb9f3a"
            ],
            [
             0.8888888888888888,
             "#fdca26"
            ],
            [
             1,
             "#f0f921"
            ]
           ],
           "sequentialminus": [
            [
             0,
             "#0d0887"
            ],
            [
             0.1111111111111111,
             "#46039f"
            ],
            [
             0.2222222222222222,
             "#7201a8"
            ],
            [
             0.3333333333333333,
             "#9c179e"
            ],
            [
             0.4444444444444444,
             "#bd3786"
            ],
            [
             0.5555555555555556,
             "#d8576b"
            ],
            [
             0.6666666666666666,
             "#ed7953"
            ],
            [
             0.7777777777777778,
             "#fb9f3a"
            ],
            [
             0.8888888888888888,
             "#fdca26"
            ],
            [
             1,
             "#f0f921"
            ]
           ]
          },
          "colorway": [
           "#636efa",
           "#EF553B",
           "#00cc96",
           "#ab63fa",
           "#FFA15A",
           "#19d3f3",
           "#FF6692",
           "#B6E880",
           "#FF97FF",
           "#FECB52"
          ],
          "font": {
           "color": "#2a3f5f"
          },
          "geo": {
           "bgcolor": "white",
           "lakecolor": "white",
           "landcolor": "#E5ECF6",
           "showlakes": true,
           "showland": true,
           "subunitcolor": "white"
          },
          "hoverlabel": {
           "align": "left"
          },
          "hovermode": "closest",
          "mapbox": {
           "style": "light"
          },
          "paper_bgcolor": "white",
          "plot_bgcolor": "#E5ECF6",
          "polar": {
           "angularaxis": {
            "gridcolor": "white",
            "linecolor": "white",
            "ticks": ""
           },
           "bgcolor": "#E5ECF6",
           "radialaxis": {
            "gridcolor": "white",
            "linecolor": "white",
            "ticks": ""
           }
          },
          "scene": {
           "xaxis": {
            "backgroundcolor": "#E5ECF6",
            "gridcolor": "white",
            "gridwidth": 2,
            "linecolor": "white",
            "showbackground": true,
            "ticks": "",
            "zerolinecolor": "white"
           },
           "yaxis": {
            "backgroundcolor": "#E5ECF6",
            "gridcolor": "white",
            "gridwidth": 2,
            "linecolor": "white",
            "showbackground": true,
            "ticks": "",
            "zerolinecolor": "white"
           },
           "zaxis": {
            "backgroundcolor": "#E5ECF6",
            "gridcolor": "white",
            "gridwidth": 2,
            "linecolor": "white",
            "showbackground": true,
            "ticks": "",
            "zerolinecolor": "white"
           }
          },
          "shapedefaults": {
           "line": {
            "color": "#2a3f5f"
           }
          },
          "ternary": {
           "aaxis": {
            "gridcolor": "white",
            "linecolor": "white",
            "ticks": ""
           },
           "baxis": {
            "gridcolor": "white",
            "linecolor": "white",
            "ticks": ""
           },
           "bgcolor": "#E5ECF6",
           "caxis": {
            "gridcolor": "white",
            "linecolor": "white",
            "ticks": ""
           }
          },
          "title": {
           "x": 0.05
          },
          "xaxis": {
           "automargin": true,
           "gridcolor": "white",
           "linecolor": "white",
           "ticks": "",
           "title": {
            "standoff": 15
           },
           "zerolinecolor": "white",
           "zerolinewidth": 2
          },
          "yaxis": {
           "automargin": true,
           "gridcolor": "white",
           "linecolor": "white",
           "ticks": "",
           "title": {
            "standoff": 15
           },
           "zerolinecolor": "white",
           "zerolinewidth": 2
          }
         }
        },
        "title": {
         "font": {
          "color": "#4D5663"
         }
        },
        "xaxis": {
         "gridcolor": "#E1E5ED",
         "showgrid": true,
         "tickfont": {
          "color": "#4D5663"
         },
         "title": {
          "font": {
           "color": "#4D5663"
          },
          "text": ""
         },
         "zerolinecolor": "#E1E5ED"
        },
        "yaxis": {
         "gridcolor": "#E1E5ED",
         "showgrid": true,
         "tickfont": {
          "color": "#4D5663"
         },
         "title": {
          "font": {
           "color": "#4D5663"
          },
          "text": ""
         },
         "zerolinecolor": "#E1E5ED"
        }
       }
      },
      "text/html": [
       "<div>                            <div id=\"887de574-8d34-4145-b399-ee9284263b0f\" class=\"plotly-graph-div\" style=\"height:525px; width:100%;\"></div>            <script type=\"text/javascript\">                require([\"plotly\"], function(Plotly) {                    window.PLOTLYENV=window.PLOTLYENV || {};\n",
       "                    window.PLOTLYENV.BASE_URL='https://plot.ly';                                    if (document.getElementById(\"887de574-8d34-4145-b399-ee9284263b0f\")) {                    Plotly.newPlot(                        \"887de574-8d34-4145-b399-ee9284263b0f\",                        [{\"line\":{\"color\":\"rgba(255, 153, 51, 1.0)\",\"dash\":\"solid\",\"shape\":\"linear\",\"width\":1.3},\"marker\":{\"size\":10,\"symbol\":\"circle\"},\"mode\":\"markers\",\"name\":\"B\",\"text\":\"\",\"x\":[-1.23367774458424,0.7354606535590142,0.18297916358793126,0.4997206964909568,-0.4164376791113165,0.7725868189495974,-0.3190709225596303,-0.34509557310354055,0.17571314182171857,1.2832496432359026,-0.6701622872223576,0.1726151343541529,-0.5371486714244423,0.14866247108121355,-1.1134174896360065,0.9181426264528164,0.2916545629339712,-1.5327750870756958,-1.4981000212493611,-0.6778356750220685,1.735421358474536,-0.6843482671654342,-2.3903111255154244,-0.19203745335697894,-0.7727337242600216,0.4851640083650962,-0.03687388157122996,-0.28013428904290666,0.13278542161376505,0.3119355241632733,1.5559893421845665,-0.14961659575442454,-0.6254401403525508,0.14409253691847518,-0.17776408261353757,-1.506867556747576,-0.9417607912397659,1.8817932769503896,-0.09791659724689179,2.341697749668085,-1.0463068519188832,0.7667785456655989,0.3744052165922298,-0.11600890719464242,1.3157688037328155,-0.47044669371950476,0.5387585482327067,0.7425985029443694,0.9624955022877838,-0.2984520913272161,-0.2183144798873457,0.9022682433066121,1.155171384106318,-0.4639222451394979,1.9799373349193057,-0.9709105566083415,0.4266930092556539,0.7982776980272756,-0.788330192220676,2.214154651931596,0.8517386094525903,0.7307109968115925,0.7635729782447669,0.10645212322818463,0.36019364897067474,0.9746982639638698,-0.5556653065216498,0.17462254664205748,-1.8419332782616773,-1.985223300131962,0.7467115259440948,2.2401539237310297,-0.8646309336109702,0.03176867873429596,1.0856986000536937,0.5765714008077054,1.8425945746859302,-0.5982346749068658,1.281876291366642,-1.4856750066733857,-0.40617642583972385,1.227860895027526,-0.1516154355428637,-0.19119937484773103,1.6412982490327952,-0.16593239072305466,-1.2920286182886802,-0.8691861682544956,-1.850680027577851,2.257954454887254,2.6285325515955864,-0.0684629034273146,1.7513799068573954,-0.46705614107678833,-0.10754645646971306,0.3550472312638334,-0.030799279632314668,0.48260371806705854,0.6037213493070618,1.2001353535703647],\"y\":[1.6136967679655434,-1.7743454628646287,-0.7203287172843124,-0.6117954031487445,-0.5009445747690496,-0.24161844138377042,-0.08872694595508866,0.9414124362805255,-1.3156998667030655,-1.4071666051435512,0.5936163122545488,-1.4425960457191493,0.8871373825005632,0.7934761210859214,1.6388025932684638,-0.11005133315602779,-0.10825386825750678,0.0025098233379851074,0.2872930674671653,-0.6648284861864668,-0.15297087907323706,-0.22340340462924857,-1.046194162796279,-0.6992987713385544,-1.428382051025518,2.2717657882437416,-0.2991219216134819,0.8036729570996414,0.07473183143488986,0.03629793496927448,0.7282501907601823,-0.468992428764272,1.1354729217609987,-0.17500536226349744,-0.8823112338592987,-1.0267863666982082,0.22929164557760115,0.08166986290003601,-0.4330250214952117,-1.4768571379632707,-0.03836514380320835,0.5605916358916565,0.3208280805065191,-0.30636035654476584,-0.5856938781868646,-0.9413963300297031,-1.8328437051415842,0.3633607192627451,0.014613820067525655,-2.0581325295536987,-0.5814716694456769,-0.645961870134278,-0.9509169358479385,-0.5364320563027563,-0.09927241848365108,1.1677610430726344,0.3140389325576045,2.2953591028356666,-0.811016454177509,-1.0738306708614167,-0.5448157712114431,1.0117744371276478,0.4037143519820321,-0.07573006893551563,0.20146794629997267,-0.3682498559607633,-1.051561812832864,0.9742748100847685,-1.8840815140861575,-1.163604661761712,0.2695935706119995,-0.2153451906084906,-0.4643422556942716,-0.03181141759971215,1.601791961152759,-1.263754355144204,-0.4277428623143499,0.3758165557541959,0.466825436020422,0.12952785501322436,-1.1010703462267066,-1.2236492596008608,0.01927986704213586,-0.6869701717286061,-0.6547097891615642,-0.2396485802567933,-0.05472819079502166,-2.6898646855476485,-1.2873936728903954,0.6240206318014331,1.249178232250976,0.4185312567426191,-1.4588386970350944,-0.19460072611954962,0.509326925798342,0.1338898266727817,-1.2748281912315276,-1.3360835573105292,-0.2282333872994752,1.0511136019093947],\"type\":\"scatter\"}],                        {\"legend\":{\"bgcolor\":\"#F5F6F9\",\"font\":{\"color\":\"#4D5663\"}},\"paper_bgcolor\":\"#F5F6F9\",\"plot_bgcolor\":\"#F5F6F9\",\"template\":{\"data\":{\"barpolar\":[{\"marker\":{\"line\":{\"color\":\"#E5ECF6\",\"width\":0.5},\"pattern\":{\"fillmode\":\"overlay\",\"size\":10,\"solidity\":0.2}},\"type\":\"barpolar\"}],\"bar\":[{\"error_x\":{\"color\":\"#2a3f5f\"},\"error_y\":{\"color\":\"#2a3f5f\"},\"marker\":{\"line\":{\"color\":\"#E5ECF6\",\"width\":0.5},\"pattern\":{\"fillmode\":\"overlay\",\"size\":10,\"solidity\":0.2}},\"type\":\"bar\"}],\"carpet\":[{\"aaxis\":{\"endlinecolor\":\"#2a3f5f\",\"gridcolor\":\"white\",\"linecolor\":\"white\",\"minorgridcolor\":\"white\",\"startlinecolor\":\"#2a3f5f\"},\"baxis\":{\"endlinecolor\":\"#2a3f5f\",\"gridcolor\":\"white\",\"linecolor\":\"white\",\"minorgridcolor\":\"white\",\"startlinecolor\":\"#2a3f5f\"},\"type\":\"carpet\"}],\"choropleth\":[{\"colorbar\":{\"outlinewidth\":0,\"ticks\":\"\"},\"type\":\"choropleth\"}],\"contourcarpet\":[{\"colorbar\":{\"outlinewidth\":0,\"ticks\":\"\"},\"type\":\"contourcarpet\"}],\"contour\":[{\"colorbar\":{\"outlinewidth\":0,\"ticks\":\"\"},\"colorscale\":[[0.0,\"#0d0887\"],[0.1111111111111111,\"#46039f\"],[0.2222222222222222,\"#7201a8\"],[0.3333333333333333,\"#9c179e\"],[0.4444444444444444,\"#bd3786\"],[0.5555555555555556,\"#d8576b\"],[0.6666666666666666,\"#ed7953\"],[0.7777777777777778,\"#fb9f3a\"],[0.8888888888888888,\"#fdca26\"],[1.0,\"#f0f921\"]],\"type\":\"contour\"}],\"heatmapgl\":[{\"colorbar\":{\"outlinewidth\":0,\"ticks\":\"\"},\"colorscale\":[[0.0,\"#0d0887\"],[0.1111111111111111,\"#46039f\"],[0.2222222222222222,\"#7201a8\"],[0.3333333333333333,\"#9c179e\"],[0.4444444444444444,\"#bd3786\"],[0.5555555555555556,\"#d8576b\"],[0.6666666666666666,\"#ed7953\"],[0.7777777777777778,\"#fb9f3a\"],[0.8888888888888888,\"#fdca26\"],[1.0,\"#f0f921\"]],\"type\":\"heatmapgl\"}],\"heatmap\":[{\"colorbar\":{\"outlinewidth\":0,\"ticks\":\"\"},\"colorscale\":[[0.0,\"#0d0887\"],[0.1111111111111111,\"#46039f\"],[0.2222222222222222,\"#7201a8\"],[0.3333333333333333,\"#9c179e\"],[0.4444444444444444,\"#bd3786\"],[0.5555555555555556,\"#d8576b\"],[0.6666666666666666,\"#ed7953\"],[0.7777777777777778,\"#fb9f3a\"],[0.8888888888888888,\"#fdca26\"],[1.0,\"#f0f921\"]],\"type\":\"heatmap\"}],\"histogram2dcontour\":[{\"colorbar\":{\"outlinewidth\":0,\"ticks\":\"\"},\"colorscale\":[[0.0,\"#0d0887\"],[0.1111111111111111,\"#46039f\"],[0.2222222222222222,\"#7201a8\"],[0.3333333333333333,\"#9c179e\"],[0.4444444444444444,\"#bd3786\"],[0.5555555555555556,\"#d8576b\"],[0.6666666666666666,\"#ed7953\"],[0.7777777777777778,\"#fb9f3a\"],[0.8888888888888888,\"#fdca26\"],[1.0,\"#f0f921\"]],\"type\":\"histogram2dcontour\"}],\"histogram2d\":[{\"colorbar\":{\"outlinewidth\":0,\"ticks\":\"\"},\"colorscale\":[[0.0,\"#0d0887\"],[0.1111111111111111,\"#46039f\"],[0.2222222222222222,\"#7201a8\"],[0.3333333333333333,\"#9c179e\"],[0.4444444444444444,\"#bd3786\"],[0.5555555555555556,\"#d8576b\"],[0.6666666666666666,\"#ed7953\"],[0.7777777777777778,\"#fb9f3a\"],[0.8888888888888888,\"#fdca26\"],[1.0,\"#f0f921\"]],\"type\":\"histogram2d\"}],\"histogram\":[{\"marker\":{\"pattern\":{\"fillmode\":\"overlay\",\"size\":10,\"solidity\":0.2}},\"type\":\"histogram\"}],\"mesh3d\":[{\"colorbar\":{\"outlinewidth\":0,\"ticks\":\"\"},\"type\":\"mesh3d\"}],\"parcoords\":[{\"line\":{\"colorbar\":{\"outlinewidth\":0,\"ticks\":\"\"}},\"type\":\"parcoords\"}],\"pie\":[{\"automargin\":true,\"type\":\"pie\"}],\"scatter3d\":[{\"line\":{\"colorbar\":{\"outlinewidth\":0,\"ticks\":\"\"}},\"marker\":{\"colorbar\":{\"outlinewidth\":0,\"ticks\":\"\"}},\"type\":\"scatter3d\"}],\"scattercarpet\":[{\"marker\":{\"colorbar\":{\"outlinewidth\":0,\"ticks\":\"\"}},\"type\":\"scattercarpet\"}],\"scattergeo\":[{\"marker\":{\"colorbar\":{\"outlinewidth\":0,\"ticks\":\"\"}},\"type\":\"scattergeo\"}],\"scattergl\":[{\"marker\":{\"colorbar\":{\"outlinewidth\":0,\"ticks\":\"\"}},\"type\":\"scattergl\"}],\"scattermapbox\":[{\"marker\":{\"colorbar\":{\"outlinewidth\":0,\"ticks\":\"\"}},\"type\":\"scattermapbox\"}],\"scatterpolargl\":[{\"marker\":{\"colorbar\":{\"outlinewidth\":0,\"ticks\":\"\"}},\"type\":\"scatterpolargl\"}],\"scatterpolar\":[{\"marker\":{\"colorbar\":{\"outlinewidth\":0,\"ticks\":\"\"}},\"type\":\"scatterpolar\"}],\"scatter\":[{\"fillpattern\":{\"fillmode\":\"overlay\",\"size\":10,\"solidity\":0.2},\"type\":\"scatter\"}],\"scatterternary\":[{\"marker\":{\"colorbar\":{\"outlinewidth\":0,\"ticks\":\"\"}},\"type\":\"scatterternary\"}],\"surface\":[{\"colorbar\":{\"outlinewidth\":0,\"ticks\":\"\"},\"colorscale\":[[0.0,\"#0d0887\"],[0.1111111111111111,\"#46039f\"],[0.2222222222222222,\"#7201a8\"],[0.3333333333333333,\"#9c179e\"],[0.4444444444444444,\"#bd3786\"],[0.5555555555555556,\"#d8576b\"],[0.6666666666666666,\"#ed7953\"],[0.7777777777777778,\"#fb9f3a\"],[0.8888888888888888,\"#fdca26\"],[1.0,\"#f0f921\"]],\"type\":\"surface\"}],\"table\":[{\"cells\":{\"fill\":{\"color\":\"#EBF0F8\"},\"line\":{\"color\":\"white\"}},\"header\":{\"fill\":{\"color\":\"#C8D4E3\"},\"line\":{\"color\":\"white\"}},\"type\":\"table\"}]},\"layout\":{\"annotationdefaults\":{\"arrowcolor\":\"#2a3f5f\",\"arrowhead\":0,\"arrowwidth\":1},\"autotypenumbers\":\"strict\",\"coloraxis\":{\"colorbar\":{\"outlinewidth\":0,\"ticks\":\"\"}},\"colorscale\":{\"diverging\":[[0,\"#8e0152\"],[0.1,\"#c51b7d\"],[0.2,\"#de77ae\"],[0.3,\"#f1b6da\"],[0.4,\"#fde0ef\"],[0.5,\"#f7f7f7\"],[0.6,\"#e6f5d0\"],[0.7,\"#b8e186\"],[0.8,\"#7fbc41\"],[0.9,\"#4d9221\"],[1,\"#276419\"]],\"sequential\":[[0.0,\"#0d0887\"],[0.1111111111111111,\"#46039f\"],[0.2222222222222222,\"#7201a8\"],[0.3333333333333333,\"#9c179e\"],[0.4444444444444444,\"#bd3786\"],[0.5555555555555556,\"#d8576b\"],[0.6666666666666666,\"#ed7953\"],[0.7777777777777778,\"#fb9f3a\"],[0.8888888888888888,\"#fdca26\"],[1.0,\"#f0f921\"]],\"sequentialminus\":[[0.0,\"#0d0887\"],[0.1111111111111111,\"#46039f\"],[0.2222222222222222,\"#7201a8\"],[0.3333333333333333,\"#9c179e\"],[0.4444444444444444,\"#bd3786\"],[0.5555555555555556,\"#d8576b\"],[0.6666666666666666,\"#ed7953\"],[0.7777777777777778,\"#fb9f3a\"],[0.8888888888888888,\"#fdca26\"],[1.0,\"#f0f921\"]]},\"colorway\":[\"#636efa\",\"#EF553B\",\"#00cc96\",\"#ab63fa\",\"#FFA15A\",\"#19d3f3\",\"#FF6692\",\"#B6E880\",\"#FF97FF\",\"#FECB52\"],\"font\":{\"color\":\"#2a3f5f\"},\"geo\":{\"bgcolor\":\"white\",\"lakecolor\":\"white\",\"landcolor\":\"#E5ECF6\",\"showlakes\":true,\"showland\":true,\"subunitcolor\":\"white\"},\"hoverlabel\":{\"align\":\"left\"},\"hovermode\":\"closest\",\"mapbox\":{\"style\":\"light\"},\"paper_bgcolor\":\"white\",\"plot_bgcolor\":\"#E5ECF6\",\"polar\":{\"angularaxis\":{\"gridcolor\":\"white\",\"linecolor\":\"white\",\"ticks\":\"\"},\"bgcolor\":\"#E5ECF6\",\"radialaxis\":{\"gridcolor\":\"white\",\"linecolor\":\"white\",\"ticks\":\"\"}},\"scene\":{\"xaxis\":{\"backgroundcolor\":\"#E5ECF6\",\"gridcolor\":\"white\",\"gridwidth\":2,\"linecolor\":\"white\",\"showbackground\":true,\"ticks\":\"\",\"zerolinecolor\":\"white\"},\"yaxis\":{\"backgroundcolor\":\"#E5ECF6\",\"gridcolor\":\"white\",\"gridwidth\":2,\"linecolor\":\"white\",\"showbackground\":true,\"ticks\":\"\",\"zerolinecolor\":\"white\"},\"zaxis\":{\"backgroundcolor\":\"#E5ECF6\",\"gridcolor\":\"white\",\"gridwidth\":2,\"linecolor\":\"white\",\"showbackground\":true,\"ticks\":\"\",\"zerolinecolor\":\"white\"}},\"shapedefaults\":{\"line\":{\"color\":\"#2a3f5f\"}},\"ternary\":{\"aaxis\":{\"gridcolor\":\"white\",\"linecolor\":\"white\",\"ticks\":\"\"},\"baxis\":{\"gridcolor\":\"white\",\"linecolor\":\"white\",\"ticks\":\"\"},\"bgcolor\":\"#E5ECF6\",\"caxis\":{\"gridcolor\":\"white\",\"linecolor\":\"white\",\"ticks\":\"\"}},\"title\":{\"x\":0.05},\"xaxis\":{\"automargin\":true,\"gridcolor\":\"white\",\"linecolor\":\"white\",\"ticks\":\"\",\"title\":{\"standoff\":15},\"zerolinecolor\":\"white\",\"zerolinewidth\":2},\"yaxis\":{\"automargin\":true,\"gridcolor\":\"white\",\"linecolor\":\"white\",\"ticks\":\"\",\"title\":{\"standoff\":15},\"zerolinecolor\":\"white\",\"zerolinewidth\":2}}},\"title\":{\"font\":{\"color\":\"#4D5663\"}},\"xaxis\":{\"gridcolor\":\"#E1E5ED\",\"showgrid\":true,\"tickfont\":{\"color\":\"#4D5663\"},\"title\":{\"font\":{\"color\":\"#4D5663\"},\"text\":\"\"},\"zerolinecolor\":\"#E1E5ED\"},\"yaxis\":{\"gridcolor\":\"#E1E5ED\",\"showgrid\":true,\"tickfont\":{\"color\":\"#4D5663\"},\"title\":{\"font\":{\"color\":\"#4D5663\"},\"text\":\"\"},\"zerolinecolor\":\"#E1E5ED\"}},                        {\"showLink\": true, \"linkText\": \"Export to plot.ly\", \"plotlyServerURL\": \"https://plot.ly\", \"responsive\": true}                    ).then(function(){\n",
       "                            \n",
       "var gd = document.getElementById('887de574-8d34-4145-b399-ee9284263b0f');\n",
       "var x = new MutationObserver(function (mutations, observer) {{\n",
       "        var display = window.getComputedStyle(gd).display;\n",
       "        if (!display || display === 'none') {{\n",
       "            console.log([gd, 'removed!']);\n",
       "            Plotly.purge(gd);\n",
       "            observer.disconnect();\n",
       "        }}\n",
       "}});\n",
       "\n",
       "// Listen for the removal of the full notebook cells\n",
       "var notebookContainer = gd.closest('#notebook-container');\n",
       "if (notebookContainer) {{\n",
       "    x.observe(notebookContainer, {childList: true});\n",
       "}}\n",
       "\n",
       "// Listen for the clearing of the current output cell\n",
       "var outputEl = gd.closest('.output');\n",
       "if (outputEl) {{\n",
       "    x.observe(outputEl, {childList: true});\n",
       "}}\n",
       "\n",
       "                        })                };                });            </script>        </div>"
      ]
     },
     "metadata": {},
     "output_type": "display_data"
    }
   ],
   "source": [
    "df.iplot(kind='scatter',x='A',y='B',mode='markers',size=10)"
   ]
  },
  {
   "cell_type": "markdown",
   "metadata": {},
   "source": [
    "## Bar Plots"
   ]
  },
  {
   "cell_type": "code",
   "execution_count": 11,
   "metadata": {
    "collapsed": false
   },
   "outputs": [
    {
     "data": {
      "application/vnd.plotly.v1+json": {
       "config": {
        "linkText": "Export to plot.ly",
        "plotlyServerURL": "https://plot.ly",
        "showLink": true
       },
       "data": [
        {
         "marker": {
          "color": "rgba(255, 153, 51, 0.6)",
          "line": {
           "color": "rgba(255, 153, 51, 1.0)",
           "width": 1
          }
         },
         "name": "Values",
         "orientation": "v",
         "text": "",
         "type": "bar",
         "x": [
          "A",
          "B",
          "C"
         ],
         "y": [
          32,
          43,
          50
         ]
        }
       ],
       "layout": {
        "legend": {
         "bgcolor": "#F5F6F9",
         "font": {
          "color": "#4D5663"
         }
        },
        "paper_bgcolor": "#F5F6F9",
        "plot_bgcolor": "#F5F6F9",
        "template": {
         "data": {
          "bar": [
           {
            "error_x": {
             "color": "#2a3f5f"
            },
            "error_y": {
             "color": "#2a3f5f"
            },
            "marker": {
             "line": {
              "color": "#E5ECF6",
              "width": 0.5
             },
             "pattern": {
              "fillmode": "overlay",
              "size": 10,
              "solidity": 0.2
             }
            },
            "type": "bar"
           }
          ],
          "barpolar": [
           {
            "marker": {
             "line": {
              "color": "#E5ECF6",
              "width": 0.5
             },
             "pattern": {
              "fillmode": "overlay",
              "size": 10,
              "solidity": 0.2
             }
            },
            "type": "barpolar"
           }
          ],
          "carpet": [
           {
            "aaxis": {
             "endlinecolor": "#2a3f5f",
             "gridcolor": "white",
             "linecolor": "white",
             "minorgridcolor": "white",
             "startlinecolor": "#2a3f5f"
            },
            "baxis": {
             "endlinecolor": "#2a3f5f",
             "gridcolor": "white",
             "linecolor": "white",
             "minorgridcolor": "white",
             "startlinecolor": "#2a3f5f"
            },
            "type": "carpet"
           }
          ],
          "choropleth": [
           {
            "colorbar": {
             "outlinewidth": 0,
             "ticks": ""
            },
            "type": "choropleth"
           }
          ],
          "contour": [
           {
            "colorbar": {
             "outlinewidth": 0,
             "ticks": ""
            },
            "colorscale": [
             [
              0,
              "#0d0887"
             ],
             [
              0.1111111111111111,
              "#46039f"
             ],
             [
              0.2222222222222222,
              "#7201a8"
             ],
             [
              0.3333333333333333,
              "#9c179e"
             ],
             [
              0.4444444444444444,
              "#bd3786"
             ],
             [
              0.5555555555555556,
              "#d8576b"
             ],
             [
              0.6666666666666666,
              "#ed7953"
             ],
             [
              0.7777777777777778,
              "#fb9f3a"
             ],
             [
              0.8888888888888888,
              "#fdca26"
             ],
             [
              1,
              "#f0f921"
             ]
            ],
            "type": "contour"
           }
          ],
          "contourcarpet": [
           {
            "colorbar": {
             "outlinewidth": 0,
             "ticks": ""
            },
            "type": "contourcarpet"
           }
          ],
          "heatmap": [
           {
            "colorbar": {
             "outlinewidth": 0,
             "ticks": ""
            },
            "colorscale": [
             [
              0,
              "#0d0887"
             ],
             [
              0.1111111111111111,
              "#46039f"
             ],
             [
              0.2222222222222222,
              "#7201a8"
             ],
             [
              0.3333333333333333,
              "#9c179e"
             ],
             [
              0.4444444444444444,
              "#bd3786"
             ],
             [
              0.5555555555555556,
              "#d8576b"
             ],
             [
              0.6666666666666666,
              "#ed7953"
             ],
             [
              0.7777777777777778,
              "#fb9f3a"
             ],
             [
              0.8888888888888888,
              "#fdca26"
             ],
             [
              1,
              "#f0f921"
             ]
            ],
            "type": "heatmap"
           }
          ],
          "heatmapgl": [
           {
            "colorbar": {
             "outlinewidth": 0,
             "ticks": ""
            },
            "colorscale": [
             [
              0,
              "#0d0887"
             ],
             [
              0.1111111111111111,
              "#46039f"
             ],
             [
              0.2222222222222222,
              "#7201a8"
             ],
             [
              0.3333333333333333,
              "#9c179e"
             ],
             [
              0.4444444444444444,
              "#bd3786"
             ],
             [
              0.5555555555555556,
              "#d8576b"
             ],
             [
              0.6666666666666666,
              "#ed7953"
             ],
             [
              0.7777777777777778,
              "#fb9f3a"
             ],
             [
              0.8888888888888888,
              "#fdca26"
             ],
             [
              1,
              "#f0f921"
             ]
            ],
            "type": "heatmapgl"
           }
          ],
          "histogram": [
           {
            "marker": {
             "pattern": {
              "fillmode": "overlay",
              "size": 10,
              "solidity": 0.2
             }
            },
            "type": "histogram"
           }
          ],
          "histogram2d": [
           {
            "colorbar": {
             "outlinewidth": 0,
             "ticks": ""
            },
            "colorscale": [
             [
              0,
              "#0d0887"
             ],
             [
              0.1111111111111111,
              "#46039f"
             ],
             [
              0.2222222222222222,
              "#7201a8"
             ],
             [
              0.3333333333333333,
              "#9c179e"
             ],
             [
              0.4444444444444444,
              "#bd3786"
             ],
             [
              0.5555555555555556,
              "#d8576b"
             ],
             [
              0.6666666666666666,
              "#ed7953"
             ],
             [
              0.7777777777777778,
              "#fb9f3a"
             ],
             [
              0.8888888888888888,
              "#fdca26"
             ],
             [
              1,
              "#f0f921"
             ]
            ],
            "type": "histogram2d"
           }
          ],
          "histogram2dcontour": [
           {
            "colorbar": {
             "outlinewidth": 0,
             "ticks": ""
            },
            "colorscale": [
             [
              0,
              "#0d0887"
             ],
             [
              0.1111111111111111,
              "#46039f"
             ],
             [
              0.2222222222222222,
              "#7201a8"
             ],
             [
              0.3333333333333333,
              "#9c179e"
             ],
             [
              0.4444444444444444,
              "#bd3786"
             ],
             [
              0.5555555555555556,
              "#d8576b"
             ],
             [
              0.6666666666666666,
              "#ed7953"
             ],
             [
              0.7777777777777778,
              "#fb9f3a"
             ],
             [
              0.8888888888888888,
              "#fdca26"
             ],
             [
              1,
              "#f0f921"
             ]
            ],
            "type": "histogram2dcontour"
           }
          ],
          "mesh3d": [
           {
            "colorbar": {
             "outlinewidth": 0,
             "ticks": ""
            },
            "type": "mesh3d"
           }
          ],
          "parcoords": [
           {
            "line": {
             "colorbar": {
              "outlinewidth": 0,
              "ticks": ""
             }
            },
            "type": "parcoords"
           }
          ],
          "pie": [
           {
            "automargin": true,
            "type": "pie"
           }
          ],
          "scatter": [
           {
            "fillpattern": {
             "fillmode": "overlay",
             "size": 10,
             "solidity": 0.2
            },
            "type": "scatter"
           }
          ],
          "scatter3d": [
           {
            "line": {
             "colorbar": {
              "outlinewidth": 0,
              "ticks": ""
             }
            },
            "marker": {
             "colorbar": {
              "outlinewidth": 0,
              "ticks": ""
             }
            },
            "type": "scatter3d"
           }
          ],
          "scattercarpet": [
           {
            "marker": {
             "colorbar": {
              "outlinewidth": 0,
              "ticks": ""
             }
            },
            "type": "scattercarpet"
           }
          ],
          "scattergeo": [
           {
            "marker": {
             "colorbar": {
              "outlinewidth": 0,
              "ticks": ""
             }
            },
            "type": "scattergeo"
           }
          ],
          "scattergl": [
           {
            "marker": {
             "colorbar": {
              "outlinewidth": 0,
              "ticks": ""
             }
            },
            "type": "scattergl"
           }
          ],
          "scattermapbox": [
           {
            "marker": {
             "colorbar": {
              "outlinewidth": 0,
              "ticks": ""
             }
            },
            "type": "scattermapbox"
           }
          ],
          "scatterpolar": [
           {
            "marker": {
             "colorbar": {
              "outlinewidth": 0,
              "ticks": ""
             }
            },
            "type": "scatterpolar"
           }
          ],
          "scatterpolargl": [
           {
            "marker": {
             "colorbar": {
              "outlinewidth": 0,
              "ticks": ""
             }
            },
            "type": "scatterpolargl"
           }
          ],
          "scatterternary": [
           {
            "marker": {
             "colorbar": {
              "outlinewidth": 0,
              "ticks": ""
             }
            },
            "type": "scatterternary"
           }
          ],
          "surface": [
           {
            "colorbar": {
             "outlinewidth": 0,
             "ticks": ""
            },
            "colorscale": [
             [
              0,
              "#0d0887"
             ],
             [
              0.1111111111111111,
              "#46039f"
             ],
             [
              0.2222222222222222,
              "#7201a8"
             ],
             [
              0.3333333333333333,
              "#9c179e"
             ],
             [
              0.4444444444444444,
              "#bd3786"
             ],
             [
              0.5555555555555556,
              "#d8576b"
             ],
             [
              0.6666666666666666,
              "#ed7953"
             ],
             [
              0.7777777777777778,
              "#fb9f3a"
             ],
             [
              0.8888888888888888,
              "#fdca26"
             ],
             [
              1,
              "#f0f921"
             ]
            ],
            "type": "surface"
           }
          ],
          "table": [
           {
            "cells": {
             "fill": {
              "color": "#EBF0F8"
             },
             "line": {
              "color": "white"
             }
            },
            "header": {
             "fill": {
              "color": "#C8D4E3"
             },
             "line": {
              "color": "white"
             }
            },
            "type": "table"
           }
          ]
         },
         "layout": {
          "annotationdefaults": {
           "arrowcolor": "#2a3f5f",
           "arrowhead": 0,
           "arrowwidth": 1
          },
          "autotypenumbers": "strict",
          "coloraxis": {
           "colorbar": {
            "outlinewidth": 0,
            "ticks": ""
           }
          },
          "colorscale": {
           "diverging": [
            [
             0,
             "#8e0152"
            ],
            [
             0.1,
             "#c51b7d"
            ],
            [
             0.2,
             "#de77ae"
            ],
            [
             0.3,
             "#f1b6da"
            ],
            [
             0.4,
             "#fde0ef"
            ],
            [
             0.5,
             "#f7f7f7"
            ],
            [
             0.6,
             "#e6f5d0"
            ],
            [
             0.7,
             "#b8e186"
            ],
            [
             0.8,
             "#7fbc41"
            ],
            [
             0.9,
             "#4d9221"
            ],
            [
             1,
             "#276419"
            ]
           ],
           "sequential": [
            [
             0,
             "#0d0887"
            ],
            [
             0.1111111111111111,
             "#46039f"
            ],
            [
             0.2222222222222222,
             "#7201a8"
            ],
            [
             0.3333333333333333,
             "#9c179e"
            ],
            [
             0.4444444444444444,
             "#bd3786"
            ],
            [
             0.5555555555555556,
             "#d8576b"
            ],
            [
             0.6666666666666666,
             "#ed7953"
            ],
            [
             0.7777777777777778,
             "#fb9f3a"
            ],
            [
             0.8888888888888888,
             "#fdca26"
            ],
            [
             1,
             "#f0f921"
            ]
           ],
           "sequentialminus": [
            [
             0,
             "#0d0887"
            ],
            [
             0.1111111111111111,
             "#46039f"
            ],
            [
             0.2222222222222222,
             "#7201a8"
            ],
            [
             0.3333333333333333,
             "#9c179e"
            ],
            [
             0.4444444444444444,
             "#bd3786"
            ],
            [
             0.5555555555555556,
             "#d8576b"
            ],
            [
             0.6666666666666666,
             "#ed7953"
            ],
            [
             0.7777777777777778,
             "#fb9f3a"
            ],
            [
             0.8888888888888888,
             "#fdca26"
            ],
            [
             1,
             "#f0f921"
            ]
           ]
          },
          "colorway": [
           "#636efa",
           "#EF553B",
           "#00cc96",
           "#ab63fa",
           "#FFA15A",
           "#19d3f3",
           "#FF6692",
           "#B6E880",
           "#FF97FF",
           "#FECB52"
          ],
          "font": {
           "color": "#2a3f5f"
          },
          "geo": {
           "bgcolor": "white",
           "lakecolor": "white",
           "landcolor": "#E5ECF6",
           "showlakes": true,
           "showland": true,
           "subunitcolor": "white"
          },
          "hoverlabel": {
           "align": "left"
          },
          "hovermode": "closest",
          "mapbox": {
           "style": "light"
          },
          "paper_bgcolor": "white",
          "plot_bgcolor": "#E5ECF6",
          "polar": {
           "angularaxis": {
            "gridcolor": "white",
            "linecolor": "white",
            "ticks": ""
           },
           "bgcolor": "#E5ECF6",
           "radialaxis": {
            "gridcolor": "white",
            "linecolor": "white",
            "ticks": ""
           }
          },
          "scene": {
           "xaxis": {
            "backgroundcolor": "#E5ECF6",
            "gridcolor": "white",
            "gridwidth": 2,
            "linecolor": "white",
            "showbackground": true,
            "ticks": "",
            "zerolinecolor": "white"
           },
           "yaxis": {
            "backgroundcolor": "#E5ECF6",
            "gridcolor": "white",
            "gridwidth": 2,
            "linecolor": "white",
            "showbackground": true,
            "ticks": "",
            "zerolinecolor": "white"
           },
           "zaxis": {
            "backgroundcolor": "#E5ECF6",
            "gridcolor": "white",
            "gridwidth": 2,
            "linecolor": "white",
            "showbackground": true,
            "ticks": "",
            "zerolinecolor": "white"
           }
          },
          "shapedefaults": {
           "line": {
            "color": "#2a3f5f"
           }
          },
          "ternary": {
           "aaxis": {
            "gridcolor": "white",
            "linecolor": "white",
            "ticks": ""
           },
           "baxis": {
            "gridcolor": "white",
            "linecolor": "white",
            "ticks": ""
           },
           "bgcolor": "#E5ECF6",
           "caxis": {
            "gridcolor": "white",
            "linecolor": "white",
            "ticks": ""
           }
          },
          "title": {
           "x": 0.05
          },
          "xaxis": {
           "automargin": true,
           "gridcolor": "white",
           "linecolor": "white",
           "ticks": "",
           "title": {
            "standoff": 15
           },
           "zerolinecolor": "white",
           "zerolinewidth": 2
          },
          "yaxis": {
           "automargin": true,
           "gridcolor": "white",
           "linecolor": "white",
           "ticks": "",
           "title": {
            "standoff": 15
           },
           "zerolinecolor": "white",
           "zerolinewidth": 2
          }
         }
        },
        "title": {
         "font": {
          "color": "#4D5663"
         }
        },
        "xaxis": {
         "gridcolor": "#E1E5ED",
         "showgrid": true,
         "tickfont": {
          "color": "#4D5663"
         },
         "title": {
          "font": {
           "color": "#4D5663"
          },
          "text": ""
         },
         "zerolinecolor": "#E1E5ED"
        },
        "yaxis": {
         "gridcolor": "#E1E5ED",
         "showgrid": true,
         "tickfont": {
          "color": "#4D5663"
         },
         "title": {
          "font": {
           "color": "#4D5663"
          },
          "text": ""
         },
         "zerolinecolor": "#E1E5ED"
        }
       }
      },
      "text/html": [
       "<div>                            <div id=\"3a65ac3d-40b4-4f46-9e17-28b6ecd78d25\" class=\"plotly-graph-div\" style=\"height:525px; width:100%;\"></div>            <script type=\"text/javascript\">                require([\"plotly\"], function(Plotly) {                    window.PLOTLYENV=window.PLOTLYENV || {};\n",
       "                    window.PLOTLYENV.BASE_URL='https://plot.ly';                                    if (document.getElementById(\"3a65ac3d-40b4-4f46-9e17-28b6ecd78d25\")) {                    Plotly.newPlot(                        \"3a65ac3d-40b4-4f46-9e17-28b6ecd78d25\",                        [{\"marker\":{\"color\":\"rgba(255, 153, 51, 0.6)\",\"line\":{\"color\":\"rgba(255, 153, 51, 1.0)\",\"width\":1}},\"name\":\"Values\",\"orientation\":\"v\",\"text\":\"\",\"x\":[\"A\",\"B\",\"C\"],\"y\":[32,43,50],\"type\":\"bar\"}],                        {\"legend\":{\"bgcolor\":\"#F5F6F9\",\"font\":{\"color\":\"#4D5663\"}},\"paper_bgcolor\":\"#F5F6F9\",\"plot_bgcolor\":\"#F5F6F9\",\"template\":{\"data\":{\"barpolar\":[{\"marker\":{\"line\":{\"color\":\"#E5ECF6\",\"width\":0.5},\"pattern\":{\"fillmode\":\"overlay\",\"size\":10,\"solidity\":0.2}},\"type\":\"barpolar\"}],\"bar\":[{\"error_x\":{\"color\":\"#2a3f5f\"},\"error_y\":{\"color\":\"#2a3f5f\"},\"marker\":{\"line\":{\"color\":\"#E5ECF6\",\"width\":0.5},\"pattern\":{\"fillmode\":\"overlay\",\"size\":10,\"solidity\":0.2}},\"type\":\"bar\"}],\"carpet\":[{\"aaxis\":{\"endlinecolor\":\"#2a3f5f\",\"gridcolor\":\"white\",\"linecolor\":\"white\",\"minorgridcolor\":\"white\",\"startlinecolor\":\"#2a3f5f\"},\"baxis\":{\"endlinecolor\":\"#2a3f5f\",\"gridcolor\":\"white\",\"linecolor\":\"white\",\"minorgridcolor\":\"white\",\"startlinecolor\":\"#2a3f5f\"},\"type\":\"carpet\"}],\"choropleth\":[{\"colorbar\":{\"outlinewidth\":0,\"ticks\":\"\"},\"type\":\"choropleth\"}],\"contourcarpet\":[{\"colorbar\":{\"outlinewidth\":0,\"ticks\":\"\"},\"type\":\"contourcarpet\"}],\"contour\":[{\"colorbar\":{\"outlinewidth\":0,\"ticks\":\"\"},\"colorscale\":[[0.0,\"#0d0887\"],[0.1111111111111111,\"#46039f\"],[0.2222222222222222,\"#7201a8\"],[0.3333333333333333,\"#9c179e\"],[0.4444444444444444,\"#bd3786\"],[0.5555555555555556,\"#d8576b\"],[0.6666666666666666,\"#ed7953\"],[0.7777777777777778,\"#fb9f3a\"],[0.8888888888888888,\"#fdca26\"],[1.0,\"#f0f921\"]],\"type\":\"contour\"}],\"heatmapgl\":[{\"colorbar\":{\"outlinewidth\":0,\"ticks\":\"\"},\"colorscale\":[[0.0,\"#0d0887\"],[0.1111111111111111,\"#46039f\"],[0.2222222222222222,\"#7201a8\"],[0.3333333333333333,\"#9c179e\"],[0.4444444444444444,\"#bd3786\"],[0.5555555555555556,\"#d8576b\"],[0.6666666666666666,\"#ed7953\"],[0.7777777777777778,\"#fb9f3a\"],[0.8888888888888888,\"#fdca26\"],[1.0,\"#f0f921\"]],\"type\":\"heatmapgl\"}],\"heatmap\":[{\"colorbar\":{\"outlinewidth\":0,\"ticks\":\"\"},\"colorscale\":[[0.0,\"#0d0887\"],[0.1111111111111111,\"#46039f\"],[0.2222222222222222,\"#7201a8\"],[0.3333333333333333,\"#9c179e\"],[0.4444444444444444,\"#bd3786\"],[0.5555555555555556,\"#d8576b\"],[0.6666666666666666,\"#ed7953\"],[0.7777777777777778,\"#fb9f3a\"],[0.8888888888888888,\"#fdca26\"],[1.0,\"#f0f921\"]],\"type\":\"heatmap\"}],\"histogram2dcontour\":[{\"colorbar\":{\"outlinewidth\":0,\"ticks\":\"\"},\"colorscale\":[[0.0,\"#0d0887\"],[0.1111111111111111,\"#46039f\"],[0.2222222222222222,\"#7201a8\"],[0.3333333333333333,\"#9c179e\"],[0.4444444444444444,\"#bd3786\"],[0.5555555555555556,\"#d8576b\"],[0.6666666666666666,\"#ed7953\"],[0.7777777777777778,\"#fb9f3a\"],[0.8888888888888888,\"#fdca26\"],[1.0,\"#f0f921\"]],\"type\":\"histogram2dcontour\"}],\"histogram2d\":[{\"colorbar\":{\"outlinewidth\":0,\"ticks\":\"\"},\"colorscale\":[[0.0,\"#0d0887\"],[0.1111111111111111,\"#46039f\"],[0.2222222222222222,\"#7201a8\"],[0.3333333333333333,\"#9c179e\"],[0.4444444444444444,\"#bd3786\"],[0.5555555555555556,\"#d8576b\"],[0.6666666666666666,\"#ed7953\"],[0.7777777777777778,\"#fb9f3a\"],[0.8888888888888888,\"#fdca26\"],[1.0,\"#f0f921\"]],\"type\":\"histogram2d\"}],\"histogram\":[{\"marker\":{\"pattern\":{\"fillmode\":\"overlay\",\"size\":10,\"solidity\":0.2}},\"type\":\"histogram\"}],\"mesh3d\":[{\"colorbar\":{\"outlinewidth\":0,\"ticks\":\"\"},\"type\":\"mesh3d\"}],\"parcoords\":[{\"line\":{\"colorbar\":{\"outlinewidth\":0,\"ticks\":\"\"}},\"type\":\"parcoords\"}],\"pie\":[{\"automargin\":true,\"type\":\"pie\"}],\"scatter3d\":[{\"line\":{\"colorbar\":{\"outlinewidth\":0,\"ticks\":\"\"}},\"marker\":{\"colorbar\":{\"outlinewidth\":0,\"ticks\":\"\"}},\"type\":\"scatter3d\"}],\"scattercarpet\":[{\"marker\":{\"colorbar\":{\"outlinewidth\":0,\"ticks\":\"\"}},\"type\":\"scattercarpet\"}],\"scattergeo\":[{\"marker\":{\"colorbar\":{\"outlinewidth\":0,\"ticks\":\"\"}},\"type\":\"scattergeo\"}],\"scattergl\":[{\"marker\":{\"colorbar\":{\"outlinewidth\":0,\"ticks\":\"\"}},\"type\":\"scattergl\"}],\"scattermapbox\":[{\"marker\":{\"colorbar\":{\"outlinewidth\":0,\"ticks\":\"\"}},\"type\":\"scattermapbox\"}],\"scatterpolargl\":[{\"marker\":{\"colorbar\":{\"outlinewidth\":0,\"ticks\":\"\"}},\"type\":\"scatterpolargl\"}],\"scatterpolar\":[{\"marker\":{\"colorbar\":{\"outlinewidth\":0,\"ticks\":\"\"}},\"type\":\"scatterpolar\"}],\"scatter\":[{\"fillpattern\":{\"fillmode\":\"overlay\",\"size\":10,\"solidity\":0.2},\"type\":\"scatter\"}],\"scatterternary\":[{\"marker\":{\"colorbar\":{\"outlinewidth\":0,\"ticks\":\"\"}},\"type\":\"scatterternary\"}],\"surface\":[{\"colorbar\":{\"outlinewidth\":0,\"ticks\":\"\"},\"colorscale\":[[0.0,\"#0d0887\"],[0.1111111111111111,\"#46039f\"],[0.2222222222222222,\"#7201a8\"],[0.3333333333333333,\"#9c179e\"],[0.4444444444444444,\"#bd3786\"],[0.5555555555555556,\"#d8576b\"],[0.6666666666666666,\"#ed7953\"],[0.7777777777777778,\"#fb9f3a\"],[0.8888888888888888,\"#fdca26\"],[1.0,\"#f0f921\"]],\"type\":\"surface\"}],\"table\":[{\"cells\":{\"fill\":{\"color\":\"#EBF0F8\"},\"line\":{\"color\":\"white\"}},\"header\":{\"fill\":{\"color\":\"#C8D4E3\"},\"line\":{\"color\":\"white\"}},\"type\":\"table\"}]},\"layout\":{\"annotationdefaults\":{\"arrowcolor\":\"#2a3f5f\",\"arrowhead\":0,\"arrowwidth\":1},\"autotypenumbers\":\"strict\",\"coloraxis\":{\"colorbar\":{\"outlinewidth\":0,\"ticks\":\"\"}},\"colorscale\":{\"diverging\":[[0,\"#8e0152\"],[0.1,\"#c51b7d\"],[0.2,\"#de77ae\"],[0.3,\"#f1b6da\"],[0.4,\"#fde0ef\"],[0.5,\"#f7f7f7\"],[0.6,\"#e6f5d0\"],[0.7,\"#b8e186\"],[0.8,\"#7fbc41\"],[0.9,\"#4d9221\"],[1,\"#276419\"]],\"sequential\":[[0.0,\"#0d0887\"],[0.1111111111111111,\"#46039f\"],[0.2222222222222222,\"#7201a8\"],[0.3333333333333333,\"#9c179e\"],[0.4444444444444444,\"#bd3786\"],[0.5555555555555556,\"#d8576b\"],[0.6666666666666666,\"#ed7953\"],[0.7777777777777778,\"#fb9f3a\"],[0.8888888888888888,\"#fdca26\"],[1.0,\"#f0f921\"]],\"sequentialminus\":[[0.0,\"#0d0887\"],[0.1111111111111111,\"#46039f\"],[0.2222222222222222,\"#7201a8\"],[0.3333333333333333,\"#9c179e\"],[0.4444444444444444,\"#bd3786\"],[0.5555555555555556,\"#d8576b\"],[0.6666666666666666,\"#ed7953\"],[0.7777777777777778,\"#fb9f3a\"],[0.8888888888888888,\"#fdca26\"],[1.0,\"#f0f921\"]]},\"colorway\":[\"#636efa\",\"#EF553B\",\"#00cc96\",\"#ab63fa\",\"#FFA15A\",\"#19d3f3\",\"#FF6692\",\"#B6E880\",\"#FF97FF\",\"#FECB52\"],\"font\":{\"color\":\"#2a3f5f\"},\"geo\":{\"bgcolor\":\"white\",\"lakecolor\":\"white\",\"landcolor\":\"#E5ECF6\",\"showlakes\":true,\"showland\":true,\"subunitcolor\":\"white\"},\"hoverlabel\":{\"align\":\"left\"},\"hovermode\":\"closest\",\"mapbox\":{\"style\":\"light\"},\"paper_bgcolor\":\"white\",\"plot_bgcolor\":\"#E5ECF6\",\"polar\":{\"angularaxis\":{\"gridcolor\":\"white\",\"linecolor\":\"white\",\"ticks\":\"\"},\"bgcolor\":\"#E5ECF6\",\"radialaxis\":{\"gridcolor\":\"white\",\"linecolor\":\"white\",\"ticks\":\"\"}},\"scene\":{\"xaxis\":{\"backgroundcolor\":\"#E5ECF6\",\"gridcolor\":\"white\",\"gridwidth\":2,\"linecolor\":\"white\",\"showbackground\":true,\"ticks\":\"\",\"zerolinecolor\":\"white\"},\"yaxis\":{\"backgroundcolor\":\"#E5ECF6\",\"gridcolor\":\"white\",\"gridwidth\":2,\"linecolor\":\"white\",\"showbackground\":true,\"ticks\":\"\",\"zerolinecolor\":\"white\"},\"zaxis\":{\"backgroundcolor\":\"#E5ECF6\",\"gridcolor\":\"white\",\"gridwidth\":2,\"linecolor\":\"white\",\"showbackground\":true,\"ticks\":\"\",\"zerolinecolor\":\"white\"}},\"shapedefaults\":{\"line\":{\"color\":\"#2a3f5f\"}},\"ternary\":{\"aaxis\":{\"gridcolor\":\"white\",\"linecolor\":\"white\",\"ticks\":\"\"},\"baxis\":{\"gridcolor\":\"white\",\"linecolor\":\"white\",\"ticks\":\"\"},\"bgcolor\":\"#E5ECF6\",\"caxis\":{\"gridcolor\":\"white\",\"linecolor\":\"white\",\"ticks\":\"\"}},\"title\":{\"x\":0.05},\"xaxis\":{\"automargin\":true,\"gridcolor\":\"white\",\"linecolor\":\"white\",\"ticks\":\"\",\"title\":{\"standoff\":15},\"zerolinecolor\":\"white\",\"zerolinewidth\":2},\"yaxis\":{\"automargin\":true,\"gridcolor\":\"white\",\"linecolor\":\"white\",\"ticks\":\"\",\"title\":{\"standoff\":15},\"zerolinecolor\":\"white\",\"zerolinewidth\":2}}},\"title\":{\"font\":{\"color\":\"#4D5663\"}},\"xaxis\":{\"gridcolor\":\"#E1E5ED\",\"showgrid\":true,\"tickfont\":{\"color\":\"#4D5663\"},\"title\":{\"font\":{\"color\":\"#4D5663\"},\"text\":\"\"},\"zerolinecolor\":\"#E1E5ED\"},\"yaxis\":{\"gridcolor\":\"#E1E5ED\",\"showgrid\":true,\"tickfont\":{\"color\":\"#4D5663\"},\"title\":{\"font\":{\"color\":\"#4D5663\"},\"text\":\"\"},\"zerolinecolor\":\"#E1E5ED\"}},                        {\"showLink\": true, \"linkText\": \"Export to plot.ly\", \"plotlyServerURL\": \"https://plot.ly\", \"responsive\": true}                    ).then(function(){\n",
       "                            \n",
       "var gd = document.getElementById('3a65ac3d-40b4-4f46-9e17-28b6ecd78d25');\n",
       "var x = new MutationObserver(function (mutations, observer) {{\n",
       "        var display = window.getComputedStyle(gd).display;\n",
       "        if (!display || display === 'none') {{\n",
       "            console.log([gd, 'removed!']);\n",
       "            Plotly.purge(gd);\n",
       "            observer.disconnect();\n",
       "        }}\n",
       "}});\n",
       "\n",
       "// Listen for the removal of the full notebook cells\n",
       "var notebookContainer = gd.closest('#notebook-container');\n",
       "if (notebookContainer) {{\n",
       "    x.observe(notebookContainer, {childList: true});\n",
       "}}\n",
       "\n",
       "// Listen for the clearing of the current output cell\n",
       "var outputEl = gd.closest('.output');\n",
       "if (outputEl) {{\n",
       "    x.observe(outputEl, {childList: true});\n",
       "}}\n",
       "\n",
       "                        })                };                });            </script>        </div>"
      ]
     },
     "metadata": {},
     "output_type": "display_data"
    }
   ],
   "source": [
    "df2.iplot(kind='bar',x='Category',y='Values')"
   ]
  },
  {
   "cell_type": "code",
   "execution_count": 12,
   "metadata": {
    "collapsed": false
   },
   "outputs": [
    {
     "data": {
      "application/vnd.plotly.v1+json": {
       "config": {
        "linkText": "Export to plot.ly",
        "plotlyServerURL": "https://plot.ly",
        "showLink": true
       },
       "data": [
        {
         "marker": {
          "color": "rgba(255, 153, 51, 0.6)",
          "line": {
           "color": "rgba(255, 153, 51, 1.0)",
           "width": 1
          }
         },
         "name": "None",
         "orientation": "v",
         "text": "",
         "type": "bar",
         "x": [
          "A",
          "B",
          "C",
          "D"
         ],
         "y": [
          100,
          100,
          100,
          100
         ]
        }
       ],
       "layout": {
        "legend": {
         "bgcolor": "#F5F6F9",
         "font": {
          "color": "#4D5663"
         }
        },
        "paper_bgcolor": "#F5F6F9",
        "plot_bgcolor": "#F5F6F9",
        "template": {
         "data": {
          "bar": [
           {
            "error_x": {
             "color": "#2a3f5f"
            },
            "error_y": {
             "color": "#2a3f5f"
            },
            "marker": {
             "line": {
              "color": "#E5ECF6",
              "width": 0.5
             },
             "pattern": {
              "fillmode": "overlay",
              "size": 10,
              "solidity": 0.2
             }
            },
            "type": "bar"
           }
          ],
          "barpolar": [
           {
            "marker": {
             "line": {
              "color": "#E5ECF6",
              "width": 0.5
             },
             "pattern": {
              "fillmode": "overlay",
              "size": 10,
              "solidity": 0.2
             }
            },
            "type": "barpolar"
           }
          ],
          "carpet": [
           {
            "aaxis": {
             "endlinecolor": "#2a3f5f",
             "gridcolor": "white",
             "linecolor": "white",
             "minorgridcolor": "white",
             "startlinecolor": "#2a3f5f"
            },
            "baxis": {
             "endlinecolor": "#2a3f5f",
             "gridcolor": "white",
             "linecolor": "white",
             "minorgridcolor": "white",
             "startlinecolor": "#2a3f5f"
            },
            "type": "carpet"
           }
          ],
          "choropleth": [
           {
            "colorbar": {
             "outlinewidth": 0,
             "ticks": ""
            },
            "type": "choropleth"
           }
          ],
          "contour": [
           {
            "colorbar": {
             "outlinewidth": 0,
             "ticks": ""
            },
            "colorscale": [
             [
              0,
              "#0d0887"
             ],
             [
              0.1111111111111111,
              "#46039f"
             ],
             [
              0.2222222222222222,
              "#7201a8"
             ],
             [
              0.3333333333333333,
              "#9c179e"
             ],
             [
              0.4444444444444444,
              "#bd3786"
             ],
             [
              0.5555555555555556,
              "#d8576b"
             ],
             [
              0.6666666666666666,
              "#ed7953"
             ],
             [
              0.7777777777777778,
              "#fb9f3a"
             ],
             [
              0.8888888888888888,
              "#fdca26"
             ],
             [
              1,
              "#f0f921"
             ]
            ],
            "type": "contour"
           }
          ],
          "contourcarpet": [
           {
            "colorbar": {
             "outlinewidth": 0,
             "ticks": ""
            },
            "type": "contourcarpet"
           }
          ],
          "heatmap": [
           {
            "colorbar": {
             "outlinewidth": 0,
             "ticks": ""
            },
            "colorscale": [
             [
              0,
              "#0d0887"
             ],
             [
              0.1111111111111111,
              "#46039f"
             ],
             [
              0.2222222222222222,
              "#7201a8"
             ],
             [
              0.3333333333333333,
              "#9c179e"
             ],
             [
              0.4444444444444444,
              "#bd3786"
             ],
             [
              0.5555555555555556,
              "#d8576b"
             ],
             [
              0.6666666666666666,
              "#ed7953"
             ],
             [
              0.7777777777777778,
              "#fb9f3a"
             ],
             [
              0.8888888888888888,
              "#fdca26"
             ],
             [
              1,
              "#f0f921"
             ]
            ],
            "type": "heatmap"
           }
          ],
          "heatmapgl": [
           {
            "colorbar": {
             "outlinewidth": 0,
             "ticks": ""
            },
            "colorscale": [
             [
              0,
              "#0d0887"
             ],
             [
              0.1111111111111111,
              "#46039f"
             ],
             [
              0.2222222222222222,
              "#7201a8"
             ],
             [
              0.3333333333333333,
              "#9c179e"
             ],
             [
              0.4444444444444444,
              "#bd3786"
             ],
             [
              0.5555555555555556,
              "#d8576b"
             ],
             [
              0.6666666666666666,
              "#ed7953"
             ],
             [
              0.7777777777777778,
              "#fb9f3a"
             ],
             [
              0.8888888888888888,
              "#fdca26"
             ],
             [
              1,
              "#f0f921"
             ]
            ],
            "type": "heatmapgl"
           }
          ],
          "histogram": [
           {
            "marker": {
             "pattern": {
              "fillmode": "overlay",
              "size": 10,
              "solidity": 0.2
             }
            },
            "type": "histogram"
           }
          ],
          "histogram2d": [
           {
            "colorbar": {
             "outlinewidth": 0,
             "ticks": ""
            },
            "colorscale": [
             [
              0,
              "#0d0887"
             ],
             [
              0.1111111111111111,
              "#46039f"
             ],
             [
              0.2222222222222222,
              "#7201a8"
             ],
             [
              0.3333333333333333,
              "#9c179e"
             ],
             [
              0.4444444444444444,
              "#bd3786"
             ],
             [
              0.5555555555555556,
              "#d8576b"
             ],
             [
              0.6666666666666666,
              "#ed7953"
             ],
             [
              0.7777777777777778,
              "#fb9f3a"
             ],
             [
              0.8888888888888888,
              "#fdca26"
             ],
             [
              1,
              "#f0f921"
             ]
            ],
            "type": "histogram2d"
           }
          ],
          "histogram2dcontour": [
           {
            "colorbar": {
             "outlinewidth": 0,
             "ticks": ""
            },
            "colorscale": [
             [
              0,
              "#0d0887"
             ],
             [
              0.1111111111111111,
              "#46039f"
             ],
             [
              0.2222222222222222,
              "#7201a8"
             ],
             [
              0.3333333333333333,
              "#9c179e"
             ],
             [
              0.4444444444444444,
              "#bd3786"
             ],
             [
              0.5555555555555556,
              "#d8576b"
             ],
             [
              0.6666666666666666,
              "#ed7953"
             ],
             [
              0.7777777777777778,
              "#fb9f3a"
             ],
             [
              0.8888888888888888,
              "#fdca26"
             ],
             [
              1,
              "#f0f921"
             ]
            ],
            "type": "histogram2dcontour"
           }
          ],
          "mesh3d": [
           {
            "colorbar": {
             "outlinewidth": 0,
             "ticks": ""
            },
            "type": "mesh3d"
           }
          ],
          "parcoords": [
           {
            "line": {
             "colorbar": {
              "outlinewidth": 0,
              "ticks": ""
             }
            },
            "type": "parcoords"
           }
          ],
          "pie": [
           {
            "automargin": true,
            "type": "pie"
           }
          ],
          "scatter": [
           {
            "fillpattern": {
             "fillmode": "overlay",
             "size": 10,
             "solidity": 0.2
            },
            "type": "scatter"
           }
          ],
          "scatter3d": [
           {
            "line": {
             "colorbar": {
              "outlinewidth": 0,
              "ticks": ""
             }
            },
            "marker": {
             "colorbar": {
              "outlinewidth": 0,
              "ticks": ""
             }
            },
            "type": "scatter3d"
           }
          ],
          "scattercarpet": [
           {
            "marker": {
             "colorbar": {
              "outlinewidth": 0,
              "ticks": ""
             }
            },
            "type": "scattercarpet"
           }
          ],
          "scattergeo": [
           {
            "marker": {
             "colorbar": {
              "outlinewidth": 0,
              "ticks": ""
             }
            },
            "type": "scattergeo"
           }
          ],
          "scattergl": [
           {
            "marker": {
             "colorbar": {
              "outlinewidth": 0,
              "ticks": ""
             }
            },
            "type": "scattergl"
           }
          ],
          "scattermapbox": [
           {
            "marker": {
             "colorbar": {
              "outlinewidth": 0,
              "ticks": ""
             }
            },
            "type": "scattermapbox"
           }
          ],
          "scatterpolar": [
           {
            "marker": {
             "colorbar": {
              "outlinewidth": 0,
              "ticks": ""
             }
            },
            "type": "scatterpolar"
           }
          ],
          "scatterpolargl": [
           {
            "marker": {
             "colorbar": {
              "outlinewidth": 0,
              "ticks": ""
             }
            },
            "type": "scatterpolargl"
           }
          ],
          "scatterternary": [
           {
            "marker": {
             "colorbar": {
              "outlinewidth": 0,
              "ticks": ""
             }
            },
            "type": "scatterternary"
           }
          ],
          "surface": [
           {
            "colorbar": {
             "outlinewidth": 0,
             "ticks": ""
            },
            "colorscale": [
             [
              0,
              "#0d0887"
             ],
             [
              0.1111111111111111,
              "#46039f"
             ],
             [
              0.2222222222222222,
              "#7201a8"
             ],
             [
              0.3333333333333333,
              "#9c179e"
             ],
             [
              0.4444444444444444,
              "#bd3786"
             ],
             [
              0.5555555555555556,
              "#d8576b"
             ],
             [
              0.6666666666666666,
              "#ed7953"
             ],
             [
              0.7777777777777778,
              "#fb9f3a"
             ],
             [
              0.8888888888888888,
              "#fdca26"
             ],
             [
              1,
              "#f0f921"
             ]
            ],
            "type": "surface"
           }
          ],
          "table": [
           {
            "cells": {
             "fill": {
              "color": "#EBF0F8"
             },
             "line": {
              "color": "white"
             }
            },
            "header": {
             "fill": {
              "color": "#C8D4E3"
             },
             "line": {
              "color": "white"
             }
            },
            "type": "table"
           }
          ]
         },
         "layout": {
          "annotationdefaults": {
           "arrowcolor": "#2a3f5f",
           "arrowhead": 0,
           "arrowwidth": 1
          },
          "autotypenumbers": "strict",
          "coloraxis": {
           "colorbar": {
            "outlinewidth": 0,
            "ticks": ""
           }
          },
          "colorscale": {
           "diverging": [
            [
             0,
             "#8e0152"
            ],
            [
             0.1,
             "#c51b7d"
            ],
            [
             0.2,
             "#de77ae"
            ],
            [
             0.3,
             "#f1b6da"
            ],
            [
             0.4,
             "#fde0ef"
            ],
            [
             0.5,
             "#f7f7f7"
            ],
            [
             0.6,
             "#e6f5d0"
            ],
            [
             0.7,
             "#b8e186"
            ],
            [
             0.8,
             "#7fbc41"
            ],
            [
             0.9,
             "#4d9221"
            ],
            [
             1,
             "#276419"
            ]
           ],
           "sequential": [
            [
             0,
             "#0d0887"
            ],
            [
             0.1111111111111111,
             "#46039f"
            ],
            [
             0.2222222222222222,
             "#7201a8"
            ],
            [
             0.3333333333333333,
             "#9c179e"
            ],
            [
             0.4444444444444444,
             "#bd3786"
            ],
            [
             0.5555555555555556,
             "#d8576b"
            ],
            [
             0.6666666666666666,
             "#ed7953"
            ],
            [
             0.7777777777777778,
             "#fb9f3a"
            ],
            [
             0.8888888888888888,
             "#fdca26"
            ],
            [
             1,
             "#f0f921"
            ]
           ],
           "sequentialminus": [
            [
             0,
             "#0d0887"
            ],
            [
             0.1111111111111111,
             "#46039f"
            ],
            [
             0.2222222222222222,
             "#7201a8"
            ],
            [
             0.3333333333333333,
             "#9c179e"
            ],
            [
             0.4444444444444444,
             "#bd3786"
            ],
            [
             0.5555555555555556,
             "#d8576b"
            ],
            [
             0.6666666666666666,
             "#ed7953"
            ],
            [
             0.7777777777777778,
             "#fb9f3a"
            ],
            [
             0.8888888888888888,
             "#fdca26"
            ],
            [
             1,
             "#f0f921"
            ]
           ]
          },
          "colorway": [
           "#636efa",
           "#EF553B",
           "#00cc96",
           "#ab63fa",
           "#FFA15A",
           "#19d3f3",
           "#FF6692",
           "#B6E880",
           "#FF97FF",
           "#FECB52"
          ],
          "font": {
           "color": "#2a3f5f"
          },
          "geo": {
           "bgcolor": "white",
           "lakecolor": "white",
           "landcolor": "#E5ECF6",
           "showlakes": true,
           "showland": true,
           "subunitcolor": "white"
          },
          "hoverlabel": {
           "align": "left"
          },
          "hovermode": "closest",
          "mapbox": {
           "style": "light"
          },
          "paper_bgcolor": "white",
          "plot_bgcolor": "#E5ECF6",
          "polar": {
           "angularaxis": {
            "gridcolor": "white",
            "linecolor": "white",
            "ticks": ""
           },
           "bgcolor": "#E5ECF6",
           "radialaxis": {
            "gridcolor": "white",
            "linecolor": "white",
            "ticks": ""
           }
          },
          "scene": {
           "xaxis": {
            "backgroundcolor": "#E5ECF6",
            "gridcolor": "white",
            "gridwidth": 2,
            "linecolor": "white",
            "showbackground": true,
            "ticks": "",
            "zerolinecolor": "white"
           },
           "yaxis": {
            "backgroundcolor": "#E5ECF6",
            "gridcolor": "white",
            "gridwidth": 2,
            "linecolor": "white",
            "showbackground": true,
            "ticks": "",
            "zerolinecolor": "white"
           },
           "zaxis": {
            "backgroundcolor": "#E5ECF6",
            "gridcolor": "white",
            "gridwidth": 2,
            "linecolor": "white",
            "showbackground": true,
            "ticks": "",
            "zerolinecolor": "white"
           }
          },
          "shapedefaults": {
           "line": {
            "color": "#2a3f5f"
           }
          },
          "ternary": {
           "aaxis": {
            "gridcolor": "white",
            "linecolor": "white",
            "ticks": ""
           },
           "baxis": {
            "gridcolor": "white",
            "linecolor": "white",
            "ticks": ""
           },
           "bgcolor": "#E5ECF6",
           "caxis": {
            "gridcolor": "white",
            "linecolor": "white",
            "ticks": ""
           }
          },
          "title": {
           "x": 0.05
          },
          "xaxis": {
           "automargin": true,
           "gridcolor": "white",
           "linecolor": "white",
           "ticks": "",
           "title": {
            "standoff": 15
           },
           "zerolinecolor": "white",
           "zerolinewidth": 2
          },
          "yaxis": {
           "automargin": true,
           "gridcolor": "white",
           "linecolor": "white",
           "ticks": "",
           "title": {
            "standoff": 15
           },
           "zerolinecolor": "white",
           "zerolinewidth": 2
          }
         }
        },
        "title": {
         "font": {
          "color": "#4D5663"
         }
        },
        "xaxis": {
         "gridcolor": "#E1E5ED",
         "showgrid": true,
         "tickfont": {
          "color": "#4D5663"
         },
         "title": {
          "font": {
           "color": "#4D5663"
          },
          "text": ""
         },
         "zerolinecolor": "#E1E5ED"
        },
        "yaxis": {
         "gridcolor": "#E1E5ED",
         "showgrid": true,
         "tickfont": {
          "color": "#4D5663"
         },
         "title": {
          "font": {
           "color": "#4D5663"
          },
          "text": ""
         },
         "zerolinecolor": "#E1E5ED"
        }
       }
      },
      "text/html": [
       "<div>                            <div id=\"9b5d18e1-504c-46cd-a93b-557496a4fabc\" class=\"plotly-graph-div\" style=\"height:525px; width:100%;\"></div>            <script type=\"text/javascript\">                require([\"plotly\"], function(Plotly) {                    window.PLOTLYENV=window.PLOTLYENV || {};\n",
       "                    window.PLOTLYENV.BASE_URL='https://plot.ly';                                    if (document.getElementById(\"9b5d18e1-504c-46cd-a93b-557496a4fabc\")) {                    Plotly.newPlot(                        \"9b5d18e1-504c-46cd-a93b-557496a4fabc\",                        [{\"marker\":{\"color\":\"rgba(255, 153, 51, 0.6)\",\"line\":{\"color\":\"rgba(255, 153, 51, 1.0)\",\"width\":1}},\"name\":\"None\",\"orientation\":\"v\",\"text\":\"\",\"x\":[\"A\",\"B\",\"C\",\"D\"],\"y\":[100,100,100,100],\"type\":\"bar\"}],                        {\"legend\":{\"bgcolor\":\"#F5F6F9\",\"font\":{\"color\":\"#4D5663\"}},\"paper_bgcolor\":\"#F5F6F9\",\"plot_bgcolor\":\"#F5F6F9\",\"template\":{\"data\":{\"barpolar\":[{\"marker\":{\"line\":{\"color\":\"#E5ECF6\",\"width\":0.5},\"pattern\":{\"fillmode\":\"overlay\",\"size\":10,\"solidity\":0.2}},\"type\":\"barpolar\"}],\"bar\":[{\"error_x\":{\"color\":\"#2a3f5f\"},\"error_y\":{\"color\":\"#2a3f5f\"},\"marker\":{\"line\":{\"color\":\"#E5ECF6\",\"width\":0.5},\"pattern\":{\"fillmode\":\"overlay\",\"size\":10,\"solidity\":0.2}},\"type\":\"bar\"}],\"carpet\":[{\"aaxis\":{\"endlinecolor\":\"#2a3f5f\",\"gridcolor\":\"white\",\"linecolor\":\"white\",\"minorgridcolor\":\"white\",\"startlinecolor\":\"#2a3f5f\"},\"baxis\":{\"endlinecolor\":\"#2a3f5f\",\"gridcolor\":\"white\",\"linecolor\":\"white\",\"minorgridcolor\":\"white\",\"startlinecolor\":\"#2a3f5f\"},\"type\":\"carpet\"}],\"choropleth\":[{\"colorbar\":{\"outlinewidth\":0,\"ticks\":\"\"},\"type\":\"choropleth\"}],\"contourcarpet\":[{\"colorbar\":{\"outlinewidth\":0,\"ticks\":\"\"},\"type\":\"contourcarpet\"}],\"contour\":[{\"colorbar\":{\"outlinewidth\":0,\"ticks\":\"\"},\"colorscale\":[[0.0,\"#0d0887\"],[0.1111111111111111,\"#46039f\"],[0.2222222222222222,\"#7201a8\"],[0.3333333333333333,\"#9c179e\"],[0.4444444444444444,\"#bd3786\"],[0.5555555555555556,\"#d8576b\"],[0.6666666666666666,\"#ed7953\"],[0.7777777777777778,\"#fb9f3a\"],[0.8888888888888888,\"#fdca26\"],[1.0,\"#f0f921\"]],\"type\":\"contour\"}],\"heatmapgl\":[{\"colorbar\":{\"outlinewidth\":0,\"ticks\":\"\"},\"colorscale\":[[0.0,\"#0d0887\"],[0.1111111111111111,\"#46039f\"],[0.2222222222222222,\"#7201a8\"],[0.3333333333333333,\"#9c179e\"],[0.4444444444444444,\"#bd3786\"],[0.5555555555555556,\"#d8576b\"],[0.6666666666666666,\"#ed7953\"],[0.7777777777777778,\"#fb9f3a\"],[0.8888888888888888,\"#fdca26\"],[1.0,\"#f0f921\"]],\"type\":\"heatmapgl\"}],\"heatmap\":[{\"colorbar\":{\"outlinewidth\":0,\"ticks\":\"\"},\"colorscale\":[[0.0,\"#0d0887\"],[0.1111111111111111,\"#46039f\"],[0.2222222222222222,\"#7201a8\"],[0.3333333333333333,\"#9c179e\"],[0.4444444444444444,\"#bd3786\"],[0.5555555555555556,\"#d8576b\"],[0.6666666666666666,\"#ed7953\"],[0.7777777777777778,\"#fb9f3a\"],[0.8888888888888888,\"#fdca26\"],[1.0,\"#f0f921\"]],\"type\":\"heatmap\"}],\"histogram2dcontour\":[{\"colorbar\":{\"outlinewidth\":0,\"ticks\":\"\"},\"colorscale\":[[0.0,\"#0d0887\"],[0.1111111111111111,\"#46039f\"],[0.2222222222222222,\"#7201a8\"],[0.3333333333333333,\"#9c179e\"],[0.4444444444444444,\"#bd3786\"],[0.5555555555555556,\"#d8576b\"],[0.6666666666666666,\"#ed7953\"],[0.7777777777777778,\"#fb9f3a\"],[0.8888888888888888,\"#fdca26\"],[1.0,\"#f0f921\"]],\"type\":\"histogram2dcontour\"}],\"histogram2d\":[{\"colorbar\":{\"outlinewidth\":0,\"ticks\":\"\"},\"colorscale\":[[0.0,\"#0d0887\"],[0.1111111111111111,\"#46039f\"],[0.2222222222222222,\"#7201a8\"],[0.3333333333333333,\"#9c179e\"],[0.4444444444444444,\"#bd3786\"],[0.5555555555555556,\"#d8576b\"],[0.6666666666666666,\"#ed7953\"],[0.7777777777777778,\"#fb9f3a\"],[0.8888888888888888,\"#fdca26\"],[1.0,\"#f0f921\"]],\"type\":\"histogram2d\"}],\"histogram\":[{\"marker\":{\"pattern\":{\"fillmode\":\"overlay\",\"size\":10,\"solidity\":0.2}},\"type\":\"histogram\"}],\"mesh3d\":[{\"colorbar\":{\"outlinewidth\":0,\"ticks\":\"\"},\"type\":\"mesh3d\"}],\"parcoords\":[{\"line\":{\"colorbar\":{\"outlinewidth\":0,\"ticks\":\"\"}},\"type\":\"parcoords\"}],\"pie\":[{\"automargin\":true,\"type\":\"pie\"}],\"scatter3d\":[{\"line\":{\"colorbar\":{\"outlinewidth\":0,\"ticks\":\"\"}},\"marker\":{\"colorbar\":{\"outlinewidth\":0,\"ticks\":\"\"}},\"type\":\"scatter3d\"}],\"scattercarpet\":[{\"marker\":{\"colorbar\":{\"outlinewidth\":0,\"ticks\":\"\"}},\"type\":\"scattercarpet\"}],\"scattergeo\":[{\"marker\":{\"colorbar\":{\"outlinewidth\":0,\"ticks\":\"\"}},\"type\":\"scattergeo\"}],\"scattergl\":[{\"marker\":{\"colorbar\":{\"outlinewidth\":0,\"ticks\":\"\"}},\"type\":\"scattergl\"}],\"scattermapbox\":[{\"marker\":{\"colorbar\":{\"outlinewidth\":0,\"ticks\":\"\"}},\"type\":\"scattermapbox\"}],\"scatterpolargl\":[{\"marker\":{\"colorbar\":{\"outlinewidth\":0,\"ticks\":\"\"}},\"type\":\"scatterpolargl\"}],\"scatterpolar\":[{\"marker\":{\"colorbar\":{\"outlinewidth\":0,\"ticks\":\"\"}},\"type\":\"scatterpolar\"}],\"scatter\":[{\"fillpattern\":{\"fillmode\":\"overlay\",\"size\":10,\"solidity\":0.2},\"type\":\"scatter\"}],\"scatterternary\":[{\"marker\":{\"colorbar\":{\"outlinewidth\":0,\"ticks\":\"\"}},\"type\":\"scatterternary\"}],\"surface\":[{\"colorbar\":{\"outlinewidth\":0,\"ticks\":\"\"},\"colorscale\":[[0.0,\"#0d0887\"],[0.1111111111111111,\"#46039f\"],[0.2222222222222222,\"#7201a8\"],[0.3333333333333333,\"#9c179e\"],[0.4444444444444444,\"#bd3786\"],[0.5555555555555556,\"#d8576b\"],[0.6666666666666666,\"#ed7953\"],[0.7777777777777778,\"#fb9f3a\"],[0.8888888888888888,\"#fdca26\"],[1.0,\"#f0f921\"]],\"type\":\"surface\"}],\"table\":[{\"cells\":{\"fill\":{\"color\":\"#EBF0F8\"},\"line\":{\"color\":\"white\"}},\"header\":{\"fill\":{\"color\":\"#C8D4E3\"},\"line\":{\"color\":\"white\"}},\"type\":\"table\"}]},\"layout\":{\"annotationdefaults\":{\"arrowcolor\":\"#2a3f5f\",\"arrowhead\":0,\"arrowwidth\":1},\"autotypenumbers\":\"strict\",\"coloraxis\":{\"colorbar\":{\"outlinewidth\":0,\"ticks\":\"\"}},\"colorscale\":{\"diverging\":[[0,\"#8e0152\"],[0.1,\"#c51b7d\"],[0.2,\"#de77ae\"],[0.3,\"#f1b6da\"],[0.4,\"#fde0ef\"],[0.5,\"#f7f7f7\"],[0.6,\"#e6f5d0\"],[0.7,\"#b8e186\"],[0.8,\"#7fbc41\"],[0.9,\"#4d9221\"],[1,\"#276419\"]],\"sequential\":[[0.0,\"#0d0887\"],[0.1111111111111111,\"#46039f\"],[0.2222222222222222,\"#7201a8\"],[0.3333333333333333,\"#9c179e\"],[0.4444444444444444,\"#bd3786\"],[0.5555555555555556,\"#d8576b\"],[0.6666666666666666,\"#ed7953\"],[0.7777777777777778,\"#fb9f3a\"],[0.8888888888888888,\"#fdca26\"],[1.0,\"#f0f921\"]],\"sequentialminus\":[[0.0,\"#0d0887\"],[0.1111111111111111,\"#46039f\"],[0.2222222222222222,\"#7201a8\"],[0.3333333333333333,\"#9c179e\"],[0.4444444444444444,\"#bd3786\"],[0.5555555555555556,\"#d8576b\"],[0.6666666666666666,\"#ed7953\"],[0.7777777777777778,\"#fb9f3a\"],[0.8888888888888888,\"#fdca26\"],[1.0,\"#f0f921\"]]},\"colorway\":[\"#636efa\",\"#EF553B\",\"#00cc96\",\"#ab63fa\",\"#FFA15A\",\"#19d3f3\",\"#FF6692\",\"#B6E880\",\"#FF97FF\",\"#FECB52\"],\"font\":{\"color\":\"#2a3f5f\"},\"geo\":{\"bgcolor\":\"white\",\"lakecolor\":\"white\",\"landcolor\":\"#E5ECF6\",\"showlakes\":true,\"showland\":true,\"subunitcolor\":\"white\"},\"hoverlabel\":{\"align\":\"left\"},\"hovermode\":\"closest\",\"mapbox\":{\"style\":\"light\"},\"paper_bgcolor\":\"white\",\"plot_bgcolor\":\"#E5ECF6\",\"polar\":{\"angularaxis\":{\"gridcolor\":\"white\",\"linecolor\":\"white\",\"ticks\":\"\"},\"bgcolor\":\"#E5ECF6\",\"radialaxis\":{\"gridcolor\":\"white\",\"linecolor\":\"white\",\"ticks\":\"\"}},\"scene\":{\"xaxis\":{\"backgroundcolor\":\"#E5ECF6\",\"gridcolor\":\"white\",\"gridwidth\":2,\"linecolor\":\"white\",\"showbackground\":true,\"ticks\":\"\",\"zerolinecolor\":\"white\"},\"yaxis\":{\"backgroundcolor\":\"#E5ECF6\",\"gridcolor\":\"white\",\"gridwidth\":2,\"linecolor\":\"white\",\"showbackground\":true,\"ticks\":\"\",\"zerolinecolor\":\"white\"},\"zaxis\":{\"backgroundcolor\":\"#E5ECF6\",\"gridcolor\":\"white\",\"gridwidth\":2,\"linecolor\":\"white\",\"showbackground\":true,\"ticks\":\"\",\"zerolinecolor\":\"white\"}},\"shapedefaults\":{\"line\":{\"color\":\"#2a3f5f\"}},\"ternary\":{\"aaxis\":{\"gridcolor\":\"white\",\"linecolor\":\"white\",\"ticks\":\"\"},\"baxis\":{\"gridcolor\":\"white\",\"linecolor\":\"white\",\"ticks\":\"\"},\"bgcolor\":\"#E5ECF6\",\"caxis\":{\"gridcolor\":\"white\",\"linecolor\":\"white\",\"ticks\":\"\"}},\"title\":{\"x\":0.05},\"xaxis\":{\"automargin\":true,\"gridcolor\":\"white\",\"linecolor\":\"white\",\"ticks\":\"\",\"title\":{\"standoff\":15},\"zerolinecolor\":\"white\",\"zerolinewidth\":2},\"yaxis\":{\"automargin\":true,\"gridcolor\":\"white\",\"linecolor\":\"white\",\"ticks\":\"\",\"title\":{\"standoff\":15},\"zerolinecolor\":\"white\",\"zerolinewidth\":2}}},\"title\":{\"font\":{\"color\":\"#4D5663\"}},\"xaxis\":{\"gridcolor\":\"#E1E5ED\",\"showgrid\":true,\"tickfont\":{\"color\":\"#4D5663\"},\"title\":{\"font\":{\"color\":\"#4D5663\"},\"text\":\"\"},\"zerolinecolor\":\"#E1E5ED\"},\"yaxis\":{\"gridcolor\":\"#E1E5ED\",\"showgrid\":true,\"tickfont\":{\"color\":\"#4D5663\"},\"title\":{\"font\":{\"color\":\"#4D5663\"},\"text\":\"\"},\"zerolinecolor\":\"#E1E5ED\"}},                        {\"showLink\": true, \"linkText\": \"Export to plot.ly\", \"plotlyServerURL\": \"https://plot.ly\", \"responsive\": true}                    ).then(function(){\n",
       "                            \n",
       "var gd = document.getElementById('9b5d18e1-504c-46cd-a93b-557496a4fabc');\n",
       "var x = new MutationObserver(function (mutations, observer) {{\n",
       "        var display = window.getComputedStyle(gd).display;\n",
       "        if (!display || display === 'none') {{\n",
       "            console.log([gd, 'removed!']);\n",
       "            Plotly.purge(gd);\n",
       "            observer.disconnect();\n",
       "        }}\n",
       "}});\n",
       "\n",
       "// Listen for the removal of the full notebook cells\n",
       "var notebookContainer = gd.closest('#notebook-container');\n",
       "if (notebookContainer) {{\n",
       "    x.observe(notebookContainer, {childList: true});\n",
       "}}\n",
       "\n",
       "// Listen for the clearing of the current output cell\n",
       "var outputEl = gd.closest('.output');\n",
       "if (outputEl) {{\n",
       "    x.observe(outputEl, {childList: true});\n",
       "}}\n",
       "\n",
       "                        })                };                });            </script>        </div>"
      ]
     },
     "metadata": {},
     "output_type": "display_data"
    }
   ],
   "source": [
    "df.count().iplot(kind='bar')"
   ]
  },
  {
   "cell_type": "markdown",
   "metadata": {},
   "source": [
    "## Boxplots"
   ]
  },
  {
   "cell_type": "code",
   "execution_count": 13,
   "metadata": {
    "collapsed": false
   },
   "outputs": [
    {
     "data": {
      "application/vnd.plotly.v1+json": {
       "config": {
        "linkText": "Export to plot.ly",
        "plotlyServerURL": "https://plot.ly",
        "showLink": true
       },
       "data": [
        {
         "boxpoints": false,
         "line": {
          "width": 1.3
         },
         "marker": {
          "color": "rgba(255, 153, 51, 1.0)"
         },
         "name": "A",
         "orientation": "v",
         "type": "box",
         "y": [
          -1.23367774458424,
          0.7354606535590142,
          0.18297916358793126,
          0.4997206964909568,
          -0.4164376791113165,
          0.7725868189495974,
          -0.3190709225596303,
          -0.34509557310354055,
          0.17571314182171857,
          1.2832496432359026,
          -0.6701622872223576,
          0.1726151343541529,
          -0.5371486714244423,
          0.14866247108121355,
          -1.1134174896360065,
          0.9181426264528164,
          0.2916545629339712,
          -1.5327750870756958,
          -1.4981000212493611,
          -0.6778356750220685,
          1.735421358474536,
          -0.6843482671654342,
          -2.3903111255154244,
          -0.19203745335697894,
          -0.7727337242600216,
          0.4851640083650962,
          -0.03687388157122996,
          -0.28013428904290666,
          0.13278542161376505,
          0.3119355241632733,
          1.5559893421845665,
          -0.14961659575442454,
          -0.6254401403525508,
          0.14409253691847518,
          -0.17776408261353757,
          -1.506867556747576,
          -0.9417607912397659,
          1.8817932769503896,
          -0.09791659724689179,
          2.341697749668085,
          -1.0463068519188832,
          0.7667785456655989,
          0.3744052165922298,
          -0.11600890719464242,
          1.3157688037328155,
          -0.47044669371950476,
          0.5387585482327067,
          0.7425985029443694,
          0.9624955022877838,
          -0.2984520913272161,
          -0.2183144798873457,
          0.9022682433066121,
          1.155171384106318,
          -0.4639222451394979,
          1.9799373349193057,
          -0.9709105566083415,
          0.4266930092556539,
          0.7982776980272756,
          -0.788330192220676,
          2.214154651931596,
          0.8517386094525903,
          0.7307109968115925,
          0.7635729782447669,
          0.10645212322818463,
          0.36019364897067474,
          0.9746982639638698,
          -0.5556653065216498,
          0.17462254664205748,
          -1.8419332782616773,
          -1.985223300131962,
          0.7467115259440948,
          2.2401539237310297,
          -0.8646309336109702,
          0.03176867873429596,
          1.0856986000536937,
          0.5765714008077054,
          1.8425945746859302,
          -0.5982346749068658,
          1.281876291366642,
          -1.4856750066733857,
          -0.40617642583972385,
          1.227860895027526,
          -0.1516154355428637,
          -0.19119937484773103,
          1.6412982490327952,
          -0.16593239072305466,
          -1.2920286182886802,
          -0.8691861682544956,
          -1.850680027577851,
          2.257954454887254,
          2.6285325515955864,
          -0.0684629034273146,
          1.7513799068573954,
          -0.46705614107678833,
          -0.10754645646971306,
          0.3550472312638334,
          -0.030799279632314668,
          0.48260371806705854,
          0.6037213493070618,
          1.2001353535703647
         ]
        },
        {
         "boxpoints": false,
         "line": {
          "width": 1.3
         },
         "marker": {
          "color": "rgba(55, 128, 191, 1.0)"
         },
         "name": "B",
         "orientation": "v",
         "type": "box",
         "y": [
          1.6136967679655434,
          -1.7743454628646287,
          -0.7203287172843124,
          -0.6117954031487445,
          -0.5009445747690496,
          -0.24161844138377042,
          -0.08872694595508866,
          0.9414124362805255,
          -1.3156998667030655,
          -1.4071666051435512,
          0.5936163122545488,
          -1.4425960457191493,
          0.8871373825005632,
          0.7934761210859214,
          1.6388025932684638,
          -0.11005133315602779,
          -0.10825386825750678,
          0.0025098233379851074,
          0.2872930674671653,
          -0.6648284861864668,
          -0.15297087907323706,
          -0.22340340462924857,
          -1.046194162796279,
          -0.6992987713385544,
          -1.428382051025518,
          2.2717657882437416,
          -0.2991219216134819,
          0.8036729570996414,
          0.07473183143488986,
          0.03629793496927448,
          0.7282501907601823,
          -0.468992428764272,
          1.1354729217609987,
          -0.17500536226349744,
          -0.8823112338592987,
          -1.0267863666982082,
          0.22929164557760115,
          0.08166986290003601,
          -0.4330250214952117,
          -1.4768571379632707,
          -0.03836514380320835,
          0.5605916358916565,
          0.3208280805065191,
          -0.30636035654476584,
          -0.5856938781868646,
          -0.9413963300297031,
          -1.8328437051415842,
          0.3633607192627451,
          0.014613820067525655,
          -2.0581325295536987,
          -0.5814716694456769,
          -0.645961870134278,
          -0.9509169358479385,
          -0.5364320563027563,
          -0.09927241848365108,
          1.1677610430726344,
          0.3140389325576045,
          2.2953591028356666,
          -0.811016454177509,
          -1.0738306708614167,
          -0.5448157712114431,
          1.0117744371276478,
          0.4037143519820321,
          -0.07573006893551563,
          0.20146794629997267,
          -0.3682498559607633,
          -1.051561812832864,
          0.9742748100847685,
          -1.8840815140861575,
          -1.163604661761712,
          0.2695935706119995,
          -0.2153451906084906,
          -0.4643422556942716,
          -0.03181141759971215,
          1.601791961152759,
          -1.263754355144204,
          -0.4277428623143499,
          0.3758165557541959,
          0.466825436020422,
          0.12952785501322436,
          -1.1010703462267066,
          -1.2236492596008608,
          0.01927986704213586,
          -0.6869701717286061,
          -0.6547097891615642,
          -0.2396485802567933,
          -0.05472819079502166,
          -2.6898646855476485,
          -1.2873936728903954,
          0.6240206318014331,
          1.249178232250976,
          0.4185312567426191,
          -1.4588386970350944,
          -0.19460072611954962,
          0.509326925798342,
          0.1338898266727817,
          -1.2748281912315276,
          -1.3360835573105292,
          -0.2282333872994752,
          1.0511136019093947
         ]
        },
        {
         "boxpoints": false,
         "line": {
          "width": 1.3
         },
         "marker": {
          "color": "rgba(50, 171, 96, 1.0)"
         },
         "name": "C",
         "orientation": "v",
         "type": "box",
         "y": [
          -0.34370852148833775,
          -1.6037070888676004,
          -1.0117519586533903,
          2.3520700857796037,
          -0.07800786087730324,
          1.7477028399367123,
          -1.3134636218504039,
          0.834917922822358,
          -1.6879711424176278,
          -1.4631717164175138,
          0.06260354179374829,
          -1.058293815930557,
          -0.8547977131737582,
          0.12040414862863882,
          1.320848958790828,
          -0.1663789255787278,
          0.956055668413484,
          0.13652661175792463,
          -1.0486821992527868,
          -0.8123151430828478,
          -0.3603782295493598,
          2.0800555742838696,
          1.0279573944752483,
          -0.9285579023018954,
          -1.5249896100398639,
          -0.42251603931199544,
          -0.17278746245657228,
          0.09971652959597924,
          0.5245379305962313,
          0.5758482550732602,
          0.08999784454025511,
          0.4246620759988931,
          2.385590884310923,
          0.9435396158109014,
          -0.10350349061134614,
          0.37869652762416994,
          0.3506595888281066,
          -1.1023064841618144,
          -1.515163438097079,
          0.7018189655599872,
          -0.5472974960629561,
          0.45086640912233394,
          -1.0323496052416319,
          1.0781607798625312,
          0.40589874379108193,
          0.04796820422522915,
          1.1483656721206774,
          -0.7254572801758798,
          0.03615515285397519,
          -0.3629751313234159,
          -1.4103474431164458,
          -0.444878978022152,
          -1.1567563260758529,
          0.05392222192325666,
          1.5723888163918553,
          0.3168075874475406,
          1.5084826520533836,
          1.5033058696550723,
          0.7140032131679233,
          -0.013307389720520662,
          1.303203326685032,
          -0.46656882533908856,
          -1.787337883505314,
          0.289923762209665,
          0.20032842830256625,
          -0.36130641876922126,
          -0.8394345059986312,
          0.09568776491921355,
          -0.1009539924355601,
          0.7409983668257607,
          -0.31442540937426433,
          -1.3967235868497487,
          -2.002851615229901,
          0.9813604252326612,
          1.2940876771427605,
          0.45236708325259406,
          0.39819579938627014,
          1.9013035021034381,
          -0.979183794087184,
          -0.19388177386612115,
          -1.3065320126945617,
          -0.8102323344833,
          0.7274599286254197,
          1.2253763472748123,
          -0.6328830446589793,
          0.7267424776293127,
          -0.4303729667109366,
          1.5517488795556174,
          1.2946292755127904,
          0.13838587736783844,
          -1.3493619397165506,
          -0.17864844790246678,
          -0.4549657696654094,
          -0.3651793980414446,
          -1.5837668607694977,
          -1.538225241820272,
          1.9919583756213672,
          0.4634375459475504,
          -1.7056423601701083,
          -0.4557409185352117
         ]
        },
        {
         "boxpoints": false,
         "line": {
          "width": 1.3
         },
         "marker": {
          "color": "rgba(128, 0, 128, 1.0)"
         },
         "name": "D",
         "orientation": "v",
         "type": "box",
         "y": [
          -0.4525155307585302,
          -1.1847407611918483,
          -0.6793716908468681,
          -0.7663491194820993,
          -2.1037826400325375,
          0.451631524283149,
          0.7093347084577076,
          -0.13353638840608778,
          1.5205988799445087,
          1.5278493845638228,
          -0.3846171086426508,
          -0.8674568537134518,
          1.299356130748103,
          -1.8673558194780966,
          1.206392511699628,
          -0.6298690687332809,
          1.4121137273867659,
          -0.9932980773519611,
          -0.08511403258554953,
          -0.03917959783296583,
          1.0177798325126055,
          -0.9142575587934604,
          0.08487968683490116,
          0.8140429903383063,
          0.2027994074813393,
          -2.2457237748949614,
          0.797675681069284,
          -1.4347227334780444,
          -0.8023559564700763,
          0.8173008634313658,
          -2.6143267010803655,
          0.010099944429897412,
          1.1448990833802974,
          -0.13294317369698727,
          -1.4447427598147196,
          -0.18236573682642726,
          -0.1371302988288747,
          1.7452156674678587,
          0.9557468926091326,
          1.6999482466830902,
          1.0844698760459346,
          -0.9687820018821905,
          -0.2898370304894389,
          -0.3808640586901712,
          2.466496023407135,
          -0.8597502401088455,
          -1.0550011235261636,
          1.13639270921484,
          1.9627931527711124,
          -0.015462480200274966,
          -0.696353258591921,
          -0.6215499023794203,
          -0.640185573946483,
          -0.28345710445611444,
          -1.448223204467605,
          -1.2568378934927584,
          -0.6129093957117677,
          1.2866974325236984,
          2.723007327425759,
          -1.7488581469360764,
          -0.7906453832274789,
          -0.2708486716777824,
          0.5725303392874214,
          1.5594650781817387,
          0.396780769224614,
          0.4131818712532956,
          -0.2782569433258647,
          -0.09888653436213217,
          0.17228875184139641,
          0.08463458982687724,
          0.5857287900509336,
          0.8365703340936173,
          -0.6538583301479146,
          -1.358360897596932,
          -0.5919410242500869,
          0.5368324263433479,
          -2.143818654993575,
          0.22425849005050116,
          -1.2945576486575732,
          -1.6252838191970418,
          -0.6111592374974577,
          2.3629129341321335,
          -0.8704263650104284,
          -1.0239197809652285,
          1.3596960473221344,
          0.2753242239499126,
          -1.3090562555703824,
          0.46155247720388887,
          1.1543044188659888,
          0.15057621415812555,
          -2.102842980891349,
          -0.28836526127846385,
          1.367076393792901,
          -0.8683588779318776,
          0.10089130202092392,
          -0.2623850238247419,
          -0.5243677250921439,
          -1.0854310368659164,
          -0.1519881281047457,
          -0.16858694649079947
         ]
        }
       ],
       "layout": {
        "legend": {
         "bgcolor": "#F5F6F9",
         "font": {
          "color": "#4D5663"
         }
        },
        "paper_bgcolor": "#F5F6F9",
        "plot_bgcolor": "#F5F6F9",
        "template": {
         "data": {
          "bar": [
           {
            "error_x": {
             "color": "#2a3f5f"
            },
            "error_y": {
             "color": "#2a3f5f"
            },
            "marker": {
             "line": {
              "color": "#E5ECF6",
              "width": 0.5
             },
             "pattern": {
              "fillmode": "overlay",
              "size": 10,
              "solidity": 0.2
             }
            },
            "type": "bar"
           }
          ],
          "barpolar": [
           {
            "marker": {
             "line": {
              "color": "#E5ECF6",
              "width": 0.5
             },
             "pattern": {
              "fillmode": "overlay",
              "size": 10,
              "solidity": 0.2
             }
            },
            "type": "barpolar"
           }
          ],
          "carpet": [
           {
            "aaxis": {
             "endlinecolor": "#2a3f5f",
             "gridcolor": "white",
             "linecolor": "white",
             "minorgridcolor": "white",
             "startlinecolor": "#2a3f5f"
            },
            "baxis": {
             "endlinecolor": "#2a3f5f",
             "gridcolor": "white",
             "linecolor": "white",
             "minorgridcolor": "white",
             "startlinecolor": "#2a3f5f"
            },
            "type": "carpet"
           }
          ],
          "choropleth": [
           {
            "colorbar": {
             "outlinewidth": 0,
             "ticks": ""
            },
            "type": "choropleth"
           }
          ],
          "contour": [
           {
            "colorbar": {
             "outlinewidth": 0,
             "ticks": ""
            },
            "colorscale": [
             [
              0,
              "#0d0887"
             ],
             [
              0.1111111111111111,
              "#46039f"
             ],
             [
              0.2222222222222222,
              "#7201a8"
             ],
             [
              0.3333333333333333,
              "#9c179e"
             ],
             [
              0.4444444444444444,
              "#bd3786"
             ],
             [
              0.5555555555555556,
              "#d8576b"
             ],
             [
              0.6666666666666666,
              "#ed7953"
             ],
             [
              0.7777777777777778,
              "#fb9f3a"
             ],
             [
              0.8888888888888888,
              "#fdca26"
             ],
             [
              1,
              "#f0f921"
             ]
            ],
            "type": "contour"
           }
          ],
          "contourcarpet": [
           {
            "colorbar": {
             "outlinewidth": 0,
             "ticks": ""
            },
            "type": "contourcarpet"
           }
          ],
          "heatmap": [
           {
            "colorbar": {
             "outlinewidth": 0,
             "ticks": ""
            },
            "colorscale": [
             [
              0,
              "#0d0887"
             ],
             [
              0.1111111111111111,
              "#46039f"
             ],
             [
              0.2222222222222222,
              "#7201a8"
             ],
             [
              0.3333333333333333,
              "#9c179e"
             ],
             [
              0.4444444444444444,
              "#bd3786"
             ],
             [
              0.5555555555555556,
              "#d8576b"
             ],
             [
              0.6666666666666666,
              "#ed7953"
             ],
             [
              0.7777777777777778,
              "#fb9f3a"
             ],
             [
              0.8888888888888888,
              "#fdca26"
             ],
             [
              1,
              "#f0f921"
             ]
            ],
            "type": "heatmap"
           }
          ],
          "heatmapgl": [
           {
            "colorbar": {
             "outlinewidth": 0,
             "ticks": ""
            },
            "colorscale": [
             [
              0,
              "#0d0887"
             ],
             [
              0.1111111111111111,
              "#46039f"
             ],
             [
              0.2222222222222222,
              "#7201a8"
             ],
             [
              0.3333333333333333,
              "#9c179e"
             ],
             [
              0.4444444444444444,
              "#bd3786"
             ],
             [
              0.5555555555555556,
              "#d8576b"
             ],
             [
              0.6666666666666666,
              "#ed7953"
             ],
             [
              0.7777777777777778,
              "#fb9f3a"
             ],
             [
              0.8888888888888888,
              "#fdca26"
             ],
             [
              1,
              "#f0f921"
             ]
            ],
            "type": "heatmapgl"
           }
          ],
          "histogram": [
           {
            "marker": {
             "pattern": {
              "fillmode": "overlay",
              "size": 10,
              "solidity": 0.2
             }
            },
            "type": "histogram"
           }
          ],
          "histogram2d": [
           {
            "colorbar": {
             "outlinewidth": 0,
             "ticks": ""
            },
            "colorscale": [
             [
              0,
              "#0d0887"
             ],
             [
              0.1111111111111111,
              "#46039f"
             ],
             [
              0.2222222222222222,
              "#7201a8"
             ],
             [
              0.3333333333333333,
              "#9c179e"
             ],
             [
              0.4444444444444444,
              "#bd3786"
             ],
             [
              0.5555555555555556,
              "#d8576b"
             ],
             [
              0.6666666666666666,
              "#ed7953"
             ],
             [
              0.7777777777777778,
              "#fb9f3a"
             ],
             [
              0.8888888888888888,
              "#fdca26"
             ],
             [
              1,
              "#f0f921"
             ]
            ],
            "type": "histogram2d"
           }
          ],
          "histogram2dcontour": [
           {
            "colorbar": {
             "outlinewidth": 0,
             "ticks": ""
            },
            "colorscale": [
             [
              0,
              "#0d0887"
             ],
             [
              0.1111111111111111,
              "#46039f"
             ],
             [
              0.2222222222222222,
              "#7201a8"
             ],
             [
              0.3333333333333333,
              "#9c179e"
             ],
             [
              0.4444444444444444,
              "#bd3786"
             ],
             [
              0.5555555555555556,
              "#d8576b"
             ],
             [
              0.6666666666666666,
              "#ed7953"
             ],
             [
              0.7777777777777778,
              "#fb9f3a"
             ],
             [
              0.8888888888888888,
              "#fdca26"
             ],
             [
              1,
              "#f0f921"
             ]
            ],
            "type": "histogram2dcontour"
           }
          ],
          "mesh3d": [
           {
            "colorbar": {
             "outlinewidth": 0,
             "ticks": ""
            },
            "type": "mesh3d"
           }
          ],
          "parcoords": [
           {
            "line": {
             "colorbar": {
              "outlinewidth": 0,
              "ticks": ""
             }
            },
            "type": "parcoords"
           }
          ],
          "pie": [
           {
            "automargin": true,
            "type": "pie"
           }
          ],
          "scatter": [
           {
            "fillpattern": {
             "fillmode": "overlay",
             "size": 10,
             "solidity": 0.2
            },
            "type": "scatter"
           }
          ],
          "scatter3d": [
           {
            "line": {
             "colorbar": {
              "outlinewidth": 0,
              "ticks": ""
             }
            },
            "marker": {
             "colorbar": {
              "outlinewidth": 0,
              "ticks": ""
             }
            },
            "type": "scatter3d"
           }
          ],
          "scattercarpet": [
           {
            "marker": {
             "colorbar": {
              "outlinewidth": 0,
              "ticks": ""
             }
            },
            "type": "scattercarpet"
           }
          ],
          "scattergeo": [
           {
            "marker": {
             "colorbar": {
              "outlinewidth": 0,
              "ticks": ""
             }
            },
            "type": "scattergeo"
           }
          ],
          "scattergl": [
           {
            "marker": {
             "colorbar": {
              "outlinewidth": 0,
              "ticks": ""
             }
            },
            "type": "scattergl"
           }
          ],
          "scattermapbox": [
           {
            "marker": {
             "colorbar": {
              "outlinewidth": 0,
              "ticks": ""
             }
            },
            "type": "scattermapbox"
           }
          ],
          "scatterpolar": [
           {
            "marker": {
             "colorbar": {
              "outlinewidth": 0,
              "ticks": ""
             }
            },
            "type": "scatterpolar"
           }
          ],
          "scatterpolargl": [
           {
            "marker": {
             "colorbar": {
              "outlinewidth": 0,
              "ticks": ""
             }
            },
            "type": "scatterpolargl"
           }
          ],
          "scatterternary": [
           {
            "marker": {
             "colorbar": {
              "outlinewidth": 0,
              "ticks": ""
             }
            },
            "type": "scatterternary"
           }
          ],
          "surface": [
           {
            "colorbar": {
             "outlinewidth": 0,
             "ticks": ""
            },
            "colorscale": [
             [
              0,
              "#0d0887"
             ],
             [
              0.1111111111111111,
              "#46039f"
             ],
             [
              0.2222222222222222,
              "#7201a8"
             ],
             [
              0.3333333333333333,
              "#9c179e"
             ],
             [
              0.4444444444444444,
              "#bd3786"
             ],
             [
              0.5555555555555556,
              "#d8576b"
             ],
             [
              0.6666666666666666,
              "#ed7953"
             ],
             [
              0.7777777777777778,
              "#fb9f3a"
             ],
             [
              0.8888888888888888,
              "#fdca26"
             ],
             [
              1,
              "#f0f921"
             ]
            ],
            "type": "surface"
           }
          ],
          "table": [
           {
            "cells": {
             "fill": {
              "color": "#EBF0F8"
             },
             "line": {
              "color": "white"
             }
            },
            "header": {
             "fill": {
              "color": "#C8D4E3"
             },
             "line": {
              "color": "white"
             }
            },
            "type": "table"
           }
          ]
         },
         "layout": {
          "annotationdefaults": {
           "arrowcolor": "#2a3f5f",
           "arrowhead": 0,
           "arrowwidth": 1
          },
          "autotypenumbers": "strict",
          "coloraxis": {
           "colorbar": {
            "outlinewidth": 0,
            "ticks": ""
           }
          },
          "colorscale": {
           "diverging": [
            [
             0,
             "#8e0152"
            ],
            [
             0.1,
             "#c51b7d"
            ],
            [
             0.2,
             "#de77ae"
            ],
            [
             0.3,
             "#f1b6da"
            ],
            [
             0.4,
             "#fde0ef"
            ],
            [
             0.5,
             "#f7f7f7"
            ],
            [
             0.6,
             "#e6f5d0"
            ],
            [
             0.7,
             "#b8e186"
            ],
            [
             0.8,
             "#7fbc41"
            ],
            [
             0.9,
             "#4d9221"
            ],
            [
             1,
             "#276419"
            ]
           ],
           "sequential": [
            [
             0,
             "#0d0887"
            ],
            [
             0.1111111111111111,
             "#46039f"
            ],
            [
             0.2222222222222222,
             "#7201a8"
            ],
            [
             0.3333333333333333,
             "#9c179e"
            ],
            [
             0.4444444444444444,
             "#bd3786"
            ],
            [
             0.5555555555555556,
             "#d8576b"
            ],
            [
             0.6666666666666666,
             "#ed7953"
            ],
            [
             0.7777777777777778,
             "#fb9f3a"
            ],
            [
             0.8888888888888888,
             "#fdca26"
            ],
            [
             1,
             "#f0f921"
            ]
           ],
           "sequentialminus": [
            [
             0,
             "#0d0887"
            ],
            [
             0.1111111111111111,
             "#46039f"
            ],
            [
             0.2222222222222222,
             "#7201a8"
            ],
            [
             0.3333333333333333,
             "#9c179e"
            ],
            [
             0.4444444444444444,
             "#bd3786"
            ],
            [
             0.5555555555555556,
             "#d8576b"
            ],
            [
             0.6666666666666666,
             "#ed7953"
            ],
            [
             0.7777777777777778,
             "#fb9f3a"
            ],
            [
             0.8888888888888888,
             "#fdca26"
            ],
            [
             1,
             "#f0f921"
            ]
           ]
          },
          "colorway": [
           "#636efa",
           "#EF553B",
           "#00cc96",
           "#ab63fa",
           "#FFA15A",
           "#19d3f3",
           "#FF6692",
           "#B6E880",
           "#FF97FF",
           "#FECB52"
          ],
          "font": {
           "color": "#2a3f5f"
          },
          "geo": {
           "bgcolor": "white",
           "lakecolor": "white",
           "landcolor": "#E5ECF6",
           "showlakes": true,
           "showland": true,
           "subunitcolor": "white"
          },
          "hoverlabel": {
           "align": "left"
          },
          "hovermode": "closest",
          "mapbox": {
           "style": "light"
          },
          "paper_bgcolor": "white",
          "plot_bgcolor": "#E5ECF6",
          "polar": {
           "angularaxis": {
            "gridcolor": "white",
            "linecolor": "white",
            "ticks": ""
           },
           "bgcolor": "#E5ECF6",
           "radialaxis": {
            "gridcolor": "white",
            "linecolor": "white",
            "ticks": ""
           }
          },
          "scene": {
           "xaxis": {
            "backgroundcolor": "#E5ECF6",
            "gridcolor": "white",
            "gridwidth": 2,
            "linecolor": "white",
            "showbackground": true,
            "ticks": "",
            "zerolinecolor": "white"
           },
           "yaxis": {
            "backgroundcolor": "#E5ECF6",
            "gridcolor": "white",
            "gridwidth": 2,
            "linecolor": "white",
            "showbackground": true,
            "ticks": "",
            "zerolinecolor": "white"
           },
           "zaxis": {
            "backgroundcolor": "#E5ECF6",
            "gridcolor": "white",
            "gridwidth": 2,
            "linecolor": "white",
            "showbackground": true,
            "ticks": "",
            "zerolinecolor": "white"
           }
          },
          "shapedefaults": {
           "line": {
            "color": "#2a3f5f"
           }
          },
          "ternary": {
           "aaxis": {
            "gridcolor": "white",
            "linecolor": "white",
            "ticks": ""
           },
           "baxis": {
            "gridcolor": "white",
            "linecolor": "white",
            "ticks": ""
           },
           "bgcolor": "#E5ECF6",
           "caxis": {
            "gridcolor": "white",
            "linecolor": "white",
            "ticks": ""
           }
          },
          "title": {
           "x": 0.05
          },
          "xaxis": {
           "automargin": true,
           "gridcolor": "white",
           "linecolor": "white",
           "ticks": "",
           "title": {
            "standoff": 15
           },
           "zerolinecolor": "white",
           "zerolinewidth": 2
          },
          "yaxis": {
           "automargin": true,
           "gridcolor": "white",
           "linecolor": "white",
           "ticks": "",
           "title": {
            "standoff": 15
           },
           "zerolinecolor": "white",
           "zerolinewidth": 2
          }
         }
        },
        "title": {
         "font": {
          "color": "#4D5663"
         }
        },
        "xaxis": {
         "gridcolor": "#E1E5ED",
         "showgrid": true,
         "tickfont": {
          "color": "#4D5663"
         },
         "title": {
          "font": {
           "color": "#4D5663"
          },
          "text": ""
         },
         "zerolinecolor": "#E1E5ED"
        },
        "yaxis": {
         "gridcolor": "#E1E5ED",
         "showgrid": true,
         "tickfont": {
          "color": "#4D5663"
         },
         "title": {
          "font": {
           "color": "#4D5663"
          },
          "text": ""
         },
         "zerolinecolor": "#E1E5ED"
        }
       }
      },
      "text/html": [
       "<div>                            <div id=\"790e769c-6624-4e1e-9e19-e38b480d5ff5\" class=\"plotly-graph-div\" style=\"height:525px; width:100%;\"></div>            <script type=\"text/javascript\">                require([\"plotly\"], function(Plotly) {                    window.PLOTLYENV=window.PLOTLYENV || {};\n",
       "                    window.PLOTLYENV.BASE_URL='https://plot.ly';                                    if (document.getElementById(\"790e769c-6624-4e1e-9e19-e38b480d5ff5\")) {                    Plotly.newPlot(                        \"790e769c-6624-4e1e-9e19-e38b480d5ff5\",                        [{\"boxpoints\":false,\"line\":{\"width\":1.3},\"marker\":{\"color\":\"rgba(255, 153, 51, 1.0)\"},\"name\":\"A\",\"orientation\":\"v\",\"y\":[-1.23367774458424,0.7354606535590142,0.18297916358793126,0.4997206964909568,-0.4164376791113165,0.7725868189495974,-0.3190709225596303,-0.34509557310354055,0.17571314182171857,1.2832496432359026,-0.6701622872223576,0.1726151343541529,-0.5371486714244423,0.14866247108121355,-1.1134174896360065,0.9181426264528164,0.2916545629339712,-1.5327750870756958,-1.4981000212493611,-0.6778356750220685,1.735421358474536,-0.6843482671654342,-2.3903111255154244,-0.19203745335697894,-0.7727337242600216,0.4851640083650962,-0.03687388157122996,-0.28013428904290666,0.13278542161376505,0.3119355241632733,1.5559893421845665,-0.14961659575442454,-0.6254401403525508,0.14409253691847518,-0.17776408261353757,-1.506867556747576,-0.9417607912397659,1.8817932769503896,-0.09791659724689179,2.341697749668085,-1.0463068519188832,0.7667785456655989,0.3744052165922298,-0.11600890719464242,1.3157688037328155,-0.47044669371950476,0.5387585482327067,0.7425985029443694,0.9624955022877838,-0.2984520913272161,-0.2183144798873457,0.9022682433066121,1.155171384106318,-0.4639222451394979,1.9799373349193057,-0.9709105566083415,0.4266930092556539,0.7982776980272756,-0.788330192220676,2.214154651931596,0.8517386094525903,0.7307109968115925,0.7635729782447669,0.10645212322818463,0.36019364897067474,0.9746982639638698,-0.5556653065216498,0.17462254664205748,-1.8419332782616773,-1.985223300131962,0.7467115259440948,2.2401539237310297,-0.8646309336109702,0.03176867873429596,1.0856986000536937,0.5765714008077054,1.8425945746859302,-0.5982346749068658,1.281876291366642,-1.4856750066733857,-0.40617642583972385,1.227860895027526,-0.1516154355428637,-0.19119937484773103,1.6412982490327952,-0.16593239072305466,-1.2920286182886802,-0.8691861682544956,-1.850680027577851,2.257954454887254,2.6285325515955864,-0.0684629034273146,1.7513799068573954,-0.46705614107678833,-0.10754645646971306,0.3550472312638334,-0.030799279632314668,0.48260371806705854,0.6037213493070618,1.2001353535703647],\"type\":\"box\"},{\"boxpoints\":false,\"line\":{\"width\":1.3},\"marker\":{\"color\":\"rgba(55, 128, 191, 1.0)\"},\"name\":\"B\",\"orientation\":\"v\",\"y\":[1.6136967679655434,-1.7743454628646287,-0.7203287172843124,-0.6117954031487445,-0.5009445747690496,-0.24161844138377042,-0.08872694595508866,0.9414124362805255,-1.3156998667030655,-1.4071666051435512,0.5936163122545488,-1.4425960457191493,0.8871373825005632,0.7934761210859214,1.6388025932684638,-0.11005133315602779,-0.10825386825750678,0.0025098233379851074,0.2872930674671653,-0.6648284861864668,-0.15297087907323706,-0.22340340462924857,-1.046194162796279,-0.6992987713385544,-1.428382051025518,2.2717657882437416,-0.2991219216134819,0.8036729570996414,0.07473183143488986,0.03629793496927448,0.7282501907601823,-0.468992428764272,1.1354729217609987,-0.17500536226349744,-0.8823112338592987,-1.0267863666982082,0.22929164557760115,0.08166986290003601,-0.4330250214952117,-1.4768571379632707,-0.03836514380320835,0.5605916358916565,0.3208280805065191,-0.30636035654476584,-0.5856938781868646,-0.9413963300297031,-1.8328437051415842,0.3633607192627451,0.014613820067525655,-2.0581325295536987,-0.5814716694456769,-0.645961870134278,-0.9509169358479385,-0.5364320563027563,-0.09927241848365108,1.1677610430726344,0.3140389325576045,2.2953591028356666,-0.811016454177509,-1.0738306708614167,-0.5448157712114431,1.0117744371276478,0.4037143519820321,-0.07573006893551563,0.20146794629997267,-0.3682498559607633,-1.051561812832864,0.9742748100847685,-1.8840815140861575,-1.163604661761712,0.2695935706119995,-0.2153451906084906,-0.4643422556942716,-0.03181141759971215,1.601791961152759,-1.263754355144204,-0.4277428623143499,0.3758165557541959,0.466825436020422,0.12952785501322436,-1.1010703462267066,-1.2236492596008608,0.01927986704213586,-0.6869701717286061,-0.6547097891615642,-0.2396485802567933,-0.05472819079502166,-2.6898646855476485,-1.2873936728903954,0.6240206318014331,1.249178232250976,0.4185312567426191,-1.4588386970350944,-0.19460072611954962,0.509326925798342,0.1338898266727817,-1.2748281912315276,-1.3360835573105292,-0.2282333872994752,1.0511136019093947],\"type\":\"box\"},{\"boxpoints\":false,\"line\":{\"width\":1.3},\"marker\":{\"color\":\"rgba(50, 171, 96, 1.0)\"},\"name\":\"C\",\"orientation\":\"v\",\"y\":[-0.34370852148833775,-1.6037070888676004,-1.0117519586533903,2.3520700857796037,-0.07800786087730324,1.7477028399367123,-1.3134636218504039,0.834917922822358,-1.6879711424176278,-1.4631717164175138,0.06260354179374829,-1.058293815930557,-0.8547977131737582,0.12040414862863882,1.320848958790828,-0.1663789255787278,0.956055668413484,0.13652661175792463,-1.0486821992527868,-0.8123151430828478,-0.3603782295493598,2.0800555742838696,1.0279573944752483,-0.9285579023018954,-1.5249896100398639,-0.42251603931199544,-0.17278746245657228,0.09971652959597924,0.5245379305962313,0.5758482550732602,0.08999784454025511,0.4246620759988931,2.385590884310923,0.9435396158109014,-0.10350349061134614,0.37869652762416994,0.3506595888281066,-1.1023064841618144,-1.515163438097079,0.7018189655599872,-0.5472974960629561,0.45086640912233394,-1.0323496052416319,1.0781607798625312,0.40589874379108193,0.04796820422522915,1.1483656721206774,-0.7254572801758798,0.03615515285397519,-0.3629751313234159,-1.4103474431164458,-0.444878978022152,-1.1567563260758529,0.05392222192325666,1.5723888163918553,0.3168075874475406,1.5084826520533836,1.5033058696550723,0.7140032131679233,-0.013307389720520662,1.303203326685032,-0.46656882533908856,-1.787337883505314,0.289923762209665,0.20032842830256625,-0.36130641876922126,-0.8394345059986312,0.09568776491921355,-0.1009539924355601,0.7409983668257607,-0.31442540937426433,-1.3967235868497487,-2.002851615229901,0.9813604252326612,1.2940876771427605,0.45236708325259406,0.39819579938627014,1.9013035021034381,-0.979183794087184,-0.19388177386612115,-1.3065320126945617,-0.8102323344833,0.7274599286254197,1.2253763472748123,-0.6328830446589793,0.7267424776293127,-0.4303729667109366,1.5517488795556174,1.2946292755127904,0.13838587736783844,-1.3493619397165506,-0.17864844790246678,-0.4549657696654094,-0.3651793980414446,-1.5837668607694977,-1.538225241820272,1.9919583756213672,0.4634375459475504,-1.7056423601701083,-0.4557409185352117],\"type\":\"box\"},{\"boxpoints\":false,\"line\":{\"width\":1.3},\"marker\":{\"color\":\"rgba(128, 0, 128, 1.0)\"},\"name\":\"D\",\"orientation\":\"v\",\"y\":[-0.4525155307585302,-1.1847407611918483,-0.6793716908468681,-0.7663491194820993,-2.1037826400325375,0.451631524283149,0.7093347084577076,-0.13353638840608778,1.5205988799445087,1.5278493845638228,-0.3846171086426508,-0.8674568537134518,1.299356130748103,-1.8673558194780966,1.206392511699628,-0.6298690687332809,1.4121137273867659,-0.9932980773519611,-0.08511403258554953,-0.03917959783296583,1.0177798325126055,-0.9142575587934604,0.08487968683490116,0.8140429903383063,0.2027994074813393,-2.2457237748949614,0.797675681069284,-1.4347227334780444,-0.8023559564700763,0.8173008634313658,-2.6143267010803655,0.010099944429897412,1.1448990833802974,-0.13294317369698727,-1.4447427598147196,-0.18236573682642726,-0.1371302988288747,1.7452156674678587,0.9557468926091326,1.6999482466830902,1.0844698760459346,-0.9687820018821905,-0.2898370304894389,-0.3808640586901712,2.466496023407135,-0.8597502401088455,-1.0550011235261636,1.13639270921484,1.9627931527711124,-0.015462480200274966,-0.696353258591921,-0.6215499023794203,-0.640185573946483,-0.28345710445611444,-1.448223204467605,-1.2568378934927584,-0.6129093957117677,1.2866974325236984,2.723007327425759,-1.7488581469360764,-0.7906453832274789,-0.2708486716777824,0.5725303392874214,1.5594650781817387,0.396780769224614,0.4131818712532956,-0.2782569433258647,-0.09888653436213217,0.17228875184139641,0.08463458982687724,0.5857287900509336,0.8365703340936173,-0.6538583301479146,-1.358360897596932,-0.5919410242500869,0.5368324263433479,-2.143818654993575,0.22425849005050116,-1.2945576486575732,-1.6252838191970418,-0.6111592374974577,2.3629129341321335,-0.8704263650104284,-1.0239197809652285,1.3596960473221344,0.2753242239499126,-1.3090562555703824,0.46155247720388887,1.1543044188659888,0.15057621415812555,-2.102842980891349,-0.28836526127846385,1.367076393792901,-0.8683588779318776,0.10089130202092392,-0.2623850238247419,-0.5243677250921439,-1.0854310368659164,-0.1519881281047457,-0.16858694649079947],\"type\":\"box\"}],                        {\"legend\":{\"bgcolor\":\"#F5F6F9\",\"font\":{\"color\":\"#4D5663\"}},\"paper_bgcolor\":\"#F5F6F9\",\"plot_bgcolor\":\"#F5F6F9\",\"template\":{\"data\":{\"barpolar\":[{\"marker\":{\"line\":{\"color\":\"#E5ECF6\",\"width\":0.5},\"pattern\":{\"fillmode\":\"overlay\",\"size\":10,\"solidity\":0.2}},\"type\":\"barpolar\"}],\"bar\":[{\"error_x\":{\"color\":\"#2a3f5f\"},\"error_y\":{\"color\":\"#2a3f5f\"},\"marker\":{\"line\":{\"color\":\"#E5ECF6\",\"width\":0.5},\"pattern\":{\"fillmode\":\"overlay\",\"size\":10,\"solidity\":0.2}},\"type\":\"bar\"}],\"carpet\":[{\"aaxis\":{\"endlinecolor\":\"#2a3f5f\",\"gridcolor\":\"white\",\"linecolor\":\"white\",\"minorgridcolor\":\"white\",\"startlinecolor\":\"#2a3f5f\"},\"baxis\":{\"endlinecolor\":\"#2a3f5f\",\"gridcolor\":\"white\",\"linecolor\":\"white\",\"minorgridcolor\":\"white\",\"startlinecolor\":\"#2a3f5f\"},\"type\":\"carpet\"}],\"choropleth\":[{\"colorbar\":{\"outlinewidth\":0,\"ticks\":\"\"},\"type\":\"choropleth\"}],\"contourcarpet\":[{\"colorbar\":{\"outlinewidth\":0,\"ticks\":\"\"},\"type\":\"contourcarpet\"}],\"contour\":[{\"colorbar\":{\"outlinewidth\":0,\"ticks\":\"\"},\"colorscale\":[[0.0,\"#0d0887\"],[0.1111111111111111,\"#46039f\"],[0.2222222222222222,\"#7201a8\"],[0.3333333333333333,\"#9c179e\"],[0.4444444444444444,\"#bd3786\"],[0.5555555555555556,\"#d8576b\"],[0.6666666666666666,\"#ed7953\"],[0.7777777777777778,\"#fb9f3a\"],[0.8888888888888888,\"#fdca26\"],[1.0,\"#f0f921\"]],\"type\":\"contour\"}],\"heatmapgl\":[{\"colorbar\":{\"outlinewidth\":0,\"ticks\":\"\"},\"colorscale\":[[0.0,\"#0d0887\"],[0.1111111111111111,\"#46039f\"],[0.2222222222222222,\"#7201a8\"],[0.3333333333333333,\"#9c179e\"],[0.4444444444444444,\"#bd3786\"],[0.5555555555555556,\"#d8576b\"],[0.6666666666666666,\"#ed7953\"],[0.7777777777777778,\"#fb9f3a\"],[0.8888888888888888,\"#fdca26\"],[1.0,\"#f0f921\"]],\"type\":\"heatmapgl\"}],\"heatmap\":[{\"colorbar\":{\"outlinewidth\":0,\"ticks\":\"\"},\"colorscale\":[[0.0,\"#0d0887\"],[0.1111111111111111,\"#46039f\"],[0.2222222222222222,\"#7201a8\"],[0.3333333333333333,\"#9c179e\"],[0.4444444444444444,\"#bd3786\"],[0.5555555555555556,\"#d8576b\"],[0.6666666666666666,\"#ed7953\"],[0.7777777777777778,\"#fb9f3a\"],[0.8888888888888888,\"#fdca26\"],[1.0,\"#f0f921\"]],\"type\":\"heatmap\"}],\"histogram2dcontour\":[{\"colorbar\":{\"outlinewidth\":0,\"ticks\":\"\"},\"colorscale\":[[0.0,\"#0d0887\"],[0.1111111111111111,\"#46039f\"],[0.2222222222222222,\"#7201a8\"],[0.3333333333333333,\"#9c179e\"],[0.4444444444444444,\"#bd3786\"],[0.5555555555555556,\"#d8576b\"],[0.6666666666666666,\"#ed7953\"],[0.7777777777777778,\"#fb9f3a\"],[0.8888888888888888,\"#fdca26\"],[1.0,\"#f0f921\"]],\"type\":\"histogram2dcontour\"}],\"histogram2d\":[{\"colorbar\":{\"outlinewidth\":0,\"ticks\":\"\"},\"colorscale\":[[0.0,\"#0d0887\"],[0.1111111111111111,\"#46039f\"],[0.2222222222222222,\"#7201a8\"],[0.3333333333333333,\"#9c179e\"],[0.4444444444444444,\"#bd3786\"],[0.5555555555555556,\"#d8576b\"],[0.6666666666666666,\"#ed7953\"],[0.7777777777777778,\"#fb9f3a\"],[0.8888888888888888,\"#fdca26\"],[1.0,\"#f0f921\"]],\"type\":\"histogram2d\"}],\"histogram\":[{\"marker\":{\"pattern\":{\"fillmode\":\"overlay\",\"size\":10,\"solidity\":0.2}},\"type\":\"histogram\"}],\"mesh3d\":[{\"colorbar\":{\"outlinewidth\":0,\"ticks\":\"\"},\"type\":\"mesh3d\"}],\"parcoords\":[{\"line\":{\"colorbar\":{\"outlinewidth\":0,\"ticks\":\"\"}},\"type\":\"parcoords\"}],\"pie\":[{\"automargin\":true,\"type\":\"pie\"}],\"scatter3d\":[{\"line\":{\"colorbar\":{\"outlinewidth\":0,\"ticks\":\"\"}},\"marker\":{\"colorbar\":{\"outlinewidth\":0,\"ticks\":\"\"}},\"type\":\"scatter3d\"}],\"scattercarpet\":[{\"marker\":{\"colorbar\":{\"outlinewidth\":0,\"ticks\":\"\"}},\"type\":\"scattercarpet\"}],\"scattergeo\":[{\"marker\":{\"colorbar\":{\"outlinewidth\":0,\"ticks\":\"\"}},\"type\":\"scattergeo\"}],\"scattergl\":[{\"marker\":{\"colorbar\":{\"outlinewidth\":0,\"ticks\":\"\"}},\"type\":\"scattergl\"}],\"scattermapbox\":[{\"marker\":{\"colorbar\":{\"outlinewidth\":0,\"ticks\":\"\"}},\"type\":\"scattermapbox\"}],\"scatterpolargl\":[{\"marker\":{\"colorbar\":{\"outlinewidth\":0,\"ticks\":\"\"}},\"type\":\"scatterpolargl\"}],\"scatterpolar\":[{\"marker\":{\"colorbar\":{\"outlinewidth\":0,\"ticks\":\"\"}},\"type\":\"scatterpolar\"}],\"scatter\":[{\"fillpattern\":{\"fillmode\":\"overlay\",\"size\":10,\"solidity\":0.2},\"type\":\"scatter\"}],\"scatterternary\":[{\"marker\":{\"colorbar\":{\"outlinewidth\":0,\"ticks\":\"\"}},\"type\":\"scatterternary\"}],\"surface\":[{\"colorbar\":{\"outlinewidth\":0,\"ticks\":\"\"},\"colorscale\":[[0.0,\"#0d0887\"],[0.1111111111111111,\"#46039f\"],[0.2222222222222222,\"#7201a8\"],[0.3333333333333333,\"#9c179e\"],[0.4444444444444444,\"#bd3786\"],[0.5555555555555556,\"#d8576b\"],[0.6666666666666666,\"#ed7953\"],[0.7777777777777778,\"#fb9f3a\"],[0.8888888888888888,\"#fdca26\"],[1.0,\"#f0f921\"]],\"type\":\"surface\"}],\"table\":[{\"cells\":{\"fill\":{\"color\":\"#EBF0F8\"},\"line\":{\"color\":\"white\"}},\"header\":{\"fill\":{\"color\":\"#C8D4E3\"},\"line\":{\"color\":\"white\"}},\"type\":\"table\"}]},\"layout\":{\"annotationdefaults\":{\"arrowcolor\":\"#2a3f5f\",\"arrowhead\":0,\"arrowwidth\":1},\"autotypenumbers\":\"strict\",\"coloraxis\":{\"colorbar\":{\"outlinewidth\":0,\"ticks\":\"\"}},\"colorscale\":{\"diverging\":[[0,\"#8e0152\"],[0.1,\"#c51b7d\"],[0.2,\"#de77ae\"],[0.3,\"#f1b6da\"],[0.4,\"#fde0ef\"],[0.5,\"#f7f7f7\"],[0.6,\"#e6f5d0\"],[0.7,\"#b8e186\"],[0.8,\"#7fbc41\"],[0.9,\"#4d9221\"],[1,\"#276419\"]],\"sequential\":[[0.0,\"#0d0887\"],[0.1111111111111111,\"#46039f\"],[0.2222222222222222,\"#7201a8\"],[0.3333333333333333,\"#9c179e\"],[0.4444444444444444,\"#bd3786\"],[0.5555555555555556,\"#d8576b\"],[0.6666666666666666,\"#ed7953\"],[0.7777777777777778,\"#fb9f3a\"],[0.8888888888888888,\"#fdca26\"],[1.0,\"#f0f921\"]],\"sequentialminus\":[[0.0,\"#0d0887\"],[0.1111111111111111,\"#46039f\"],[0.2222222222222222,\"#7201a8\"],[0.3333333333333333,\"#9c179e\"],[0.4444444444444444,\"#bd3786\"],[0.5555555555555556,\"#d8576b\"],[0.6666666666666666,\"#ed7953\"],[0.7777777777777778,\"#fb9f3a\"],[0.8888888888888888,\"#fdca26\"],[1.0,\"#f0f921\"]]},\"colorway\":[\"#636efa\",\"#EF553B\",\"#00cc96\",\"#ab63fa\",\"#FFA15A\",\"#19d3f3\",\"#FF6692\",\"#B6E880\",\"#FF97FF\",\"#FECB52\"],\"font\":{\"color\":\"#2a3f5f\"},\"geo\":{\"bgcolor\":\"white\",\"lakecolor\":\"white\",\"landcolor\":\"#E5ECF6\",\"showlakes\":true,\"showland\":true,\"subunitcolor\":\"white\"},\"hoverlabel\":{\"align\":\"left\"},\"hovermode\":\"closest\",\"mapbox\":{\"style\":\"light\"},\"paper_bgcolor\":\"white\",\"plot_bgcolor\":\"#E5ECF6\",\"polar\":{\"angularaxis\":{\"gridcolor\":\"white\",\"linecolor\":\"white\",\"ticks\":\"\"},\"bgcolor\":\"#E5ECF6\",\"radialaxis\":{\"gridcolor\":\"white\",\"linecolor\":\"white\",\"ticks\":\"\"}},\"scene\":{\"xaxis\":{\"backgroundcolor\":\"#E5ECF6\",\"gridcolor\":\"white\",\"gridwidth\":2,\"linecolor\":\"white\",\"showbackground\":true,\"ticks\":\"\",\"zerolinecolor\":\"white\"},\"yaxis\":{\"backgroundcolor\":\"#E5ECF6\",\"gridcolor\":\"white\",\"gridwidth\":2,\"linecolor\":\"white\",\"showbackground\":true,\"ticks\":\"\",\"zerolinecolor\":\"white\"},\"zaxis\":{\"backgroundcolor\":\"#E5ECF6\",\"gridcolor\":\"white\",\"gridwidth\":2,\"linecolor\":\"white\",\"showbackground\":true,\"ticks\":\"\",\"zerolinecolor\":\"white\"}},\"shapedefaults\":{\"line\":{\"color\":\"#2a3f5f\"}},\"ternary\":{\"aaxis\":{\"gridcolor\":\"white\",\"linecolor\":\"white\",\"ticks\":\"\"},\"baxis\":{\"gridcolor\":\"white\",\"linecolor\":\"white\",\"ticks\":\"\"},\"bgcolor\":\"#E5ECF6\",\"caxis\":{\"gridcolor\":\"white\",\"linecolor\":\"white\",\"ticks\":\"\"}},\"title\":{\"x\":0.05},\"xaxis\":{\"automargin\":true,\"gridcolor\":\"white\",\"linecolor\":\"white\",\"ticks\":\"\",\"title\":{\"standoff\":15},\"zerolinecolor\":\"white\",\"zerolinewidth\":2},\"yaxis\":{\"automargin\":true,\"gridcolor\":\"white\",\"linecolor\":\"white\",\"ticks\":\"\",\"title\":{\"standoff\":15},\"zerolinecolor\":\"white\",\"zerolinewidth\":2}}},\"title\":{\"font\":{\"color\":\"#4D5663\"}},\"xaxis\":{\"gridcolor\":\"#E1E5ED\",\"showgrid\":true,\"tickfont\":{\"color\":\"#4D5663\"},\"title\":{\"font\":{\"color\":\"#4D5663\"},\"text\":\"\"},\"zerolinecolor\":\"#E1E5ED\"},\"yaxis\":{\"gridcolor\":\"#E1E5ED\",\"showgrid\":true,\"tickfont\":{\"color\":\"#4D5663\"},\"title\":{\"font\":{\"color\":\"#4D5663\"},\"text\":\"\"},\"zerolinecolor\":\"#E1E5ED\"}},                        {\"showLink\": true, \"linkText\": \"Export to plot.ly\", \"plotlyServerURL\": \"https://plot.ly\", \"responsive\": true}                    ).then(function(){\n",
       "                            \n",
       "var gd = document.getElementById('790e769c-6624-4e1e-9e19-e38b480d5ff5');\n",
       "var x = new MutationObserver(function (mutations, observer) {{\n",
       "        var display = window.getComputedStyle(gd).display;\n",
       "        if (!display || display === 'none') {{\n",
       "            console.log([gd, 'removed!']);\n",
       "            Plotly.purge(gd);\n",
       "            observer.disconnect();\n",
       "        }}\n",
       "}});\n",
       "\n",
       "// Listen for the removal of the full notebook cells\n",
       "var notebookContainer = gd.closest('#notebook-container');\n",
       "if (notebookContainer) {{\n",
       "    x.observe(notebookContainer, {childList: true});\n",
       "}}\n",
       "\n",
       "// Listen for the clearing of the current output cell\n",
       "var outputEl = gd.closest('.output');\n",
       "if (outputEl) {{\n",
       "    x.observe(outputEl, {childList: true});\n",
       "}}\n",
       "\n",
       "                        })                };                });            </script>        </div>"
      ]
     },
     "metadata": {},
     "output_type": "display_data"
    }
   ],
   "source": [
    "df.iplot(kind='box')"
   ]
  },
  {
   "cell_type": "markdown",
   "metadata": {},
   "source": [
    "## 3d Surface"
   ]
  },
  {
   "cell_type": "code",
   "execution_count": 14,
   "metadata": {
    "collapsed": false
   },
   "outputs": [
    {
     "data": {
      "application/vnd.plotly.v1+json": {
       "config": {
        "linkText": "Export to plot.ly",
        "plotlyServerURL": "https://plot.ly",
        "showLink": true
       },
       "data": [
        {
         "colorscale": [
          [
           0,
           "rgb(165,0,38)"
          ],
          [
           0.1,
           "rgb(215,48,39)"
          ],
          [
           0.2,
           "rgb(244,109,67)"
          ],
          [
           0.3,
           "rgb(253,174,97)"
          ],
          [
           0.4,
           "rgb(254,224,144)"
          ],
          [
           0.5,
           "rgb(255,255,191)"
          ],
          [
           0.6,
           "rgb(224,243,248)"
          ],
          [
           0.7,
           "rgb(171,217,233)"
          ],
          [
           0.8,
           "rgb(116,173,209)"
          ],
          [
           0.9,
           "rgb(69,117,180)"
          ],
          [
           1,
           "rgb(49,54,149)"
          ]
         ],
         "type": "surface",
         "x": [
          0,
          1,
          2,
          3,
          4
         ],
         "y": [
          "x",
          "y",
          "z"
         ],
         "z": [
          [
           1,
           2,
           3,
           4,
           5
          ],
          [
           10,
           20,
           30,
           20,
           10
          ],
          [
           5,
           4,
           3,
           2,
           1
          ]
         ]
        }
       ],
       "layout": {
        "legend": {
         "bgcolor": "#F5F6F9",
         "font": {
          "color": "#4D5663"
         }
        },
        "paper_bgcolor": "#F5F6F9",
        "plot_bgcolor": "#F5F6F9",
        "template": {
         "data": {
          "bar": [
           {
            "error_x": {
             "color": "#2a3f5f"
            },
            "error_y": {
             "color": "#2a3f5f"
            },
            "marker": {
             "line": {
              "color": "#E5ECF6",
              "width": 0.5
             },
             "pattern": {
              "fillmode": "overlay",
              "size": 10,
              "solidity": 0.2
             }
            },
            "type": "bar"
           }
          ],
          "barpolar": [
           {
            "marker": {
             "line": {
              "color": "#E5ECF6",
              "width": 0.5
             },
             "pattern": {
              "fillmode": "overlay",
              "size": 10,
              "solidity": 0.2
             }
            },
            "type": "barpolar"
           }
          ],
          "carpet": [
           {
            "aaxis": {
             "endlinecolor": "#2a3f5f",
             "gridcolor": "white",
             "linecolor": "white",
             "minorgridcolor": "white",
             "startlinecolor": "#2a3f5f"
            },
            "baxis": {
             "endlinecolor": "#2a3f5f",
             "gridcolor": "white",
             "linecolor": "white",
             "minorgridcolor": "white",
             "startlinecolor": "#2a3f5f"
            },
            "type": "carpet"
           }
          ],
          "choropleth": [
           {
            "colorbar": {
             "outlinewidth": 0,
             "ticks": ""
            },
            "type": "choropleth"
           }
          ],
          "contour": [
           {
            "colorbar": {
             "outlinewidth": 0,
             "ticks": ""
            },
            "colorscale": [
             [
              0,
              "#0d0887"
             ],
             [
              0.1111111111111111,
              "#46039f"
             ],
             [
              0.2222222222222222,
              "#7201a8"
             ],
             [
              0.3333333333333333,
              "#9c179e"
             ],
             [
              0.4444444444444444,
              "#bd3786"
             ],
             [
              0.5555555555555556,
              "#d8576b"
             ],
             [
              0.6666666666666666,
              "#ed7953"
             ],
             [
              0.7777777777777778,
              "#fb9f3a"
             ],
             [
              0.8888888888888888,
              "#fdca26"
             ],
             [
              1,
              "#f0f921"
             ]
            ],
            "type": "contour"
           }
          ],
          "contourcarpet": [
           {
            "colorbar": {
             "outlinewidth": 0,
             "ticks": ""
            },
            "type": "contourcarpet"
           }
          ],
          "heatmap": [
           {
            "colorbar": {
             "outlinewidth": 0,
             "ticks": ""
            },
            "colorscale": [
             [
              0,
              "#0d0887"
             ],
             [
              0.1111111111111111,
              "#46039f"
             ],
             [
              0.2222222222222222,
              "#7201a8"
             ],
             [
              0.3333333333333333,
              "#9c179e"
             ],
             [
              0.4444444444444444,
              "#bd3786"
             ],
             [
              0.5555555555555556,
              "#d8576b"
             ],
             [
              0.6666666666666666,
              "#ed7953"
             ],
             [
              0.7777777777777778,
              "#fb9f3a"
             ],
             [
              0.8888888888888888,
              "#fdca26"
             ],
             [
              1,
              "#f0f921"
             ]
            ],
            "type": "heatmap"
           }
          ],
          "heatmapgl": [
           {
            "colorbar": {
             "outlinewidth": 0,
             "ticks": ""
            },
            "colorscale": [
             [
              0,
              "#0d0887"
             ],
             [
              0.1111111111111111,
              "#46039f"
             ],
             [
              0.2222222222222222,
              "#7201a8"
             ],
             [
              0.3333333333333333,
              "#9c179e"
             ],
             [
              0.4444444444444444,
              "#bd3786"
             ],
             [
              0.5555555555555556,
              "#d8576b"
             ],
             [
              0.6666666666666666,
              "#ed7953"
             ],
             [
              0.7777777777777778,
              "#fb9f3a"
             ],
             [
              0.8888888888888888,
              "#fdca26"
             ],
             [
              1,
              "#f0f921"
             ]
            ],
            "type": "heatmapgl"
           }
          ],
          "histogram": [
           {
            "marker": {
             "pattern": {
              "fillmode": "overlay",
              "size": 10,
              "solidity": 0.2
             }
            },
            "type": "histogram"
           }
          ],
          "histogram2d": [
           {
            "colorbar": {
             "outlinewidth": 0,
             "ticks": ""
            },
            "colorscale": [
             [
              0,
              "#0d0887"
             ],
             [
              0.1111111111111111,
              "#46039f"
             ],
             [
              0.2222222222222222,
              "#7201a8"
             ],
             [
              0.3333333333333333,
              "#9c179e"
             ],
             [
              0.4444444444444444,
              "#bd3786"
             ],
             [
              0.5555555555555556,
              "#d8576b"
             ],
             [
              0.6666666666666666,
              "#ed7953"
             ],
             [
              0.7777777777777778,
              "#fb9f3a"
             ],
             [
              0.8888888888888888,
              "#fdca26"
             ],
             [
              1,
              "#f0f921"
             ]
            ],
            "type": "histogram2d"
           }
          ],
          "histogram2dcontour": [
           {
            "colorbar": {
             "outlinewidth": 0,
             "ticks": ""
            },
            "colorscale": [
             [
              0,
              "#0d0887"
             ],
             [
              0.1111111111111111,
              "#46039f"
             ],
             [
              0.2222222222222222,
              "#7201a8"
             ],
             [
              0.3333333333333333,
              "#9c179e"
             ],
             [
              0.4444444444444444,
              "#bd3786"
             ],
             [
              0.5555555555555556,
              "#d8576b"
             ],
             [
              0.6666666666666666,
              "#ed7953"
             ],
             [
              0.7777777777777778,
              "#fb9f3a"
             ],
             [
              0.8888888888888888,
              "#fdca26"
             ],
             [
              1,
              "#f0f921"
             ]
            ],
            "type": "histogram2dcontour"
           }
          ],
          "mesh3d": [
           {
            "colorbar": {
             "outlinewidth": 0,
             "ticks": ""
            },
            "type": "mesh3d"
           }
          ],
          "parcoords": [
           {
            "line": {
             "colorbar": {
              "outlinewidth": 0,
              "ticks": ""
             }
            },
            "type": "parcoords"
           }
          ],
          "pie": [
           {
            "automargin": true,
            "type": "pie"
           }
          ],
          "scatter": [
           {
            "fillpattern": {
             "fillmode": "overlay",
             "size": 10,
             "solidity": 0.2
            },
            "type": "scatter"
           }
          ],
          "scatter3d": [
           {
            "line": {
             "colorbar": {
              "outlinewidth": 0,
              "ticks": ""
             }
            },
            "marker": {
             "colorbar": {
              "outlinewidth": 0,
              "ticks": ""
             }
            },
            "type": "scatter3d"
           }
          ],
          "scattercarpet": [
           {
            "marker": {
             "colorbar": {
              "outlinewidth": 0,
              "ticks": ""
             }
            },
            "type": "scattercarpet"
           }
          ],
          "scattergeo": [
           {
            "marker": {
             "colorbar": {
              "outlinewidth": 0,
              "ticks": ""
             }
            },
            "type": "scattergeo"
           }
          ],
          "scattergl": [
           {
            "marker": {
             "colorbar": {
              "outlinewidth": 0,
              "ticks": ""
             }
            },
            "type": "scattergl"
           }
          ],
          "scattermapbox": [
           {
            "marker": {
             "colorbar": {
              "outlinewidth": 0,
              "ticks": ""
             }
            },
            "type": "scattermapbox"
           }
          ],
          "scatterpolar": [
           {
            "marker": {
             "colorbar": {
              "outlinewidth": 0,
              "ticks": ""
             }
            },
            "type": "scatterpolar"
           }
          ],
          "scatterpolargl": [
           {
            "marker": {
             "colorbar": {
              "outlinewidth": 0,
              "ticks": ""
             }
            },
            "type": "scatterpolargl"
           }
          ],
          "scatterternary": [
           {
            "marker": {
             "colorbar": {
              "outlinewidth": 0,
              "ticks": ""
             }
            },
            "type": "scatterternary"
           }
          ],
          "surface": [
           {
            "colorbar": {
             "outlinewidth": 0,
             "ticks": ""
            },
            "colorscale": [
             [
              0,
              "#0d0887"
             ],
             [
              0.1111111111111111,
              "#46039f"
             ],
             [
              0.2222222222222222,
              "#7201a8"
             ],
             [
              0.3333333333333333,
              "#9c179e"
             ],
             [
              0.4444444444444444,
              "#bd3786"
             ],
             [
              0.5555555555555556,
              "#d8576b"
             ],
             [
              0.6666666666666666,
              "#ed7953"
             ],
             [
              0.7777777777777778,
              "#fb9f3a"
             ],
             [
              0.8888888888888888,
              "#fdca26"
             ],
             [
              1,
              "#f0f921"
             ]
            ],
            "type": "surface"
           }
          ],
          "table": [
           {
            "cells": {
             "fill": {
              "color": "#EBF0F8"
             },
             "line": {
              "color": "white"
             }
            },
            "header": {
             "fill": {
              "color": "#C8D4E3"
             },
             "line": {
              "color": "white"
             }
            },
            "type": "table"
           }
          ]
         },
         "layout": {
          "annotationdefaults": {
           "arrowcolor": "#2a3f5f",
           "arrowhead": 0,
           "arrowwidth": 1
          },
          "autotypenumbers": "strict",
          "coloraxis": {
           "colorbar": {
            "outlinewidth": 0,
            "ticks": ""
           }
          },
          "colorscale": {
           "diverging": [
            [
             0,
             "#8e0152"
            ],
            [
             0.1,
             "#c51b7d"
            ],
            [
             0.2,
             "#de77ae"
            ],
            [
             0.3,
             "#f1b6da"
            ],
            [
             0.4,
             "#fde0ef"
            ],
            [
             0.5,
             "#f7f7f7"
            ],
            [
             0.6,
             "#e6f5d0"
            ],
            [
             0.7,
             "#b8e186"
            ],
            [
             0.8,
             "#7fbc41"
            ],
            [
             0.9,
             "#4d9221"
            ],
            [
             1,
             "#276419"
            ]
           ],
           "sequential": [
            [
             0,
             "#0d0887"
            ],
            [
             0.1111111111111111,
             "#46039f"
            ],
            [
             0.2222222222222222,
             "#7201a8"
            ],
            [
             0.3333333333333333,
             "#9c179e"
            ],
            [
             0.4444444444444444,
             "#bd3786"
            ],
            [
             0.5555555555555556,
             "#d8576b"
            ],
            [
             0.6666666666666666,
             "#ed7953"
            ],
            [
             0.7777777777777778,
             "#fb9f3a"
            ],
            [
             0.8888888888888888,
             "#fdca26"
            ],
            [
             1,
             "#f0f921"
            ]
           ],
           "sequentialminus": [
            [
             0,
             "#0d0887"
            ],
            [
             0.1111111111111111,
             "#46039f"
            ],
            [
             0.2222222222222222,
             "#7201a8"
            ],
            [
             0.3333333333333333,
             "#9c179e"
            ],
            [
             0.4444444444444444,
             "#bd3786"
            ],
            [
             0.5555555555555556,
             "#d8576b"
            ],
            [
             0.6666666666666666,
             "#ed7953"
            ],
            [
             0.7777777777777778,
             "#fb9f3a"
            ],
            [
             0.8888888888888888,
             "#fdca26"
            ],
            [
             1,
             "#f0f921"
            ]
           ]
          },
          "colorway": [
           "#636efa",
           "#EF553B",
           "#00cc96",
           "#ab63fa",
           "#FFA15A",
           "#19d3f3",
           "#FF6692",
           "#B6E880",
           "#FF97FF",
           "#FECB52"
          ],
          "font": {
           "color": "#2a3f5f"
          },
          "geo": {
           "bgcolor": "white",
           "lakecolor": "white",
           "landcolor": "#E5ECF6",
           "showlakes": true,
           "showland": true,
           "subunitcolor": "white"
          },
          "hoverlabel": {
           "align": "left"
          },
          "hovermode": "closest",
          "mapbox": {
           "style": "light"
          },
          "paper_bgcolor": "white",
          "plot_bgcolor": "#E5ECF6",
          "polar": {
           "angularaxis": {
            "gridcolor": "white",
            "linecolor": "white",
            "ticks": ""
           },
           "bgcolor": "#E5ECF6",
           "radialaxis": {
            "gridcolor": "white",
            "linecolor": "white",
            "ticks": ""
           }
          },
          "scene": {
           "xaxis": {
            "backgroundcolor": "#E5ECF6",
            "gridcolor": "white",
            "gridwidth": 2,
            "linecolor": "white",
            "showbackground": true,
            "ticks": "",
            "zerolinecolor": "white"
           },
           "yaxis": {
            "backgroundcolor": "#E5ECF6",
            "gridcolor": "white",
            "gridwidth": 2,
            "linecolor": "white",
            "showbackground": true,
            "ticks": "",
            "zerolinecolor": "white"
           },
           "zaxis": {
            "backgroundcolor": "#E5ECF6",
            "gridcolor": "white",
            "gridwidth": 2,
            "linecolor": "white",
            "showbackground": true,
            "ticks": "",
            "zerolinecolor": "white"
           }
          },
          "shapedefaults": {
           "line": {
            "color": "#2a3f5f"
           }
          },
          "ternary": {
           "aaxis": {
            "gridcolor": "white",
            "linecolor": "white",
            "ticks": ""
           },
           "baxis": {
            "gridcolor": "white",
            "linecolor": "white",
            "ticks": ""
           },
           "bgcolor": "#E5ECF6",
           "caxis": {
            "gridcolor": "white",
            "linecolor": "white",
            "ticks": ""
           }
          },
          "title": {
           "x": 0.05
          },
          "xaxis": {
           "automargin": true,
           "gridcolor": "white",
           "linecolor": "white",
           "ticks": "",
           "title": {
            "standoff": 15
           },
           "zerolinecolor": "white",
           "zerolinewidth": 2
          },
          "yaxis": {
           "automargin": true,
           "gridcolor": "white",
           "linecolor": "white",
           "ticks": "",
           "title": {
            "standoff": 15
           },
           "zerolinecolor": "white",
           "zerolinewidth": 2
          }
         }
        },
        "title": {
         "font": {
          "color": "#4D5663"
         }
        },
        "xaxis": {
         "gridcolor": "#E1E5ED",
         "showgrid": true,
         "tickfont": {
          "color": "#4D5663"
         },
         "title": {
          "font": {
           "color": "#4D5663"
          },
          "text": ""
         },
         "zerolinecolor": "#E1E5ED"
        },
        "yaxis": {
         "gridcolor": "#E1E5ED",
         "showgrid": true,
         "tickfont": {
          "color": "#4D5663"
         },
         "title": {
          "font": {
           "color": "#4D5663"
          },
          "text": ""
         },
         "zerolinecolor": "#E1E5ED"
        }
       }
      },
      "text/html": [
       "<div>                            <div id=\"3af2eac2-6f61-4b19-a8b0-a9b1a58bca06\" class=\"plotly-graph-div\" style=\"height:525px; width:100%;\"></div>            <script type=\"text/javascript\">                require([\"plotly\"], function(Plotly) {                    window.PLOTLYENV=window.PLOTLYENV || {};\n",
       "                    window.PLOTLYENV.BASE_URL='https://plot.ly';                                    if (document.getElementById(\"3af2eac2-6f61-4b19-a8b0-a9b1a58bca06\")) {                    Plotly.newPlot(                        \"3af2eac2-6f61-4b19-a8b0-a9b1a58bca06\",                        [{\"colorscale\":[[0.0,\"rgb(165,0,38)\"],[0.1,\"rgb(215,48,39)\"],[0.2,\"rgb(244,109,67)\"],[0.3,\"rgb(253,174,97)\"],[0.4,\"rgb(254,224,144)\"],[0.5,\"rgb(255,255,191)\"],[0.6,\"rgb(224,243,248)\"],[0.7,\"rgb(171,217,233)\"],[0.8,\"rgb(116,173,209)\"],[0.9,\"rgb(69,117,180)\"],[1.0,\"rgb(49,54,149)\"]],\"x\":[0,1,2,3,4],\"y\":[\"x\",\"y\",\"z\"],\"z\":[[1,2,3,4,5],[10,20,30,20,10],[5,4,3,2,1]],\"type\":\"surface\"}],                        {\"legend\":{\"bgcolor\":\"#F5F6F9\",\"font\":{\"color\":\"#4D5663\"}},\"paper_bgcolor\":\"#F5F6F9\",\"plot_bgcolor\":\"#F5F6F9\",\"template\":{\"data\":{\"barpolar\":[{\"marker\":{\"line\":{\"color\":\"#E5ECF6\",\"width\":0.5},\"pattern\":{\"fillmode\":\"overlay\",\"size\":10,\"solidity\":0.2}},\"type\":\"barpolar\"}],\"bar\":[{\"error_x\":{\"color\":\"#2a3f5f\"},\"error_y\":{\"color\":\"#2a3f5f\"},\"marker\":{\"line\":{\"color\":\"#E5ECF6\",\"width\":0.5},\"pattern\":{\"fillmode\":\"overlay\",\"size\":10,\"solidity\":0.2}},\"type\":\"bar\"}],\"carpet\":[{\"aaxis\":{\"endlinecolor\":\"#2a3f5f\",\"gridcolor\":\"white\",\"linecolor\":\"white\",\"minorgridcolor\":\"white\",\"startlinecolor\":\"#2a3f5f\"},\"baxis\":{\"endlinecolor\":\"#2a3f5f\",\"gridcolor\":\"white\",\"linecolor\":\"white\",\"minorgridcolor\":\"white\",\"startlinecolor\":\"#2a3f5f\"},\"type\":\"carpet\"}],\"choropleth\":[{\"colorbar\":{\"outlinewidth\":0,\"ticks\":\"\"},\"type\":\"choropleth\"}],\"contourcarpet\":[{\"colorbar\":{\"outlinewidth\":0,\"ticks\":\"\"},\"type\":\"contourcarpet\"}],\"contour\":[{\"colorbar\":{\"outlinewidth\":0,\"ticks\":\"\"},\"colorscale\":[[0.0,\"#0d0887\"],[0.1111111111111111,\"#46039f\"],[0.2222222222222222,\"#7201a8\"],[0.3333333333333333,\"#9c179e\"],[0.4444444444444444,\"#bd3786\"],[0.5555555555555556,\"#d8576b\"],[0.6666666666666666,\"#ed7953\"],[0.7777777777777778,\"#fb9f3a\"],[0.8888888888888888,\"#fdca26\"],[1.0,\"#f0f921\"]],\"type\":\"contour\"}],\"heatmapgl\":[{\"colorbar\":{\"outlinewidth\":0,\"ticks\":\"\"},\"colorscale\":[[0.0,\"#0d0887\"],[0.1111111111111111,\"#46039f\"],[0.2222222222222222,\"#7201a8\"],[0.3333333333333333,\"#9c179e\"],[0.4444444444444444,\"#bd3786\"],[0.5555555555555556,\"#d8576b\"],[0.6666666666666666,\"#ed7953\"],[0.7777777777777778,\"#fb9f3a\"],[0.8888888888888888,\"#fdca26\"],[1.0,\"#f0f921\"]],\"type\":\"heatmapgl\"}],\"heatmap\":[{\"colorbar\":{\"outlinewidth\":0,\"ticks\":\"\"},\"colorscale\":[[0.0,\"#0d0887\"],[0.1111111111111111,\"#46039f\"],[0.2222222222222222,\"#7201a8\"],[0.3333333333333333,\"#9c179e\"],[0.4444444444444444,\"#bd3786\"],[0.5555555555555556,\"#d8576b\"],[0.6666666666666666,\"#ed7953\"],[0.7777777777777778,\"#fb9f3a\"],[0.8888888888888888,\"#fdca26\"],[1.0,\"#f0f921\"]],\"type\":\"heatmap\"}],\"histogram2dcontour\":[{\"colorbar\":{\"outlinewidth\":0,\"ticks\":\"\"},\"colorscale\":[[0.0,\"#0d0887\"],[0.1111111111111111,\"#46039f\"],[0.2222222222222222,\"#7201a8\"],[0.3333333333333333,\"#9c179e\"],[0.4444444444444444,\"#bd3786\"],[0.5555555555555556,\"#d8576b\"],[0.6666666666666666,\"#ed7953\"],[0.7777777777777778,\"#fb9f3a\"],[0.8888888888888888,\"#fdca26\"],[1.0,\"#f0f921\"]],\"type\":\"histogram2dcontour\"}],\"histogram2d\":[{\"colorbar\":{\"outlinewidth\":0,\"ticks\":\"\"},\"colorscale\":[[0.0,\"#0d0887\"],[0.1111111111111111,\"#46039f\"],[0.2222222222222222,\"#7201a8\"],[0.3333333333333333,\"#9c179e\"],[0.4444444444444444,\"#bd3786\"],[0.5555555555555556,\"#d8576b\"],[0.6666666666666666,\"#ed7953\"],[0.7777777777777778,\"#fb9f3a\"],[0.8888888888888888,\"#fdca26\"],[1.0,\"#f0f921\"]],\"type\":\"histogram2d\"}],\"histogram\":[{\"marker\":{\"pattern\":{\"fillmode\":\"overlay\",\"size\":10,\"solidity\":0.2}},\"type\":\"histogram\"}],\"mesh3d\":[{\"colorbar\":{\"outlinewidth\":0,\"ticks\":\"\"},\"type\":\"mesh3d\"}],\"parcoords\":[{\"line\":{\"colorbar\":{\"outlinewidth\":0,\"ticks\":\"\"}},\"type\":\"parcoords\"}],\"pie\":[{\"automargin\":true,\"type\":\"pie\"}],\"scatter3d\":[{\"line\":{\"colorbar\":{\"outlinewidth\":0,\"ticks\":\"\"}},\"marker\":{\"colorbar\":{\"outlinewidth\":0,\"ticks\":\"\"}},\"type\":\"scatter3d\"}],\"scattercarpet\":[{\"marker\":{\"colorbar\":{\"outlinewidth\":0,\"ticks\":\"\"}},\"type\":\"scattercarpet\"}],\"scattergeo\":[{\"marker\":{\"colorbar\":{\"outlinewidth\":0,\"ticks\":\"\"}},\"type\":\"scattergeo\"}],\"scattergl\":[{\"marker\":{\"colorbar\":{\"outlinewidth\":0,\"ticks\":\"\"}},\"type\":\"scattergl\"}],\"scattermapbox\":[{\"marker\":{\"colorbar\":{\"outlinewidth\":0,\"ticks\":\"\"}},\"type\":\"scattermapbox\"}],\"scatterpolargl\":[{\"marker\":{\"colorbar\":{\"outlinewidth\":0,\"ticks\":\"\"}},\"type\":\"scatterpolargl\"}],\"scatterpolar\":[{\"marker\":{\"colorbar\":{\"outlinewidth\":0,\"ticks\":\"\"}},\"type\":\"scatterpolar\"}],\"scatter\":[{\"fillpattern\":{\"fillmode\":\"overlay\",\"size\":10,\"solidity\":0.2},\"type\":\"scatter\"}],\"scatterternary\":[{\"marker\":{\"colorbar\":{\"outlinewidth\":0,\"ticks\":\"\"}},\"type\":\"scatterternary\"}],\"surface\":[{\"colorbar\":{\"outlinewidth\":0,\"ticks\":\"\"},\"colorscale\":[[0.0,\"#0d0887\"],[0.1111111111111111,\"#46039f\"],[0.2222222222222222,\"#7201a8\"],[0.3333333333333333,\"#9c179e\"],[0.4444444444444444,\"#bd3786\"],[0.5555555555555556,\"#d8576b\"],[0.6666666666666666,\"#ed7953\"],[0.7777777777777778,\"#fb9f3a\"],[0.8888888888888888,\"#fdca26\"],[1.0,\"#f0f921\"]],\"type\":\"surface\"}],\"table\":[{\"cells\":{\"fill\":{\"color\":\"#EBF0F8\"},\"line\":{\"color\":\"white\"}},\"header\":{\"fill\":{\"color\":\"#C8D4E3\"},\"line\":{\"color\":\"white\"}},\"type\":\"table\"}]},\"layout\":{\"annotationdefaults\":{\"arrowcolor\":\"#2a3f5f\",\"arrowhead\":0,\"arrowwidth\":1},\"autotypenumbers\":\"strict\",\"coloraxis\":{\"colorbar\":{\"outlinewidth\":0,\"ticks\":\"\"}},\"colorscale\":{\"diverging\":[[0,\"#8e0152\"],[0.1,\"#c51b7d\"],[0.2,\"#de77ae\"],[0.3,\"#f1b6da\"],[0.4,\"#fde0ef\"],[0.5,\"#f7f7f7\"],[0.6,\"#e6f5d0\"],[0.7,\"#b8e186\"],[0.8,\"#7fbc41\"],[0.9,\"#4d9221\"],[1,\"#276419\"]],\"sequential\":[[0.0,\"#0d0887\"],[0.1111111111111111,\"#46039f\"],[0.2222222222222222,\"#7201a8\"],[0.3333333333333333,\"#9c179e\"],[0.4444444444444444,\"#bd3786\"],[0.5555555555555556,\"#d8576b\"],[0.6666666666666666,\"#ed7953\"],[0.7777777777777778,\"#fb9f3a\"],[0.8888888888888888,\"#fdca26\"],[1.0,\"#f0f921\"]],\"sequentialminus\":[[0.0,\"#0d0887\"],[0.1111111111111111,\"#46039f\"],[0.2222222222222222,\"#7201a8\"],[0.3333333333333333,\"#9c179e\"],[0.4444444444444444,\"#bd3786\"],[0.5555555555555556,\"#d8576b\"],[0.6666666666666666,\"#ed7953\"],[0.7777777777777778,\"#fb9f3a\"],[0.8888888888888888,\"#fdca26\"],[1.0,\"#f0f921\"]]},\"colorway\":[\"#636efa\",\"#EF553B\",\"#00cc96\",\"#ab63fa\",\"#FFA15A\",\"#19d3f3\",\"#FF6692\",\"#B6E880\",\"#FF97FF\",\"#FECB52\"],\"font\":{\"color\":\"#2a3f5f\"},\"geo\":{\"bgcolor\":\"white\",\"lakecolor\":\"white\",\"landcolor\":\"#E5ECF6\",\"showlakes\":true,\"showland\":true,\"subunitcolor\":\"white\"},\"hoverlabel\":{\"align\":\"left\"},\"hovermode\":\"closest\",\"mapbox\":{\"style\":\"light\"},\"paper_bgcolor\":\"white\",\"plot_bgcolor\":\"#E5ECF6\",\"polar\":{\"angularaxis\":{\"gridcolor\":\"white\",\"linecolor\":\"white\",\"ticks\":\"\"},\"bgcolor\":\"#E5ECF6\",\"radialaxis\":{\"gridcolor\":\"white\",\"linecolor\":\"white\",\"ticks\":\"\"}},\"scene\":{\"xaxis\":{\"backgroundcolor\":\"#E5ECF6\",\"gridcolor\":\"white\",\"gridwidth\":2,\"linecolor\":\"white\",\"showbackground\":true,\"ticks\":\"\",\"zerolinecolor\":\"white\"},\"yaxis\":{\"backgroundcolor\":\"#E5ECF6\",\"gridcolor\":\"white\",\"gridwidth\":2,\"linecolor\":\"white\",\"showbackground\":true,\"ticks\":\"\",\"zerolinecolor\":\"white\"},\"zaxis\":{\"backgroundcolor\":\"#E5ECF6\",\"gridcolor\":\"white\",\"gridwidth\":2,\"linecolor\":\"white\",\"showbackground\":true,\"ticks\":\"\",\"zerolinecolor\":\"white\"}},\"shapedefaults\":{\"line\":{\"color\":\"#2a3f5f\"}},\"ternary\":{\"aaxis\":{\"gridcolor\":\"white\",\"linecolor\":\"white\",\"ticks\":\"\"},\"baxis\":{\"gridcolor\":\"white\",\"linecolor\":\"white\",\"ticks\":\"\"},\"bgcolor\":\"#E5ECF6\",\"caxis\":{\"gridcolor\":\"white\",\"linecolor\":\"white\",\"ticks\":\"\"}},\"title\":{\"x\":0.05},\"xaxis\":{\"automargin\":true,\"gridcolor\":\"white\",\"linecolor\":\"white\",\"ticks\":\"\",\"title\":{\"standoff\":15},\"zerolinecolor\":\"white\",\"zerolinewidth\":2},\"yaxis\":{\"automargin\":true,\"gridcolor\":\"white\",\"linecolor\":\"white\",\"ticks\":\"\",\"title\":{\"standoff\":15},\"zerolinecolor\":\"white\",\"zerolinewidth\":2}}},\"title\":{\"font\":{\"color\":\"#4D5663\"}},\"xaxis\":{\"gridcolor\":\"#E1E5ED\",\"showgrid\":true,\"tickfont\":{\"color\":\"#4D5663\"},\"title\":{\"font\":{\"color\":\"#4D5663\"},\"text\":\"\"},\"zerolinecolor\":\"#E1E5ED\"},\"yaxis\":{\"gridcolor\":\"#E1E5ED\",\"showgrid\":true,\"tickfont\":{\"color\":\"#4D5663\"},\"title\":{\"font\":{\"color\":\"#4D5663\"},\"text\":\"\"},\"zerolinecolor\":\"#E1E5ED\"}},                        {\"showLink\": true, \"linkText\": \"Export to plot.ly\", \"plotlyServerURL\": \"https://plot.ly\", \"responsive\": true}                    ).then(function(){\n",
       "                            \n",
       "var gd = document.getElementById('3af2eac2-6f61-4b19-a8b0-a9b1a58bca06');\n",
       "var x = new MutationObserver(function (mutations, observer) {{\n",
       "        var display = window.getComputedStyle(gd).display;\n",
       "        if (!display || display === 'none') {{\n",
       "            console.log([gd, 'removed!']);\n",
       "            Plotly.purge(gd);\n",
       "            observer.disconnect();\n",
       "        }}\n",
       "}});\n",
       "\n",
       "// Listen for the removal of the full notebook cells\n",
       "var notebookContainer = gd.closest('#notebook-container');\n",
       "if (notebookContainer) {{\n",
       "    x.observe(notebookContainer, {childList: true});\n",
       "}}\n",
       "\n",
       "// Listen for the clearing of the current output cell\n",
       "var outputEl = gd.closest('.output');\n",
       "if (outputEl) {{\n",
       "    x.observe(outputEl, {childList: true});\n",
       "}}\n",
       "\n",
       "                        })                };                });            </script>        </div>"
      ]
     },
     "metadata": {},
     "output_type": "display_data"
    }
   ],
   "source": [
    "df3 = pd.DataFrame({'x':[1,2,3,4,5],'y':[10,20,30,20,10],'z':[5,4,3,2,1]})\n",
    "df3.iplot(kind='surface',colorscale='rdylbu')"
   ]
  },
  {
   "cell_type": "markdown",
   "metadata": {},
   "source": [
    "## Spread"
   ]
  },
  {
   "cell_type": "code",
   "execution_count": 15,
   "metadata": {
    "collapsed": false
   },
   "outputs": [
    {
     "name": "stderr",
     "output_type": "stream",
     "text": [
      "c:\\Users\\yusuf\\anaconda3\\envs\\datascience\\Lib\\site-packages\\cufflinks\\plotlytools.py:849: FutureWarning:\n",
      "\n",
      "The pandas.np module is deprecated and will be removed from pandas in a future version. Import numpy directly instead.\n",
      "\n",
      "c:\\Users\\yusuf\\anaconda3\\envs\\datascience\\Lib\\site-packages\\cufflinks\\plotlytools.py:850: FutureWarning:\n",
      "\n",
      "The pandas.np module is deprecated and will be removed from pandas in a future version. Import numpy directly instead.\n",
      "\n"
     ]
    },
    {
     "data": {
      "application/vnd.plotly.v1+json": {
       "config": {
        "linkText": "Export to plot.ly",
        "plotlyServerURL": "https://plot.ly",
        "showLink": true
       },
       "data": [
        {
         "line": {
          "color": "rgba(255, 153, 51, 1.0)",
          "dash": "solid",
          "shape": "linear",
          "width": 1.3
         },
         "mode": "lines",
         "name": "A",
         "text": "",
         "type": "scatter",
         "x": [
          0,
          1,
          2,
          3,
          4,
          5,
          6,
          7,
          8,
          9,
          10,
          11,
          12,
          13,
          14,
          15,
          16,
          17,
          18,
          19,
          20,
          21,
          22,
          23,
          24,
          25,
          26,
          27,
          28,
          29,
          30,
          31,
          32,
          33,
          34,
          35,
          36,
          37,
          38,
          39,
          40,
          41,
          42,
          43,
          44,
          45,
          46,
          47,
          48,
          49,
          50,
          51,
          52,
          53,
          54,
          55,
          56,
          57,
          58,
          59,
          60,
          61,
          62,
          63,
          64,
          65,
          66,
          67,
          68,
          69,
          70,
          71,
          72,
          73,
          74,
          75,
          76,
          77,
          78,
          79,
          80,
          81,
          82,
          83,
          84,
          85,
          86,
          87,
          88,
          89,
          90,
          91,
          92,
          93,
          94,
          95,
          96,
          97,
          98,
          99
         ],
         "y": [
          -1.23367774458424,
          0.7354606535590142,
          0.18297916358793126,
          0.4997206964909568,
          -0.4164376791113165,
          0.7725868189495974,
          -0.3190709225596303,
          -0.34509557310354055,
          0.17571314182171857,
          1.2832496432359026,
          -0.6701622872223576,
          0.1726151343541529,
          -0.5371486714244423,
          0.14866247108121355,
          -1.1134174896360065,
          0.9181426264528164,
          0.2916545629339712,
          -1.5327750870756958,
          -1.4981000212493611,
          -0.6778356750220685,
          1.735421358474536,
          -0.6843482671654342,
          -2.3903111255154244,
          -0.19203745335697894,
          -0.7727337242600216,
          0.4851640083650962,
          -0.03687388157122996,
          -0.28013428904290666,
          0.13278542161376505,
          0.3119355241632733,
          1.5559893421845665,
          -0.14961659575442454,
          -0.6254401403525508,
          0.14409253691847518,
          -0.17776408261353757,
          -1.506867556747576,
          -0.9417607912397659,
          1.8817932769503896,
          -0.09791659724689179,
          2.341697749668085,
          -1.0463068519188832,
          0.7667785456655989,
          0.3744052165922298,
          -0.11600890719464242,
          1.3157688037328155,
          -0.47044669371950476,
          0.5387585482327067,
          0.7425985029443694,
          0.9624955022877838,
          -0.2984520913272161,
          -0.2183144798873457,
          0.9022682433066121,
          1.155171384106318,
          -0.4639222451394979,
          1.9799373349193057,
          -0.9709105566083415,
          0.4266930092556539,
          0.7982776980272756,
          -0.788330192220676,
          2.214154651931596,
          0.8517386094525903,
          0.7307109968115925,
          0.7635729782447669,
          0.10645212322818463,
          0.36019364897067474,
          0.9746982639638698,
          -0.5556653065216498,
          0.17462254664205748,
          -1.8419332782616773,
          -1.985223300131962,
          0.7467115259440948,
          2.2401539237310297,
          -0.8646309336109702,
          0.03176867873429596,
          1.0856986000536937,
          0.5765714008077054,
          1.8425945746859302,
          -0.5982346749068658,
          1.281876291366642,
          -1.4856750066733857,
          -0.40617642583972385,
          1.227860895027526,
          -0.1516154355428637,
          -0.19119937484773103,
          1.6412982490327952,
          -0.16593239072305466,
          -1.2920286182886802,
          -0.8691861682544956,
          -1.850680027577851,
          2.257954454887254,
          2.6285325515955864,
          -0.0684629034273146,
          1.7513799068573954,
          -0.46705614107678833,
          -0.10754645646971306,
          0.3550472312638334,
          -0.030799279632314668,
          0.48260371806705854,
          0.6037213493070618,
          1.2001353535703647
         ]
        },
        {
         "line": {
          "color": "rgba(55, 128, 191, 1.0)",
          "dash": "solid",
          "shape": "linear",
          "width": 1.3
         },
         "mode": "lines",
         "name": "B",
         "text": "",
         "type": "scatter",
         "x": [
          0,
          1,
          2,
          3,
          4,
          5,
          6,
          7,
          8,
          9,
          10,
          11,
          12,
          13,
          14,
          15,
          16,
          17,
          18,
          19,
          20,
          21,
          22,
          23,
          24,
          25,
          26,
          27,
          28,
          29,
          30,
          31,
          32,
          33,
          34,
          35,
          36,
          37,
          38,
          39,
          40,
          41,
          42,
          43,
          44,
          45,
          46,
          47,
          48,
          49,
          50,
          51,
          52,
          53,
          54,
          55,
          56,
          57,
          58,
          59,
          60,
          61,
          62,
          63,
          64,
          65,
          66,
          67,
          68,
          69,
          70,
          71,
          72,
          73,
          74,
          75,
          76,
          77,
          78,
          79,
          80,
          81,
          82,
          83,
          84,
          85,
          86,
          87,
          88,
          89,
          90,
          91,
          92,
          93,
          94,
          95,
          96,
          97,
          98,
          99
         ],
         "y": [
          1.6136967679655434,
          -1.7743454628646287,
          -0.7203287172843124,
          -0.6117954031487445,
          -0.5009445747690496,
          -0.24161844138377042,
          -0.08872694595508866,
          0.9414124362805255,
          -1.3156998667030655,
          -1.4071666051435512,
          0.5936163122545488,
          -1.4425960457191493,
          0.8871373825005632,
          0.7934761210859214,
          1.6388025932684638,
          -0.11005133315602779,
          -0.10825386825750678,
          0.0025098233379851074,
          0.2872930674671653,
          -0.6648284861864668,
          -0.15297087907323706,
          -0.22340340462924857,
          -1.046194162796279,
          -0.6992987713385544,
          -1.428382051025518,
          2.2717657882437416,
          -0.2991219216134819,
          0.8036729570996414,
          0.07473183143488986,
          0.03629793496927448,
          0.7282501907601823,
          -0.468992428764272,
          1.1354729217609987,
          -0.17500536226349744,
          -0.8823112338592987,
          -1.0267863666982082,
          0.22929164557760115,
          0.08166986290003601,
          -0.4330250214952117,
          -1.4768571379632707,
          -0.03836514380320835,
          0.5605916358916565,
          0.3208280805065191,
          -0.30636035654476584,
          -0.5856938781868646,
          -0.9413963300297031,
          -1.8328437051415842,
          0.3633607192627451,
          0.014613820067525655,
          -2.0581325295536987,
          -0.5814716694456769,
          -0.645961870134278,
          -0.9509169358479385,
          -0.5364320563027563,
          -0.09927241848365108,
          1.1677610430726344,
          0.3140389325576045,
          2.2953591028356666,
          -0.811016454177509,
          -1.0738306708614167,
          -0.5448157712114431,
          1.0117744371276478,
          0.4037143519820321,
          -0.07573006893551563,
          0.20146794629997267,
          -0.3682498559607633,
          -1.051561812832864,
          0.9742748100847685,
          -1.8840815140861575,
          -1.163604661761712,
          0.2695935706119995,
          -0.2153451906084906,
          -0.4643422556942716,
          -0.03181141759971215,
          1.601791961152759,
          -1.263754355144204,
          -0.4277428623143499,
          0.3758165557541959,
          0.466825436020422,
          0.12952785501322436,
          -1.1010703462267066,
          -1.2236492596008608,
          0.01927986704213586,
          -0.6869701717286061,
          -0.6547097891615642,
          -0.2396485802567933,
          -0.05472819079502166,
          -2.6898646855476485,
          -1.2873936728903954,
          0.6240206318014331,
          1.249178232250976,
          0.4185312567426191,
          -1.4588386970350944,
          -0.19460072611954962,
          0.509326925798342,
          0.1338898266727817,
          -1.2748281912315276,
          -1.3360835573105292,
          -0.2282333872994752,
          1.0511136019093947
         ]
        },
        {
         "connectgaps": false,
         "fill": "tozeroy",
         "line": {
          "color": "green",
          "dash": "solid",
          "shape": "linear",
          "width": 0.5
         },
         "mode": "lines",
         "name": "Spread",
         "showlegend": false,
         "type": "scatter",
         "x": [
          0,
          1,
          2,
          3,
          4,
          5,
          6,
          7,
          8,
          9,
          10,
          11,
          12,
          13,
          14,
          15,
          16,
          17,
          18,
          19,
          20,
          21,
          22,
          23,
          24,
          25,
          26,
          27,
          28,
          29,
          30,
          31,
          32,
          33,
          34,
          35,
          36,
          37,
          38,
          39,
          40,
          41,
          42,
          43,
          44,
          45,
          46,
          47,
          48,
          49,
          50,
          51,
          52,
          53,
          54,
          55,
          56,
          57,
          58,
          59,
          60,
          61,
          62,
          63,
          64,
          65,
          66,
          67,
          68,
          69,
          70,
          71,
          72,
          73,
          74,
          75,
          76,
          77,
          78,
          79,
          80,
          81,
          82,
          83,
          84,
          85,
          86,
          87,
          88,
          89,
          90,
          91,
          92,
          93,
          94,
          95,
          96,
          97,
          98,
          99
         ],
         "xaxis": "x2",
         "y": [
          "",
          2.509806116423643,
          0.9033078808722437,
          1.1115160996397013,
          0.08450689565773312,
          1.0142052603333678,
          "",
          "",
          1.491413008524784,
          2.690416248379454,
          "",
          1.6152111800733022,
          "",
          "",
          "",
          1.0281939596088443,
          0.39990843119147795,
          "",
          "",
          "",
          1.888392237547773,
          "",
          "",
          0.5072613179815755,
          0.6556483267654964,
          "",
          0.26224804004225194,
          "",
          0.058053590178875195,
          0.27563758919399883,
          0.8277391514243843,
          0.31937583300984745,
          "",
          0.3190978991819726,
          0.7045471512457611,
          "",
          "",
          1.8001234140503535,
          0.33510842424831994,
          3.8185548876313558,
          "",
          0.20618690977394238,
          0.053577136085710686,
          0.19035144935012344,
          1.90146268191968,
          0.47094963631019837,
          2.371602253374291,
          0.37923778368162425,
          0.9478816822202581,
          1.7596804382264826,
          0.36315718955833115,
          1.5482301134408902,
          2.1060883199542566,
          0.07250981116325833,
          2.0792097534029566,
          "",
          0.11265407669804939,
          "",
          0.022686261956832987,
          3.2879853227930127,
          1.3965543806640333,
          "",
          0.3598586262627348,
          0.18218219216370027,
          0.15872570267070207,
          1.3429481199246331,
          0.4958965063112143,
          "",
          0.04214823582448024,
          "",
          0.47711795533209533,
          2.45549911433952,
          "",
          0.0635800963340081,
          "",
          1.8403257559519095,
          2.27033743700028,
          "",
          0.8150508553462199,
          "",
          0.6948939203869828,
          2.451510154628387,
          "",
          0.49577079688087505,
          2.2960080381943593,
          0.07371618953373865,
          "",
          1.8206785172931528,
          "",
          1.6339338230858207,
          1.3793543193446105,
          "",
          3.21021860389249,
          "",
          "",
          0.2211574045910517,
          1.244028911599213,
          1.8186872753775878,
          0.831954736606537,
          0.14902175166096998
         ],
         "yaxis": "y2"
        },
        {
         "connectgaps": false,
         "fill": "tozeroy",
         "line": {
          "color": "red",
          "dash": "solid",
          "shape": "linear",
          "width": 0.5
         },
         "mode": "lines",
         "name": "Spread",
         "showlegend": false,
         "type": "scatter",
         "x": [
          0,
          1,
          2,
          3,
          4,
          5,
          6,
          7,
          8,
          9,
          10,
          11,
          12,
          13,
          14,
          15,
          16,
          17,
          18,
          19,
          20,
          21,
          22,
          23,
          24,
          25,
          26,
          27,
          28,
          29,
          30,
          31,
          32,
          33,
          34,
          35,
          36,
          37,
          38,
          39,
          40,
          41,
          42,
          43,
          44,
          45,
          46,
          47,
          48,
          49,
          50,
          51,
          52,
          53,
          54,
          55,
          56,
          57,
          58,
          59,
          60,
          61,
          62,
          63,
          64,
          65,
          66,
          67,
          68,
          69,
          70,
          71,
          72,
          73,
          74,
          75,
          76,
          77,
          78,
          79,
          80,
          81,
          82,
          83,
          84,
          85,
          86,
          87,
          88,
          89,
          90,
          91,
          92,
          93,
          94,
          95,
          96,
          97,
          98,
          99
         ],
         "xaxis": "x2",
         "y": [
          -2.8473745125497834,
          "",
          "",
          "",
          "",
          "",
          -0.23034397660454164,
          -1.286508009384066,
          "",
          "",
          -1.2637785994769064,
          "",
          -1.4242860539250055,
          -0.6448136500047078,
          -2.7522200829044703,
          "",
          "",
          -1.535284910413681,
          -1.7853930887165266,
          -0.013007188835601702,
          "",
          -0.4609448625361856,
          -1.3441169627191454,
          "",
          "",
          -1.7866017798786453,
          "",
          -1.083807246142548,
          "",
          "",
          "",
          "",
          -1.7609130621135494,
          "",
          "",
          -0.4800811900493678,
          -1.171052436817367,
          "",
          "",
          "",
          -1.0079417081156747,
          "",
          "",
          "",
          "",
          "",
          "",
          "",
          "",
          "",
          "",
          "",
          "",
          "",
          "",
          -2.138671599680976,
          "",
          -1.497081404808391,
          "",
          "",
          "",
          -0.28106344031605535,
          "",
          "",
          "",
          "",
          "",
          -0.799652263442711,
          "",
          -0.82161863837025,
          "",
          "",
          -0.4002886779166986,
          "",
          -0.5160933610990652,
          "",
          "",
          -0.9740512306610617,
          "",
          -1.61520286168661,
          "",
          "",
          -0.17089530258499955,
          "",
          "",
          "",
          -1.2373004274936585,
          "",
          -0.5632863546874556,
          "",
          "",
          -0.4869941601699337,
          "",
          -0.2724554149572387,
          -0.6168733822680551,
          "",
          "",
          "",
          "",
          ""
         ],
         "yaxis": "y2"
        }
       ],
       "layout": {
        "hovermode": "x",
        "legend": {
         "bgcolor": "#F5F6F9",
         "font": {
          "color": "#4D5663"
         }
        },
        "paper_bgcolor": "#F5F6F9",
        "plot_bgcolor": "#F5F6F9",
        "template": {
         "data": {
          "bar": [
           {
            "error_x": {
             "color": "#2a3f5f"
            },
            "error_y": {
             "color": "#2a3f5f"
            },
            "marker": {
             "line": {
              "color": "#E5ECF6",
              "width": 0.5
             },
             "pattern": {
              "fillmode": "overlay",
              "size": 10,
              "solidity": 0.2
             }
            },
            "type": "bar"
           }
          ],
          "barpolar": [
           {
            "marker": {
             "line": {
              "color": "#E5ECF6",
              "width": 0.5
             },
             "pattern": {
              "fillmode": "overlay",
              "size": 10,
              "solidity": 0.2
             }
            },
            "type": "barpolar"
           }
          ],
          "carpet": [
           {
            "aaxis": {
             "endlinecolor": "#2a3f5f",
             "gridcolor": "white",
             "linecolor": "white",
             "minorgridcolor": "white",
             "startlinecolor": "#2a3f5f"
            },
            "baxis": {
             "endlinecolor": "#2a3f5f",
             "gridcolor": "white",
             "linecolor": "white",
             "minorgridcolor": "white",
             "startlinecolor": "#2a3f5f"
            },
            "type": "carpet"
           }
          ],
          "choropleth": [
           {
            "colorbar": {
             "outlinewidth": 0,
             "ticks": ""
            },
            "type": "choropleth"
           }
          ],
          "contour": [
           {
            "colorbar": {
             "outlinewidth": 0,
             "ticks": ""
            },
            "colorscale": [
             [
              0,
              "#0d0887"
             ],
             [
              0.1111111111111111,
              "#46039f"
             ],
             [
              0.2222222222222222,
              "#7201a8"
             ],
             [
              0.3333333333333333,
              "#9c179e"
             ],
             [
              0.4444444444444444,
              "#bd3786"
             ],
             [
              0.5555555555555556,
              "#d8576b"
             ],
             [
              0.6666666666666666,
              "#ed7953"
             ],
             [
              0.7777777777777778,
              "#fb9f3a"
             ],
             [
              0.8888888888888888,
              "#fdca26"
             ],
             [
              1,
              "#f0f921"
             ]
            ],
            "type": "contour"
           }
          ],
          "contourcarpet": [
           {
            "colorbar": {
             "outlinewidth": 0,
             "ticks": ""
            },
            "type": "contourcarpet"
           }
          ],
          "heatmap": [
           {
            "colorbar": {
             "outlinewidth": 0,
             "ticks": ""
            },
            "colorscale": [
             [
              0,
              "#0d0887"
             ],
             [
              0.1111111111111111,
              "#46039f"
             ],
             [
              0.2222222222222222,
              "#7201a8"
             ],
             [
              0.3333333333333333,
              "#9c179e"
             ],
             [
              0.4444444444444444,
              "#bd3786"
             ],
             [
              0.5555555555555556,
              "#d8576b"
             ],
             [
              0.6666666666666666,
              "#ed7953"
             ],
             [
              0.7777777777777778,
              "#fb9f3a"
             ],
             [
              0.8888888888888888,
              "#fdca26"
             ],
             [
              1,
              "#f0f921"
             ]
            ],
            "type": "heatmap"
           }
          ],
          "heatmapgl": [
           {
            "colorbar": {
             "outlinewidth": 0,
             "ticks": ""
            },
            "colorscale": [
             [
              0,
              "#0d0887"
             ],
             [
              0.1111111111111111,
              "#46039f"
             ],
             [
              0.2222222222222222,
              "#7201a8"
             ],
             [
              0.3333333333333333,
              "#9c179e"
             ],
             [
              0.4444444444444444,
              "#bd3786"
             ],
             [
              0.5555555555555556,
              "#d8576b"
             ],
             [
              0.6666666666666666,
              "#ed7953"
             ],
             [
              0.7777777777777778,
              "#fb9f3a"
             ],
             [
              0.8888888888888888,
              "#fdca26"
             ],
             [
              1,
              "#f0f921"
             ]
            ],
            "type": "heatmapgl"
           }
          ],
          "histogram": [
           {
            "marker": {
             "pattern": {
              "fillmode": "overlay",
              "size": 10,
              "solidity": 0.2
             }
            },
            "type": "histogram"
           }
          ],
          "histogram2d": [
           {
            "colorbar": {
             "outlinewidth": 0,
             "ticks": ""
            },
            "colorscale": [
             [
              0,
              "#0d0887"
             ],
             [
              0.1111111111111111,
              "#46039f"
             ],
             [
              0.2222222222222222,
              "#7201a8"
             ],
             [
              0.3333333333333333,
              "#9c179e"
             ],
             [
              0.4444444444444444,
              "#bd3786"
             ],
             [
              0.5555555555555556,
              "#d8576b"
             ],
             [
              0.6666666666666666,
              "#ed7953"
             ],
             [
              0.7777777777777778,
              "#fb9f3a"
             ],
             [
              0.8888888888888888,
              "#fdca26"
             ],
             [
              1,
              "#f0f921"
             ]
            ],
            "type": "histogram2d"
           }
          ],
          "histogram2dcontour": [
           {
            "colorbar": {
             "outlinewidth": 0,
             "ticks": ""
            },
            "colorscale": [
             [
              0,
              "#0d0887"
             ],
             [
              0.1111111111111111,
              "#46039f"
             ],
             [
              0.2222222222222222,
              "#7201a8"
             ],
             [
              0.3333333333333333,
              "#9c179e"
             ],
             [
              0.4444444444444444,
              "#bd3786"
             ],
             [
              0.5555555555555556,
              "#d8576b"
             ],
             [
              0.6666666666666666,
              "#ed7953"
             ],
             [
              0.7777777777777778,
              "#fb9f3a"
             ],
             [
              0.8888888888888888,
              "#fdca26"
             ],
             [
              1,
              "#f0f921"
             ]
            ],
            "type": "histogram2dcontour"
           }
          ],
          "mesh3d": [
           {
            "colorbar": {
             "outlinewidth": 0,
             "ticks": ""
            },
            "type": "mesh3d"
           }
          ],
          "parcoords": [
           {
            "line": {
             "colorbar": {
              "outlinewidth": 0,
              "ticks": ""
             }
            },
            "type": "parcoords"
           }
          ],
          "pie": [
           {
            "automargin": true,
            "type": "pie"
           }
          ],
          "scatter": [
           {
            "fillpattern": {
             "fillmode": "overlay",
             "size": 10,
             "solidity": 0.2
            },
            "type": "scatter"
           }
          ],
          "scatter3d": [
           {
            "line": {
             "colorbar": {
              "outlinewidth": 0,
              "ticks": ""
             }
            },
            "marker": {
             "colorbar": {
              "outlinewidth": 0,
              "ticks": ""
             }
            },
            "type": "scatter3d"
           }
          ],
          "scattercarpet": [
           {
            "marker": {
             "colorbar": {
              "outlinewidth": 0,
              "ticks": ""
             }
            },
            "type": "scattercarpet"
           }
          ],
          "scattergeo": [
           {
            "marker": {
             "colorbar": {
              "outlinewidth": 0,
              "ticks": ""
             }
            },
            "type": "scattergeo"
           }
          ],
          "scattergl": [
           {
            "marker": {
             "colorbar": {
              "outlinewidth": 0,
              "ticks": ""
             }
            },
            "type": "scattergl"
           }
          ],
          "scattermapbox": [
           {
            "marker": {
             "colorbar": {
              "outlinewidth": 0,
              "ticks": ""
             }
            },
            "type": "scattermapbox"
           }
          ],
          "scatterpolar": [
           {
            "marker": {
             "colorbar": {
              "outlinewidth": 0,
              "ticks": ""
             }
            },
            "type": "scatterpolar"
           }
          ],
          "scatterpolargl": [
           {
            "marker": {
             "colorbar": {
              "outlinewidth": 0,
              "ticks": ""
             }
            },
            "type": "scatterpolargl"
           }
          ],
          "scatterternary": [
           {
            "marker": {
             "colorbar": {
              "outlinewidth": 0,
              "ticks": ""
             }
            },
            "type": "scatterternary"
           }
          ],
          "surface": [
           {
            "colorbar": {
             "outlinewidth": 0,
             "ticks": ""
            },
            "colorscale": [
             [
              0,
              "#0d0887"
             ],
             [
              0.1111111111111111,
              "#46039f"
             ],
             [
              0.2222222222222222,
              "#7201a8"
             ],
             [
              0.3333333333333333,
              "#9c179e"
             ],
             [
              0.4444444444444444,
              "#bd3786"
             ],
             [
              0.5555555555555556,
              "#d8576b"
             ],
             [
              0.6666666666666666,
              "#ed7953"
             ],
             [
              0.7777777777777778,
              "#fb9f3a"
             ],
             [
              0.8888888888888888,
              "#fdca26"
             ],
             [
              1,
              "#f0f921"
             ]
            ],
            "type": "surface"
           }
          ],
          "table": [
           {
            "cells": {
             "fill": {
              "color": "#EBF0F8"
             },
             "line": {
              "color": "white"
             }
            },
            "header": {
             "fill": {
              "color": "#C8D4E3"
             },
             "line": {
              "color": "white"
             }
            },
            "type": "table"
           }
          ]
         },
         "layout": {
          "annotationdefaults": {
           "arrowcolor": "#2a3f5f",
           "arrowhead": 0,
           "arrowwidth": 1
          },
          "autotypenumbers": "strict",
          "coloraxis": {
           "colorbar": {
            "outlinewidth": 0,
            "ticks": ""
           }
          },
          "colorscale": {
           "diverging": [
            [
             0,
             "#8e0152"
            ],
            [
             0.1,
             "#c51b7d"
            ],
            [
             0.2,
             "#de77ae"
            ],
            [
             0.3,
             "#f1b6da"
            ],
            [
             0.4,
             "#fde0ef"
            ],
            [
             0.5,
             "#f7f7f7"
            ],
            [
             0.6,
             "#e6f5d0"
            ],
            [
             0.7,
             "#b8e186"
            ],
            [
             0.8,
             "#7fbc41"
            ],
            [
             0.9,
             "#4d9221"
            ],
            [
             1,
             "#276419"
            ]
           ],
           "sequential": [
            [
             0,
             "#0d0887"
            ],
            [
             0.1111111111111111,
             "#46039f"
            ],
            [
             0.2222222222222222,
             "#7201a8"
            ],
            [
             0.3333333333333333,
             "#9c179e"
            ],
            [
             0.4444444444444444,
             "#bd3786"
            ],
            [
             0.5555555555555556,
             "#d8576b"
            ],
            [
             0.6666666666666666,
             "#ed7953"
            ],
            [
             0.7777777777777778,
             "#fb9f3a"
            ],
            [
             0.8888888888888888,
             "#fdca26"
            ],
            [
             1,
             "#f0f921"
            ]
           ],
           "sequentialminus": [
            [
             0,
             "#0d0887"
            ],
            [
             0.1111111111111111,
             "#46039f"
            ],
            [
             0.2222222222222222,
             "#7201a8"
            ],
            [
             0.3333333333333333,
             "#9c179e"
            ],
            [
             0.4444444444444444,
             "#bd3786"
            ],
            [
             0.5555555555555556,
             "#d8576b"
            ],
            [
             0.6666666666666666,
             "#ed7953"
            ],
            [
             0.7777777777777778,
             "#fb9f3a"
            ],
            [
             0.8888888888888888,
             "#fdca26"
            ],
            [
             1,
             "#f0f921"
            ]
           ]
          },
          "colorway": [
           "#636efa",
           "#EF553B",
           "#00cc96",
           "#ab63fa",
           "#FFA15A",
           "#19d3f3",
           "#FF6692",
           "#B6E880",
           "#FF97FF",
           "#FECB52"
          ],
          "font": {
           "color": "#2a3f5f"
          },
          "geo": {
           "bgcolor": "white",
           "lakecolor": "white",
           "landcolor": "#E5ECF6",
           "showlakes": true,
           "showland": true,
           "subunitcolor": "white"
          },
          "hoverlabel": {
           "align": "left"
          },
          "hovermode": "closest",
          "mapbox": {
           "style": "light"
          },
          "paper_bgcolor": "white",
          "plot_bgcolor": "#E5ECF6",
          "polar": {
           "angularaxis": {
            "gridcolor": "white",
            "linecolor": "white",
            "ticks": ""
           },
           "bgcolor": "#E5ECF6",
           "radialaxis": {
            "gridcolor": "white",
            "linecolor": "white",
            "ticks": ""
           }
          },
          "scene": {
           "xaxis": {
            "backgroundcolor": "#E5ECF6",
            "gridcolor": "white",
            "gridwidth": 2,
            "linecolor": "white",
            "showbackground": true,
            "ticks": "",
            "zerolinecolor": "white"
           },
           "yaxis": {
            "backgroundcolor": "#E5ECF6",
            "gridcolor": "white",
            "gridwidth": 2,
            "linecolor": "white",
            "showbackground": true,
            "ticks": "",
            "zerolinecolor": "white"
           },
           "zaxis": {
            "backgroundcolor": "#E5ECF6",
            "gridcolor": "white",
            "gridwidth": 2,
            "linecolor": "white",
            "showbackground": true,
            "ticks": "",
            "zerolinecolor": "white"
           }
          },
          "shapedefaults": {
           "line": {
            "color": "#2a3f5f"
           }
          },
          "ternary": {
           "aaxis": {
            "gridcolor": "white",
            "linecolor": "white",
            "ticks": ""
           },
           "baxis": {
            "gridcolor": "white",
            "linecolor": "white",
            "ticks": ""
           },
           "bgcolor": "#E5ECF6",
           "caxis": {
            "gridcolor": "white",
            "linecolor": "white",
            "ticks": ""
           }
          },
          "title": {
           "x": 0.05
          },
          "xaxis": {
           "automargin": true,
           "gridcolor": "white",
           "linecolor": "white",
           "ticks": "",
           "title": {
            "standoff": 15
           },
           "zerolinecolor": "white",
           "zerolinewidth": 2
          },
          "yaxis": {
           "automargin": true,
           "gridcolor": "white",
           "linecolor": "white",
           "ticks": "",
           "title": {
            "standoff": 15
           },
           "zerolinecolor": "white",
           "zerolinewidth": 2
          }
         }
        },
        "title": {
         "font": {
          "color": "#4D5663"
         }
        },
        "xaxis": {
         "gridcolor": "#E1E5ED",
         "showgrid": true,
         "tickfont": {
          "color": "#4D5663"
         },
         "title": {
          "font": {
           "color": "#4D5663"
          },
          "text": ""
         },
         "zerolinecolor": "#E1E5ED"
        },
        "xaxis2": {
         "anchor": "y2",
         "gridcolor": "#E1E5ED",
         "showgrid": true,
         "showticklabels": false,
         "tickfont": {
          "color": "#4D5663"
         },
         "title": {
          "font": {
           "color": "#4D5663"
          },
          "text": ""
         },
         "zerolinecolor": "#E1E5ED"
        },
        "yaxis": {
         "domain": [
          0.3,
          1
         ],
         "gridcolor": "#E1E5ED",
         "showgrid": true,
         "tickfont": {
          "color": "#4D5663"
         },
         "title": {
          "font": {
           "color": "#4D5663"
          },
          "text": ""
         },
         "zerolinecolor": "#E1E5ED"
        },
        "yaxis2": {
         "domain": [
          0,
          0.25
         ],
         "gridcolor": "#E1E5ED",
         "showgrid": true,
         "tickfont": {
          "color": "#4D5663"
         },
         "title": {
          "font": {
           "color": "#4D5663"
          },
          "text": "Spread"
         },
         "zerolinecolor": "#E1E5ED"
        }
       }
      },
      "text/html": [
       "<div>                            <div id=\"72c8ce40-5fa2-4829-9db4-ec19905952e6\" class=\"plotly-graph-div\" style=\"height:525px; width:100%;\"></div>            <script type=\"text/javascript\">                require([\"plotly\"], function(Plotly) {                    window.PLOTLYENV=window.PLOTLYENV || {};\n",
       "                    window.PLOTLYENV.BASE_URL='https://plot.ly';                                    if (document.getElementById(\"72c8ce40-5fa2-4829-9db4-ec19905952e6\")) {                    Plotly.newPlot(                        \"72c8ce40-5fa2-4829-9db4-ec19905952e6\",                        [{\"line\":{\"color\":\"rgba(255, 153, 51, 1.0)\",\"dash\":\"solid\",\"shape\":\"linear\",\"width\":1.3},\"mode\":\"lines\",\"name\":\"A\",\"text\":\"\",\"x\":[0,1,2,3,4,5,6,7,8,9,10,11,12,13,14,15,16,17,18,19,20,21,22,23,24,25,26,27,28,29,30,31,32,33,34,35,36,37,38,39,40,41,42,43,44,45,46,47,48,49,50,51,52,53,54,55,56,57,58,59,60,61,62,63,64,65,66,67,68,69,70,71,72,73,74,75,76,77,78,79,80,81,82,83,84,85,86,87,88,89,90,91,92,93,94,95,96,97,98,99],\"y\":[-1.23367774458424,0.7354606535590142,0.18297916358793126,0.4997206964909568,-0.4164376791113165,0.7725868189495974,-0.3190709225596303,-0.34509557310354055,0.17571314182171857,1.2832496432359026,-0.6701622872223576,0.1726151343541529,-0.5371486714244423,0.14866247108121355,-1.1134174896360065,0.9181426264528164,0.2916545629339712,-1.5327750870756958,-1.4981000212493611,-0.6778356750220685,1.735421358474536,-0.6843482671654342,-2.3903111255154244,-0.19203745335697894,-0.7727337242600216,0.4851640083650962,-0.03687388157122996,-0.28013428904290666,0.13278542161376505,0.3119355241632733,1.5559893421845665,-0.14961659575442454,-0.6254401403525508,0.14409253691847518,-0.17776408261353757,-1.506867556747576,-0.9417607912397659,1.8817932769503896,-0.09791659724689179,2.341697749668085,-1.0463068519188832,0.7667785456655989,0.3744052165922298,-0.11600890719464242,1.3157688037328155,-0.47044669371950476,0.5387585482327067,0.7425985029443694,0.9624955022877838,-0.2984520913272161,-0.2183144798873457,0.9022682433066121,1.155171384106318,-0.4639222451394979,1.9799373349193057,-0.9709105566083415,0.4266930092556539,0.7982776980272756,-0.788330192220676,2.214154651931596,0.8517386094525903,0.7307109968115925,0.7635729782447669,0.10645212322818463,0.36019364897067474,0.9746982639638698,-0.5556653065216498,0.17462254664205748,-1.8419332782616773,-1.985223300131962,0.7467115259440948,2.2401539237310297,-0.8646309336109702,0.03176867873429596,1.0856986000536937,0.5765714008077054,1.8425945746859302,-0.5982346749068658,1.281876291366642,-1.4856750066733857,-0.40617642583972385,1.227860895027526,-0.1516154355428637,-0.19119937484773103,1.6412982490327952,-0.16593239072305466,-1.2920286182886802,-0.8691861682544956,-1.850680027577851,2.257954454887254,2.6285325515955864,-0.0684629034273146,1.7513799068573954,-0.46705614107678833,-0.10754645646971306,0.3550472312638334,-0.030799279632314668,0.48260371806705854,0.6037213493070618,1.2001353535703647],\"type\":\"scatter\"},{\"line\":{\"color\":\"rgba(55, 128, 191, 1.0)\",\"dash\":\"solid\",\"shape\":\"linear\",\"width\":1.3},\"mode\":\"lines\",\"name\":\"B\",\"text\":\"\",\"x\":[0,1,2,3,4,5,6,7,8,9,10,11,12,13,14,15,16,17,18,19,20,21,22,23,24,25,26,27,28,29,30,31,32,33,34,35,36,37,38,39,40,41,42,43,44,45,46,47,48,49,50,51,52,53,54,55,56,57,58,59,60,61,62,63,64,65,66,67,68,69,70,71,72,73,74,75,76,77,78,79,80,81,82,83,84,85,86,87,88,89,90,91,92,93,94,95,96,97,98,99],\"y\":[1.6136967679655434,-1.7743454628646287,-0.7203287172843124,-0.6117954031487445,-0.5009445747690496,-0.24161844138377042,-0.08872694595508866,0.9414124362805255,-1.3156998667030655,-1.4071666051435512,0.5936163122545488,-1.4425960457191493,0.8871373825005632,0.7934761210859214,1.6388025932684638,-0.11005133315602779,-0.10825386825750678,0.0025098233379851074,0.2872930674671653,-0.6648284861864668,-0.15297087907323706,-0.22340340462924857,-1.046194162796279,-0.6992987713385544,-1.428382051025518,2.2717657882437416,-0.2991219216134819,0.8036729570996414,0.07473183143488986,0.03629793496927448,0.7282501907601823,-0.468992428764272,1.1354729217609987,-0.17500536226349744,-0.8823112338592987,-1.0267863666982082,0.22929164557760115,0.08166986290003601,-0.4330250214952117,-1.4768571379632707,-0.03836514380320835,0.5605916358916565,0.3208280805065191,-0.30636035654476584,-0.5856938781868646,-0.9413963300297031,-1.8328437051415842,0.3633607192627451,0.014613820067525655,-2.0581325295536987,-0.5814716694456769,-0.645961870134278,-0.9509169358479385,-0.5364320563027563,-0.09927241848365108,1.1677610430726344,0.3140389325576045,2.2953591028356666,-0.811016454177509,-1.0738306708614167,-0.5448157712114431,1.0117744371276478,0.4037143519820321,-0.07573006893551563,0.20146794629997267,-0.3682498559607633,-1.051561812832864,0.9742748100847685,-1.8840815140861575,-1.163604661761712,0.2695935706119995,-0.2153451906084906,-0.4643422556942716,-0.03181141759971215,1.601791961152759,-1.263754355144204,-0.4277428623143499,0.3758165557541959,0.466825436020422,0.12952785501322436,-1.1010703462267066,-1.2236492596008608,0.01927986704213586,-0.6869701717286061,-0.6547097891615642,-0.2396485802567933,-0.05472819079502166,-2.6898646855476485,-1.2873936728903954,0.6240206318014331,1.249178232250976,0.4185312567426191,-1.4588386970350944,-0.19460072611954962,0.509326925798342,0.1338898266727817,-1.2748281912315276,-1.3360835573105292,-0.2282333872994752,1.0511136019093947],\"type\":\"scatter\"},{\"connectgaps\":false,\"fill\":\"tozeroy\",\"line\":{\"color\":\"green\",\"dash\":\"solid\",\"shape\":\"linear\",\"width\":0.5},\"mode\":\"lines\",\"name\":\"Spread\",\"showlegend\":false,\"x\":[0,1,2,3,4,5,6,7,8,9,10,11,12,13,14,15,16,17,18,19,20,21,22,23,24,25,26,27,28,29,30,31,32,33,34,35,36,37,38,39,40,41,42,43,44,45,46,47,48,49,50,51,52,53,54,55,56,57,58,59,60,61,62,63,64,65,66,67,68,69,70,71,72,73,74,75,76,77,78,79,80,81,82,83,84,85,86,87,88,89,90,91,92,93,94,95,96,97,98,99],\"xaxis\":\"x2\",\"y\":[\"\",2.509806116423643,0.9033078808722437,1.1115160996397013,0.08450689565773312,1.0142052603333678,\"\",\"\",1.491413008524784,2.690416248379454,\"\",1.6152111800733022,\"\",\"\",\"\",1.0281939596088443,0.39990843119147795,\"\",\"\",\"\",1.888392237547773,\"\",\"\",0.5072613179815755,0.6556483267654964,\"\",0.26224804004225194,\"\",0.058053590178875195,0.27563758919399883,0.8277391514243843,0.31937583300984745,\"\",0.3190978991819726,0.7045471512457611,\"\",\"\",1.8001234140503535,0.33510842424831994,3.8185548876313558,\"\",0.20618690977394238,0.053577136085710686,0.19035144935012344,1.90146268191968,0.47094963631019837,2.371602253374291,0.37923778368162425,0.9478816822202581,1.7596804382264826,0.36315718955833115,1.5482301134408902,2.1060883199542566,0.07250981116325833,2.0792097534029566,\"\",0.11265407669804939,\"\",0.022686261956832987,3.2879853227930127,1.3965543806640333,\"\",0.3598586262627348,0.18218219216370027,0.15872570267070207,1.3429481199246331,0.4958965063112143,\"\",0.04214823582448024,\"\",0.47711795533209533,2.45549911433952,\"\",0.0635800963340081,\"\",1.8403257559519095,2.27033743700028,\"\",0.8150508553462199,\"\",0.6948939203869828,2.451510154628387,\"\",0.49577079688087505,2.2960080381943593,0.07371618953373865,\"\",1.8206785172931528,\"\",1.6339338230858207,1.3793543193446105,\"\",3.21021860389249,\"\",\"\",0.2211574045910517,1.244028911599213,1.8186872753775878,0.831954736606537,0.14902175166096998],\"yaxis\":\"y2\",\"type\":\"scatter\"},{\"connectgaps\":false,\"fill\":\"tozeroy\",\"line\":{\"color\":\"red\",\"dash\":\"solid\",\"shape\":\"linear\",\"width\":0.5},\"mode\":\"lines\",\"name\":\"Spread\",\"showlegend\":false,\"x\":[0,1,2,3,4,5,6,7,8,9,10,11,12,13,14,15,16,17,18,19,20,21,22,23,24,25,26,27,28,29,30,31,32,33,34,35,36,37,38,39,40,41,42,43,44,45,46,47,48,49,50,51,52,53,54,55,56,57,58,59,60,61,62,63,64,65,66,67,68,69,70,71,72,73,74,75,76,77,78,79,80,81,82,83,84,85,86,87,88,89,90,91,92,93,94,95,96,97,98,99],\"xaxis\":\"x2\",\"y\":[-2.8473745125497834,\"\",\"\",\"\",\"\",\"\",-0.23034397660454164,-1.286508009384066,\"\",\"\",-1.2637785994769064,\"\",-1.4242860539250055,-0.6448136500047078,-2.7522200829044703,\"\",\"\",-1.535284910413681,-1.7853930887165266,-0.013007188835601702,\"\",-0.4609448625361856,-1.3441169627191454,\"\",\"\",-1.7866017798786453,\"\",-1.083807246142548,\"\",\"\",\"\",\"\",-1.7609130621135494,\"\",\"\",-0.4800811900493678,-1.171052436817367,\"\",\"\",\"\",-1.0079417081156747,\"\",\"\",\"\",\"\",\"\",\"\",\"\",\"\",\"\",\"\",\"\",\"\",\"\",\"\",-2.138671599680976,\"\",-1.497081404808391,\"\",\"\",\"\",-0.28106344031605535,\"\",\"\",\"\",\"\",\"\",-0.799652263442711,\"\",-0.82161863837025,\"\",\"\",-0.4002886779166986,\"\",-0.5160933610990652,\"\",\"\",-0.9740512306610617,\"\",-1.61520286168661,\"\",\"\",-0.17089530258499955,\"\",\"\",\"\",-1.2373004274936585,\"\",-0.5632863546874556,\"\",\"\",-0.4869941601699337,\"\",-0.2724554149572387,-0.6168733822680551,\"\",\"\",\"\",\"\",\"\"],\"yaxis\":\"y2\",\"type\":\"scatter\"}],                        {\"hovermode\":\"x\",\"legend\":{\"bgcolor\":\"#F5F6F9\",\"font\":{\"color\":\"#4D5663\"}},\"paper_bgcolor\":\"#F5F6F9\",\"plot_bgcolor\":\"#F5F6F9\",\"template\":{\"data\":{\"barpolar\":[{\"marker\":{\"line\":{\"color\":\"#E5ECF6\",\"width\":0.5},\"pattern\":{\"fillmode\":\"overlay\",\"size\":10,\"solidity\":0.2}},\"type\":\"barpolar\"}],\"bar\":[{\"error_x\":{\"color\":\"#2a3f5f\"},\"error_y\":{\"color\":\"#2a3f5f\"},\"marker\":{\"line\":{\"color\":\"#E5ECF6\",\"width\":0.5},\"pattern\":{\"fillmode\":\"overlay\",\"size\":10,\"solidity\":0.2}},\"type\":\"bar\"}],\"carpet\":[{\"aaxis\":{\"endlinecolor\":\"#2a3f5f\",\"gridcolor\":\"white\",\"linecolor\":\"white\",\"minorgridcolor\":\"white\",\"startlinecolor\":\"#2a3f5f\"},\"baxis\":{\"endlinecolor\":\"#2a3f5f\",\"gridcolor\":\"white\",\"linecolor\":\"white\",\"minorgridcolor\":\"white\",\"startlinecolor\":\"#2a3f5f\"},\"type\":\"carpet\"}],\"choropleth\":[{\"colorbar\":{\"outlinewidth\":0,\"ticks\":\"\"},\"type\":\"choropleth\"}],\"contourcarpet\":[{\"colorbar\":{\"outlinewidth\":0,\"ticks\":\"\"},\"type\":\"contourcarpet\"}],\"contour\":[{\"colorbar\":{\"outlinewidth\":0,\"ticks\":\"\"},\"colorscale\":[[0.0,\"#0d0887\"],[0.1111111111111111,\"#46039f\"],[0.2222222222222222,\"#7201a8\"],[0.3333333333333333,\"#9c179e\"],[0.4444444444444444,\"#bd3786\"],[0.5555555555555556,\"#d8576b\"],[0.6666666666666666,\"#ed7953\"],[0.7777777777777778,\"#fb9f3a\"],[0.8888888888888888,\"#fdca26\"],[1.0,\"#f0f921\"]],\"type\":\"contour\"}],\"heatmapgl\":[{\"colorbar\":{\"outlinewidth\":0,\"ticks\":\"\"},\"colorscale\":[[0.0,\"#0d0887\"],[0.1111111111111111,\"#46039f\"],[0.2222222222222222,\"#7201a8\"],[0.3333333333333333,\"#9c179e\"],[0.4444444444444444,\"#bd3786\"],[0.5555555555555556,\"#d8576b\"],[0.6666666666666666,\"#ed7953\"],[0.7777777777777778,\"#fb9f3a\"],[0.8888888888888888,\"#fdca26\"],[1.0,\"#f0f921\"]],\"type\":\"heatmapgl\"}],\"heatmap\":[{\"colorbar\":{\"outlinewidth\":0,\"ticks\":\"\"},\"colorscale\":[[0.0,\"#0d0887\"],[0.1111111111111111,\"#46039f\"],[0.2222222222222222,\"#7201a8\"],[0.3333333333333333,\"#9c179e\"],[0.4444444444444444,\"#bd3786\"],[0.5555555555555556,\"#d8576b\"],[0.6666666666666666,\"#ed7953\"],[0.7777777777777778,\"#fb9f3a\"],[0.8888888888888888,\"#fdca26\"],[1.0,\"#f0f921\"]],\"type\":\"heatmap\"}],\"histogram2dcontour\":[{\"colorbar\":{\"outlinewidth\":0,\"ticks\":\"\"},\"colorscale\":[[0.0,\"#0d0887\"],[0.1111111111111111,\"#46039f\"],[0.2222222222222222,\"#7201a8\"],[0.3333333333333333,\"#9c179e\"],[0.4444444444444444,\"#bd3786\"],[0.5555555555555556,\"#d8576b\"],[0.6666666666666666,\"#ed7953\"],[0.7777777777777778,\"#fb9f3a\"],[0.8888888888888888,\"#fdca26\"],[1.0,\"#f0f921\"]],\"type\":\"histogram2dcontour\"}],\"histogram2d\":[{\"colorbar\":{\"outlinewidth\":0,\"ticks\":\"\"},\"colorscale\":[[0.0,\"#0d0887\"],[0.1111111111111111,\"#46039f\"],[0.2222222222222222,\"#7201a8\"],[0.3333333333333333,\"#9c179e\"],[0.4444444444444444,\"#bd3786\"],[0.5555555555555556,\"#d8576b\"],[0.6666666666666666,\"#ed7953\"],[0.7777777777777778,\"#fb9f3a\"],[0.8888888888888888,\"#fdca26\"],[1.0,\"#f0f921\"]],\"type\":\"histogram2d\"}],\"histogram\":[{\"marker\":{\"pattern\":{\"fillmode\":\"overlay\",\"size\":10,\"solidity\":0.2}},\"type\":\"histogram\"}],\"mesh3d\":[{\"colorbar\":{\"outlinewidth\":0,\"ticks\":\"\"},\"type\":\"mesh3d\"}],\"parcoords\":[{\"line\":{\"colorbar\":{\"outlinewidth\":0,\"ticks\":\"\"}},\"type\":\"parcoords\"}],\"pie\":[{\"automargin\":true,\"type\":\"pie\"}],\"scatter3d\":[{\"line\":{\"colorbar\":{\"outlinewidth\":0,\"ticks\":\"\"}},\"marker\":{\"colorbar\":{\"outlinewidth\":0,\"ticks\":\"\"}},\"type\":\"scatter3d\"}],\"scattercarpet\":[{\"marker\":{\"colorbar\":{\"outlinewidth\":0,\"ticks\":\"\"}},\"type\":\"scattercarpet\"}],\"scattergeo\":[{\"marker\":{\"colorbar\":{\"outlinewidth\":0,\"ticks\":\"\"}},\"type\":\"scattergeo\"}],\"scattergl\":[{\"marker\":{\"colorbar\":{\"outlinewidth\":0,\"ticks\":\"\"}},\"type\":\"scattergl\"}],\"scattermapbox\":[{\"marker\":{\"colorbar\":{\"outlinewidth\":0,\"ticks\":\"\"}},\"type\":\"scattermapbox\"}],\"scatterpolargl\":[{\"marker\":{\"colorbar\":{\"outlinewidth\":0,\"ticks\":\"\"}},\"type\":\"scatterpolargl\"}],\"scatterpolar\":[{\"marker\":{\"colorbar\":{\"outlinewidth\":0,\"ticks\":\"\"}},\"type\":\"scatterpolar\"}],\"scatter\":[{\"fillpattern\":{\"fillmode\":\"overlay\",\"size\":10,\"solidity\":0.2},\"type\":\"scatter\"}],\"scatterternary\":[{\"marker\":{\"colorbar\":{\"outlinewidth\":0,\"ticks\":\"\"}},\"type\":\"scatterternary\"}],\"surface\":[{\"colorbar\":{\"outlinewidth\":0,\"ticks\":\"\"},\"colorscale\":[[0.0,\"#0d0887\"],[0.1111111111111111,\"#46039f\"],[0.2222222222222222,\"#7201a8\"],[0.3333333333333333,\"#9c179e\"],[0.4444444444444444,\"#bd3786\"],[0.5555555555555556,\"#d8576b\"],[0.6666666666666666,\"#ed7953\"],[0.7777777777777778,\"#fb9f3a\"],[0.8888888888888888,\"#fdca26\"],[1.0,\"#f0f921\"]],\"type\":\"surface\"}],\"table\":[{\"cells\":{\"fill\":{\"color\":\"#EBF0F8\"},\"line\":{\"color\":\"white\"}},\"header\":{\"fill\":{\"color\":\"#C8D4E3\"},\"line\":{\"color\":\"white\"}},\"type\":\"table\"}]},\"layout\":{\"annotationdefaults\":{\"arrowcolor\":\"#2a3f5f\",\"arrowhead\":0,\"arrowwidth\":1},\"autotypenumbers\":\"strict\",\"coloraxis\":{\"colorbar\":{\"outlinewidth\":0,\"ticks\":\"\"}},\"colorscale\":{\"diverging\":[[0,\"#8e0152\"],[0.1,\"#c51b7d\"],[0.2,\"#de77ae\"],[0.3,\"#f1b6da\"],[0.4,\"#fde0ef\"],[0.5,\"#f7f7f7\"],[0.6,\"#e6f5d0\"],[0.7,\"#b8e186\"],[0.8,\"#7fbc41\"],[0.9,\"#4d9221\"],[1,\"#276419\"]],\"sequential\":[[0.0,\"#0d0887\"],[0.1111111111111111,\"#46039f\"],[0.2222222222222222,\"#7201a8\"],[0.3333333333333333,\"#9c179e\"],[0.4444444444444444,\"#bd3786\"],[0.5555555555555556,\"#d8576b\"],[0.6666666666666666,\"#ed7953\"],[0.7777777777777778,\"#fb9f3a\"],[0.8888888888888888,\"#fdca26\"],[1.0,\"#f0f921\"]],\"sequentialminus\":[[0.0,\"#0d0887\"],[0.1111111111111111,\"#46039f\"],[0.2222222222222222,\"#7201a8\"],[0.3333333333333333,\"#9c179e\"],[0.4444444444444444,\"#bd3786\"],[0.5555555555555556,\"#d8576b\"],[0.6666666666666666,\"#ed7953\"],[0.7777777777777778,\"#fb9f3a\"],[0.8888888888888888,\"#fdca26\"],[1.0,\"#f0f921\"]]},\"colorway\":[\"#636efa\",\"#EF553B\",\"#00cc96\",\"#ab63fa\",\"#FFA15A\",\"#19d3f3\",\"#FF6692\",\"#B6E880\",\"#FF97FF\",\"#FECB52\"],\"font\":{\"color\":\"#2a3f5f\"},\"geo\":{\"bgcolor\":\"white\",\"lakecolor\":\"white\",\"landcolor\":\"#E5ECF6\",\"showlakes\":true,\"showland\":true,\"subunitcolor\":\"white\"},\"hoverlabel\":{\"align\":\"left\"},\"hovermode\":\"closest\",\"mapbox\":{\"style\":\"light\"},\"paper_bgcolor\":\"white\",\"plot_bgcolor\":\"#E5ECF6\",\"polar\":{\"angularaxis\":{\"gridcolor\":\"white\",\"linecolor\":\"white\",\"ticks\":\"\"},\"bgcolor\":\"#E5ECF6\",\"radialaxis\":{\"gridcolor\":\"white\",\"linecolor\":\"white\",\"ticks\":\"\"}},\"scene\":{\"xaxis\":{\"backgroundcolor\":\"#E5ECF6\",\"gridcolor\":\"white\",\"gridwidth\":2,\"linecolor\":\"white\",\"showbackground\":true,\"ticks\":\"\",\"zerolinecolor\":\"white\"},\"yaxis\":{\"backgroundcolor\":\"#E5ECF6\",\"gridcolor\":\"white\",\"gridwidth\":2,\"linecolor\":\"white\",\"showbackground\":true,\"ticks\":\"\",\"zerolinecolor\":\"white\"},\"zaxis\":{\"backgroundcolor\":\"#E5ECF6\",\"gridcolor\":\"white\",\"gridwidth\":2,\"linecolor\":\"white\",\"showbackground\":true,\"ticks\":\"\",\"zerolinecolor\":\"white\"}},\"shapedefaults\":{\"line\":{\"color\":\"#2a3f5f\"}},\"ternary\":{\"aaxis\":{\"gridcolor\":\"white\",\"linecolor\":\"white\",\"ticks\":\"\"},\"baxis\":{\"gridcolor\":\"white\",\"linecolor\":\"white\",\"ticks\":\"\"},\"bgcolor\":\"#E5ECF6\",\"caxis\":{\"gridcolor\":\"white\",\"linecolor\":\"white\",\"ticks\":\"\"}},\"title\":{\"x\":0.05},\"xaxis\":{\"automargin\":true,\"gridcolor\":\"white\",\"linecolor\":\"white\",\"ticks\":\"\",\"title\":{\"standoff\":15},\"zerolinecolor\":\"white\",\"zerolinewidth\":2},\"yaxis\":{\"automargin\":true,\"gridcolor\":\"white\",\"linecolor\":\"white\",\"ticks\":\"\",\"title\":{\"standoff\":15},\"zerolinecolor\":\"white\",\"zerolinewidth\":2}}},\"title\":{\"font\":{\"color\":\"#4D5663\"}},\"xaxis\":{\"gridcolor\":\"#E1E5ED\",\"showgrid\":true,\"tickfont\":{\"color\":\"#4D5663\"},\"title\":{\"font\":{\"color\":\"#4D5663\"},\"text\":\"\"},\"zerolinecolor\":\"#E1E5ED\"},\"yaxis\":{\"domain\":[0.3,1],\"gridcolor\":\"#E1E5ED\",\"showgrid\":true,\"tickfont\":{\"color\":\"#4D5663\"},\"title\":{\"font\":{\"color\":\"#4D5663\"},\"text\":\"\"},\"zerolinecolor\":\"#E1E5ED\"},\"yaxis2\":{\"domain\":[0,0.25],\"gridcolor\":\"#E1E5ED\",\"showgrid\":true,\"tickfont\":{\"color\":\"#4D5663\"},\"title\":{\"font\":{\"color\":\"#4D5663\"},\"text\":\"Spread\"},\"zerolinecolor\":\"#E1E5ED\"},\"xaxis2\":{\"anchor\":\"y2\",\"gridcolor\":\"#E1E5ED\",\"showgrid\":true,\"showticklabels\":false,\"tickfont\":{\"color\":\"#4D5663\"},\"title\":{\"font\":{\"color\":\"#4D5663\"},\"text\":\"\"},\"zerolinecolor\":\"#E1E5ED\"}},                        {\"showLink\": true, \"linkText\": \"Export to plot.ly\", \"plotlyServerURL\": \"https://plot.ly\", \"responsive\": true}                    ).then(function(){\n",
       "                            \n",
       "var gd = document.getElementById('72c8ce40-5fa2-4829-9db4-ec19905952e6');\n",
       "var x = new MutationObserver(function (mutations, observer) {{\n",
       "        var display = window.getComputedStyle(gd).display;\n",
       "        if (!display || display === 'none') {{\n",
       "            console.log([gd, 'removed!']);\n",
       "            Plotly.purge(gd);\n",
       "            observer.disconnect();\n",
       "        }}\n",
       "}});\n",
       "\n",
       "// Listen for the removal of the full notebook cells\n",
       "var notebookContainer = gd.closest('#notebook-container');\n",
       "if (notebookContainer) {{\n",
       "    x.observe(notebookContainer, {childList: true});\n",
       "}}\n",
       "\n",
       "// Listen for the clearing of the current output cell\n",
       "var outputEl = gd.closest('.output');\n",
       "if (outputEl) {{\n",
       "    x.observe(outputEl, {childList: true});\n",
       "}}\n",
       "\n",
       "                        })                };                });            </script>        </div>"
      ]
     },
     "metadata": {},
     "output_type": "display_data"
    }
   ],
   "source": [
    "df[['A','B']].iplot(kind='spread')"
   ]
  },
  {
   "cell_type": "markdown",
   "metadata": {},
   "source": [
    "## histogram"
   ]
  },
  {
   "cell_type": "code",
   "execution_count": 16,
   "metadata": {
    "collapsed": false
   },
   "outputs": [
    {
     "data": {
      "application/vnd.plotly.v1+json": {
       "config": {
        "linkText": "Export to plot.ly",
        "plotlyServerURL": "https://plot.ly",
        "showLink": true
       },
       "data": [
        {
         "histfunc": "count",
         "histnorm": "",
         "marker": {
          "color": "rgba(255, 153, 51, 1.0)",
          "line": {
           "color": "#4D5663",
           "width": 1.3
          }
         },
         "name": "A",
         "nbinsx": 25,
         "opacity": 0.8,
         "orientation": "v",
         "type": "histogram",
         "x": [
          -1.23367774458424,
          0.7354606535590142,
          0.18297916358793126,
          0.4997206964909568,
          -0.4164376791113165,
          0.7725868189495974,
          -0.3190709225596303,
          -0.34509557310354055,
          0.17571314182171857,
          1.2832496432359026,
          -0.6701622872223576,
          0.1726151343541529,
          -0.5371486714244423,
          0.14866247108121355,
          -1.1134174896360065,
          0.9181426264528164,
          0.2916545629339712,
          -1.5327750870756958,
          -1.4981000212493611,
          -0.6778356750220685,
          1.735421358474536,
          -0.6843482671654342,
          -2.3903111255154244,
          -0.19203745335697894,
          -0.7727337242600216,
          0.4851640083650962,
          -0.03687388157122996,
          -0.28013428904290666,
          0.13278542161376505,
          0.3119355241632733,
          1.5559893421845665,
          -0.14961659575442454,
          -0.6254401403525508,
          0.14409253691847518,
          -0.17776408261353757,
          -1.506867556747576,
          -0.9417607912397659,
          1.8817932769503896,
          -0.09791659724689179,
          2.341697749668085,
          -1.0463068519188832,
          0.7667785456655989,
          0.3744052165922298,
          -0.11600890719464242,
          1.3157688037328155,
          -0.47044669371950476,
          0.5387585482327067,
          0.7425985029443694,
          0.9624955022877838,
          -0.2984520913272161,
          -0.2183144798873457,
          0.9022682433066121,
          1.155171384106318,
          -0.4639222451394979,
          1.9799373349193057,
          -0.9709105566083415,
          0.4266930092556539,
          0.7982776980272756,
          -0.788330192220676,
          2.214154651931596,
          0.8517386094525903,
          0.7307109968115925,
          0.7635729782447669,
          0.10645212322818463,
          0.36019364897067474,
          0.9746982639638698,
          -0.5556653065216498,
          0.17462254664205748,
          -1.8419332782616773,
          -1.985223300131962,
          0.7467115259440948,
          2.2401539237310297,
          -0.8646309336109702,
          0.03176867873429596,
          1.0856986000536937,
          0.5765714008077054,
          1.8425945746859302,
          -0.5982346749068658,
          1.281876291366642,
          -1.4856750066733857,
          -0.40617642583972385,
          1.227860895027526,
          -0.1516154355428637,
          -0.19119937484773103,
          1.6412982490327952,
          -0.16593239072305466,
          -1.2920286182886802,
          -0.8691861682544956,
          -1.850680027577851,
          2.257954454887254,
          2.6285325515955864,
          -0.0684629034273146,
          1.7513799068573954,
          -0.46705614107678833,
          -0.10754645646971306,
          0.3550472312638334,
          -0.030799279632314668,
          0.48260371806705854,
          0.6037213493070618,
          1.2001353535703647
         ]
        }
       ],
       "layout": {
        "barmode": "overlay",
        "legend": {
         "bgcolor": "#F5F6F9",
         "font": {
          "color": "#4D5663"
         }
        },
        "paper_bgcolor": "#F5F6F9",
        "plot_bgcolor": "#F5F6F9",
        "template": {
         "data": {
          "bar": [
           {
            "error_x": {
             "color": "#2a3f5f"
            },
            "error_y": {
             "color": "#2a3f5f"
            },
            "marker": {
             "line": {
              "color": "#E5ECF6",
              "width": 0.5
             },
             "pattern": {
              "fillmode": "overlay",
              "size": 10,
              "solidity": 0.2
             }
            },
            "type": "bar"
           }
          ],
          "barpolar": [
           {
            "marker": {
             "line": {
              "color": "#E5ECF6",
              "width": 0.5
             },
             "pattern": {
              "fillmode": "overlay",
              "size": 10,
              "solidity": 0.2
             }
            },
            "type": "barpolar"
           }
          ],
          "carpet": [
           {
            "aaxis": {
             "endlinecolor": "#2a3f5f",
             "gridcolor": "white",
             "linecolor": "white",
             "minorgridcolor": "white",
             "startlinecolor": "#2a3f5f"
            },
            "baxis": {
             "endlinecolor": "#2a3f5f",
             "gridcolor": "white",
             "linecolor": "white",
             "minorgridcolor": "white",
             "startlinecolor": "#2a3f5f"
            },
            "type": "carpet"
           }
          ],
          "choropleth": [
           {
            "colorbar": {
             "outlinewidth": 0,
             "ticks": ""
            },
            "type": "choropleth"
           }
          ],
          "contour": [
           {
            "colorbar": {
             "outlinewidth": 0,
             "ticks": ""
            },
            "colorscale": [
             [
              0,
              "#0d0887"
             ],
             [
              0.1111111111111111,
              "#46039f"
             ],
             [
              0.2222222222222222,
              "#7201a8"
             ],
             [
              0.3333333333333333,
              "#9c179e"
             ],
             [
              0.4444444444444444,
              "#bd3786"
             ],
             [
              0.5555555555555556,
              "#d8576b"
             ],
             [
              0.6666666666666666,
              "#ed7953"
             ],
             [
              0.7777777777777778,
              "#fb9f3a"
             ],
             [
              0.8888888888888888,
              "#fdca26"
             ],
             [
              1,
              "#f0f921"
             ]
            ],
            "type": "contour"
           }
          ],
          "contourcarpet": [
           {
            "colorbar": {
             "outlinewidth": 0,
             "ticks": ""
            },
            "type": "contourcarpet"
           }
          ],
          "heatmap": [
           {
            "colorbar": {
             "outlinewidth": 0,
             "ticks": ""
            },
            "colorscale": [
             [
              0,
              "#0d0887"
             ],
             [
              0.1111111111111111,
              "#46039f"
             ],
             [
              0.2222222222222222,
              "#7201a8"
             ],
             [
              0.3333333333333333,
              "#9c179e"
             ],
             [
              0.4444444444444444,
              "#bd3786"
             ],
             [
              0.5555555555555556,
              "#d8576b"
             ],
             [
              0.6666666666666666,
              "#ed7953"
             ],
             [
              0.7777777777777778,
              "#fb9f3a"
             ],
             [
              0.8888888888888888,
              "#fdca26"
             ],
             [
              1,
              "#f0f921"
             ]
            ],
            "type": "heatmap"
           }
          ],
          "heatmapgl": [
           {
            "colorbar": {
             "outlinewidth": 0,
             "ticks": ""
            },
            "colorscale": [
             [
              0,
              "#0d0887"
             ],
             [
              0.1111111111111111,
              "#46039f"
             ],
             [
              0.2222222222222222,
              "#7201a8"
             ],
             [
              0.3333333333333333,
              "#9c179e"
             ],
             [
              0.4444444444444444,
              "#bd3786"
             ],
             [
              0.5555555555555556,
              "#d8576b"
             ],
             [
              0.6666666666666666,
              "#ed7953"
             ],
             [
              0.7777777777777778,
              "#fb9f3a"
             ],
             [
              0.8888888888888888,
              "#fdca26"
             ],
             [
              1,
              "#f0f921"
             ]
            ],
            "type": "heatmapgl"
           }
          ],
          "histogram": [
           {
            "marker": {
             "pattern": {
              "fillmode": "overlay",
              "size": 10,
              "solidity": 0.2
             }
            },
            "type": "histogram"
           }
          ],
          "histogram2d": [
           {
            "colorbar": {
             "outlinewidth": 0,
             "ticks": ""
            },
            "colorscale": [
             [
              0,
              "#0d0887"
             ],
             [
              0.1111111111111111,
              "#46039f"
             ],
             [
              0.2222222222222222,
              "#7201a8"
             ],
             [
              0.3333333333333333,
              "#9c179e"
             ],
             [
              0.4444444444444444,
              "#bd3786"
             ],
             [
              0.5555555555555556,
              "#d8576b"
             ],
             [
              0.6666666666666666,
              "#ed7953"
             ],
             [
              0.7777777777777778,
              "#fb9f3a"
             ],
             [
              0.8888888888888888,
              "#fdca26"
             ],
             [
              1,
              "#f0f921"
             ]
            ],
            "type": "histogram2d"
           }
          ],
          "histogram2dcontour": [
           {
            "colorbar": {
             "outlinewidth": 0,
             "ticks": ""
            },
            "colorscale": [
             [
              0,
              "#0d0887"
             ],
             [
              0.1111111111111111,
              "#46039f"
             ],
             [
              0.2222222222222222,
              "#7201a8"
             ],
             [
              0.3333333333333333,
              "#9c179e"
             ],
             [
              0.4444444444444444,
              "#bd3786"
             ],
             [
              0.5555555555555556,
              "#d8576b"
             ],
             [
              0.6666666666666666,
              "#ed7953"
             ],
             [
              0.7777777777777778,
              "#fb9f3a"
             ],
             [
              0.8888888888888888,
              "#fdca26"
             ],
             [
              1,
              "#f0f921"
             ]
            ],
            "type": "histogram2dcontour"
           }
          ],
          "mesh3d": [
           {
            "colorbar": {
             "outlinewidth": 0,
             "ticks": ""
            },
            "type": "mesh3d"
           }
          ],
          "parcoords": [
           {
            "line": {
             "colorbar": {
              "outlinewidth": 0,
              "ticks": ""
             }
            },
            "type": "parcoords"
           }
          ],
          "pie": [
           {
            "automargin": true,
            "type": "pie"
           }
          ],
          "scatter": [
           {
            "fillpattern": {
             "fillmode": "overlay",
             "size": 10,
             "solidity": 0.2
            },
            "type": "scatter"
           }
          ],
          "scatter3d": [
           {
            "line": {
             "colorbar": {
              "outlinewidth": 0,
              "ticks": ""
             }
            },
            "marker": {
             "colorbar": {
              "outlinewidth": 0,
              "ticks": ""
             }
            },
            "type": "scatter3d"
           }
          ],
          "scattercarpet": [
           {
            "marker": {
             "colorbar": {
              "outlinewidth": 0,
              "ticks": ""
             }
            },
            "type": "scattercarpet"
           }
          ],
          "scattergeo": [
           {
            "marker": {
             "colorbar": {
              "outlinewidth": 0,
              "ticks": ""
             }
            },
            "type": "scattergeo"
           }
          ],
          "scattergl": [
           {
            "marker": {
             "colorbar": {
              "outlinewidth": 0,
              "ticks": ""
             }
            },
            "type": "scattergl"
           }
          ],
          "scattermapbox": [
           {
            "marker": {
             "colorbar": {
              "outlinewidth": 0,
              "ticks": ""
             }
            },
            "type": "scattermapbox"
           }
          ],
          "scatterpolar": [
           {
            "marker": {
             "colorbar": {
              "outlinewidth": 0,
              "ticks": ""
             }
            },
            "type": "scatterpolar"
           }
          ],
          "scatterpolargl": [
           {
            "marker": {
             "colorbar": {
              "outlinewidth": 0,
              "ticks": ""
             }
            },
            "type": "scatterpolargl"
           }
          ],
          "scatterternary": [
           {
            "marker": {
             "colorbar": {
              "outlinewidth": 0,
              "ticks": ""
             }
            },
            "type": "scatterternary"
           }
          ],
          "surface": [
           {
            "colorbar": {
             "outlinewidth": 0,
             "ticks": ""
            },
            "colorscale": [
             [
              0,
              "#0d0887"
             ],
             [
              0.1111111111111111,
              "#46039f"
             ],
             [
              0.2222222222222222,
              "#7201a8"
             ],
             [
              0.3333333333333333,
              "#9c179e"
             ],
             [
              0.4444444444444444,
              "#bd3786"
             ],
             [
              0.5555555555555556,
              "#d8576b"
             ],
             [
              0.6666666666666666,
              "#ed7953"
             ],
             [
              0.7777777777777778,
              "#fb9f3a"
             ],
             [
              0.8888888888888888,
              "#fdca26"
             ],
             [
              1,
              "#f0f921"
             ]
            ],
            "type": "surface"
           }
          ],
          "table": [
           {
            "cells": {
             "fill": {
              "color": "#EBF0F8"
             },
             "line": {
              "color": "white"
             }
            },
            "header": {
             "fill": {
              "color": "#C8D4E3"
             },
             "line": {
              "color": "white"
             }
            },
            "type": "table"
           }
          ]
         },
         "layout": {
          "annotationdefaults": {
           "arrowcolor": "#2a3f5f",
           "arrowhead": 0,
           "arrowwidth": 1
          },
          "autotypenumbers": "strict",
          "coloraxis": {
           "colorbar": {
            "outlinewidth": 0,
            "ticks": ""
           }
          },
          "colorscale": {
           "diverging": [
            [
             0,
             "#8e0152"
            ],
            [
             0.1,
             "#c51b7d"
            ],
            [
             0.2,
             "#de77ae"
            ],
            [
             0.3,
             "#f1b6da"
            ],
            [
             0.4,
             "#fde0ef"
            ],
            [
             0.5,
             "#f7f7f7"
            ],
            [
             0.6,
             "#e6f5d0"
            ],
            [
             0.7,
             "#b8e186"
            ],
            [
             0.8,
             "#7fbc41"
            ],
            [
             0.9,
             "#4d9221"
            ],
            [
             1,
             "#276419"
            ]
           ],
           "sequential": [
            [
             0,
             "#0d0887"
            ],
            [
             0.1111111111111111,
             "#46039f"
            ],
            [
             0.2222222222222222,
             "#7201a8"
            ],
            [
             0.3333333333333333,
             "#9c179e"
            ],
            [
             0.4444444444444444,
             "#bd3786"
            ],
            [
             0.5555555555555556,
             "#d8576b"
            ],
            [
             0.6666666666666666,
             "#ed7953"
            ],
            [
             0.7777777777777778,
             "#fb9f3a"
            ],
            [
             0.8888888888888888,
             "#fdca26"
            ],
            [
             1,
             "#f0f921"
            ]
           ],
           "sequentialminus": [
            [
             0,
             "#0d0887"
            ],
            [
             0.1111111111111111,
             "#46039f"
            ],
            [
             0.2222222222222222,
             "#7201a8"
            ],
            [
             0.3333333333333333,
             "#9c179e"
            ],
            [
             0.4444444444444444,
             "#bd3786"
            ],
            [
             0.5555555555555556,
             "#d8576b"
            ],
            [
             0.6666666666666666,
             "#ed7953"
            ],
            [
             0.7777777777777778,
             "#fb9f3a"
            ],
            [
             0.8888888888888888,
             "#fdca26"
            ],
            [
             1,
             "#f0f921"
            ]
           ]
          },
          "colorway": [
           "#636efa",
           "#EF553B",
           "#00cc96",
           "#ab63fa",
           "#FFA15A",
           "#19d3f3",
           "#FF6692",
           "#B6E880",
           "#FF97FF",
           "#FECB52"
          ],
          "font": {
           "color": "#2a3f5f"
          },
          "geo": {
           "bgcolor": "white",
           "lakecolor": "white",
           "landcolor": "#E5ECF6",
           "showlakes": true,
           "showland": true,
           "subunitcolor": "white"
          },
          "hoverlabel": {
           "align": "left"
          },
          "hovermode": "closest",
          "mapbox": {
           "style": "light"
          },
          "paper_bgcolor": "white",
          "plot_bgcolor": "#E5ECF6",
          "polar": {
           "angularaxis": {
            "gridcolor": "white",
            "linecolor": "white",
            "ticks": ""
           },
           "bgcolor": "#E5ECF6",
           "radialaxis": {
            "gridcolor": "white",
            "linecolor": "white",
            "ticks": ""
           }
          },
          "scene": {
           "xaxis": {
            "backgroundcolor": "#E5ECF6",
            "gridcolor": "white",
            "gridwidth": 2,
            "linecolor": "white",
            "showbackground": true,
            "ticks": "",
            "zerolinecolor": "white"
           },
           "yaxis": {
            "backgroundcolor": "#E5ECF6",
            "gridcolor": "white",
            "gridwidth": 2,
            "linecolor": "white",
            "showbackground": true,
            "ticks": "",
            "zerolinecolor": "white"
           },
           "zaxis": {
            "backgroundcolor": "#E5ECF6",
            "gridcolor": "white",
            "gridwidth": 2,
            "linecolor": "white",
            "showbackground": true,
            "ticks": "",
            "zerolinecolor": "white"
           }
          },
          "shapedefaults": {
           "line": {
            "color": "#2a3f5f"
           }
          },
          "ternary": {
           "aaxis": {
            "gridcolor": "white",
            "linecolor": "white",
            "ticks": ""
           },
           "baxis": {
            "gridcolor": "white",
            "linecolor": "white",
            "ticks": ""
           },
           "bgcolor": "#E5ECF6",
           "caxis": {
            "gridcolor": "white",
            "linecolor": "white",
            "ticks": ""
           }
          },
          "title": {
           "x": 0.05
          },
          "xaxis": {
           "automargin": true,
           "gridcolor": "white",
           "linecolor": "white",
           "ticks": "",
           "title": {
            "standoff": 15
           },
           "zerolinecolor": "white",
           "zerolinewidth": 2
          },
          "yaxis": {
           "automargin": true,
           "gridcolor": "white",
           "linecolor": "white",
           "ticks": "",
           "title": {
            "standoff": 15
           },
           "zerolinecolor": "white",
           "zerolinewidth": 2
          }
         }
        },
        "title": {
         "font": {
          "color": "#4D5663"
         }
        },
        "xaxis": {
         "gridcolor": "#E1E5ED",
         "showgrid": true,
         "tickfont": {
          "color": "#4D5663"
         },
         "title": {
          "font": {
           "color": "#4D5663"
          },
          "text": ""
         },
         "zerolinecolor": "#E1E5ED"
        },
        "yaxis": {
         "gridcolor": "#E1E5ED",
         "showgrid": true,
         "tickfont": {
          "color": "#4D5663"
         },
         "title": {
          "font": {
           "color": "#4D5663"
          },
          "text": ""
         },
         "zerolinecolor": "#E1E5ED"
        }
       }
      },
      "text/html": [
       "<div>                            <div id=\"ea4ef2e9-6028-4090-95a0-f5f65129b46b\" class=\"plotly-graph-div\" style=\"height:525px; width:100%;\"></div>            <script type=\"text/javascript\">                require([\"plotly\"], function(Plotly) {                    window.PLOTLYENV=window.PLOTLYENV || {};\n",
       "                    window.PLOTLYENV.BASE_URL='https://plot.ly';                                    if (document.getElementById(\"ea4ef2e9-6028-4090-95a0-f5f65129b46b\")) {                    Plotly.newPlot(                        \"ea4ef2e9-6028-4090-95a0-f5f65129b46b\",                        [{\"histfunc\":\"count\",\"histnorm\":\"\",\"marker\":{\"color\":\"rgba(255, 153, 51, 1.0)\",\"line\":{\"color\":\"#4D5663\",\"width\":1.3}},\"name\":\"A\",\"nbinsx\":25,\"opacity\":0.8,\"orientation\":\"v\",\"x\":[-1.23367774458424,0.7354606535590142,0.18297916358793126,0.4997206964909568,-0.4164376791113165,0.7725868189495974,-0.3190709225596303,-0.34509557310354055,0.17571314182171857,1.2832496432359026,-0.6701622872223576,0.1726151343541529,-0.5371486714244423,0.14866247108121355,-1.1134174896360065,0.9181426264528164,0.2916545629339712,-1.5327750870756958,-1.4981000212493611,-0.6778356750220685,1.735421358474536,-0.6843482671654342,-2.3903111255154244,-0.19203745335697894,-0.7727337242600216,0.4851640083650962,-0.03687388157122996,-0.28013428904290666,0.13278542161376505,0.3119355241632733,1.5559893421845665,-0.14961659575442454,-0.6254401403525508,0.14409253691847518,-0.17776408261353757,-1.506867556747576,-0.9417607912397659,1.8817932769503896,-0.09791659724689179,2.341697749668085,-1.0463068519188832,0.7667785456655989,0.3744052165922298,-0.11600890719464242,1.3157688037328155,-0.47044669371950476,0.5387585482327067,0.7425985029443694,0.9624955022877838,-0.2984520913272161,-0.2183144798873457,0.9022682433066121,1.155171384106318,-0.4639222451394979,1.9799373349193057,-0.9709105566083415,0.4266930092556539,0.7982776980272756,-0.788330192220676,2.214154651931596,0.8517386094525903,0.7307109968115925,0.7635729782447669,0.10645212322818463,0.36019364897067474,0.9746982639638698,-0.5556653065216498,0.17462254664205748,-1.8419332782616773,-1.985223300131962,0.7467115259440948,2.2401539237310297,-0.8646309336109702,0.03176867873429596,1.0856986000536937,0.5765714008077054,1.8425945746859302,-0.5982346749068658,1.281876291366642,-1.4856750066733857,-0.40617642583972385,1.227860895027526,-0.1516154355428637,-0.19119937484773103,1.6412982490327952,-0.16593239072305466,-1.2920286182886802,-0.8691861682544956,-1.850680027577851,2.257954454887254,2.6285325515955864,-0.0684629034273146,1.7513799068573954,-0.46705614107678833,-0.10754645646971306,0.3550472312638334,-0.030799279632314668,0.48260371806705854,0.6037213493070618,1.2001353535703647],\"type\":\"histogram\"}],                        {\"barmode\":\"overlay\",\"legend\":{\"bgcolor\":\"#F5F6F9\",\"font\":{\"color\":\"#4D5663\"}},\"paper_bgcolor\":\"#F5F6F9\",\"plot_bgcolor\":\"#F5F6F9\",\"template\":{\"data\":{\"barpolar\":[{\"marker\":{\"line\":{\"color\":\"#E5ECF6\",\"width\":0.5},\"pattern\":{\"fillmode\":\"overlay\",\"size\":10,\"solidity\":0.2}},\"type\":\"barpolar\"}],\"bar\":[{\"error_x\":{\"color\":\"#2a3f5f\"},\"error_y\":{\"color\":\"#2a3f5f\"},\"marker\":{\"line\":{\"color\":\"#E5ECF6\",\"width\":0.5},\"pattern\":{\"fillmode\":\"overlay\",\"size\":10,\"solidity\":0.2}},\"type\":\"bar\"}],\"carpet\":[{\"aaxis\":{\"endlinecolor\":\"#2a3f5f\",\"gridcolor\":\"white\",\"linecolor\":\"white\",\"minorgridcolor\":\"white\",\"startlinecolor\":\"#2a3f5f\"},\"baxis\":{\"endlinecolor\":\"#2a3f5f\",\"gridcolor\":\"white\",\"linecolor\":\"white\",\"minorgridcolor\":\"white\",\"startlinecolor\":\"#2a3f5f\"},\"type\":\"carpet\"}],\"choropleth\":[{\"colorbar\":{\"outlinewidth\":0,\"ticks\":\"\"},\"type\":\"choropleth\"}],\"contourcarpet\":[{\"colorbar\":{\"outlinewidth\":0,\"ticks\":\"\"},\"type\":\"contourcarpet\"}],\"contour\":[{\"colorbar\":{\"outlinewidth\":0,\"ticks\":\"\"},\"colorscale\":[[0.0,\"#0d0887\"],[0.1111111111111111,\"#46039f\"],[0.2222222222222222,\"#7201a8\"],[0.3333333333333333,\"#9c179e\"],[0.4444444444444444,\"#bd3786\"],[0.5555555555555556,\"#d8576b\"],[0.6666666666666666,\"#ed7953\"],[0.7777777777777778,\"#fb9f3a\"],[0.8888888888888888,\"#fdca26\"],[1.0,\"#f0f921\"]],\"type\":\"contour\"}],\"heatmapgl\":[{\"colorbar\":{\"outlinewidth\":0,\"ticks\":\"\"},\"colorscale\":[[0.0,\"#0d0887\"],[0.1111111111111111,\"#46039f\"],[0.2222222222222222,\"#7201a8\"],[0.3333333333333333,\"#9c179e\"],[0.4444444444444444,\"#bd3786\"],[0.5555555555555556,\"#d8576b\"],[0.6666666666666666,\"#ed7953\"],[0.7777777777777778,\"#fb9f3a\"],[0.8888888888888888,\"#fdca26\"],[1.0,\"#f0f921\"]],\"type\":\"heatmapgl\"}],\"heatmap\":[{\"colorbar\":{\"outlinewidth\":0,\"ticks\":\"\"},\"colorscale\":[[0.0,\"#0d0887\"],[0.1111111111111111,\"#46039f\"],[0.2222222222222222,\"#7201a8\"],[0.3333333333333333,\"#9c179e\"],[0.4444444444444444,\"#bd3786\"],[0.5555555555555556,\"#d8576b\"],[0.6666666666666666,\"#ed7953\"],[0.7777777777777778,\"#fb9f3a\"],[0.8888888888888888,\"#fdca26\"],[1.0,\"#f0f921\"]],\"type\":\"heatmap\"}],\"histogram2dcontour\":[{\"colorbar\":{\"outlinewidth\":0,\"ticks\":\"\"},\"colorscale\":[[0.0,\"#0d0887\"],[0.1111111111111111,\"#46039f\"],[0.2222222222222222,\"#7201a8\"],[0.3333333333333333,\"#9c179e\"],[0.4444444444444444,\"#bd3786\"],[0.5555555555555556,\"#d8576b\"],[0.6666666666666666,\"#ed7953\"],[0.7777777777777778,\"#fb9f3a\"],[0.8888888888888888,\"#fdca26\"],[1.0,\"#f0f921\"]],\"type\":\"histogram2dcontour\"}],\"histogram2d\":[{\"colorbar\":{\"outlinewidth\":0,\"ticks\":\"\"},\"colorscale\":[[0.0,\"#0d0887\"],[0.1111111111111111,\"#46039f\"],[0.2222222222222222,\"#7201a8\"],[0.3333333333333333,\"#9c179e\"],[0.4444444444444444,\"#bd3786\"],[0.5555555555555556,\"#d8576b\"],[0.6666666666666666,\"#ed7953\"],[0.7777777777777778,\"#fb9f3a\"],[0.8888888888888888,\"#fdca26\"],[1.0,\"#f0f921\"]],\"type\":\"histogram2d\"}],\"histogram\":[{\"marker\":{\"pattern\":{\"fillmode\":\"overlay\",\"size\":10,\"solidity\":0.2}},\"type\":\"histogram\"}],\"mesh3d\":[{\"colorbar\":{\"outlinewidth\":0,\"ticks\":\"\"},\"type\":\"mesh3d\"}],\"parcoords\":[{\"line\":{\"colorbar\":{\"outlinewidth\":0,\"ticks\":\"\"}},\"type\":\"parcoords\"}],\"pie\":[{\"automargin\":true,\"type\":\"pie\"}],\"scatter3d\":[{\"line\":{\"colorbar\":{\"outlinewidth\":0,\"ticks\":\"\"}},\"marker\":{\"colorbar\":{\"outlinewidth\":0,\"ticks\":\"\"}},\"type\":\"scatter3d\"}],\"scattercarpet\":[{\"marker\":{\"colorbar\":{\"outlinewidth\":0,\"ticks\":\"\"}},\"type\":\"scattercarpet\"}],\"scattergeo\":[{\"marker\":{\"colorbar\":{\"outlinewidth\":0,\"ticks\":\"\"}},\"type\":\"scattergeo\"}],\"scattergl\":[{\"marker\":{\"colorbar\":{\"outlinewidth\":0,\"ticks\":\"\"}},\"type\":\"scattergl\"}],\"scattermapbox\":[{\"marker\":{\"colorbar\":{\"outlinewidth\":0,\"ticks\":\"\"}},\"type\":\"scattermapbox\"}],\"scatterpolargl\":[{\"marker\":{\"colorbar\":{\"outlinewidth\":0,\"ticks\":\"\"}},\"type\":\"scatterpolargl\"}],\"scatterpolar\":[{\"marker\":{\"colorbar\":{\"outlinewidth\":0,\"ticks\":\"\"}},\"type\":\"scatterpolar\"}],\"scatter\":[{\"fillpattern\":{\"fillmode\":\"overlay\",\"size\":10,\"solidity\":0.2},\"type\":\"scatter\"}],\"scatterternary\":[{\"marker\":{\"colorbar\":{\"outlinewidth\":0,\"ticks\":\"\"}},\"type\":\"scatterternary\"}],\"surface\":[{\"colorbar\":{\"outlinewidth\":0,\"ticks\":\"\"},\"colorscale\":[[0.0,\"#0d0887\"],[0.1111111111111111,\"#46039f\"],[0.2222222222222222,\"#7201a8\"],[0.3333333333333333,\"#9c179e\"],[0.4444444444444444,\"#bd3786\"],[0.5555555555555556,\"#d8576b\"],[0.6666666666666666,\"#ed7953\"],[0.7777777777777778,\"#fb9f3a\"],[0.8888888888888888,\"#fdca26\"],[1.0,\"#f0f921\"]],\"type\":\"surface\"}],\"table\":[{\"cells\":{\"fill\":{\"color\":\"#EBF0F8\"},\"line\":{\"color\":\"white\"}},\"header\":{\"fill\":{\"color\":\"#C8D4E3\"},\"line\":{\"color\":\"white\"}},\"type\":\"table\"}]},\"layout\":{\"annotationdefaults\":{\"arrowcolor\":\"#2a3f5f\",\"arrowhead\":0,\"arrowwidth\":1},\"autotypenumbers\":\"strict\",\"coloraxis\":{\"colorbar\":{\"outlinewidth\":0,\"ticks\":\"\"}},\"colorscale\":{\"diverging\":[[0,\"#8e0152\"],[0.1,\"#c51b7d\"],[0.2,\"#de77ae\"],[0.3,\"#f1b6da\"],[0.4,\"#fde0ef\"],[0.5,\"#f7f7f7\"],[0.6,\"#e6f5d0\"],[0.7,\"#b8e186\"],[0.8,\"#7fbc41\"],[0.9,\"#4d9221\"],[1,\"#276419\"]],\"sequential\":[[0.0,\"#0d0887\"],[0.1111111111111111,\"#46039f\"],[0.2222222222222222,\"#7201a8\"],[0.3333333333333333,\"#9c179e\"],[0.4444444444444444,\"#bd3786\"],[0.5555555555555556,\"#d8576b\"],[0.6666666666666666,\"#ed7953\"],[0.7777777777777778,\"#fb9f3a\"],[0.8888888888888888,\"#fdca26\"],[1.0,\"#f0f921\"]],\"sequentialminus\":[[0.0,\"#0d0887\"],[0.1111111111111111,\"#46039f\"],[0.2222222222222222,\"#7201a8\"],[0.3333333333333333,\"#9c179e\"],[0.4444444444444444,\"#bd3786\"],[0.5555555555555556,\"#d8576b\"],[0.6666666666666666,\"#ed7953\"],[0.7777777777777778,\"#fb9f3a\"],[0.8888888888888888,\"#fdca26\"],[1.0,\"#f0f921\"]]},\"colorway\":[\"#636efa\",\"#EF553B\",\"#00cc96\",\"#ab63fa\",\"#FFA15A\",\"#19d3f3\",\"#FF6692\",\"#B6E880\",\"#FF97FF\",\"#FECB52\"],\"font\":{\"color\":\"#2a3f5f\"},\"geo\":{\"bgcolor\":\"white\",\"lakecolor\":\"white\",\"landcolor\":\"#E5ECF6\",\"showlakes\":true,\"showland\":true,\"subunitcolor\":\"white\"},\"hoverlabel\":{\"align\":\"left\"},\"hovermode\":\"closest\",\"mapbox\":{\"style\":\"light\"},\"paper_bgcolor\":\"white\",\"plot_bgcolor\":\"#E5ECF6\",\"polar\":{\"angularaxis\":{\"gridcolor\":\"white\",\"linecolor\":\"white\",\"ticks\":\"\"},\"bgcolor\":\"#E5ECF6\",\"radialaxis\":{\"gridcolor\":\"white\",\"linecolor\":\"white\",\"ticks\":\"\"}},\"scene\":{\"xaxis\":{\"backgroundcolor\":\"#E5ECF6\",\"gridcolor\":\"white\",\"gridwidth\":2,\"linecolor\":\"white\",\"showbackground\":true,\"ticks\":\"\",\"zerolinecolor\":\"white\"},\"yaxis\":{\"backgroundcolor\":\"#E5ECF6\",\"gridcolor\":\"white\",\"gridwidth\":2,\"linecolor\":\"white\",\"showbackground\":true,\"ticks\":\"\",\"zerolinecolor\":\"white\"},\"zaxis\":{\"backgroundcolor\":\"#E5ECF6\",\"gridcolor\":\"white\",\"gridwidth\":2,\"linecolor\":\"white\",\"showbackground\":true,\"ticks\":\"\",\"zerolinecolor\":\"white\"}},\"shapedefaults\":{\"line\":{\"color\":\"#2a3f5f\"}},\"ternary\":{\"aaxis\":{\"gridcolor\":\"white\",\"linecolor\":\"white\",\"ticks\":\"\"},\"baxis\":{\"gridcolor\":\"white\",\"linecolor\":\"white\",\"ticks\":\"\"},\"bgcolor\":\"#E5ECF6\",\"caxis\":{\"gridcolor\":\"white\",\"linecolor\":\"white\",\"ticks\":\"\"}},\"title\":{\"x\":0.05},\"xaxis\":{\"automargin\":true,\"gridcolor\":\"white\",\"linecolor\":\"white\",\"ticks\":\"\",\"title\":{\"standoff\":15},\"zerolinecolor\":\"white\",\"zerolinewidth\":2},\"yaxis\":{\"automargin\":true,\"gridcolor\":\"white\",\"linecolor\":\"white\",\"ticks\":\"\",\"title\":{\"standoff\":15},\"zerolinecolor\":\"white\",\"zerolinewidth\":2}}},\"title\":{\"font\":{\"color\":\"#4D5663\"}},\"xaxis\":{\"gridcolor\":\"#E1E5ED\",\"showgrid\":true,\"tickfont\":{\"color\":\"#4D5663\"},\"title\":{\"font\":{\"color\":\"#4D5663\"},\"text\":\"\"},\"zerolinecolor\":\"#E1E5ED\"},\"yaxis\":{\"gridcolor\":\"#E1E5ED\",\"showgrid\":true,\"tickfont\":{\"color\":\"#4D5663\"},\"title\":{\"font\":{\"color\":\"#4D5663\"},\"text\":\"\"},\"zerolinecolor\":\"#E1E5ED\"}},                        {\"showLink\": true, \"linkText\": \"Export to plot.ly\", \"plotlyServerURL\": \"https://plot.ly\", \"responsive\": true}                    ).then(function(){\n",
       "                            \n",
       "var gd = document.getElementById('ea4ef2e9-6028-4090-95a0-f5f65129b46b');\n",
       "var x = new MutationObserver(function (mutations, observer) {{\n",
       "        var display = window.getComputedStyle(gd).display;\n",
       "        if (!display || display === 'none') {{\n",
       "            console.log([gd, 'removed!']);\n",
       "            Plotly.purge(gd);\n",
       "            observer.disconnect();\n",
       "        }}\n",
       "}});\n",
       "\n",
       "// Listen for the removal of the full notebook cells\n",
       "var notebookContainer = gd.closest('#notebook-container');\n",
       "if (notebookContainer) {{\n",
       "    x.observe(notebookContainer, {childList: true});\n",
       "}}\n",
       "\n",
       "// Listen for the clearing of the current output cell\n",
       "var outputEl = gd.closest('.output');\n",
       "if (outputEl) {{\n",
       "    x.observe(outputEl, {childList: true});\n",
       "}}\n",
       "\n",
       "                        })                };                });            </script>        </div>"
      ]
     },
     "metadata": {},
     "output_type": "display_data"
    }
   ],
   "source": [
    "df['A'].iplot(kind='hist',bins=25)"
   ]
  },
  {
   "cell_type": "code",
   "execution_count": 17,
   "metadata": {
    "collapsed": false
   },
   "outputs": [
    {
     "data": {
      "application/vnd.plotly.v1+json": {
       "config": {
        "linkText": "Export to plot.ly",
        "plotlyServerURL": "https://plot.ly",
        "showLink": true
       },
       "data": [
        {
         "marker": {
          "color": [
           "rgb(255, 153, 51)",
           "rgb(55, 128, 191)",
           "rgb(50, 171, 96)",
           "rgb(128, 0, 128)",
           "rgb(219, 64, 82)",
           "rgb(0, 128, 128)",
           "rgb(255, 255, 51)",
           "rgb(128, 128, 0)",
           "rgb(251, 128, 114)",
           "rgb(128, 177, 211)"
          ],
          "line": {
           "width": 1.3
          },
          "size": [
           49,
           21,
           34,
           111,
           55,
           97,
           27,
           76,
           19,
           24,
           59,
           33,
           38,
           60,
           87,
           53,
           79,
           60,
           33,
           39,
           49,
           105,
           81,
           36,
           22,
           48,
           53,
           59,
           69,
           70,
           59,
           67,
           112,
           79,
           55,
           66,
           65,
           32,
           23,
           73,
           45,
           67,
           34,
           82,
           66,
           58,
           83,
           41,
           58,
           49,
           25,
           47,
           31,
           58,
           93,
           64,
           92,
           91,
           73,
           57,
           87,
           47,
           16,
           64,
           62,
           49,
           38,
           59,
           55,
           74,
           50,
           25,
           12,
           80,
           87,
           67,
           66,
           100,
           35,
           53,
           27,
           39,
           74,
           85,
           43,
           74,
           47,
           92,
           87,
           60,
           26,
           53,
           47,
           49,
           21,
           22,
           103,
           68,
           18,
           47
          ],
          "symbol": "circle"
         },
         "mode": "markers",
         "text": "",
         "type": "scatter",
         "x": [
          -1.23367774458424,
          0.7354606535590142,
          0.18297916358793126,
          0.4997206964909568,
          -0.4164376791113165,
          0.7725868189495974,
          -0.3190709225596303,
          -0.34509557310354055,
          0.17571314182171857,
          1.2832496432359026,
          -0.6701622872223576,
          0.1726151343541529,
          -0.5371486714244423,
          0.14866247108121355,
          -1.1134174896360065,
          0.9181426264528164,
          0.2916545629339712,
          -1.5327750870756958,
          -1.4981000212493611,
          -0.6778356750220685,
          1.735421358474536,
          -0.6843482671654342,
          -2.3903111255154244,
          -0.19203745335697894,
          -0.7727337242600216,
          0.4851640083650962,
          -0.03687388157122996,
          -0.28013428904290666,
          0.13278542161376505,
          0.3119355241632733,
          1.5559893421845665,
          -0.14961659575442454,
          -0.6254401403525508,
          0.14409253691847518,
          -0.17776408261353757,
          -1.506867556747576,
          -0.9417607912397659,
          1.8817932769503896,
          -0.09791659724689179,
          2.341697749668085,
          -1.0463068519188832,
          0.7667785456655989,
          0.3744052165922298,
          -0.11600890719464242,
          1.3157688037328155,
          -0.47044669371950476,
          0.5387585482327067,
          0.7425985029443694,
          0.9624955022877838,
          -0.2984520913272161,
          -0.2183144798873457,
          0.9022682433066121,
          1.155171384106318,
          -0.4639222451394979,
          1.9799373349193057,
          -0.9709105566083415,
          0.4266930092556539,
          0.7982776980272756,
          -0.788330192220676,
          2.214154651931596,
          0.8517386094525903,
          0.7307109968115925,
          0.7635729782447669,
          0.10645212322818463,
          0.36019364897067474,
          0.9746982639638698,
          -0.5556653065216498,
          0.17462254664205748,
          -1.8419332782616773,
          -1.985223300131962,
          0.7467115259440948,
          2.2401539237310297,
          -0.8646309336109702,
          0.03176867873429596,
          1.0856986000536937,
          0.5765714008077054,
          1.8425945746859302,
          -0.5982346749068658,
          1.281876291366642,
          -1.4856750066733857,
          -0.40617642583972385,
          1.227860895027526,
          -0.1516154355428637,
          -0.19119937484773103,
          1.6412982490327952,
          -0.16593239072305466,
          -1.2920286182886802,
          -0.8691861682544956,
          -1.850680027577851,
          2.257954454887254,
          2.6285325515955864,
          -0.0684629034273146,
          1.7513799068573954,
          -0.46705614107678833,
          -0.10754645646971306,
          0.3550472312638334,
          -0.030799279632314668,
          0.48260371806705854,
          0.6037213493070618,
          1.2001353535703647
         ],
         "y": [
          1.6136967679655434,
          -1.7743454628646287,
          -0.7203287172843124,
          -0.6117954031487445,
          -0.5009445747690496,
          -0.24161844138377042,
          -0.08872694595508866,
          0.9414124362805255,
          -1.3156998667030655,
          -1.4071666051435512,
          0.5936163122545488,
          -1.4425960457191493,
          0.8871373825005632,
          0.7934761210859214,
          1.6388025932684638,
          -0.11005133315602779,
          -0.10825386825750678,
          0.0025098233379851074,
          0.2872930674671653,
          -0.6648284861864668,
          -0.15297087907323706,
          -0.22340340462924857,
          -1.046194162796279,
          -0.6992987713385544,
          -1.428382051025518,
          2.2717657882437416,
          -0.2991219216134819,
          0.8036729570996414,
          0.07473183143488986,
          0.03629793496927448,
          0.7282501907601823,
          -0.468992428764272,
          1.1354729217609987,
          -0.17500536226349744,
          -0.8823112338592987,
          -1.0267863666982082,
          0.22929164557760115,
          0.08166986290003601,
          -0.4330250214952117,
          -1.4768571379632707,
          -0.03836514380320835,
          0.5605916358916565,
          0.3208280805065191,
          -0.30636035654476584,
          -0.5856938781868646,
          -0.9413963300297031,
          -1.8328437051415842,
          0.3633607192627451,
          0.014613820067525655,
          -2.0581325295536987,
          -0.5814716694456769,
          -0.645961870134278,
          -0.9509169358479385,
          -0.5364320563027563,
          -0.09927241848365108,
          1.1677610430726344,
          0.3140389325576045,
          2.2953591028356666,
          -0.811016454177509,
          -1.0738306708614167,
          -0.5448157712114431,
          1.0117744371276478,
          0.4037143519820321,
          -0.07573006893551563,
          0.20146794629997267,
          -0.3682498559607633,
          -1.051561812832864,
          0.9742748100847685,
          -1.8840815140861575,
          -1.163604661761712,
          0.2695935706119995,
          -0.2153451906084906,
          -0.4643422556942716,
          -0.03181141759971215,
          1.601791961152759,
          -1.263754355144204,
          -0.4277428623143499,
          0.3758165557541959,
          0.466825436020422,
          0.12952785501322436,
          -1.1010703462267066,
          -1.2236492596008608,
          0.01927986704213586,
          -0.6869701717286061,
          -0.6547097891615642,
          -0.2396485802567933,
          -0.05472819079502166,
          -2.6898646855476485,
          -1.2873936728903954,
          0.6240206318014331,
          1.249178232250976,
          0.4185312567426191,
          -1.4588386970350944,
          -0.19460072611954962,
          0.509326925798342,
          0.1338898266727817,
          -1.2748281912315276,
          -1.3360835573105292,
          -0.2282333872994752,
          1.0511136019093947
         ]
        }
       ],
       "layout": {
        "legend": {
         "bgcolor": "#F5F6F9",
         "font": {
          "color": "#4D5663"
         }
        },
        "paper_bgcolor": "#F5F6F9",
        "plot_bgcolor": "#F5F6F9",
        "template": {
         "data": {
          "bar": [
           {
            "error_x": {
             "color": "#2a3f5f"
            },
            "error_y": {
             "color": "#2a3f5f"
            },
            "marker": {
             "line": {
              "color": "#E5ECF6",
              "width": 0.5
             },
             "pattern": {
              "fillmode": "overlay",
              "size": 10,
              "solidity": 0.2
             }
            },
            "type": "bar"
           }
          ],
          "barpolar": [
           {
            "marker": {
             "line": {
              "color": "#E5ECF6",
              "width": 0.5
             },
             "pattern": {
              "fillmode": "overlay",
              "size": 10,
              "solidity": 0.2
             }
            },
            "type": "barpolar"
           }
          ],
          "carpet": [
           {
            "aaxis": {
             "endlinecolor": "#2a3f5f",
             "gridcolor": "white",
             "linecolor": "white",
             "minorgridcolor": "white",
             "startlinecolor": "#2a3f5f"
            },
            "baxis": {
             "endlinecolor": "#2a3f5f",
             "gridcolor": "white",
             "linecolor": "white",
             "minorgridcolor": "white",
             "startlinecolor": "#2a3f5f"
            },
            "type": "carpet"
           }
          ],
          "choropleth": [
           {
            "colorbar": {
             "outlinewidth": 0,
             "ticks": ""
            },
            "type": "choropleth"
           }
          ],
          "contour": [
           {
            "colorbar": {
             "outlinewidth": 0,
             "ticks": ""
            },
            "colorscale": [
             [
              0,
              "#0d0887"
             ],
             [
              0.1111111111111111,
              "#46039f"
             ],
             [
              0.2222222222222222,
              "#7201a8"
             ],
             [
              0.3333333333333333,
              "#9c179e"
             ],
             [
              0.4444444444444444,
              "#bd3786"
             ],
             [
              0.5555555555555556,
              "#d8576b"
             ],
             [
              0.6666666666666666,
              "#ed7953"
             ],
             [
              0.7777777777777778,
              "#fb9f3a"
             ],
             [
              0.8888888888888888,
              "#fdca26"
             ],
             [
              1,
              "#f0f921"
             ]
            ],
            "type": "contour"
           }
          ],
          "contourcarpet": [
           {
            "colorbar": {
             "outlinewidth": 0,
             "ticks": ""
            },
            "type": "contourcarpet"
           }
          ],
          "heatmap": [
           {
            "colorbar": {
             "outlinewidth": 0,
             "ticks": ""
            },
            "colorscale": [
             [
              0,
              "#0d0887"
             ],
             [
              0.1111111111111111,
              "#46039f"
             ],
             [
              0.2222222222222222,
              "#7201a8"
             ],
             [
              0.3333333333333333,
              "#9c179e"
             ],
             [
              0.4444444444444444,
              "#bd3786"
             ],
             [
              0.5555555555555556,
              "#d8576b"
             ],
             [
              0.6666666666666666,
              "#ed7953"
             ],
             [
              0.7777777777777778,
              "#fb9f3a"
             ],
             [
              0.8888888888888888,
              "#fdca26"
             ],
             [
              1,
              "#f0f921"
             ]
            ],
            "type": "heatmap"
           }
          ],
          "heatmapgl": [
           {
            "colorbar": {
             "outlinewidth": 0,
             "ticks": ""
            },
            "colorscale": [
             [
              0,
              "#0d0887"
             ],
             [
              0.1111111111111111,
              "#46039f"
             ],
             [
              0.2222222222222222,
              "#7201a8"
             ],
             [
              0.3333333333333333,
              "#9c179e"
             ],
             [
              0.4444444444444444,
              "#bd3786"
             ],
             [
              0.5555555555555556,
              "#d8576b"
             ],
             [
              0.6666666666666666,
              "#ed7953"
             ],
             [
              0.7777777777777778,
              "#fb9f3a"
             ],
             [
              0.8888888888888888,
              "#fdca26"
             ],
             [
              1,
              "#f0f921"
             ]
            ],
            "type": "heatmapgl"
           }
          ],
          "histogram": [
           {
            "marker": {
             "pattern": {
              "fillmode": "overlay",
              "size": 10,
              "solidity": 0.2
             }
            },
            "type": "histogram"
           }
          ],
          "histogram2d": [
           {
            "colorbar": {
             "outlinewidth": 0,
             "ticks": ""
            },
            "colorscale": [
             [
              0,
              "#0d0887"
             ],
             [
              0.1111111111111111,
              "#46039f"
             ],
             [
              0.2222222222222222,
              "#7201a8"
             ],
             [
              0.3333333333333333,
              "#9c179e"
             ],
             [
              0.4444444444444444,
              "#bd3786"
             ],
             [
              0.5555555555555556,
              "#d8576b"
             ],
             [
              0.6666666666666666,
              "#ed7953"
             ],
             [
              0.7777777777777778,
              "#fb9f3a"
             ],
             [
              0.8888888888888888,
              "#fdca26"
             ],
             [
              1,
              "#f0f921"
             ]
            ],
            "type": "histogram2d"
           }
          ],
          "histogram2dcontour": [
           {
            "colorbar": {
             "outlinewidth": 0,
             "ticks": ""
            },
            "colorscale": [
             [
              0,
              "#0d0887"
             ],
             [
              0.1111111111111111,
              "#46039f"
             ],
             [
              0.2222222222222222,
              "#7201a8"
             ],
             [
              0.3333333333333333,
              "#9c179e"
             ],
             [
              0.4444444444444444,
              "#bd3786"
             ],
             [
              0.5555555555555556,
              "#d8576b"
             ],
             [
              0.6666666666666666,
              "#ed7953"
             ],
             [
              0.7777777777777778,
              "#fb9f3a"
             ],
             [
              0.8888888888888888,
              "#fdca26"
             ],
             [
              1,
              "#f0f921"
             ]
            ],
            "type": "histogram2dcontour"
           }
          ],
          "mesh3d": [
           {
            "colorbar": {
             "outlinewidth": 0,
             "ticks": ""
            },
            "type": "mesh3d"
           }
          ],
          "parcoords": [
           {
            "line": {
             "colorbar": {
              "outlinewidth": 0,
              "ticks": ""
             }
            },
            "type": "parcoords"
           }
          ],
          "pie": [
           {
            "automargin": true,
            "type": "pie"
           }
          ],
          "scatter": [
           {
            "fillpattern": {
             "fillmode": "overlay",
             "size": 10,
             "solidity": 0.2
            },
            "type": "scatter"
           }
          ],
          "scatter3d": [
           {
            "line": {
             "colorbar": {
              "outlinewidth": 0,
              "ticks": ""
             }
            },
            "marker": {
             "colorbar": {
              "outlinewidth": 0,
              "ticks": ""
             }
            },
            "type": "scatter3d"
           }
          ],
          "scattercarpet": [
           {
            "marker": {
             "colorbar": {
              "outlinewidth": 0,
              "ticks": ""
             }
            },
            "type": "scattercarpet"
           }
          ],
          "scattergeo": [
           {
            "marker": {
             "colorbar": {
              "outlinewidth": 0,
              "ticks": ""
             }
            },
            "type": "scattergeo"
           }
          ],
          "scattergl": [
           {
            "marker": {
             "colorbar": {
              "outlinewidth": 0,
              "ticks": ""
             }
            },
            "type": "scattergl"
           }
          ],
          "scattermapbox": [
           {
            "marker": {
             "colorbar": {
              "outlinewidth": 0,
              "ticks": ""
             }
            },
            "type": "scattermapbox"
           }
          ],
          "scatterpolar": [
           {
            "marker": {
             "colorbar": {
              "outlinewidth": 0,
              "ticks": ""
             }
            },
            "type": "scatterpolar"
           }
          ],
          "scatterpolargl": [
           {
            "marker": {
             "colorbar": {
              "outlinewidth": 0,
              "ticks": ""
             }
            },
            "type": "scatterpolargl"
           }
          ],
          "scatterternary": [
           {
            "marker": {
             "colorbar": {
              "outlinewidth": 0,
              "ticks": ""
             }
            },
            "type": "scatterternary"
           }
          ],
          "surface": [
           {
            "colorbar": {
             "outlinewidth": 0,
             "ticks": ""
            },
            "colorscale": [
             [
              0,
              "#0d0887"
             ],
             [
              0.1111111111111111,
              "#46039f"
             ],
             [
              0.2222222222222222,
              "#7201a8"
             ],
             [
              0.3333333333333333,
              "#9c179e"
             ],
             [
              0.4444444444444444,
              "#bd3786"
             ],
             [
              0.5555555555555556,
              "#d8576b"
             ],
             [
              0.6666666666666666,
              "#ed7953"
             ],
             [
              0.7777777777777778,
              "#fb9f3a"
             ],
             [
              0.8888888888888888,
              "#fdca26"
             ],
             [
              1,
              "#f0f921"
             ]
            ],
            "type": "surface"
           }
          ],
          "table": [
           {
            "cells": {
             "fill": {
              "color": "#EBF0F8"
             },
             "line": {
              "color": "white"
             }
            },
            "header": {
             "fill": {
              "color": "#C8D4E3"
             },
             "line": {
              "color": "white"
             }
            },
            "type": "table"
           }
          ]
         },
         "layout": {
          "annotationdefaults": {
           "arrowcolor": "#2a3f5f",
           "arrowhead": 0,
           "arrowwidth": 1
          },
          "autotypenumbers": "strict",
          "coloraxis": {
           "colorbar": {
            "outlinewidth": 0,
            "ticks": ""
           }
          },
          "colorscale": {
           "diverging": [
            [
             0,
             "#8e0152"
            ],
            [
             0.1,
             "#c51b7d"
            ],
            [
             0.2,
             "#de77ae"
            ],
            [
             0.3,
             "#f1b6da"
            ],
            [
             0.4,
             "#fde0ef"
            ],
            [
             0.5,
             "#f7f7f7"
            ],
            [
             0.6,
             "#e6f5d0"
            ],
            [
             0.7,
             "#b8e186"
            ],
            [
             0.8,
             "#7fbc41"
            ],
            [
             0.9,
             "#4d9221"
            ],
            [
             1,
             "#276419"
            ]
           ],
           "sequential": [
            [
             0,
             "#0d0887"
            ],
            [
             0.1111111111111111,
             "#46039f"
            ],
            [
             0.2222222222222222,
             "#7201a8"
            ],
            [
             0.3333333333333333,
             "#9c179e"
            ],
            [
             0.4444444444444444,
             "#bd3786"
            ],
            [
             0.5555555555555556,
             "#d8576b"
            ],
            [
             0.6666666666666666,
             "#ed7953"
            ],
            [
             0.7777777777777778,
             "#fb9f3a"
            ],
            [
             0.8888888888888888,
             "#fdca26"
            ],
            [
             1,
             "#f0f921"
            ]
           ],
           "sequentialminus": [
            [
             0,
             "#0d0887"
            ],
            [
             0.1111111111111111,
             "#46039f"
            ],
            [
             0.2222222222222222,
             "#7201a8"
            ],
            [
             0.3333333333333333,
             "#9c179e"
            ],
            [
             0.4444444444444444,
             "#bd3786"
            ],
            [
             0.5555555555555556,
             "#d8576b"
            ],
            [
             0.6666666666666666,
             "#ed7953"
            ],
            [
             0.7777777777777778,
             "#fb9f3a"
            ],
            [
             0.8888888888888888,
             "#fdca26"
            ],
            [
             1,
             "#f0f921"
            ]
           ]
          },
          "colorway": [
           "#636efa",
           "#EF553B",
           "#00cc96",
           "#ab63fa",
           "#FFA15A",
           "#19d3f3",
           "#FF6692",
           "#B6E880",
           "#FF97FF",
           "#FECB52"
          ],
          "font": {
           "color": "#2a3f5f"
          },
          "geo": {
           "bgcolor": "white",
           "lakecolor": "white",
           "landcolor": "#E5ECF6",
           "showlakes": true,
           "showland": true,
           "subunitcolor": "white"
          },
          "hoverlabel": {
           "align": "left"
          },
          "hovermode": "closest",
          "mapbox": {
           "style": "light"
          },
          "paper_bgcolor": "white",
          "plot_bgcolor": "#E5ECF6",
          "polar": {
           "angularaxis": {
            "gridcolor": "white",
            "linecolor": "white",
            "ticks": ""
           },
           "bgcolor": "#E5ECF6",
           "radialaxis": {
            "gridcolor": "white",
            "linecolor": "white",
            "ticks": ""
           }
          },
          "scene": {
           "xaxis": {
            "backgroundcolor": "#E5ECF6",
            "gridcolor": "white",
            "gridwidth": 2,
            "linecolor": "white",
            "showbackground": true,
            "ticks": "",
            "zerolinecolor": "white"
           },
           "yaxis": {
            "backgroundcolor": "#E5ECF6",
            "gridcolor": "white",
            "gridwidth": 2,
            "linecolor": "white",
            "showbackground": true,
            "ticks": "",
            "zerolinecolor": "white"
           },
           "zaxis": {
            "backgroundcolor": "#E5ECF6",
            "gridcolor": "white",
            "gridwidth": 2,
            "linecolor": "white",
            "showbackground": true,
            "ticks": "",
            "zerolinecolor": "white"
           }
          },
          "shapedefaults": {
           "line": {
            "color": "#2a3f5f"
           }
          },
          "ternary": {
           "aaxis": {
            "gridcolor": "white",
            "linecolor": "white",
            "ticks": ""
           },
           "baxis": {
            "gridcolor": "white",
            "linecolor": "white",
            "ticks": ""
           },
           "bgcolor": "#E5ECF6",
           "caxis": {
            "gridcolor": "white",
            "linecolor": "white",
            "ticks": ""
           }
          },
          "title": {
           "x": 0.05
          },
          "xaxis": {
           "automargin": true,
           "gridcolor": "white",
           "linecolor": "white",
           "ticks": "",
           "title": {
            "standoff": 15
           },
           "zerolinecolor": "white",
           "zerolinewidth": 2
          },
          "yaxis": {
           "automargin": true,
           "gridcolor": "white",
           "linecolor": "white",
           "ticks": "",
           "title": {
            "standoff": 15
           },
           "zerolinecolor": "white",
           "zerolinewidth": 2
          }
         }
        },
        "title": {
         "font": {
          "color": "#4D5663"
         }
        },
        "xaxis": {
         "gridcolor": "#E1E5ED",
         "showgrid": true,
         "tickfont": {
          "color": "#4D5663"
         },
         "title": {
          "font": {
           "color": "#4D5663"
          },
          "text": ""
         },
         "zerolinecolor": "#E1E5ED"
        },
        "yaxis": {
         "gridcolor": "#E1E5ED",
         "showgrid": true,
         "tickfont": {
          "color": "#4D5663"
         },
         "title": {
          "font": {
           "color": "#4D5663"
          },
          "text": ""
         },
         "zerolinecolor": "#E1E5ED"
        }
       }
      },
      "text/html": [
       "<div>                            <div id=\"52a25f85-a355-4bc2-beb5-89a8caae98d3\" class=\"plotly-graph-div\" style=\"height:525px; width:100%;\"></div>            <script type=\"text/javascript\">                require([\"plotly\"], function(Plotly) {                    window.PLOTLYENV=window.PLOTLYENV || {};\n",
       "                    window.PLOTLYENV.BASE_URL='https://plot.ly';                                    if (document.getElementById(\"52a25f85-a355-4bc2-beb5-89a8caae98d3\")) {                    Plotly.newPlot(                        \"52a25f85-a355-4bc2-beb5-89a8caae98d3\",                        [{\"marker\":{\"color\":[\"rgb(255, 153, 51)\",\"rgb(55, 128, 191)\",\"rgb(50, 171, 96)\",\"rgb(128, 0, 128)\",\"rgb(219, 64, 82)\",\"rgb(0, 128, 128)\",\"rgb(255, 255, 51)\",\"rgb(128, 128, 0)\",\"rgb(251, 128, 114)\",\"rgb(128, 177, 211)\"],\"line\":{\"width\":1.3},\"size\":[49,21,34,111,55,97,27,76,19,24,59,33,38,60,87,53,79,60,33,39,49,105,81,36,22,48,53,59,69,70,59,67,112,79,55,66,65,32,23,73,45,67,34,82,66,58,83,41,58,49,25,47,31,58,93,64,92,91,73,57,87,47,16,64,62,49,38,59,55,74,50,25,12,80,87,67,66,100,35,53,27,39,74,85,43,74,47,92,87,60,26,53,47,49,21,22,103,68,18,47],\"symbol\":\"circle\"},\"mode\":\"markers\",\"text\":\"\",\"x\":[-1.23367774458424,0.7354606535590142,0.18297916358793126,0.4997206964909568,-0.4164376791113165,0.7725868189495974,-0.3190709225596303,-0.34509557310354055,0.17571314182171857,1.2832496432359026,-0.6701622872223576,0.1726151343541529,-0.5371486714244423,0.14866247108121355,-1.1134174896360065,0.9181426264528164,0.2916545629339712,-1.5327750870756958,-1.4981000212493611,-0.6778356750220685,1.735421358474536,-0.6843482671654342,-2.3903111255154244,-0.19203745335697894,-0.7727337242600216,0.4851640083650962,-0.03687388157122996,-0.28013428904290666,0.13278542161376505,0.3119355241632733,1.5559893421845665,-0.14961659575442454,-0.6254401403525508,0.14409253691847518,-0.17776408261353757,-1.506867556747576,-0.9417607912397659,1.8817932769503896,-0.09791659724689179,2.341697749668085,-1.0463068519188832,0.7667785456655989,0.3744052165922298,-0.11600890719464242,1.3157688037328155,-0.47044669371950476,0.5387585482327067,0.7425985029443694,0.9624955022877838,-0.2984520913272161,-0.2183144798873457,0.9022682433066121,1.155171384106318,-0.4639222451394979,1.9799373349193057,-0.9709105566083415,0.4266930092556539,0.7982776980272756,-0.788330192220676,2.214154651931596,0.8517386094525903,0.7307109968115925,0.7635729782447669,0.10645212322818463,0.36019364897067474,0.9746982639638698,-0.5556653065216498,0.17462254664205748,-1.8419332782616773,-1.985223300131962,0.7467115259440948,2.2401539237310297,-0.8646309336109702,0.03176867873429596,1.0856986000536937,0.5765714008077054,1.8425945746859302,-0.5982346749068658,1.281876291366642,-1.4856750066733857,-0.40617642583972385,1.227860895027526,-0.1516154355428637,-0.19119937484773103,1.6412982490327952,-0.16593239072305466,-1.2920286182886802,-0.8691861682544956,-1.850680027577851,2.257954454887254,2.6285325515955864,-0.0684629034273146,1.7513799068573954,-0.46705614107678833,-0.10754645646971306,0.3550472312638334,-0.030799279632314668,0.48260371806705854,0.6037213493070618,1.2001353535703647],\"y\":[1.6136967679655434,-1.7743454628646287,-0.7203287172843124,-0.6117954031487445,-0.5009445747690496,-0.24161844138377042,-0.08872694595508866,0.9414124362805255,-1.3156998667030655,-1.4071666051435512,0.5936163122545488,-1.4425960457191493,0.8871373825005632,0.7934761210859214,1.6388025932684638,-0.11005133315602779,-0.10825386825750678,0.0025098233379851074,0.2872930674671653,-0.6648284861864668,-0.15297087907323706,-0.22340340462924857,-1.046194162796279,-0.6992987713385544,-1.428382051025518,2.2717657882437416,-0.2991219216134819,0.8036729570996414,0.07473183143488986,0.03629793496927448,0.7282501907601823,-0.468992428764272,1.1354729217609987,-0.17500536226349744,-0.8823112338592987,-1.0267863666982082,0.22929164557760115,0.08166986290003601,-0.4330250214952117,-1.4768571379632707,-0.03836514380320835,0.5605916358916565,0.3208280805065191,-0.30636035654476584,-0.5856938781868646,-0.9413963300297031,-1.8328437051415842,0.3633607192627451,0.014613820067525655,-2.0581325295536987,-0.5814716694456769,-0.645961870134278,-0.9509169358479385,-0.5364320563027563,-0.09927241848365108,1.1677610430726344,0.3140389325576045,2.2953591028356666,-0.811016454177509,-1.0738306708614167,-0.5448157712114431,1.0117744371276478,0.4037143519820321,-0.07573006893551563,0.20146794629997267,-0.3682498559607633,-1.051561812832864,0.9742748100847685,-1.8840815140861575,-1.163604661761712,0.2695935706119995,-0.2153451906084906,-0.4643422556942716,-0.03181141759971215,1.601791961152759,-1.263754355144204,-0.4277428623143499,0.3758165557541959,0.466825436020422,0.12952785501322436,-1.1010703462267066,-1.2236492596008608,0.01927986704213586,-0.6869701717286061,-0.6547097891615642,-0.2396485802567933,-0.05472819079502166,-2.6898646855476485,-1.2873936728903954,0.6240206318014331,1.249178232250976,0.4185312567426191,-1.4588386970350944,-0.19460072611954962,0.509326925798342,0.1338898266727817,-1.2748281912315276,-1.3360835573105292,-0.2282333872994752,1.0511136019093947],\"type\":\"scatter\"}],                        {\"legend\":{\"bgcolor\":\"#F5F6F9\",\"font\":{\"color\":\"#4D5663\"}},\"paper_bgcolor\":\"#F5F6F9\",\"plot_bgcolor\":\"#F5F6F9\",\"template\":{\"data\":{\"barpolar\":[{\"marker\":{\"line\":{\"color\":\"#E5ECF6\",\"width\":0.5},\"pattern\":{\"fillmode\":\"overlay\",\"size\":10,\"solidity\":0.2}},\"type\":\"barpolar\"}],\"bar\":[{\"error_x\":{\"color\":\"#2a3f5f\"},\"error_y\":{\"color\":\"#2a3f5f\"},\"marker\":{\"line\":{\"color\":\"#E5ECF6\",\"width\":0.5},\"pattern\":{\"fillmode\":\"overlay\",\"size\":10,\"solidity\":0.2}},\"type\":\"bar\"}],\"carpet\":[{\"aaxis\":{\"endlinecolor\":\"#2a3f5f\",\"gridcolor\":\"white\",\"linecolor\":\"white\",\"minorgridcolor\":\"white\",\"startlinecolor\":\"#2a3f5f\"},\"baxis\":{\"endlinecolor\":\"#2a3f5f\",\"gridcolor\":\"white\",\"linecolor\":\"white\",\"minorgridcolor\":\"white\",\"startlinecolor\":\"#2a3f5f\"},\"type\":\"carpet\"}],\"choropleth\":[{\"colorbar\":{\"outlinewidth\":0,\"ticks\":\"\"},\"type\":\"choropleth\"}],\"contourcarpet\":[{\"colorbar\":{\"outlinewidth\":0,\"ticks\":\"\"},\"type\":\"contourcarpet\"}],\"contour\":[{\"colorbar\":{\"outlinewidth\":0,\"ticks\":\"\"},\"colorscale\":[[0.0,\"#0d0887\"],[0.1111111111111111,\"#46039f\"],[0.2222222222222222,\"#7201a8\"],[0.3333333333333333,\"#9c179e\"],[0.4444444444444444,\"#bd3786\"],[0.5555555555555556,\"#d8576b\"],[0.6666666666666666,\"#ed7953\"],[0.7777777777777778,\"#fb9f3a\"],[0.8888888888888888,\"#fdca26\"],[1.0,\"#f0f921\"]],\"type\":\"contour\"}],\"heatmapgl\":[{\"colorbar\":{\"outlinewidth\":0,\"ticks\":\"\"},\"colorscale\":[[0.0,\"#0d0887\"],[0.1111111111111111,\"#46039f\"],[0.2222222222222222,\"#7201a8\"],[0.3333333333333333,\"#9c179e\"],[0.4444444444444444,\"#bd3786\"],[0.5555555555555556,\"#d8576b\"],[0.6666666666666666,\"#ed7953\"],[0.7777777777777778,\"#fb9f3a\"],[0.8888888888888888,\"#fdca26\"],[1.0,\"#f0f921\"]],\"type\":\"heatmapgl\"}],\"heatmap\":[{\"colorbar\":{\"outlinewidth\":0,\"ticks\":\"\"},\"colorscale\":[[0.0,\"#0d0887\"],[0.1111111111111111,\"#46039f\"],[0.2222222222222222,\"#7201a8\"],[0.3333333333333333,\"#9c179e\"],[0.4444444444444444,\"#bd3786\"],[0.5555555555555556,\"#d8576b\"],[0.6666666666666666,\"#ed7953\"],[0.7777777777777778,\"#fb9f3a\"],[0.8888888888888888,\"#fdca26\"],[1.0,\"#f0f921\"]],\"type\":\"heatmap\"}],\"histogram2dcontour\":[{\"colorbar\":{\"outlinewidth\":0,\"ticks\":\"\"},\"colorscale\":[[0.0,\"#0d0887\"],[0.1111111111111111,\"#46039f\"],[0.2222222222222222,\"#7201a8\"],[0.3333333333333333,\"#9c179e\"],[0.4444444444444444,\"#bd3786\"],[0.5555555555555556,\"#d8576b\"],[0.6666666666666666,\"#ed7953\"],[0.7777777777777778,\"#fb9f3a\"],[0.8888888888888888,\"#fdca26\"],[1.0,\"#f0f921\"]],\"type\":\"histogram2dcontour\"}],\"histogram2d\":[{\"colorbar\":{\"outlinewidth\":0,\"ticks\":\"\"},\"colorscale\":[[0.0,\"#0d0887\"],[0.1111111111111111,\"#46039f\"],[0.2222222222222222,\"#7201a8\"],[0.3333333333333333,\"#9c179e\"],[0.4444444444444444,\"#bd3786\"],[0.5555555555555556,\"#d8576b\"],[0.6666666666666666,\"#ed7953\"],[0.7777777777777778,\"#fb9f3a\"],[0.8888888888888888,\"#fdca26\"],[1.0,\"#f0f921\"]],\"type\":\"histogram2d\"}],\"histogram\":[{\"marker\":{\"pattern\":{\"fillmode\":\"overlay\",\"size\":10,\"solidity\":0.2}},\"type\":\"histogram\"}],\"mesh3d\":[{\"colorbar\":{\"outlinewidth\":0,\"ticks\":\"\"},\"type\":\"mesh3d\"}],\"parcoords\":[{\"line\":{\"colorbar\":{\"outlinewidth\":0,\"ticks\":\"\"}},\"type\":\"parcoords\"}],\"pie\":[{\"automargin\":true,\"type\":\"pie\"}],\"scatter3d\":[{\"line\":{\"colorbar\":{\"outlinewidth\":0,\"ticks\":\"\"}},\"marker\":{\"colorbar\":{\"outlinewidth\":0,\"ticks\":\"\"}},\"type\":\"scatter3d\"}],\"scattercarpet\":[{\"marker\":{\"colorbar\":{\"outlinewidth\":0,\"ticks\":\"\"}},\"type\":\"scattercarpet\"}],\"scattergeo\":[{\"marker\":{\"colorbar\":{\"outlinewidth\":0,\"ticks\":\"\"}},\"type\":\"scattergeo\"}],\"scattergl\":[{\"marker\":{\"colorbar\":{\"outlinewidth\":0,\"ticks\":\"\"}},\"type\":\"scattergl\"}],\"scattermapbox\":[{\"marker\":{\"colorbar\":{\"outlinewidth\":0,\"ticks\":\"\"}},\"type\":\"scattermapbox\"}],\"scatterpolargl\":[{\"marker\":{\"colorbar\":{\"outlinewidth\":0,\"ticks\":\"\"}},\"type\":\"scatterpolargl\"}],\"scatterpolar\":[{\"marker\":{\"colorbar\":{\"outlinewidth\":0,\"ticks\":\"\"}},\"type\":\"scatterpolar\"}],\"scatter\":[{\"fillpattern\":{\"fillmode\":\"overlay\",\"size\":10,\"solidity\":0.2},\"type\":\"scatter\"}],\"scatterternary\":[{\"marker\":{\"colorbar\":{\"outlinewidth\":0,\"ticks\":\"\"}},\"type\":\"scatterternary\"}],\"surface\":[{\"colorbar\":{\"outlinewidth\":0,\"ticks\":\"\"},\"colorscale\":[[0.0,\"#0d0887\"],[0.1111111111111111,\"#46039f\"],[0.2222222222222222,\"#7201a8\"],[0.3333333333333333,\"#9c179e\"],[0.4444444444444444,\"#bd3786\"],[0.5555555555555556,\"#d8576b\"],[0.6666666666666666,\"#ed7953\"],[0.7777777777777778,\"#fb9f3a\"],[0.8888888888888888,\"#fdca26\"],[1.0,\"#f0f921\"]],\"type\":\"surface\"}],\"table\":[{\"cells\":{\"fill\":{\"color\":\"#EBF0F8\"},\"line\":{\"color\":\"white\"}},\"header\":{\"fill\":{\"color\":\"#C8D4E3\"},\"line\":{\"color\":\"white\"}},\"type\":\"table\"}]},\"layout\":{\"annotationdefaults\":{\"arrowcolor\":\"#2a3f5f\",\"arrowhead\":0,\"arrowwidth\":1},\"autotypenumbers\":\"strict\",\"coloraxis\":{\"colorbar\":{\"outlinewidth\":0,\"ticks\":\"\"}},\"colorscale\":{\"diverging\":[[0,\"#8e0152\"],[0.1,\"#c51b7d\"],[0.2,\"#de77ae\"],[0.3,\"#f1b6da\"],[0.4,\"#fde0ef\"],[0.5,\"#f7f7f7\"],[0.6,\"#e6f5d0\"],[0.7,\"#b8e186\"],[0.8,\"#7fbc41\"],[0.9,\"#4d9221\"],[1,\"#276419\"]],\"sequential\":[[0.0,\"#0d0887\"],[0.1111111111111111,\"#46039f\"],[0.2222222222222222,\"#7201a8\"],[0.3333333333333333,\"#9c179e\"],[0.4444444444444444,\"#bd3786\"],[0.5555555555555556,\"#d8576b\"],[0.6666666666666666,\"#ed7953\"],[0.7777777777777778,\"#fb9f3a\"],[0.8888888888888888,\"#fdca26\"],[1.0,\"#f0f921\"]],\"sequentialminus\":[[0.0,\"#0d0887\"],[0.1111111111111111,\"#46039f\"],[0.2222222222222222,\"#7201a8\"],[0.3333333333333333,\"#9c179e\"],[0.4444444444444444,\"#bd3786\"],[0.5555555555555556,\"#d8576b\"],[0.6666666666666666,\"#ed7953\"],[0.7777777777777778,\"#fb9f3a\"],[0.8888888888888888,\"#fdca26\"],[1.0,\"#f0f921\"]]},\"colorway\":[\"#636efa\",\"#EF553B\",\"#00cc96\",\"#ab63fa\",\"#FFA15A\",\"#19d3f3\",\"#FF6692\",\"#B6E880\",\"#FF97FF\",\"#FECB52\"],\"font\":{\"color\":\"#2a3f5f\"},\"geo\":{\"bgcolor\":\"white\",\"lakecolor\":\"white\",\"landcolor\":\"#E5ECF6\",\"showlakes\":true,\"showland\":true,\"subunitcolor\":\"white\"},\"hoverlabel\":{\"align\":\"left\"},\"hovermode\":\"closest\",\"mapbox\":{\"style\":\"light\"},\"paper_bgcolor\":\"white\",\"plot_bgcolor\":\"#E5ECF6\",\"polar\":{\"angularaxis\":{\"gridcolor\":\"white\",\"linecolor\":\"white\",\"ticks\":\"\"},\"bgcolor\":\"#E5ECF6\",\"radialaxis\":{\"gridcolor\":\"white\",\"linecolor\":\"white\",\"ticks\":\"\"}},\"scene\":{\"xaxis\":{\"backgroundcolor\":\"#E5ECF6\",\"gridcolor\":\"white\",\"gridwidth\":2,\"linecolor\":\"white\",\"showbackground\":true,\"ticks\":\"\",\"zerolinecolor\":\"white\"},\"yaxis\":{\"backgroundcolor\":\"#E5ECF6\",\"gridcolor\":\"white\",\"gridwidth\":2,\"linecolor\":\"white\",\"showbackground\":true,\"ticks\":\"\",\"zerolinecolor\":\"white\"},\"zaxis\":{\"backgroundcolor\":\"#E5ECF6\",\"gridcolor\":\"white\",\"gridwidth\":2,\"linecolor\":\"white\",\"showbackground\":true,\"ticks\":\"\",\"zerolinecolor\":\"white\"}},\"shapedefaults\":{\"line\":{\"color\":\"#2a3f5f\"}},\"ternary\":{\"aaxis\":{\"gridcolor\":\"white\",\"linecolor\":\"white\",\"ticks\":\"\"},\"baxis\":{\"gridcolor\":\"white\",\"linecolor\":\"white\",\"ticks\":\"\"},\"bgcolor\":\"#E5ECF6\",\"caxis\":{\"gridcolor\":\"white\",\"linecolor\":\"white\",\"ticks\":\"\"}},\"title\":{\"x\":0.05},\"xaxis\":{\"automargin\":true,\"gridcolor\":\"white\",\"linecolor\":\"white\",\"ticks\":\"\",\"title\":{\"standoff\":15},\"zerolinecolor\":\"white\",\"zerolinewidth\":2},\"yaxis\":{\"automargin\":true,\"gridcolor\":\"white\",\"linecolor\":\"white\",\"ticks\":\"\",\"title\":{\"standoff\":15},\"zerolinecolor\":\"white\",\"zerolinewidth\":2}}},\"title\":{\"font\":{\"color\":\"#4D5663\"}},\"xaxis\":{\"gridcolor\":\"#E1E5ED\",\"showgrid\":true,\"tickfont\":{\"color\":\"#4D5663\"},\"title\":{\"font\":{\"color\":\"#4D5663\"},\"text\":\"\"},\"zerolinecolor\":\"#E1E5ED\"},\"yaxis\":{\"gridcolor\":\"#E1E5ED\",\"showgrid\":true,\"tickfont\":{\"color\":\"#4D5663\"},\"title\":{\"font\":{\"color\":\"#4D5663\"},\"text\":\"\"},\"zerolinecolor\":\"#E1E5ED\"}},                        {\"showLink\": true, \"linkText\": \"Export to plot.ly\", \"plotlyServerURL\": \"https://plot.ly\", \"responsive\": true}                    ).then(function(){\n",
       "                            \n",
       "var gd = document.getElementById('52a25f85-a355-4bc2-beb5-89a8caae98d3');\n",
       "var x = new MutationObserver(function (mutations, observer) {{\n",
       "        var display = window.getComputedStyle(gd).display;\n",
       "        if (!display || display === 'none') {{\n",
       "            console.log([gd, 'removed!']);\n",
       "            Plotly.purge(gd);\n",
       "            observer.disconnect();\n",
       "        }}\n",
       "}});\n",
       "\n",
       "// Listen for the removal of the full notebook cells\n",
       "var notebookContainer = gd.closest('#notebook-container');\n",
       "if (notebookContainer) {{\n",
       "    x.observe(notebookContainer, {childList: true});\n",
       "}}\n",
       "\n",
       "// Listen for the clearing of the current output cell\n",
       "var outputEl = gd.closest('.output');\n",
       "if (outputEl) {{\n",
       "    x.observe(outputEl, {childList: true});\n",
       "}}\n",
       "\n",
       "                        })                };                });            </script>        </div>"
      ]
     },
     "metadata": {},
     "output_type": "display_data"
    }
   ],
   "source": [
    "df.iplot(kind='bubble',x='A',y='B',size='C')"
   ]
  },
  {
   "cell_type": "markdown",
   "metadata": {},
   "source": [
    "## scatter_matrix()\n",
    "\n",
    "Similar to sns.pairplot()"
   ]
  },
  {
   "cell_type": "code",
   "execution_count": 18,
   "metadata": {
    "collapsed": false
   },
   "outputs": [
    {
     "data": {
      "application/vnd.plotly.v1+json": {
       "config": {
        "linkText": "Export to plot.ly",
        "plotlyServerURL": "https://plot.ly",
        "showLink": true
       },
       "data": [
        {
         "histfunc": "count",
         "histnorm": "",
         "marker": {
          "color": "rgba(255, 153, 51, 1.0)",
          "line": {
           "color": "#4D5663",
           "width": 1.3
          }
         },
         "name": "A",
         "nbinsx": 10,
         "opacity": 0.8,
         "orientation": "v",
         "type": "histogram",
         "x": [
          -1.23367774458424,
          0.7354606535590142,
          0.18297916358793126,
          0.4997206964909568,
          -0.4164376791113165,
          0.7725868189495974,
          -0.3190709225596303,
          -0.34509557310354055,
          0.17571314182171857,
          1.2832496432359026,
          -0.6701622872223576,
          0.1726151343541529,
          -0.5371486714244423,
          0.14866247108121355,
          -1.1134174896360065,
          0.9181426264528164,
          0.2916545629339712,
          -1.5327750870756958,
          -1.4981000212493611,
          -0.6778356750220685,
          1.735421358474536,
          -0.6843482671654342,
          -2.3903111255154244,
          -0.19203745335697894,
          -0.7727337242600216,
          0.4851640083650962,
          -0.03687388157122996,
          -0.28013428904290666,
          0.13278542161376505,
          0.3119355241632733,
          1.5559893421845665,
          -0.14961659575442454,
          -0.6254401403525508,
          0.14409253691847518,
          -0.17776408261353757,
          -1.506867556747576,
          -0.9417607912397659,
          1.8817932769503896,
          -0.09791659724689179,
          2.341697749668085,
          -1.0463068519188832,
          0.7667785456655989,
          0.3744052165922298,
          -0.11600890719464242,
          1.3157688037328155,
          -0.47044669371950476,
          0.5387585482327067,
          0.7425985029443694,
          0.9624955022877838,
          -0.2984520913272161,
          -0.2183144798873457,
          0.9022682433066121,
          1.155171384106318,
          -0.4639222451394979,
          1.9799373349193057,
          -0.9709105566083415,
          0.4266930092556539,
          0.7982776980272756,
          -0.788330192220676,
          2.214154651931596,
          0.8517386094525903,
          0.7307109968115925,
          0.7635729782447669,
          0.10645212322818463,
          0.36019364897067474,
          0.9746982639638698,
          -0.5556653065216498,
          0.17462254664205748,
          -1.8419332782616773,
          -1.985223300131962,
          0.7467115259440948,
          2.2401539237310297,
          -0.8646309336109702,
          0.03176867873429596,
          1.0856986000536937,
          0.5765714008077054,
          1.8425945746859302,
          -0.5982346749068658,
          1.281876291366642,
          -1.4856750066733857,
          -0.40617642583972385,
          1.227860895027526,
          -0.1516154355428637,
          -0.19119937484773103,
          1.6412982490327952,
          -0.16593239072305466,
          -1.2920286182886802,
          -0.8691861682544956,
          -1.850680027577851,
          2.257954454887254,
          2.6285325515955864,
          -0.0684629034273146,
          1.7513799068573954,
          -0.46705614107678833,
          -0.10754645646971306,
          0.3550472312638334,
          -0.030799279632314668,
          0.48260371806705854,
          0.6037213493070618,
          1.2001353535703647
         ],
         "xaxis": "x",
         "yaxis": "y"
        },
        {
         "line": {
          "color": "rgba(128, 128, 128, 1.0)",
          "dash": "solid",
          "shape": "linear",
          "width": 1.3
         },
         "marker": {
          "size": 2,
          "symbol": "circle"
         },
         "mode": "markers",
         "name": "A",
         "text": "",
         "type": "scatter",
         "x": [
          1.6136967679655434,
          -1.7743454628646287,
          -0.7203287172843124,
          -0.6117954031487445,
          -0.5009445747690496,
          -0.24161844138377042,
          -0.08872694595508866,
          0.9414124362805255,
          -1.3156998667030655,
          -1.4071666051435512,
          0.5936163122545488,
          -1.4425960457191493,
          0.8871373825005632,
          0.7934761210859214,
          1.6388025932684638,
          -0.11005133315602779,
          -0.10825386825750678,
          0.0025098233379851074,
          0.2872930674671653,
          -0.6648284861864668,
          -0.15297087907323706,
          -0.22340340462924857,
          -1.046194162796279,
          -0.6992987713385544,
          -1.428382051025518,
          2.2717657882437416,
          -0.2991219216134819,
          0.8036729570996414,
          0.07473183143488986,
          0.03629793496927448,
          0.7282501907601823,
          -0.468992428764272,
          1.1354729217609987,
          -0.17500536226349744,
          -0.8823112338592987,
          -1.0267863666982082,
          0.22929164557760115,
          0.08166986290003601,
          -0.4330250214952117,
          -1.4768571379632707,
          -0.03836514380320835,
          0.5605916358916565,
          0.3208280805065191,
          -0.30636035654476584,
          -0.5856938781868646,
          -0.9413963300297031,
          -1.8328437051415842,
          0.3633607192627451,
          0.014613820067525655,
          -2.0581325295536987,
          -0.5814716694456769,
          -0.645961870134278,
          -0.9509169358479385,
          -0.5364320563027563,
          -0.09927241848365108,
          1.1677610430726344,
          0.3140389325576045,
          2.2953591028356666,
          -0.811016454177509,
          -1.0738306708614167,
          -0.5448157712114431,
          1.0117744371276478,
          0.4037143519820321,
          -0.07573006893551563,
          0.20146794629997267,
          -0.3682498559607633,
          -1.051561812832864,
          0.9742748100847685,
          -1.8840815140861575,
          -1.163604661761712,
          0.2695935706119995,
          -0.2153451906084906,
          -0.4643422556942716,
          -0.03181141759971215,
          1.601791961152759,
          -1.263754355144204,
          -0.4277428623143499,
          0.3758165557541959,
          0.466825436020422,
          0.12952785501322436,
          -1.1010703462267066,
          -1.2236492596008608,
          0.01927986704213586,
          -0.6869701717286061,
          -0.6547097891615642,
          -0.2396485802567933,
          -0.05472819079502166,
          -2.6898646855476485,
          -1.2873936728903954,
          0.6240206318014331,
          1.249178232250976,
          0.4185312567426191,
          -1.4588386970350944,
          -0.19460072611954962,
          0.509326925798342,
          0.1338898266727817,
          -1.2748281912315276,
          -1.3360835573105292,
          -0.2282333872994752,
          1.0511136019093947
         ],
         "xaxis": "x2",
         "y": [
          -1.23367774458424,
          0.7354606535590142,
          0.18297916358793126,
          0.4997206964909568,
          -0.4164376791113165,
          0.7725868189495974,
          -0.3190709225596303,
          -0.34509557310354055,
          0.17571314182171857,
          1.2832496432359026,
          -0.6701622872223576,
          0.1726151343541529,
          -0.5371486714244423,
          0.14866247108121355,
          -1.1134174896360065,
          0.9181426264528164,
          0.2916545629339712,
          -1.5327750870756958,
          -1.4981000212493611,
          -0.6778356750220685,
          1.735421358474536,
          -0.6843482671654342,
          -2.3903111255154244,
          -0.19203745335697894,
          -0.7727337242600216,
          0.4851640083650962,
          -0.03687388157122996,
          -0.28013428904290666,
          0.13278542161376505,
          0.3119355241632733,
          1.5559893421845665,
          -0.14961659575442454,
          -0.6254401403525508,
          0.14409253691847518,
          -0.17776408261353757,
          -1.506867556747576,
          -0.9417607912397659,
          1.8817932769503896,
          -0.09791659724689179,
          2.341697749668085,
          -1.0463068519188832,
          0.7667785456655989,
          0.3744052165922298,
          -0.11600890719464242,
          1.3157688037328155,
          -0.47044669371950476,
          0.5387585482327067,
          0.7425985029443694,
          0.9624955022877838,
          -0.2984520913272161,
          -0.2183144798873457,
          0.9022682433066121,
          1.155171384106318,
          -0.4639222451394979,
          1.9799373349193057,
          -0.9709105566083415,
          0.4266930092556539,
          0.7982776980272756,
          -0.788330192220676,
          2.214154651931596,
          0.8517386094525903,
          0.7307109968115925,
          0.7635729782447669,
          0.10645212322818463,
          0.36019364897067474,
          0.9746982639638698,
          -0.5556653065216498,
          0.17462254664205748,
          -1.8419332782616773,
          -1.985223300131962,
          0.7467115259440948,
          2.2401539237310297,
          -0.8646309336109702,
          0.03176867873429596,
          1.0856986000536937,
          0.5765714008077054,
          1.8425945746859302,
          -0.5982346749068658,
          1.281876291366642,
          -1.4856750066733857,
          -0.40617642583972385,
          1.227860895027526,
          -0.1516154355428637,
          -0.19119937484773103,
          1.6412982490327952,
          -0.16593239072305466,
          -1.2920286182886802,
          -0.8691861682544956,
          -1.850680027577851,
          2.257954454887254,
          2.6285325515955864,
          -0.0684629034273146,
          1.7513799068573954,
          -0.46705614107678833,
          -0.10754645646971306,
          0.3550472312638334,
          -0.030799279632314668,
          0.48260371806705854,
          0.6037213493070618,
          1.2001353535703647
         ],
         "yaxis": "y2"
        },
        {
         "line": {
          "color": "rgba(128, 128, 128, 1.0)",
          "dash": "solid",
          "shape": "linear",
          "width": 1.3
         },
         "marker": {
          "size": 2,
          "symbol": "circle"
         },
         "mode": "markers",
         "name": "A",
         "text": "",
         "type": "scatter",
         "x": [
          -0.34370852148833775,
          -1.6037070888676004,
          -1.0117519586533903,
          2.3520700857796037,
          -0.07800786087730324,
          1.7477028399367123,
          -1.3134636218504039,
          0.834917922822358,
          -1.6879711424176278,
          -1.4631717164175138,
          0.06260354179374829,
          -1.058293815930557,
          -0.8547977131737582,
          0.12040414862863882,
          1.320848958790828,
          -0.1663789255787278,
          0.956055668413484,
          0.13652661175792463,
          -1.0486821992527868,
          -0.8123151430828478,
          -0.3603782295493598,
          2.0800555742838696,
          1.0279573944752483,
          -0.9285579023018954,
          -1.5249896100398639,
          -0.42251603931199544,
          -0.17278746245657228,
          0.09971652959597924,
          0.5245379305962313,
          0.5758482550732602,
          0.08999784454025511,
          0.4246620759988931,
          2.385590884310923,
          0.9435396158109014,
          -0.10350349061134614,
          0.37869652762416994,
          0.3506595888281066,
          -1.1023064841618144,
          -1.515163438097079,
          0.7018189655599872,
          -0.5472974960629561,
          0.45086640912233394,
          -1.0323496052416319,
          1.0781607798625312,
          0.40589874379108193,
          0.04796820422522915,
          1.1483656721206774,
          -0.7254572801758798,
          0.03615515285397519,
          -0.3629751313234159,
          -1.4103474431164458,
          -0.444878978022152,
          -1.1567563260758529,
          0.05392222192325666,
          1.5723888163918553,
          0.3168075874475406,
          1.5084826520533836,
          1.5033058696550723,
          0.7140032131679233,
          -0.013307389720520662,
          1.303203326685032,
          -0.46656882533908856,
          -1.787337883505314,
          0.289923762209665,
          0.20032842830256625,
          -0.36130641876922126,
          -0.8394345059986312,
          0.09568776491921355,
          -0.1009539924355601,
          0.7409983668257607,
          -0.31442540937426433,
          -1.3967235868497487,
          -2.002851615229901,
          0.9813604252326612,
          1.2940876771427605,
          0.45236708325259406,
          0.39819579938627014,
          1.9013035021034381,
          -0.979183794087184,
          -0.19388177386612115,
          -1.3065320126945617,
          -0.8102323344833,
          0.7274599286254197,
          1.2253763472748123,
          -0.6328830446589793,
          0.7267424776293127,
          -0.4303729667109366,
          1.5517488795556174,
          1.2946292755127904,
          0.13838587736783844,
          -1.3493619397165506,
          -0.17864844790246678,
          -0.4549657696654094,
          -0.3651793980414446,
          -1.5837668607694977,
          -1.538225241820272,
          1.9919583756213672,
          0.4634375459475504,
          -1.7056423601701083,
          -0.4557409185352117
         ],
         "xaxis": "x3",
         "y": [
          -1.23367774458424,
          0.7354606535590142,
          0.18297916358793126,
          0.4997206964909568,
          -0.4164376791113165,
          0.7725868189495974,
          -0.3190709225596303,
          -0.34509557310354055,
          0.17571314182171857,
          1.2832496432359026,
          -0.6701622872223576,
          0.1726151343541529,
          -0.5371486714244423,
          0.14866247108121355,
          -1.1134174896360065,
          0.9181426264528164,
          0.2916545629339712,
          -1.5327750870756958,
          -1.4981000212493611,
          -0.6778356750220685,
          1.735421358474536,
          -0.6843482671654342,
          -2.3903111255154244,
          -0.19203745335697894,
          -0.7727337242600216,
          0.4851640083650962,
          -0.03687388157122996,
          -0.28013428904290666,
          0.13278542161376505,
          0.3119355241632733,
          1.5559893421845665,
          -0.14961659575442454,
          -0.6254401403525508,
          0.14409253691847518,
          -0.17776408261353757,
          -1.506867556747576,
          -0.9417607912397659,
          1.8817932769503896,
          -0.09791659724689179,
          2.341697749668085,
          -1.0463068519188832,
          0.7667785456655989,
          0.3744052165922298,
          -0.11600890719464242,
          1.3157688037328155,
          -0.47044669371950476,
          0.5387585482327067,
          0.7425985029443694,
          0.9624955022877838,
          -0.2984520913272161,
          -0.2183144798873457,
          0.9022682433066121,
          1.155171384106318,
          -0.4639222451394979,
          1.9799373349193057,
          -0.9709105566083415,
          0.4266930092556539,
          0.7982776980272756,
          -0.788330192220676,
          2.214154651931596,
          0.8517386094525903,
          0.7307109968115925,
          0.7635729782447669,
          0.10645212322818463,
          0.36019364897067474,
          0.9746982639638698,
          -0.5556653065216498,
          0.17462254664205748,
          -1.8419332782616773,
          -1.985223300131962,
          0.7467115259440948,
          2.2401539237310297,
          -0.8646309336109702,
          0.03176867873429596,
          1.0856986000536937,
          0.5765714008077054,
          1.8425945746859302,
          -0.5982346749068658,
          1.281876291366642,
          -1.4856750066733857,
          -0.40617642583972385,
          1.227860895027526,
          -0.1516154355428637,
          -0.19119937484773103,
          1.6412982490327952,
          -0.16593239072305466,
          -1.2920286182886802,
          -0.8691861682544956,
          -1.850680027577851,
          2.257954454887254,
          2.6285325515955864,
          -0.0684629034273146,
          1.7513799068573954,
          -0.46705614107678833,
          -0.10754645646971306,
          0.3550472312638334,
          -0.030799279632314668,
          0.48260371806705854,
          0.6037213493070618,
          1.2001353535703647
         ],
         "yaxis": "y3"
        },
        {
         "line": {
          "color": "rgba(128, 128, 128, 1.0)",
          "dash": "solid",
          "shape": "linear",
          "width": 1.3
         },
         "marker": {
          "size": 2,
          "symbol": "circle"
         },
         "mode": "markers",
         "name": "A",
         "text": "",
         "type": "scatter",
         "x": [
          -0.4525155307585302,
          -1.1847407611918483,
          -0.6793716908468681,
          -0.7663491194820993,
          -2.1037826400325375,
          0.451631524283149,
          0.7093347084577076,
          -0.13353638840608778,
          1.5205988799445087,
          1.5278493845638228,
          -0.3846171086426508,
          -0.8674568537134518,
          1.299356130748103,
          -1.8673558194780966,
          1.206392511699628,
          -0.6298690687332809,
          1.4121137273867659,
          -0.9932980773519611,
          -0.08511403258554953,
          -0.03917959783296583,
          1.0177798325126055,
          -0.9142575587934604,
          0.08487968683490116,
          0.8140429903383063,
          0.2027994074813393,
          -2.2457237748949614,
          0.797675681069284,
          -1.4347227334780444,
          -0.8023559564700763,
          0.8173008634313658,
          -2.6143267010803655,
          0.010099944429897412,
          1.1448990833802974,
          -0.13294317369698727,
          -1.4447427598147196,
          -0.18236573682642726,
          -0.1371302988288747,
          1.7452156674678587,
          0.9557468926091326,
          1.6999482466830902,
          1.0844698760459346,
          -0.9687820018821905,
          -0.2898370304894389,
          -0.3808640586901712,
          2.466496023407135,
          -0.8597502401088455,
          -1.0550011235261636,
          1.13639270921484,
          1.9627931527711124,
          -0.015462480200274966,
          -0.696353258591921,
          -0.6215499023794203,
          -0.640185573946483,
          -0.28345710445611444,
          -1.448223204467605,
          -1.2568378934927584,
          -0.6129093957117677,
          1.2866974325236984,
          2.723007327425759,
          -1.7488581469360764,
          -0.7906453832274789,
          -0.2708486716777824,
          0.5725303392874214,
          1.5594650781817387,
          0.396780769224614,
          0.4131818712532956,
          -0.2782569433258647,
          -0.09888653436213217,
          0.17228875184139641,
          0.08463458982687724,
          0.5857287900509336,
          0.8365703340936173,
          -0.6538583301479146,
          -1.358360897596932,
          -0.5919410242500869,
          0.5368324263433479,
          -2.143818654993575,
          0.22425849005050116,
          -1.2945576486575732,
          -1.6252838191970418,
          -0.6111592374974577,
          2.3629129341321335,
          -0.8704263650104284,
          -1.0239197809652285,
          1.3596960473221344,
          0.2753242239499126,
          -1.3090562555703824,
          0.46155247720388887,
          1.1543044188659888,
          0.15057621415812555,
          -2.102842980891349,
          -0.28836526127846385,
          1.367076393792901,
          -0.8683588779318776,
          0.10089130202092392,
          -0.2623850238247419,
          -0.5243677250921439,
          -1.0854310368659164,
          -0.1519881281047457,
          -0.16858694649079947
         ],
         "xaxis": "x4",
         "y": [
          -1.23367774458424,
          0.7354606535590142,
          0.18297916358793126,
          0.4997206964909568,
          -0.4164376791113165,
          0.7725868189495974,
          -0.3190709225596303,
          -0.34509557310354055,
          0.17571314182171857,
          1.2832496432359026,
          -0.6701622872223576,
          0.1726151343541529,
          -0.5371486714244423,
          0.14866247108121355,
          -1.1134174896360065,
          0.9181426264528164,
          0.2916545629339712,
          -1.5327750870756958,
          -1.4981000212493611,
          -0.6778356750220685,
          1.735421358474536,
          -0.6843482671654342,
          -2.3903111255154244,
          -0.19203745335697894,
          -0.7727337242600216,
          0.4851640083650962,
          -0.03687388157122996,
          -0.28013428904290666,
          0.13278542161376505,
          0.3119355241632733,
          1.5559893421845665,
          -0.14961659575442454,
          -0.6254401403525508,
          0.14409253691847518,
          -0.17776408261353757,
          -1.506867556747576,
          -0.9417607912397659,
          1.8817932769503896,
          -0.09791659724689179,
          2.341697749668085,
          -1.0463068519188832,
          0.7667785456655989,
          0.3744052165922298,
          -0.11600890719464242,
          1.3157688037328155,
          -0.47044669371950476,
          0.5387585482327067,
          0.7425985029443694,
          0.9624955022877838,
          -0.2984520913272161,
          -0.2183144798873457,
          0.9022682433066121,
          1.155171384106318,
          -0.4639222451394979,
          1.9799373349193057,
          -0.9709105566083415,
          0.4266930092556539,
          0.7982776980272756,
          -0.788330192220676,
          2.214154651931596,
          0.8517386094525903,
          0.7307109968115925,
          0.7635729782447669,
          0.10645212322818463,
          0.36019364897067474,
          0.9746982639638698,
          -0.5556653065216498,
          0.17462254664205748,
          -1.8419332782616773,
          -1.985223300131962,
          0.7467115259440948,
          2.2401539237310297,
          -0.8646309336109702,
          0.03176867873429596,
          1.0856986000536937,
          0.5765714008077054,
          1.8425945746859302,
          -0.5982346749068658,
          1.281876291366642,
          -1.4856750066733857,
          -0.40617642583972385,
          1.227860895027526,
          -0.1516154355428637,
          -0.19119937484773103,
          1.6412982490327952,
          -0.16593239072305466,
          -1.2920286182886802,
          -0.8691861682544956,
          -1.850680027577851,
          2.257954454887254,
          2.6285325515955864,
          -0.0684629034273146,
          1.7513799068573954,
          -0.46705614107678833,
          -0.10754645646971306,
          0.3550472312638334,
          -0.030799279632314668,
          0.48260371806705854,
          0.6037213493070618,
          1.2001353535703647
         ],
         "yaxis": "y4"
        },
        {
         "line": {
          "color": "rgba(128, 128, 128, 1.0)",
          "dash": "solid",
          "shape": "linear",
          "width": 1.3
         },
         "marker": {
          "size": 2,
          "symbol": "circle"
         },
         "mode": "markers",
         "name": "B",
         "text": "",
         "type": "scatter",
         "x": [
          -1.23367774458424,
          0.7354606535590142,
          0.18297916358793126,
          0.4997206964909568,
          -0.4164376791113165,
          0.7725868189495974,
          -0.3190709225596303,
          -0.34509557310354055,
          0.17571314182171857,
          1.2832496432359026,
          -0.6701622872223576,
          0.1726151343541529,
          -0.5371486714244423,
          0.14866247108121355,
          -1.1134174896360065,
          0.9181426264528164,
          0.2916545629339712,
          -1.5327750870756958,
          -1.4981000212493611,
          -0.6778356750220685,
          1.735421358474536,
          -0.6843482671654342,
          -2.3903111255154244,
          -0.19203745335697894,
          -0.7727337242600216,
          0.4851640083650962,
          -0.03687388157122996,
          -0.28013428904290666,
          0.13278542161376505,
          0.3119355241632733,
          1.5559893421845665,
          -0.14961659575442454,
          -0.6254401403525508,
          0.14409253691847518,
          -0.17776408261353757,
          -1.506867556747576,
          -0.9417607912397659,
          1.8817932769503896,
          -0.09791659724689179,
          2.341697749668085,
          -1.0463068519188832,
          0.7667785456655989,
          0.3744052165922298,
          -0.11600890719464242,
          1.3157688037328155,
          -0.47044669371950476,
          0.5387585482327067,
          0.7425985029443694,
          0.9624955022877838,
          -0.2984520913272161,
          -0.2183144798873457,
          0.9022682433066121,
          1.155171384106318,
          -0.4639222451394979,
          1.9799373349193057,
          -0.9709105566083415,
          0.4266930092556539,
          0.7982776980272756,
          -0.788330192220676,
          2.214154651931596,
          0.8517386094525903,
          0.7307109968115925,
          0.7635729782447669,
          0.10645212322818463,
          0.36019364897067474,
          0.9746982639638698,
          -0.5556653065216498,
          0.17462254664205748,
          -1.8419332782616773,
          -1.985223300131962,
          0.7467115259440948,
          2.2401539237310297,
          -0.8646309336109702,
          0.03176867873429596,
          1.0856986000536937,
          0.5765714008077054,
          1.8425945746859302,
          -0.5982346749068658,
          1.281876291366642,
          -1.4856750066733857,
          -0.40617642583972385,
          1.227860895027526,
          -0.1516154355428637,
          -0.19119937484773103,
          1.6412982490327952,
          -0.16593239072305466,
          -1.2920286182886802,
          -0.8691861682544956,
          -1.850680027577851,
          2.257954454887254,
          2.6285325515955864,
          -0.0684629034273146,
          1.7513799068573954,
          -0.46705614107678833,
          -0.10754645646971306,
          0.3550472312638334,
          -0.030799279632314668,
          0.48260371806705854,
          0.6037213493070618,
          1.2001353535703647
         ],
         "xaxis": "x5",
         "y": [
          1.6136967679655434,
          -1.7743454628646287,
          -0.7203287172843124,
          -0.6117954031487445,
          -0.5009445747690496,
          -0.24161844138377042,
          -0.08872694595508866,
          0.9414124362805255,
          -1.3156998667030655,
          -1.4071666051435512,
          0.5936163122545488,
          -1.4425960457191493,
          0.8871373825005632,
          0.7934761210859214,
          1.6388025932684638,
          -0.11005133315602779,
          -0.10825386825750678,
          0.0025098233379851074,
          0.2872930674671653,
          -0.6648284861864668,
          -0.15297087907323706,
          -0.22340340462924857,
          -1.046194162796279,
          -0.6992987713385544,
          -1.428382051025518,
          2.2717657882437416,
          -0.2991219216134819,
          0.8036729570996414,
          0.07473183143488986,
          0.03629793496927448,
          0.7282501907601823,
          -0.468992428764272,
          1.1354729217609987,
          -0.17500536226349744,
          -0.8823112338592987,
          -1.0267863666982082,
          0.22929164557760115,
          0.08166986290003601,
          -0.4330250214952117,
          -1.4768571379632707,
          -0.03836514380320835,
          0.5605916358916565,
          0.3208280805065191,
          -0.30636035654476584,
          -0.5856938781868646,
          -0.9413963300297031,
          -1.8328437051415842,
          0.3633607192627451,
          0.014613820067525655,
          -2.0581325295536987,
          -0.5814716694456769,
          -0.645961870134278,
          -0.9509169358479385,
          -0.5364320563027563,
          -0.09927241848365108,
          1.1677610430726344,
          0.3140389325576045,
          2.2953591028356666,
          -0.811016454177509,
          -1.0738306708614167,
          -0.5448157712114431,
          1.0117744371276478,
          0.4037143519820321,
          -0.07573006893551563,
          0.20146794629997267,
          -0.3682498559607633,
          -1.051561812832864,
          0.9742748100847685,
          -1.8840815140861575,
          -1.163604661761712,
          0.2695935706119995,
          -0.2153451906084906,
          -0.4643422556942716,
          -0.03181141759971215,
          1.601791961152759,
          -1.263754355144204,
          -0.4277428623143499,
          0.3758165557541959,
          0.466825436020422,
          0.12952785501322436,
          -1.1010703462267066,
          -1.2236492596008608,
          0.01927986704213586,
          -0.6869701717286061,
          -0.6547097891615642,
          -0.2396485802567933,
          -0.05472819079502166,
          -2.6898646855476485,
          -1.2873936728903954,
          0.6240206318014331,
          1.249178232250976,
          0.4185312567426191,
          -1.4588386970350944,
          -0.19460072611954962,
          0.509326925798342,
          0.1338898266727817,
          -1.2748281912315276,
          -1.3360835573105292,
          -0.2282333872994752,
          1.0511136019093947
         ],
         "yaxis": "y5"
        },
        {
         "histfunc": "count",
         "histnorm": "",
         "marker": {
          "color": "rgba(55, 128, 191, 1.0)",
          "line": {
           "color": "#4D5663",
           "width": 1.3
          }
         },
         "name": "B",
         "nbinsx": 10,
         "opacity": 0.8,
         "orientation": "v",
         "type": "histogram",
         "x": [
          1.6136967679655434,
          -1.7743454628646287,
          -0.7203287172843124,
          -0.6117954031487445,
          -0.5009445747690496,
          -0.24161844138377042,
          -0.08872694595508866,
          0.9414124362805255,
          -1.3156998667030655,
          -1.4071666051435512,
          0.5936163122545488,
          -1.4425960457191493,
          0.8871373825005632,
          0.7934761210859214,
          1.6388025932684638,
          -0.11005133315602779,
          -0.10825386825750678,
          0.0025098233379851074,
          0.2872930674671653,
          -0.6648284861864668,
          -0.15297087907323706,
          -0.22340340462924857,
          -1.046194162796279,
          -0.6992987713385544,
          -1.428382051025518,
          2.2717657882437416,
          -0.2991219216134819,
          0.8036729570996414,
          0.07473183143488986,
          0.03629793496927448,
          0.7282501907601823,
          -0.468992428764272,
          1.1354729217609987,
          -0.17500536226349744,
          -0.8823112338592987,
          -1.0267863666982082,
          0.22929164557760115,
          0.08166986290003601,
          -0.4330250214952117,
          -1.4768571379632707,
          -0.03836514380320835,
          0.5605916358916565,
          0.3208280805065191,
          -0.30636035654476584,
          -0.5856938781868646,
          -0.9413963300297031,
          -1.8328437051415842,
          0.3633607192627451,
          0.014613820067525655,
          -2.0581325295536987,
          -0.5814716694456769,
          -0.645961870134278,
          -0.9509169358479385,
          -0.5364320563027563,
          -0.09927241848365108,
          1.1677610430726344,
          0.3140389325576045,
          2.2953591028356666,
          -0.811016454177509,
          -1.0738306708614167,
          -0.5448157712114431,
          1.0117744371276478,
          0.4037143519820321,
          -0.07573006893551563,
          0.20146794629997267,
          -0.3682498559607633,
          -1.051561812832864,
          0.9742748100847685,
          -1.8840815140861575,
          -1.163604661761712,
          0.2695935706119995,
          -0.2153451906084906,
          -0.4643422556942716,
          -0.03181141759971215,
          1.601791961152759,
          -1.263754355144204,
          -0.4277428623143499,
          0.3758165557541959,
          0.466825436020422,
          0.12952785501322436,
          -1.1010703462267066,
          -1.2236492596008608,
          0.01927986704213586,
          -0.6869701717286061,
          -0.6547097891615642,
          -0.2396485802567933,
          -0.05472819079502166,
          -2.6898646855476485,
          -1.2873936728903954,
          0.6240206318014331,
          1.249178232250976,
          0.4185312567426191,
          -1.4588386970350944,
          -0.19460072611954962,
          0.509326925798342,
          0.1338898266727817,
          -1.2748281912315276,
          -1.3360835573105292,
          -0.2282333872994752,
          1.0511136019093947
         ],
         "xaxis": "x6",
         "yaxis": "y6"
        },
        {
         "line": {
          "color": "rgba(128, 128, 128, 1.0)",
          "dash": "solid",
          "shape": "linear",
          "width": 1.3
         },
         "marker": {
          "size": 2,
          "symbol": "circle"
         },
         "mode": "markers",
         "name": "B",
         "text": "",
         "type": "scatter",
         "x": [
          -0.34370852148833775,
          -1.6037070888676004,
          -1.0117519586533903,
          2.3520700857796037,
          -0.07800786087730324,
          1.7477028399367123,
          -1.3134636218504039,
          0.834917922822358,
          -1.6879711424176278,
          -1.4631717164175138,
          0.06260354179374829,
          -1.058293815930557,
          -0.8547977131737582,
          0.12040414862863882,
          1.320848958790828,
          -0.1663789255787278,
          0.956055668413484,
          0.13652661175792463,
          -1.0486821992527868,
          -0.8123151430828478,
          -0.3603782295493598,
          2.0800555742838696,
          1.0279573944752483,
          -0.9285579023018954,
          -1.5249896100398639,
          -0.42251603931199544,
          -0.17278746245657228,
          0.09971652959597924,
          0.5245379305962313,
          0.5758482550732602,
          0.08999784454025511,
          0.4246620759988931,
          2.385590884310923,
          0.9435396158109014,
          -0.10350349061134614,
          0.37869652762416994,
          0.3506595888281066,
          -1.1023064841618144,
          -1.515163438097079,
          0.7018189655599872,
          -0.5472974960629561,
          0.45086640912233394,
          -1.0323496052416319,
          1.0781607798625312,
          0.40589874379108193,
          0.04796820422522915,
          1.1483656721206774,
          -0.7254572801758798,
          0.03615515285397519,
          -0.3629751313234159,
          -1.4103474431164458,
          -0.444878978022152,
          -1.1567563260758529,
          0.05392222192325666,
          1.5723888163918553,
          0.3168075874475406,
          1.5084826520533836,
          1.5033058696550723,
          0.7140032131679233,
          -0.013307389720520662,
          1.303203326685032,
          -0.46656882533908856,
          -1.787337883505314,
          0.289923762209665,
          0.20032842830256625,
          -0.36130641876922126,
          -0.8394345059986312,
          0.09568776491921355,
          -0.1009539924355601,
          0.7409983668257607,
          -0.31442540937426433,
          -1.3967235868497487,
          -2.002851615229901,
          0.9813604252326612,
          1.2940876771427605,
          0.45236708325259406,
          0.39819579938627014,
          1.9013035021034381,
          -0.979183794087184,
          -0.19388177386612115,
          -1.3065320126945617,
          -0.8102323344833,
          0.7274599286254197,
          1.2253763472748123,
          -0.6328830446589793,
          0.7267424776293127,
          -0.4303729667109366,
          1.5517488795556174,
          1.2946292755127904,
          0.13838587736783844,
          -1.3493619397165506,
          -0.17864844790246678,
          -0.4549657696654094,
          -0.3651793980414446,
          -1.5837668607694977,
          -1.538225241820272,
          1.9919583756213672,
          0.4634375459475504,
          -1.7056423601701083,
          -0.4557409185352117
         ],
         "xaxis": "x7",
         "y": [
          1.6136967679655434,
          -1.7743454628646287,
          -0.7203287172843124,
          -0.6117954031487445,
          -0.5009445747690496,
          -0.24161844138377042,
          -0.08872694595508866,
          0.9414124362805255,
          -1.3156998667030655,
          -1.4071666051435512,
          0.5936163122545488,
          -1.4425960457191493,
          0.8871373825005632,
          0.7934761210859214,
          1.6388025932684638,
          -0.11005133315602779,
          -0.10825386825750678,
          0.0025098233379851074,
          0.2872930674671653,
          -0.6648284861864668,
          -0.15297087907323706,
          -0.22340340462924857,
          -1.046194162796279,
          -0.6992987713385544,
          -1.428382051025518,
          2.2717657882437416,
          -0.2991219216134819,
          0.8036729570996414,
          0.07473183143488986,
          0.03629793496927448,
          0.7282501907601823,
          -0.468992428764272,
          1.1354729217609987,
          -0.17500536226349744,
          -0.8823112338592987,
          -1.0267863666982082,
          0.22929164557760115,
          0.08166986290003601,
          -0.4330250214952117,
          -1.4768571379632707,
          -0.03836514380320835,
          0.5605916358916565,
          0.3208280805065191,
          -0.30636035654476584,
          -0.5856938781868646,
          -0.9413963300297031,
          -1.8328437051415842,
          0.3633607192627451,
          0.014613820067525655,
          -2.0581325295536987,
          -0.5814716694456769,
          -0.645961870134278,
          -0.9509169358479385,
          -0.5364320563027563,
          -0.09927241848365108,
          1.1677610430726344,
          0.3140389325576045,
          2.2953591028356666,
          -0.811016454177509,
          -1.0738306708614167,
          -0.5448157712114431,
          1.0117744371276478,
          0.4037143519820321,
          -0.07573006893551563,
          0.20146794629997267,
          -0.3682498559607633,
          -1.051561812832864,
          0.9742748100847685,
          -1.8840815140861575,
          -1.163604661761712,
          0.2695935706119995,
          -0.2153451906084906,
          -0.4643422556942716,
          -0.03181141759971215,
          1.601791961152759,
          -1.263754355144204,
          -0.4277428623143499,
          0.3758165557541959,
          0.466825436020422,
          0.12952785501322436,
          -1.1010703462267066,
          -1.2236492596008608,
          0.01927986704213586,
          -0.6869701717286061,
          -0.6547097891615642,
          -0.2396485802567933,
          -0.05472819079502166,
          -2.6898646855476485,
          -1.2873936728903954,
          0.6240206318014331,
          1.249178232250976,
          0.4185312567426191,
          -1.4588386970350944,
          -0.19460072611954962,
          0.509326925798342,
          0.1338898266727817,
          -1.2748281912315276,
          -1.3360835573105292,
          -0.2282333872994752,
          1.0511136019093947
         ],
         "yaxis": "y7"
        },
        {
         "line": {
          "color": "rgba(128, 128, 128, 1.0)",
          "dash": "solid",
          "shape": "linear",
          "width": 1.3
         },
         "marker": {
          "size": 2,
          "symbol": "circle"
         },
         "mode": "markers",
         "name": "B",
         "text": "",
         "type": "scatter",
         "x": [
          -0.4525155307585302,
          -1.1847407611918483,
          -0.6793716908468681,
          -0.7663491194820993,
          -2.1037826400325375,
          0.451631524283149,
          0.7093347084577076,
          -0.13353638840608778,
          1.5205988799445087,
          1.5278493845638228,
          -0.3846171086426508,
          -0.8674568537134518,
          1.299356130748103,
          -1.8673558194780966,
          1.206392511699628,
          -0.6298690687332809,
          1.4121137273867659,
          -0.9932980773519611,
          -0.08511403258554953,
          -0.03917959783296583,
          1.0177798325126055,
          -0.9142575587934604,
          0.08487968683490116,
          0.8140429903383063,
          0.2027994074813393,
          -2.2457237748949614,
          0.797675681069284,
          -1.4347227334780444,
          -0.8023559564700763,
          0.8173008634313658,
          -2.6143267010803655,
          0.010099944429897412,
          1.1448990833802974,
          -0.13294317369698727,
          -1.4447427598147196,
          -0.18236573682642726,
          -0.1371302988288747,
          1.7452156674678587,
          0.9557468926091326,
          1.6999482466830902,
          1.0844698760459346,
          -0.9687820018821905,
          -0.2898370304894389,
          -0.3808640586901712,
          2.466496023407135,
          -0.8597502401088455,
          -1.0550011235261636,
          1.13639270921484,
          1.9627931527711124,
          -0.015462480200274966,
          -0.696353258591921,
          -0.6215499023794203,
          -0.640185573946483,
          -0.28345710445611444,
          -1.448223204467605,
          -1.2568378934927584,
          -0.6129093957117677,
          1.2866974325236984,
          2.723007327425759,
          -1.7488581469360764,
          -0.7906453832274789,
          -0.2708486716777824,
          0.5725303392874214,
          1.5594650781817387,
          0.396780769224614,
          0.4131818712532956,
          -0.2782569433258647,
          -0.09888653436213217,
          0.17228875184139641,
          0.08463458982687724,
          0.5857287900509336,
          0.8365703340936173,
          -0.6538583301479146,
          -1.358360897596932,
          -0.5919410242500869,
          0.5368324263433479,
          -2.143818654993575,
          0.22425849005050116,
          -1.2945576486575732,
          -1.6252838191970418,
          -0.6111592374974577,
          2.3629129341321335,
          -0.8704263650104284,
          -1.0239197809652285,
          1.3596960473221344,
          0.2753242239499126,
          -1.3090562555703824,
          0.46155247720388887,
          1.1543044188659888,
          0.15057621415812555,
          -2.102842980891349,
          -0.28836526127846385,
          1.367076393792901,
          -0.8683588779318776,
          0.10089130202092392,
          -0.2623850238247419,
          -0.5243677250921439,
          -1.0854310368659164,
          -0.1519881281047457,
          -0.16858694649079947
         ],
         "xaxis": "x8",
         "y": [
          1.6136967679655434,
          -1.7743454628646287,
          -0.7203287172843124,
          -0.6117954031487445,
          -0.5009445747690496,
          -0.24161844138377042,
          -0.08872694595508866,
          0.9414124362805255,
          -1.3156998667030655,
          -1.4071666051435512,
          0.5936163122545488,
          -1.4425960457191493,
          0.8871373825005632,
          0.7934761210859214,
          1.6388025932684638,
          -0.11005133315602779,
          -0.10825386825750678,
          0.0025098233379851074,
          0.2872930674671653,
          -0.6648284861864668,
          -0.15297087907323706,
          -0.22340340462924857,
          -1.046194162796279,
          -0.6992987713385544,
          -1.428382051025518,
          2.2717657882437416,
          -0.2991219216134819,
          0.8036729570996414,
          0.07473183143488986,
          0.03629793496927448,
          0.7282501907601823,
          -0.468992428764272,
          1.1354729217609987,
          -0.17500536226349744,
          -0.8823112338592987,
          -1.0267863666982082,
          0.22929164557760115,
          0.08166986290003601,
          -0.4330250214952117,
          -1.4768571379632707,
          -0.03836514380320835,
          0.5605916358916565,
          0.3208280805065191,
          -0.30636035654476584,
          -0.5856938781868646,
          -0.9413963300297031,
          -1.8328437051415842,
          0.3633607192627451,
          0.014613820067525655,
          -2.0581325295536987,
          -0.5814716694456769,
          -0.645961870134278,
          -0.9509169358479385,
          -0.5364320563027563,
          -0.09927241848365108,
          1.1677610430726344,
          0.3140389325576045,
          2.2953591028356666,
          -0.811016454177509,
          -1.0738306708614167,
          -0.5448157712114431,
          1.0117744371276478,
          0.4037143519820321,
          -0.07573006893551563,
          0.20146794629997267,
          -0.3682498559607633,
          -1.051561812832864,
          0.9742748100847685,
          -1.8840815140861575,
          -1.163604661761712,
          0.2695935706119995,
          -0.2153451906084906,
          -0.4643422556942716,
          -0.03181141759971215,
          1.601791961152759,
          -1.263754355144204,
          -0.4277428623143499,
          0.3758165557541959,
          0.466825436020422,
          0.12952785501322436,
          -1.1010703462267066,
          -1.2236492596008608,
          0.01927986704213586,
          -0.6869701717286061,
          -0.6547097891615642,
          -0.2396485802567933,
          -0.05472819079502166,
          -2.6898646855476485,
          -1.2873936728903954,
          0.6240206318014331,
          1.249178232250976,
          0.4185312567426191,
          -1.4588386970350944,
          -0.19460072611954962,
          0.509326925798342,
          0.1338898266727817,
          -1.2748281912315276,
          -1.3360835573105292,
          -0.2282333872994752,
          1.0511136019093947
         ],
         "yaxis": "y8"
        },
        {
         "line": {
          "color": "rgba(128, 128, 128, 1.0)",
          "dash": "solid",
          "shape": "linear",
          "width": 1.3
         },
         "marker": {
          "size": 2,
          "symbol": "circle"
         },
         "mode": "markers",
         "name": "C",
         "text": "",
         "type": "scatter",
         "x": [
          -1.23367774458424,
          0.7354606535590142,
          0.18297916358793126,
          0.4997206964909568,
          -0.4164376791113165,
          0.7725868189495974,
          -0.3190709225596303,
          -0.34509557310354055,
          0.17571314182171857,
          1.2832496432359026,
          -0.6701622872223576,
          0.1726151343541529,
          -0.5371486714244423,
          0.14866247108121355,
          -1.1134174896360065,
          0.9181426264528164,
          0.2916545629339712,
          -1.5327750870756958,
          -1.4981000212493611,
          -0.6778356750220685,
          1.735421358474536,
          -0.6843482671654342,
          -2.3903111255154244,
          -0.19203745335697894,
          -0.7727337242600216,
          0.4851640083650962,
          -0.03687388157122996,
          -0.28013428904290666,
          0.13278542161376505,
          0.3119355241632733,
          1.5559893421845665,
          -0.14961659575442454,
          -0.6254401403525508,
          0.14409253691847518,
          -0.17776408261353757,
          -1.506867556747576,
          -0.9417607912397659,
          1.8817932769503896,
          -0.09791659724689179,
          2.341697749668085,
          -1.0463068519188832,
          0.7667785456655989,
          0.3744052165922298,
          -0.11600890719464242,
          1.3157688037328155,
          -0.47044669371950476,
          0.5387585482327067,
          0.7425985029443694,
          0.9624955022877838,
          -0.2984520913272161,
          -0.2183144798873457,
          0.9022682433066121,
          1.155171384106318,
          -0.4639222451394979,
          1.9799373349193057,
          -0.9709105566083415,
          0.4266930092556539,
          0.7982776980272756,
          -0.788330192220676,
          2.214154651931596,
          0.8517386094525903,
          0.7307109968115925,
          0.7635729782447669,
          0.10645212322818463,
          0.36019364897067474,
          0.9746982639638698,
          -0.5556653065216498,
          0.17462254664205748,
          -1.8419332782616773,
          -1.985223300131962,
          0.7467115259440948,
          2.2401539237310297,
          -0.8646309336109702,
          0.03176867873429596,
          1.0856986000536937,
          0.5765714008077054,
          1.8425945746859302,
          -0.5982346749068658,
          1.281876291366642,
          -1.4856750066733857,
          -0.40617642583972385,
          1.227860895027526,
          -0.1516154355428637,
          -0.19119937484773103,
          1.6412982490327952,
          -0.16593239072305466,
          -1.2920286182886802,
          -0.8691861682544956,
          -1.850680027577851,
          2.257954454887254,
          2.6285325515955864,
          -0.0684629034273146,
          1.7513799068573954,
          -0.46705614107678833,
          -0.10754645646971306,
          0.3550472312638334,
          -0.030799279632314668,
          0.48260371806705854,
          0.6037213493070618,
          1.2001353535703647
         ],
         "xaxis": "x9",
         "y": [
          -0.34370852148833775,
          -1.6037070888676004,
          -1.0117519586533903,
          2.3520700857796037,
          -0.07800786087730324,
          1.7477028399367123,
          -1.3134636218504039,
          0.834917922822358,
          -1.6879711424176278,
          -1.4631717164175138,
          0.06260354179374829,
          -1.058293815930557,
          -0.8547977131737582,
          0.12040414862863882,
          1.320848958790828,
          -0.1663789255787278,
          0.956055668413484,
          0.13652661175792463,
          -1.0486821992527868,
          -0.8123151430828478,
          -0.3603782295493598,
          2.0800555742838696,
          1.0279573944752483,
          -0.9285579023018954,
          -1.5249896100398639,
          -0.42251603931199544,
          -0.17278746245657228,
          0.09971652959597924,
          0.5245379305962313,
          0.5758482550732602,
          0.08999784454025511,
          0.4246620759988931,
          2.385590884310923,
          0.9435396158109014,
          -0.10350349061134614,
          0.37869652762416994,
          0.3506595888281066,
          -1.1023064841618144,
          -1.515163438097079,
          0.7018189655599872,
          -0.5472974960629561,
          0.45086640912233394,
          -1.0323496052416319,
          1.0781607798625312,
          0.40589874379108193,
          0.04796820422522915,
          1.1483656721206774,
          -0.7254572801758798,
          0.03615515285397519,
          -0.3629751313234159,
          -1.4103474431164458,
          -0.444878978022152,
          -1.1567563260758529,
          0.05392222192325666,
          1.5723888163918553,
          0.3168075874475406,
          1.5084826520533836,
          1.5033058696550723,
          0.7140032131679233,
          -0.013307389720520662,
          1.303203326685032,
          -0.46656882533908856,
          -1.787337883505314,
          0.289923762209665,
          0.20032842830256625,
          -0.36130641876922126,
          -0.8394345059986312,
          0.09568776491921355,
          -0.1009539924355601,
          0.7409983668257607,
          -0.31442540937426433,
          -1.3967235868497487,
          -2.002851615229901,
          0.9813604252326612,
          1.2940876771427605,
          0.45236708325259406,
          0.39819579938627014,
          1.9013035021034381,
          -0.979183794087184,
          -0.19388177386612115,
          -1.3065320126945617,
          -0.8102323344833,
          0.7274599286254197,
          1.2253763472748123,
          -0.6328830446589793,
          0.7267424776293127,
          -0.4303729667109366,
          1.5517488795556174,
          1.2946292755127904,
          0.13838587736783844,
          -1.3493619397165506,
          -0.17864844790246678,
          -0.4549657696654094,
          -0.3651793980414446,
          -1.5837668607694977,
          -1.538225241820272,
          1.9919583756213672,
          0.4634375459475504,
          -1.7056423601701083,
          -0.4557409185352117
         ],
         "yaxis": "y9"
        },
        {
         "line": {
          "color": "rgba(128, 128, 128, 1.0)",
          "dash": "solid",
          "shape": "linear",
          "width": 1.3
         },
         "marker": {
          "size": 2,
          "symbol": "circle"
         },
         "mode": "markers",
         "name": "C",
         "text": "",
         "type": "scatter",
         "x": [
          1.6136967679655434,
          -1.7743454628646287,
          -0.7203287172843124,
          -0.6117954031487445,
          -0.5009445747690496,
          -0.24161844138377042,
          -0.08872694595508866,
          0.9414124362805255,
          -1.3156998667030655,
          -1.4071666051435512,
          0.5936163122545488,
          -1.4425960457191493,
          0.8871373825005632,
          0.7934761210859214,
          1.6388025932684638,
          -0.11005133315602779,
          -0.10825386825750678,
          0.0025098233379851074,
          0.2872930674671653,
          -0.6648284861864668,
          -0.15297087907323706,
          -0.22340340462924857,
          -1.046194162796279,
          -0.6992987713385544,
          -1.428382051025518,
          2.2717657882437416,
          -0.2991219216134819,
          0.8036729570996414,
          0.07473183143488986,
          0.03629793496927448,
          0.7282501907601823,
          -0.468992428764272,
          1.1354729217609987,
          -0.17500536226349744,
          -0.8823112338592987,
          -1.0267863666982082,
          0.22929164557760115,
          0.08166986290003601,
          -0.4330250214952117,
          -1.4768571379632707,
          -0.03836514380320835,
          0.5605916358916565,
          0.3208280805065191,
          -0.30636035654476584,
          -0.5856938781868646,
          -0.9413963300297031,
          -1.8328437051415842,
          0.3633607192627451,
          0.014613820067525655,
          -2.0581325295536987,
          -0.5814716694456769,
          -0.645961870134278,
          -0.9509169358479385,
          -0.5364320563027563,
          -0.09927241848365108,
          1.1677610430726344,
          0.3140389325576045,
          2.2953591028356666,
          -0.811016454177509,
          -1.0738306708614167,
          -0.5448157712114431,
          1.0117744371276478,
          0.4037143519820321,
          -0.07573006893551563,
          0.20146794629997267,
          -0.3682498559607633,
          -1.051561812832864,
          0.9742748100847685,
          -1.8840815140861575,
          -1.163604661761712,
          0.2695935706119995,
          -0.2153451906084906,
          -0.4643422556942716,
          -0.03181141759971215,
          1.601791961152759,
          -1.263754355144204,
          -0.4277428623143499,
          0.3758165557541959,
          0.466825436020422,
          0.12952785501322436,
          -1.1010703462267066,
          -1.2236492596008608,
          0.01927986704213586,
          -0.6869701717286061,
          -0.6547097891615642,
          -0.2396485802567933,
          -0.05472819079502166,
          -2.6898646855476485,
          -1.2873936728903954,
          0.6240206318014331,
          1.249178232250976,
          0.4185312567426191,
          -1.4588386970350944,
          -0.19460072611954962,
          0.509326925798342,
          0.1338898266727817,
          -1.2748281912315276,
          -1.3360835573105292,
          -0.2282333872994752,
          1.0511136019093947
         ],
         "xaxis": "x10",
         "y": [
          -0.34370852148833775,
          -1.6037070888676004,
          -1.0117519586533903,
          2.3520700857796037,
          -0.07800786087730324,
          1.7477028399367123,
          -1.3134636218504039,
          0.834917922822358,
          -1.6879711424176278,
          -1.4631717164175138,
          0.06260354179374829,
          -1.058293815930557,
          -0.8547977131737582,
          0.12040414862863882,
          1.320848958790828,
          -0.1663789255787278,
          0.956055668413484,
          0.13652661175792463,
          -1.0486821992527868,
          -0.8123151430828478,
          -0.3603782295493598,
          2.0800555742838696,
          1.0279573944752483,
          -0.9285579023018954,
          -1.5249896100398639,
          -0.42251603931199544,
          -0.17278746245657228,
          0.09971652959597924,
          0.5245379305962313,
          0.5758482550732602,
          0.08999784454025511,
          0.4246620759988931,
          2.385590884310923,
          0.9435396158109014,
          -0.10350349061134614,
          0.37869652762416994,
          0.3506595888281066,
          -1.1023064841618144,
          -1.515163438097079,
          0.7018189655599872,
          -0.5472974960629561,
          0.45086640912233394,
          -1.0323496052416319,
          1.0781607798625312,
          0.40589874379108193,
          0.04796820422522915,
          1.1483656721206774,
          -0.7254572801758798,
          0.03615515285397519,
          -0.3629751313234159,
          -1.4103474431164458,
          -0.444878978022152,
          -1.1567563260758529,
          0.05392222192325666,
          1.5723888163918553,
          0.3168075874475406,
          1.5084826520533836,
          1.5033058696550723,
          0.7140032131679233,
          -0.013307389720520662,
          1.303203326685032,
          -0.46656882533908856,
          -1.787337883505314,
          0.289923762209665,
          0.20032842830256625,
          -0.36130641876922126,
          -0.8394345059986312,
          0.09568776491921355,
          -0.1009539924355601,
          0.7409983668257607,
          -0.31442540937426433,
          -1.3967235868497487,
          -2.002851615229901,
          0.9813604252326612,
          1.2940876771427605,
          0.45236708325259406,
          0.39819579938627014,
          1.9013035021034381,
          -0.979183794087184,
          -0.19388177386612115,
          -1.3065320126945617,
          -0.8102323344833,
          0.7274599286254197,
          1.2253763472748123,
          -0.6328830446589793,
          0.7267424776293127,
          -0.4303729667109366,
          1.5517488795556174,
          1.2946292755127904,
          0.13838587736783844,
          -1.3493619397165506,
          -0.17864844790246678,
          -0.4549657696654094,
          -0.3651793980414446,
          -1.5837668607694977,
          -1.538225241820272,
          1.9919583756213672,
          0.4634375459475504,
          -1.7056423601701083,
          -0.4557409185352117
         ],
         "yaxis": "y10"
        },
        {
         "histfunc": "count",
         "histnorm": "",
         "marker": {
          "color": "rgba(50, 171, 96, 1.0)",
          "line": {
           "color": "#4D5663",
           "width": 1.3
          }
         },
         "name": "C",
         "nbinsx": 10,
         "opacity": 0.8,
         "orientation": "v",
         "type": "histogram",
         "x": [
          -0.34370852148833775,
          -1.6037070888676004,
          -1.0117519586533903,
          2.3520700857796037,
          -0.07800786087730324,
          1.7477028399367123,
          -1.3134636218504039,
          0.834917922822358,
          -1.6879711424176278,
          -1.4631717164175138,
          0.06260354179374829,
          -1.058293815930557,
          -0.8547977131737582,
          0.12040414862863882,
          1.320848958790828,
          -0.1663789255787278,
          0.956055668413484,
          0.13652661175792463,
          -1.0486821992527868,
          -0.8123151430828478,
          -0.3603782295493598,
          2.0800555742838696,
          1.0279573944752483,
          -0.9285579023018954,
          -1.5249896100398639,
          -0.42251603931199544,
          -0.17278746245657228,
          0.09971652959597924,
          0.5245379305962313,
          0.5758482550732602,
          0.08999784454025511,
          0.4246620759988931,
          2.385590884310923,
          0.9435396158109014,
          -0.10350349061134614,
          0.37869652762416994,
          0.3506595888281066,
          -1.1023064841618144,
          -1.515163438097079,
          0.7018189655599872,
          -0.5472974960629561,
          0.45086640912233394,
          -1.0323496052416319,
          1.0781607798625312,
          0.40589874379108193,
          0.04796820422522915,
          1.1483656721206774,
          -0.7254572801758798,
          0.03615515285397519,
          -0.3629751313234159,
          -1.4103474431164458,
          -0.444878978022152,
          -1.1567563260758529,
          0.05392222192325666,
          1.5723888163918553,
          0.3168075874475406,
          1.5084826520533836,
          1.5033058696550723,
          0.7140032131679233,
          -0.013307389720520662,
          1.303203326685032,
          -0.46656882533908856,
          -1.787337883505314,
          0.289923762209665,
          0.20032842830256625,
          -0.36130641876922126,
          -0.8394345059986312,
          0.09568776491921355,
          -0.1009539924355601,
          0.7409983668257607,
          -0.31442540937426433,
          -1.3967235868497487,
          -2.002851615229901,
          0.9813604252326612,
          1.2940876771427605,
          0.45236708325259406,
          0.39819579938627014,
          1.9013035021034381,
          -0.979183794087184,
          -0.19388177386612115,
          -1.3065320126945617,
          -0.8102323344833,
          0.7274599286254197,
          1.2253763472748123,
          -0.6328830446589793,
          0.7267424776293127,
          -0.4303729667109366,
          1.5517488795556174,
          1.2946292755127904,
          0.13838587736783844,
          -1.3493619397165506,
          -0.17864844790246678,
          -0.4549657696654094,
          -0.3651793980414446,
          -1.5837668607694977,
          -1.538225241820272,
          1.9919583756213672,
          0.4634375459475504,
          -1.7056423601701083,
          -0.4557409185352117
         ],
         "xaxis": "x11",
         "yaxis": "y11"
        },
        {
         "line": {
          "color": "rgba(128, 128, 128, 1.0)",
          "dash": "solid",
          "shape": "linear",
          "width": 1.3
         },
         "marker": {
          "size": 2,
          "symbol": "circle"
         },
         "mode": "markers",
         "name": "C",
         "text": "",
         "type": "scatter",
         "x": [
          -0.4525155307585302,
          -1.1847407611918483,
          -0.6793716908468681,
          -0.7663491194820993,
          -2.1037826400325375,
          0.451631524283149,
          0.7093347084577076,
          -0.13353638840608778,
          1.5205988799445087,
          1.5278493845638228,
          -0.3846171086426508,
          -0.8674568537134518,
          1.299356130748103,
          -1.8673558194780966,
          1.206392511699628,
          -0.6298690687332809,
          1.4121137273867659,
          -0.9932980773519611,
          -0.08511403258554953,
          -0.03917959783296583,
          1.0177798325126055,
          -0.9142575587934604,
          0.08487968683490116,
          0.8140429903383063,
          0.2027994074813393,
          -2.2457237748949614,
          0.797675681069284,
          -1.4347227334780444,
          -0.8023559564700763,
          0.8173008634313658,
          -2.6143267010803655,
          0.010099944429897412,
          1.1448990833802974,
          -0.13294317369698727,
          -1.4447427598147196,
          -0.18236573682642726,
          -0.1371302988288747,
          1.7452156674678587,
          0.9557468926091326,
          1.6999482466830902,
          1.0844698760459346,
          -0.9687820018821905,
          -0.2898370304894389,
          -0.3808640586901712,
          2.466496023407135,
          -0.8597502401088455,
          -1.0550011235261636,
          1.13639270921484,
          1.9627931527711124,
          -0.015462480200274966,
          -0.696353258591921,
          -0.6215499023794203,
          -0.640185573946483,
          -0.28345710445611444,
          -1.448223204467605,
          -1.2568378934927584,
          -0.6129093957117677,
          1.2866974325236984,
          2.723007327425759,
          -1.7488581469360764,
          -0.7906453832274789,
          -0.2708486716777824,
          0.5725303392874214,
          1.5594650781817387,
          0.396780769224614,
          0.4131818712532956,
          -0.2782569433258647,
          -0.09888653436213217,
          0.17228875184139641,
          0.08463458982687724,
          0.5857287900509336,
          0.8365703340936173,
          -0.6538583301479146,
          -1.358360897596932,
          -0.5919410242500869,
          0.5368324263433479,
          -2.143818654993575,
          0.22425849005050116,
          -1.2945576486575732,
          -1.6252838191970418,
          -0.6111592374974577,
          2.3629129341321335,
          -0.8704263650104284,
          -1.0239197809652285,
          1.3596960473221344,
          0.2753242239499126,
          -1.3090562555703824,
          0.46155247720388887,
          1.1543044188659888,
          0.15057621415812555,
          -2.102842980891349,
          -0.28836526127846385,
          1.367076393792901,
          -0.8683588779318776,
          0.10089130202092392,
          -0.2623850238247419,
          -0.5243677250921439,
          -1.0854310368659164,
          -0.1519881281047457,
          -0.16858694649079947
         ],
         "xaxis": "x12",
         "y": [
          -0.34370852148833775,
          -1.6037070888676004,
          -1.0117519586533903,
          2.3520700857796037,
          -0.07800786087730324,
          1.7477028399367123,
          -1.3134636218504039,
          0.834917922822358,
          -1.6879711424176278,
          -1.4631717164175138,
          0.06260354179374829,
          -1.058293815930557,
          -0.8547977131737582,
          0.12040414862863882,
          1.320848958790828,
          -0.1663789255787278,
          0.956055668413484,
          0.13652661175792463,
          -1.0486821992527868,
          -0.8123151430828478,
          -0.3603782295493598,
          2.0800555742838696,
          1.0279573944752483,
          -0.9285579023018954,
          -1.5249896100398639,
          -0.42251603931199544,
          -0.17278746245657228,
          0.09971652959597924,
          0.5245379305962313,
          0.5758482550732602,
          0.08999784454025511,
          0.4246620759988931,
          2.385590884310923,
          0.9435396158109014,
          -0.10350349061134614,
          0.37869652762416994,
          0.3506595888281066,
          -1.1023064841618144,
          -1.515163438097079,
          0.7018189655599872,
          -0.5472974960629561,
          0.45086640912233394,
          -1.0323496052416319,
          1.0781607798625312,
          0.40589874379108193,
          0.04796820422522915,
          1.1483656721206774,
          -0.7254572801758798,
          0.03615515285397519,
          -0.3629751313234159,
          -1.4103474431164458,
          -0.444878978022152,
          -1.1567563260758529,
          0.05392222192325666,
          1.5723888163918553,
          0.3168075874475406,
          1.5084826520533836,
          1.5033058696550723,
          0.7140032131679233,
          -0.013307389720520662,
          1.303203326685032,
          -0.46656882533908856,
          -1.787337883505314,
          0.289923762209665,
          0.20032842830256625,
          -0.36130641876922126,
          -0.8394345059986312,
          0.09568776491921355,
          -0.1009539924355601,
          0.7409983668257607,
          -0.31442540937426433,
          -1.3967235868497487,
          -2.002851615229901,
          0.9813604252326612,
          1.2940876771427605,
          0.45236708325259406,
          0.39819579938627014,
          1.9013035021034381,
          -0.979183794087184,
          -0.19388177386612115,
          -1.3065320126945617,
          -0.8102323344833,
          0.7274599286254197,
          1.2253763472748123,
          -0.6328830446589793,
          0.7267424776293127,
          -0.4303729667109366,
          1.5517488795556174,
          1.2946292755127904,
          0.13838587736783844,
          -1.3493619397165506,
          -0.17864844790246678,
          -0.4549657696654094,
          -0.3651793980414446,
          -1.5837668607694977,
          -1.538225241820272,
          1.9919583756213672,
          0.4634375459475504,
          -1.7056423601701083,
          -0.4557409185352117
         ],
         "yaxis": "y12"
        },
        {
         "line": {
          "color": "rgba(128, 128, 128, 1.0)",
          "dash": "solid",
          "shape": "linear",
          "width": 1.3
         },
         "marker": {
          "size": 2,
          "symbol": "circle"
         },
         "mode": "markers",
         "name": "D",
         "text": "",
         "type": "scatter",
         "x": [
          -1.23367774458424,
          0.7354606535590142,
          0.18297916358793126,
          0.4997206964909568,
          -0.4164376791113165,
          0.7725868189495974,
          -0.3190709225596303,
          -0.34509557310354055,
          0.17571314182171857,
          1.2832496432359026,
          -0.6701622872223576,
          0.1726151343541529,
          -0.5371486714244423,
          0.14866247108121355,
          -1.1134174896360065,
          0.9181426264528164,
          0.2916545629339712,
          -1.5327750870756958,
          -1.4981000212493611,
          -0.6778356750220685,
          1.735421358474536,
          -0.6843482671654342,
          -2.3903111255154244,
          -0.19203745335697894,
          -0.7727337242600216,
          0.4851640083650962,
          -0.03687388157122996,
          -0.28013428904290666,
          0.13278542161376505,
          0.3119355241632733,
          1.5559893421845665,
          -0.14961659575442454,
          -0.6254401403525508,
          0.14409253691847518,
          -0.17776408261353757,
          -1.506867556747576,
          -0.9417607912397659,
          1.8817932769503896,
          -0.09791659724689179,
          2.341697749668085,
          -1.0463068519188832,
          0.7667785456655989,
          0.3744052165922298,
          -0.11600890719464242,
          1.3157688037328155,
          -0.47044669371950476,
          0.5387585482327067,
          0.7425985029443694,
          0.9624955022877838,
          -0.2984520913272161,
          -0.2183144798873457,
          0.9022682433066121,
          1.155171384106318,
          -0.4639222451394979,
          1.9799373349193057,
          -0.9709105566083415,
          0.4266930092556539,
          0.7982776980272756,
          -0.788330192220676,
          2.214154651931596,
          0.8517386094525903,
          0.7307109968115925,
          0.7635729782447669,
          0.10645212322818463,
          0.36019364897067474,
          0.9746982639638698,
          -0.5556653065216498,
          0.17462254664205748,
          -1.8419332782616773,
          -1.985223300131962,
          0.7467115259440948,
          2.2401539237310297,
          -0.8646309336109702,
          0.03176867873429596,
          1.0856986000536937,
          0.5765714008077054,
          1.8425945746859302,
          -0.5982346749068658,
          1.281876291366642,
          -1.4856750066733857,
          -0.40617642583972385,
          1.227860895027526,
          -0.1516154355428637,
          -0.19119937484773103,
          1.6412982490327952,
          -0.16593239072305466,
          -1.2920286182886802,
          -0.8691861682544956,
          -1.850680027577851,
          2.257954454887254,
          2.6285325515955864,
          -0.0684629034273146,
          1.7513799068573954,
          -0.46705614107678833,
          -0.10754645646971306,
          0.3550472312638334,
          -0.030799279632314668,
          0.48260371806705854,
          0.6037213493070618,
          1.2001353535703647
         ],
         "xaxis": "x13",
         "y": [
          -0.4525155307585302,
          -1.1847407611918483,
          -0.6793716908468681,
          -0.7663491194820993,
          -2.1037826400325375,
          0.451631524283149,
          0.7093347084577076,
          -0.13353638840608778,
          1.5205988799445087,
          1.5278493845638228,
          -0.3846171086426508,
          -0.8674568537134518,
          1.299356130748103,
          -1.8673558194780966,
          1.206392511699628,
          -0.6298690687332809,
          1.4121137273867659,
          -0.9932980773519611,
          -0.08511403258554953,
          -0.03917959783296583,
          1.0177798325126055,
          -0.9142575587934604,
          0.08487968683490116,
          0.8140429903383063,
          0.2027994074813393,
          -2.2457237748949614,
          0.797675681069284,
          -1.4347227334780444,
          -0.8023559564700763,
          0.8173008634313658,
          -2.6143267010803655,
          0.010099944429897412,
          1.1448990833802974,
          -0.13294317369698727,
          -1.4447427598147196,
          -0.18236573682642726,
          -0.1371302988288747,
          1.7452156674678587,
          0.9557468926091326,
          1.6999482466830902,
          1.0844698760459346,
          -0.9687820018821905,
          -0.2898370304894389,
          -0.3808640586901712,
          2.466496023407135,
          -0.8597502401088455,
          -1.0550011235261636,
          1.13639270921484,
          1.9627931527711124,
          -0.015462480200274966,
          -0.696353258591921,
          -0.6215499023794203,
          -0.640185573946483,
          -0.28345710445611444,
          -1.448223204467605,
          -1.2568378934927584,
          -0.6129093957117677,
          1.2866974325236984,
          2.723007327425759,
          -1.7488581469360764,
          -0.7906453832274789,
          -0.2708486716777824,
          0.5725303392874214,
          1.5594650781817387,
          0.396780769224614,
          0.4131818712532956,
          -0.2782569433258647,
          -0.09888653436213217,
          0.17228875184139641,
          0.08463458982687724,
          0.5857287900509336,
          0.8365703340936173,
          -0.6538583301479146,
          -1.358360897596932,
          -0.5919410242500869,
          0.5368324263433479,
          -2.143818654993575,
          0.22425849005050116,
          -1.2945576486575732,
          -1.6252838191970418,
          -0.6111592374974577,
          2.3629129341321335,
          -0.8704263650104284,
          -1.0239197809652285,
          1.3596960473221344,
          0.2753242239499126,
          -1.3090562555703824,
          0.46155247720388887,
          1.1543044188659888,
          0.15057621415812555,
          -2.102842980891349,
          -0.28836526127846385,
          1.367076393792901,
          -0.8683588779318776,
          0.10089130202092392,
          -0.2623850238247419,
          -0.5243677250921439,
          -1.0854310368659164,
          -0.1519881281047457,
          -0.16858694649079947
         ],
         "yaxis": "y13"
        },
        {
         "line": {
          "color": "rgba(128, 128, 128, 1.0)",
          "dash": "solid",
          "shape": "linear",
          "width": 1.3
         },
         "marker": {
          "size": 2,
          "symbol": "circle"
         },
         "mode": "markers",
         "name": "D",
         "text": "",
         "type": "scatter",
         "x": [
          1.6136967679655434,
          -1.7743454628646287,
          -0.7203287172843124,
          -0.6117954031487445,
          -0.5009445747690496,
          -0.24161844138377042,
          -0.08872694595508866,
          0.9414124362805255,
          -1.3156998667030655,
          -1.4071666051435512,
          0.5936163122545488,
          -1.4425960457191493,
          0.8871373825005632,
          0.7934761210859214,
          1.6388025932684638,
          -0.11005133315602779,
          -0.10825386825750678,
          0.0025098233379851074,
          0.2872930674671653,
          -0.6648284861864668,
          -0.15297087907323706,
          -0.22340340462924857,
          -1.046194162796279,
          -0.6992987713385544,
          -1.428382051025518,
          2.2717657882437416,
          -0.2991219216134819,
          0.8036729570996414,
          0.07473183143488986,
          0.03629793496927448,
          0.7282501907601823,
          -0.468992428764272,
          1.1354729217609987,
          -0.17500536226349744,
          -0.8823112338592987,
          -1.0267863666982082,
          0.22929164557760115,
          0.08166986290003601,
          -0.4330250214952117,
          -1.4768571379632707,
          -0.03836514380320835,
          0.5605916358916565,
          0.3208280805065191,
          -0.30636035654476584,
          -0.5856938781868646,
          -0.9413963300297031,
          -1.8328437051415842,
          0.3633607192627451,
          0.014613820067525655,
          -2.0581325295536987,
          -0.5814716694456769,
          -0.645961870134278,
          -0.9509169358479385,
          -0.5364320563027563,
          -0.09927241848365108,
          1.1677610430726344,
          0.3140389325576045,
          2.2953591028356666,
          -0.811016454177509,
          -1.0738306708614167,
          -0.5448157712114431,
          1.0117744371276478,
          0.4037143519820321,
          -0.07573006893551563,
          0.20146794629997267,
          -0.3682498559607633,
          -1.051561812832864,
          0.9742748100847685,
          -1.8840815140861575,
          -1.163604661761712,
          0.2695935706119995,
          -0.2153451906084906,
          -0.4643422556942716,
          -0.03181141759971215,
          1.601791961152759,
          -1.263754355144204,
          -0.4277428623143499,
          0.3758165557541959,
          0.466825436020422,
          0.12952785501322436,
          -1.1010703462267066,
          -1.2236492596008608,
          0.01927986704213586,
          -0.6869701717286061,
          -0.6547097891615642,
          -0.2396485802567933,
          -0.05472819079502166,
          -2.6898646855476485,
          -1.2873936728903954,
          0.6240206318014331,
          1.249178232250976,
          0.4185312567426191,
          -1.4588386970350944,
          -0.19460072611954962,
          0.509326925798342,
          0.1338898266727817,
          -1.2748281912315276,
          -1.3360835573105292,
          -0.2282333872994752,
          1.0511136019093947
         ],
         "xaxis": "x14",
         "y": [
          -0.4525155307585302,
          -1.1847407611918483,
          -0.6793716908468681,
          -0.7663491194820993,
          -2.1037826400325375,
          0.451631524283149,
          0.7093347084577076,
          -0.13353638840608778,
          1.5205988799445087,
          1.5278493845638228,
          -0.3846171086426508,
          -0.8674568537134518,
          1.299356130748103,
          -1.8673558194780966,
          1.206392511699628,
          -0.6298690687332809,
          1.4121137273867659,
          -0.9932980773519611,
          -0.08511403258554953,
          -0.03917959783296583,
          1.0177798325126055,
          -0.9142575587934604,
          0.08487968683490116,
          0.8140429903383063,
          0.2027994074813393,
          -2.2457237748949614,
          0.797675681069284,
          -1.4347227334780444,
          -0.8023559564700763,
          0.8173008634313658,
          -2.6143267010803655,
          0.010099944429897412,
          1.1448990833802974,
          -0.13294317369698727,
          -1.4447427598147196,
          -0.18236573682642726,
          -0.1371302988288747,
          1.7452156674678587,
          0.9557468926091326,
          1.6999482466830902,
          1.0844698760459346,
          -0.9687820018821905,
          -0.2898370304894389,
          -0.3808640586901712,
          2.466496023407135,
          -0.8597502401088455,
          -1.0550011235261636,
          1.13639270921484,
          1.9627931527711124,
          -0.015462480200274966,
          -0.696353258591921,
          -0.6215499023794203,
          -0.640185573946483,
          -0.28345710445611444,
          -1.448223204467605,
          -1.2568378934927584,
          -0.6129093957117677,
          1.2866974325236984,
          2.723007327425759,
          -1.7488581469360764,
          -0.7906453832274789,
          -0.2708486716777824,
          0.5725303392874214,
          1.5594650781817387,
          0.396780769224614,
          0.4131818712532956,
          -0.2782569433258647,
          -0.09888653436213217,
          0.17228875184139641,
          0.08463458982687724,
          0.5857287900509336,
          0.8365703340936173,
          -0.6538583301479146,
          -1.358360897596932,
          -0.5919410242500869,
          0.5368324263433479,
          -2.143818654993575,
          0.22425849005050116,
          -1.2945576486575732,
          -1.6252838191970418,
          -0.6111592374974577,
          2.3629129341321335,
          -0.8704263650104284,
          -1.0239197809652285,
          1.3596960473221344,
          0.2753242239499126,
          -1.3090562555703824,
          0.46155247720388887,
          1.1543044188659888,
          0.15057621415812555,
          -2.102842980891349,
          -0.28836526127846385,
          1.367076393792901,
          -0.8683588779318776,
          0.10089130202092392,
          -0.2623850238247419,
          -0.5243677250921439,
          -1.0854310368659164,
          -0.1519881281047457,
          -0.16858694649079947
         ],
         "yaxis": "y14"
        },
        {
         "line": {
          "color": "rgba(128, 128, 128, 1.0)",
          "dash": "solid",
          "shape": "linear",
          "width": 1.3
         },
         "marker": {
          "size": 2,
          "symbol": "circle"
         },
         "mode": "markers",
         "name": "D",
         "text": "",
         "type": "scatter",
         "x": [
          -0.34370852148833775,
          -1.6037070888676004,
          -1.0117519586533903,
          2.3520700857796037,
          -0.07800786087730324,
          1.7477028399367123,
          -1.3134636218504039,
          0.834917922822358,
          -1.6879711424176278,
          -1.4631717164175138,
          0.06260354179374829,
          -1.058293815930557,
          -0.8547977131737582,
          0.12040414862863882,
          1.320848958790828,
          -0.1663789255787278,
          0.956055668413484,
          0.13652661175792463,
          -1.0486821992527868,
          -0.8123151430828478,
          -0.3603782295493598,
          2.0800555742838696,
          1.0279573944752483,
          -0.9285579023018954,
          -1.5249896100398639,
          -0.42251603931199544,
          -0.17278746245657228,
          0.09971652959597924,
          0.5245379305962313,
          0.5758482550732602,
          0.08999784454025511,
          0.4246620759988931,
          2.385590884310923,
          0.9435396158109014,
          -0.10350349061134614,
          0.37869652762416994,
          0.3506595888281066,
          -1.1023064841618144,
          -1.515163438097079,
          0.7018189655599872,
          -0.5472974960629561,
          0.45086640912233394,
          -1.0323496052416319,
          1.0781607798625312,
          0.40589874379108193,
          0.04796820422522915,
          1.1483656721206774,
          -0.7254572801758798,
          0.03615515285397519,
          -0.3629751313234159,
          -1.4103474431164458,
          -0.444878978022152,
          -1.1567563260758529,
          0.05392222192325666,
          1.5723888163918553,
          0.3168075874475406,
          1.5084826520533836,
          1.5033058696550723,
          0.7140032131679233,
          -0.013307389720520662,
          1.303203326685032,
          -0.46656882533908856,
          -1.787337883505314,
          0.289923762209665,
          0.20032842830256625,
          -0.36130641876922126,
          -0.8394345059986312,
          0.09568776491921355,
          -0.1009539924355601,
          0.7409983668257607,
          -0.31442540937426433,
          -1.3967235868497487,
          -2.002851615229901,
          0.9813604252326612,
          1.2940876771427605,
          0.45236708325259406,
          0.39819579938627014,
          1.9013035021034381,
          -0.979183794087184,
          -0.19388177386612115,
          -1.3065320126945617,
          -0.8102323344833,
          0.7274599286254197,
          1.2253763472748123,
          -0.6328830446589793,
          0.7267424776293127,
          -0.4303729667109366,
          1.5517488795556174,
          1.2946292755127904,
          0.13838587736783844,
          -1.3493619397165506,
          -0.17864844790246678,
          -0.4549657696654094,
          -0.3651793980414446,
          -1.5837668607694977,
          -1.538225241820272,
          1.9919583756213672,
          0.4634375459475504,
          -1.7056423601701083,
          -0.4557409185352117
         ],
         "xaxis": "x15",
         "y": [
          -0.4525155307585302,
          -1.1847407611918483,
          -0.6793716908468681,
          -0.7663491194820993,
          -2.1037826400325375,
          0.451631524283149,
          0.7093347084577076,
          -0.13353638840608778,
          1.5205988799445087,
          1.5278493845638228,
          -0.3846171086426508,
          -0.8674568537134518,
          1.299356130748103,
          -1.8673558194780966,
          1.206392511699628,
          -0.6298690687332809,
          1.4121137273867659,
          -0.9932980773519611,
          -0.08511403258554953,
          -0.03917959783296583,
          1.0177798325126055,
          -0.9142575587934604,
          0.08487968683490116,
          0.8140429903383063,
          0.2027994074813393,
          -2.2457237748949614,
          0.797675681069284,
          -1.4347227334780444,
          -0.8023559564700763,
          0.8173008634313658,
          -2.6143267010803655,
          0.010099944429897412,
          1.1448990833802974,
          -0.13294317369698727,
          -1.4447427598147196,
          -0.18236573682642726,
          -0.1371302988288747,
          1.7452156674678587,
          0.9557468926091326,
          1.6999482466830902,
          1.0844698760459346,
          -0.9687820018821905,
          -0.2898370304894389,
          -0.3808640586901712,
          2.466496023407135,
          -0.8597502401088455,
          -1.0550011235261636,
          1.13639270921484,
          1.9627931527711124,
          -0.015462480200274966,
          -0.696353258591921,
          -0.6215499023794203,
          -0.640185573946483,
          -0.28345710445611444,
          -1.448223204467605,
          -1.2568378934927584,
          -0.6129093957117677,
          1.2866974325236984,
          2.723007327425759,
          -1.7488581469360764,
          -0.7906453832274789,
          -0.2708486716777824,
          0.5725303392874214,
          1.5594650781817387,
          0.396780769224614,
          0.4131818712532956,
          -0.2782569433258647,
          -0.09888653436213217,
          0.17228875184139641,
          0.08463458982687724,
          0.5857287900509336,
          0.8365703340936173,
          -0.6538583301479146,
          -1.358360897596932,
          -0.5919410242500869,
          0.5368324263433479,
          -2.143818654993575,
          0.22425849005050116,
          -1.2945576486575732,
          -1.6252838191970418,
          -0.6111592374974577,
          2.3629129341321335,
          -0.8704263650104284,
          -1.0239197809652285,
          1.3596960473221344,
          0.2753242239499126,
          -1.3090562555703824,
          0.46155247720388887,
          1.1543044188659888,
          0.15057621415812555,
          -2.102842980891349,
          -0.28836526127846385,
          1.367076393792901,
          -0.8683588779318776,
          0.10089130202092392,
          -0.2623850238247419,
          -0.5243677250921439,
          -1.0854310368659164,
          -0.1519881281047457,
          -0.16858694649079947
         ],
         "yaxis": "y15"
        },
        {
         "histfunc": "count",
         "histnorm": "",
         "marker": {
          "color": "rgba(128, 0, 128, 1.0)",
          "line": {
           "color": "#4D5663",
           "width": 1.3
          }
         },
         "name": "D",
         "nbinsx": 10,
         "opacity": 0.8,
         "orientation": "v",
         "type": "histogram",
         "x": [
          -0.4525155307585302,
          -1.1847407611918483,
          -0.6793716908468681,
          -0.7663491194820993,
          -2.1037826400325375,
          0.451631524283149,
          0.7093347084577076,
          -0.13353638840608778,
          1.5205988799445087,
          1.5278493845638228,
          -0.3846171086426508,
          -0.8674568537134518,
          1.299356130748103,
          -1.8673558194780966,
          1.206392511699628,
          -0.6298690687332809,
          1.4121137273867659,
          -0.9932980773519611,
          -0.08511403258554953,
          -0.03917959783296583,
          1.0177798325126055,
          -0.9142575587934604,
          0.08487968683490116,
          0.8140429903383063,
          0.2027994074813393,
          -2.2457237748949614,
          0.797675681069284,
          -1.4347227334780444,
          -0.8023559564700763,
          0.8173008634313658,
          -2.6143267010803655,
          0.010099944429897412,
          1.1448990833802974,
          -0.13294317369698727,
          -1.4447427598147196,
          -0.18236573682642726,
          -0.1371302988288747,
          1.7452156674678587,
          0.9557468926091326,
          1.6999482466830902,
          1.0844698760459346,
          -0.9687820018821905,
          -0.2898370304894389,
          -0.3808640586901712,
          2.466496023407135,
          -0.8597502401088455,
          -1.0550011235261636,
          1.13639270921484,
          1.9627931527711124,
          -0.015462480200274966,
          -0.696353258591921,
          -0.6215499023794203,
          -0.640185573946483,
          -0.28345710445611444,
          -1.448223204467605,
          -1.2568378934927584,
          -0.6129093957117677,
          1.2866974325236984,
          2.723007327425759,
          -1.7488581469360764,
          -0.7906453832274789,
          -0.2708486716777824,
          0.5725303392874214,
          1.5594650781817387,
          0.396780769224614,
          0.4131818712532956,
          -0.2782569433258647,
          -0.09888653436213217,
          0.17228875184139641,
          0.08463458982687724,
          0.5857287900509336,
          0.8365703340936173,
          -0.6538583301479146,
          -1.358360897596932,
          -0.5919410242500869,
          0.5368324263433479,
          -2.143818654993575,
          0.22425849005050116,
          -1.2945576486575732,
          -1.6252838191970418,
          -0.6111592374974577,
          2.3629129341321335,
          -0.8704263650104284,
          -1.0239197809652285,
          1.3596960473221344,
          0.2753242239499126,
          -1.3090562555703824,
          0.46155247720388887,
          1.1543044188659888,
          0.15057621415812555,
          -2.102842980891349,
          -0.28836526127846385,
          1.367076393792901,
          -0.8683588779318776,
          0.10089130202092392,
          -0.2623850238247419,
          -0.5243677250921439,
          -1.0854310368659164,
          -0.1519881281047457,
          -0.16858694649079947
         ],
         "xaxis": "x16",
         "yaxis": "y16"
        }
       ],
       "layout": {
        "bargap": 0.02,
        "legend": {
         "bgcolor": "#F5F6F9",
         "font": {
          "color": "#4D5663"
         }
        },
        "paper_bgcolor": "#F5F6F9",
        "plot_bgcolor": "#F5F6F9",
        "showlegend": false,
        "template": {
         "data": {
          "bar": [
           {
            "error_x": {
             "color": "#2a3f5f"
            },
            "error_y": {
             "color": "#2a3f5f"
            },
            "marker": {
             "line": {
              "color": "#E5ECF6",
              "width": 0.5
             },
             "pattern": {
              "fillmode": "overlay",
              "size": 10,
              "solidity": 0.2
             }
            },
            "type": "bar"
           }
          ],
          "barpolar": [
           {
            "marker": {
             "line": {
              "color": "#E5ECF6",
              "width": 0.5
             },
             "pattern": {
              "fillmode": "overlay",
              "size": 10,
              "solidity": 0.2
             }
            },
            "type": "barpolar"
           }
          ],
          "carpet": [
           {
            "aaxis": {
             "endlinecolor": "#2a3f5f",
             "gridcolor": "white",
             "linecolor": "white",
             "minorgridcolor": "white",
             "startlinecolor": "#2a3f5f"
            },
            "baxis": {
             "endlinecolor": "#2a3f5f",
             "gridcolor": "white",
             "linecolor": "white",
             "minorgridcolor": "white",
             "startlinecolor": "#2a3f5f"
            },
            "type": "carpet"
           }
          ],
          "choropleth": [
           {
            "colorbar": {
             "outlinewidth": 0,
             "ticks": ""
            },
            "type": "choropleth"
           }
          ],
          "contour": [
           {
            "colorbar": {
             "outlinewidth": 0,
             "ticks": ""
            },
            "colorscale": [
             [
              0,
              "#0d0887"
             ],
             [
              0.1111111111111111,
              "#46039f"
             ],
             [
              0.2222222222222222,
              "#7201a8"
             ],
             [
              0.3333333333333333,
              "#9c179e"
             ],
             [
              0.4444444444444444,
              "#bd3786"
             ],
             [
              0.5555555555555556,
              "#d8576b"
             ],
             [
              0.6666666666666666,
              "#ed7953"
             ],
             [
              0.7777777777777778,
              "#fb9f3a"
             ],
             [
              0.8888888888888888,
              "#fdca26"
             ],
             [
              1,
              "#f0f921"
             ]
            ],
            "type": "contour"
           }
          ],
          "contourcarpet": [
           {
            "colorbar": {
             "outlinewidth": 0,
             "ticks": ""
            },
            "type": "contourcarpet"
           }
          ],
          "heatmap": [
           {
            "colorbar": {
             "outlinewidth": 0,
             "ticks": ""
            },
            "colorscale": [
             [
              0,
              "#0d0887"
             ],
             [
              0.1111111111111111,
              "#46039f"
             ],
             [
              0.2222222222222222,
              "#7201a8"
             ],
             [
              0.3333333333333333,
              "#9c179e"
             ],
             [
              0.4444444444444444,
              "#bd3786"
             ],
             [
              0.5555555555555556,
              "#d8576b"
             ],
             [
              0.6666666666666666,
              "#ed7953"
             ],
             [
              0.7777777777777778,
              "#fb9f3a"
             ],
             [
              0.8888888888888888,
              "#fdca26"
             ],
             [
              1,
              "#f0f921"
             ]
            ],
            "type": "heatmap"
           }
          ],
          "heatmapgl": [
           {
            "colorbar": {
             "outlinewidth": 0,
             "ticks": ""
            },
            "colorscale": [
             [
              0,
              "#0d0887"
             ],
             [
              0.1111111111111111,
              "#46039f"
             ],
             [
              0.2222222222222222,
              "#7201a8"
             ],
             [
              0.3333333333333333,
              "#9c179e"
             ],
             [
              0.4444444444444444,
              "#bd3786"
             ],
             [
              0.5555555555555556,
              "#d8576b"
             ],
             [
              0.6666666666666666,
              "#ed7953"
             ],
             [
              0.7777777777777778,
              "#fb9f3a"
             ],
             [
              0.8888888888888888,
              "#fdca26"
             ],
             [
              1,
              "#f0f921"
             ]
            ],
            "type": "heatmapgl"
           }
          ],
          "histogram": [
           {
            "marker": {
             "pattern": {
              "fillmode": "overlay",
              "size": 10,
              "solidity": 0.2
             }
            },
            "type": "histogram"
           }
          ],
          "histogram2d": [
           {
            "colorbar": {
             "outlinewidth": 0,
             "ticks": ""
            },
            "colorscale": [
             [
              0,
              "#0d0887"
             ],
             [
              0.1111111111111111,
              "#46039f"
             ],
             [
              0.2222222222222222,
              "#7201a8"
             ],
             [
              0.3333333333333333,
              "#9c179e"
             ],
             [
              0.4444444444444444,
              "#bd3786"
             ],
             [
              0.5555555555555556,
              "#d8576b"
             ],
             [
              0.6666666666666666,
              "#ed7953"
             ],
             [
              0.7777777777777778,
              "#fb9f3a"
             ],
             [
              0.8888888888888888,
              "#fdca26"
             ],
             [
              1,
              "#f0f921"
             ]
            ],
            "type": "histogram2d"
           }
          ],
          "histogram2dcontour": [
           {
            "colorbar": {
             "outlinewidth": 0,
             "ticks": ""
            },
            "colorscale": [
             [
              0,
              "#0d0887"
             ],
             [
              0.1111111111111111,
              "#46039f"
             ],
             [
              0.2222222222222222,
              "#7201a8"
             ],
             [
              0.3333333333333333,
              "#9c179e"
             ],
             [
              0.4444444444444444,
              "#bd3786"
             ],
             [
              0.5555555555555556,
              "#d8576b"
             ],
             [
              0.6666666666666666,
              "#ed7953"
             ],
             [
              0.7777777777777778,
              "#fb9f3a"
             ],
             [
              0.8888888888888888,
              "#fdca26"
             ],
             [
              1,
              "#f0f921"
             ]
            ],
            "type": "histogram2dcontour"
           }
          ],
          "mesh3d": [
           {
            "colorbar": {
             "outlinewidth": 0,
             "ticks": ""
            },
            "type": "mesh3d"
           }
          ],
          "parcoords": [
           {
            "line": {
             "colorbar": {
              "outlinewidth": 0,
              "ticks": ""
             }
            },
            "type": "parcoords"
           }
          ],
          "pie": [
           {
            "automargin": true,
            "type": "pie"
           }
          ],
          "scatter": [
           {
            "fillpattern": {
             "fillmode": "overlay",
             "size": 10,
             "solidity": 0.2
            },
            "type": "scatter"
           }
          ],
          "scatter3d": [
           {
            "line": {
             "colorbar": {
              "outlinewidth": 0,
              "ticks": ""
             }
            },
            "marker": {
             "colorbar": {
              "outlinewidth": 0,
              "ticks": ""
             }
            },
            "type": "scatter3d"
           }
          ],
          "scattercarpet": [
           {
            "marker": {
             "colorbar": {
              "outlinewidth": 0,
              "ticks": ""
             }
            },
            "type": "scattercarpet"
           }
          ],
          "scattergeo": [
           {
            "marker": {
             "colorbar": {
              "outlinewidth": 0,
              "ticks": ""
             }
            },
            "type": "scattergeo"
           }
          ],
          "scattergl": [
           {
            "marker": {
             "colorbar": {
              "outlinewidth": 0,
              "ticks": ""
             }
            },
            "type": "scattergl"
           }
          ],
          "scattermapbox": [
           {
            "marker": {
             "colorbar": {
              "outlinewidth": 0,
              "ticks": ""
             }
            },
            "type": "scattermapbox"
           }
          ],
          "scatterpolar": [
           {
            "marker": {
             "colorbar": {
              "outlinewidth": 0,
              "ticks": ""
             }
            },
            "type": "scatterpolar"
           }
          ],
          "scatterpolargl": [
           {
            "marker": {
             "colorbar": {
              "outlinewidth": 0,
              "ticks": ""
             }
            },
            "type": "scatterpolargl"
           }
          ],
          "scatterternary": [
           {
            "marker": {
             "colorbar": {
              "outlinewidth": 0,
              "ticks": ""
             }
            },
            "type": "scatterternary"
           }
          ],
          "surface": [
           {
            "colorbar": {
             "outlinewidth": 0,
             "ticks": ""
            },
            "colorscale": [
             [
              0,
              "#0d0887"
             ],
             [
              0.1111111111111111,
              "#46039f"
             ],
             [
              0.2222222222222222,
              "#7201a8"
             ],
             [
              0.3333333333333333,
              "#9c179e"
             ],
             [
              0.4444444444444444,
              "#bd3786"
             ],
             [
              0.5555555555555556,
              "#d8576b"
             ],
             [
              0.6666666666666666,
              "#ed7953"
             ],
             [
              0.7777777777777778,
              "#fb9f3a"
             ],
             [
              0.8888888888888888,
              "#fdca26"
             ],
             [
              1,
              "#f0f921"
             ]
            ],
            "type": "surface"
           }
          ],
          "table": [
           {
            "cells": {
             "fill": {
              "color": "#EBF0F8"
             },
             "line": {
              "color": "white"
             }
            },
            "header": {
             "fill": {
              "color": "#C8D4E3"
             },
             "line": {
              "color": "white"
             }
            },
            "type": "table"
           }
          ]
         },
         "layout": {
          "annotationdefaults": {
           "arrowcolor": "#2a3f5f",
           "arrowhead": 0,
           "arrowwidth": 1
          },
          "autotypenumbers": "strict",
          "coloraxis": {
           "colorbar": {
            "outlinewidth": 0,
            "ticks": ""
           }
          },
          "colorscale": {
           "diverging": [
            [
             0,
             "#8e0152"
            ],
            [
             0.1,
             "#c51b7d"
            ],
            [
             0.2,
             "#de77ae"
            ],
            [
             0.3,
             "#f1b6da"
            ],
            [
             0.4,
             "#fde0ef"
            ],
            [
             0.5,
             "#f7f7f7"
            ],
            [
             0.6,
             "#e6f5d0"
            ],
            [
             0.7,
             "#b8e186"
            ],
            [
             0.8,
             "#7fbc41"
            ],
            [
             0.9,
             "#4d9221"
            ],
            [
             1,
             "#276419"
            ]
           ],
           "sequential": [
            [
             0,
             "#0d0887"
            ],
            [
             0.1111111111111111,
             "#46039f"
            ],
            [
             0.2222222222222222,
             "#7201a8"
            ],
            [
             0.3333333333333333,
             "#9c179e"
            ],
            [
             0.4444444444444444,
             "#bd3786"
            ],
            [
             0.5555555555555556,
             "#d8576b"
            ],
            [
             0.6666666666666666,
             "#ed7953"
            ],
            [
             0.7777777777777778,
             "#fb9f3a"
            ],
            [
             0.8888888888888888,
             "#fdca26"
            ],
            [
             1,
             "#f0f921"
            ]
           ],
           "sequentialminus": [
            [
             0,
             "#0d0887"
            ],
            [
             0.1111111111111111,
             "#46039f"
            ],
            [
             0.2222222222222222,
             "#7201a8"
            ],
            [
             0.3333333333333333,
             "#9c179e"
            ],
            [
             0.4444444444444444,
             "#bd3786"
            ],
            [
             0.5555555555555556,
             "#d8576b"
            ],
            [
             0.6666666666666666,
             "#ed7953"
            ],
            [
             0.7777777777777778,
             "#fb9f3a"
            ],
            [
             0.8888888888888888,
             "#fdca26"
            ],
            [
             1,
             "#f0f921"
            ]
           ]
          },
          "colorway": [
           "#636efa",
           "#EF553B",
           "#00cc96",
           "#ab63fa",
           "#FFA15A",
           "#19d3f3",
           "#FF6692",
           "#B6E880",
           "#FF97FF",
           "#FECB52"
          ],
          "font": {
           "color": "#2a3f5f"
          },
          "geo": {
           "bgcolor": "white",
           "lakecolor": "white",
           "landcolor": "#E5ECF6",
           "showlakes": true,
           "showland": true,
           "subunitcolor": "white"
          },
          "hoverlabel": {
           "align": "left"
          },
          "hovermode": "closest",
          "mapbox": {
           "style": "light"
          },
          "paper_bgcolor": "white",
          "plot_bgcolor": "#E5ECF6",
          "polar": {
           "angularaxis": {
            "gridcolor": "white",
            "linecolor": "white",
            "ticks": ""
           },
           "bgcolor": "#E5ECF6",
           "radialaxis": {
            "gridcolor": "white",
            "linecolor": "white",
            "ticks": ""
           }
          },
          "scene": {
           "xaxis": {
            "backgroundcolor": "#E5ECF6",
            "gridcolor": "white",
            "gridwidth": 2,
            "linecolor": "white",
            "showbackground": true,
            "ticks": "",
            "zerolinecolor": "white"
           },
           "yaxis": {
            "backgroundcolor": "#E5ECF6",
            "gridcolor": "white",
            "gridwidth": 2,
            "linecolor": "white",
            "showbackground": true,
            "ticks": "",
            "zerolinecolor": "white"
           },
           "zaxis": {
            "backgroundcolor": "#E5ECF6",
            "gridcolor": "white",
            "gridwidth": 2,
            "linecolor": "white",
            "showbackground": true,
            "ticks": "",
            "zerolinecolor": "white"
           }
          },
          "shapedefaults": {
           "line": {
            "color": "#2a3f5f"
           }
          },
          "ternary": {
           "aaxis": {
            "gridcolor": "white",
            "linecolor": "white",
            "ticks": ""
           },
           "baxis": {
            "gridcolor": "white",
            "linecolor": "white",
            "ticks": ""
           },
           "bgcolor": "#E5ECF6",
           "caxis": {
            "gridcolor": "white",
            "linecolor": "white",
            "ticks": ""
           }
          },
          "title": {
           "x": 0.05
          },
          "xaxis": {
           "automargin": true,
           "gridcolor": "white",
           "linecolor": "white",
           "ticks": "",
           "title": {
            "standoff": 15
           },
           "zerolinecolor": "white",
           "zerolinewidth": 2
          },
          "yaxis": {
           "automargin": true,
           "gridcolor": "white",
           "linecolor": "white",
           "ticks": "",
           "title": {
            "standoff": 15
           },
           "zerolinecolor": "white",
           "zerolinewidth": 2
          }
         }
        },
        "title": {
         "font": {
          "color": "#4D5663"
         }
        },
        "xaxis": {
         "anchor": "y",
         "domain": [
          0,
          0.2125
         ],
         "gridcolor": "#E1E5ED",
         "showgrid": false,
         "tickfont": {
          "color": "#4D5663"
         },
         "title": {
          "font": {
           "color": "#4D5663"
          },
          "text": ""
         },
         "zerolinecolor": "#E1E5ED"
        },
        "xaxis10": {
         "anchor": "y10",
         "domain": [
          0.2625,
          0.475
         ],
         "gridcolor": "#E1E5ED",
         "showgrid": false,
         "tickfont": {
          "color": "#4D5663"
         },
         "title": {
          "font": {
           "color": "#4D5663"
          },
          "text": ""
         },
         "zerolinecolor": "#E1E5ED"
        },
        "xaxis11": {
         "anchor": "y11",
         "domain": [
          0.525,
          0.7375
         ],
         "gridcolor": "#E1E5ED",
         "showgrid": false,
         "tickfont": {
          "color": "#4D5663"
         },
         "title": {
          "font": {
           "color": "#4D5663"
          },
          "text": ""
         },
         "zerolinecolor": "#E1E5ED"
        },
        "xaxis12": {
         "anchor": "y12",
         "domain": [
          0.7875,
          1
         ],
         "gridcolor": "#E1E5ED",
         "showgrid": false,
         "tickfont": {
          "color": "#4D5663"
         },
         "title": {
          "font": {
           "color": "#4D5663"
          },
          "text": ""
         },
         "zerolinecolor": "#E1E5ED"
        },
        "xaxis13": {
         "anchor": "y13",
         "domain": [
          0,
          0.2125
         ],
         "gridcolor": "#E1E5ED",
         "showgrid": false,
         "tickfont": {
          "color": "#4D5663"
         },
         "title": {
          "font": {
           "color": "#4D5663"
          },
          "text": ""
         },
         "zerolinecolor": "#E1E5ED"
        },
        "xaxis14": {
         "anchor": "y14",
         "domain": [
          0.2625,
          0.475
         ],
         "gridcolor": "#E1E5ED",
         "showgrid": false,
         "tickfont": {
          "color": "#4D5663"
         },
         "title": {
          "font": {
           "color": "#4D5663"
          },
          "text": ""
         },
         "zerolinecolor": "#E1E5ED"
        },
        "xaxis15": {
         "anchor": "y15",
         "domain": [
          0.525,
          0.7375
         ],
         "gridcolor": "#E1E5ED",
         "showgrid": false,
         "tickfont": {
          "color": "#4D5663"
         },
         "title": {
          "font": {
           "color": "#4D5663"
          },
          "text": ""
         },
         "zerolinecolor": "#E1E5ED"
        },
        "xaxis16": {
         "anchor": "y16",
         "domain": [
          0.7875,
          1
         ],
         "gridcolor": "#E1E5ED",
         "showgrid": false,
         "tickfont": {
          "color": "#4D5663"
         },
         "title": {
          "font": {
           "color": "#4D5663"
          },
          "text": ""
         },
         "zerolinecolor": "#E1E5ED"
        },
        "xaxis2": {
         "anchor": "y2",
         "domain": [
          0.2625,
          0.475
         ],
         "gridcolor": "#E1E5ED",
         "showgrid": false,
         "tickfont": {
          "color": "#4D5663"
         },
         "title": {
          "font": {
           "color": "#4D5663"
          },
          "text": ""
         },
         "zerolinecolor": "#E1E5ED"
        },
        "xaxis3": {
         "anchor": "y3",
         "domain": [
          0.525,
          0.7375
         ],
         "gridcolor": "#E1E5ED",
         "showgrid": false,
         "tickfont": {
          "color": "#4D5663"
         },
         "title": {
          "font": {
           "color": "#4D5663"
          },
          "text": ""
         },
         "zerolinecolor": "#E1E5ED"
        },
        "xaxis4": {
         "anchor": "y4",
         "domain": [
          0.7875,
          1
         ],
         "gridcolor": "#E1E5ED",
         "showgrid": false,
         "tickfont": {
          "color": "#4D5663"
         },
         "title": {
          "font": {
           "color": "#4D5663"
          },
          "text": ""
         },
         "zerolinecolor": "#E1E5ED"
        },
        "xaxis5": {
         "anchor": "y5",
         "domain": [
          0,
          0.2125
         ],
         "gridcolor": "#E1E5ED",
         "showgrid": false,
         "tickfont": {
          "color": "#4D5663"
         },
         "title": {
          "font": {
           "color": "#4D5663"
          },
          "text": ""
         },
         "zerolinecolor": "#E1E5ED"
        },
        "xaxis6": {
         "anchor": "y6",
         "domain": [
          0.2625,
          0.475
         ],
         "gridcolor": "#E1E5ED",
         "showgrid": false,
         "tickfont": {
          "color": "#4D5663"
         },
         "title": {
          "font": {
           "color": "#4D5663"
          },
          "text": ""
         },
         "zerolinecolor": "#E1E5ED"
        },
        "xaxis7": {
         "anchor": "y7",
         "domain": [
          0.525,
          0.7375
         ],
         "gridcolor": "#E1E5ED",
         "showgrid": false,
         "tickfont": {
          "color": "#4D5663"
         },
         "title": {
          "font": {
           "color": "#4D5663"
          },
          "text": ""
         },
         "zerolinecolor": "#E1E5ED"
        },
        "xaxis8": {
         "anchor": "y8",
         "domain": [
          0.7875,
          1
         ],
         "gridcolor": "#E1E5ED",
         "showgrid": false,
         "tickfont": {
          "color": "#4D5663"
         },
         "title": {
          "font": {
           "color": "#4D5663"
          },
          "text": ""
         },
         "zerolinecolor": "#E1E5ED"
        },
        "xaxis9": {
         "anchor": "y9",
         "domain": [
          0,
          0.2125
         ],
         "gridcolor": "#E1E5ED",
         "showgrid": false,
         "tickfont": {
          "color": "#4D5663"
         },
         "title": {
          "font": {
           "color": "#4D5663"
          },
          "text": ""
         },
         "zerolinecolor": "#E1E5ED"
        },
        "yaxis": {
         "anchor": "x",
         "domain": [
          0.8025,
          1
         ],
         "gridcolor": "#E1E5ED",
         "showgrid": false,
         "tickfont": {
          "color": "#4D5663"
         },
         "title": {
          "font": {
           "color": "#4D5663"
          },
          "text": ""
         },
         "zerolinecolor": "#E1E5ED"
        },
        "yaxis10": {
         "anchor": "x10",
         "domain": [
          0.2675,
          0.465
         ],
         "gridcolor": "#E1E5ED",
         "showgrid": false,
         "tickfont": {
          "color": "#4D5663"
         },
         "title": {
          "font": {
           "color": "#4D5663"
          },
          "text": ""
         },
         "zerolinecolor": "#E1E5ED"
        },
        "yaxis11": {
         "anchor": "x11",
         "domain": [
          0.2675,
          0.465
         ],
         "gridcolor": "#E1E5ED",
         "showgrid": false,
         "tickfont": {
          "color": "#4D5663"
         },
         "title": {
          "font": {
           "color": "#4D5663"
          },
          "text": ""
         },
         "zerolinecolor": "#E1E5ED"
        },
        "yaxis12": {
         "anchor": "x12",
         "domain": [
          0.2675,
          0.465
         ],
         "gridcolor": "#E1E5ED",
         "showgrid": false,
         "tickfont": {
          "color": "#4D5663"
         },
         "title": {
          "font": {
           "color": "#4D5663"
          },
          "text": ""
         },
         "zerolinecolor": "#E1E5ED"
        },
        "yaxis13": {
         "anchor": "x13",
         "domain": [
          0,
          0.1975
         ],
         "gridcolor": "#E1E5ED",
         "showgrid": false,
         "tickfont": {
          "color": "#4D5663"
         },
         "title": {
          "font": {
           "color": "#4D5663"
          },
          "text": ""
         },
         "zerolinecolor": "#E1E5ED"
        },
        "yaxis14": {
         "anchor": "x14",
         "domain": [
          0,
          0.1975
         ],
         "gridcolor": "#E1E5ED",
         "showgrid": false,
         "tickfont": {
          "color": "#4D5663"
         },
         "title": {
          "font": {
           "color": "#4D5663"
          },
          "text": ""
         },
         "zerolinecolor": "#E1E5ED"
        },
        "yaxis15": {
         "anchor": "x15",
         "domain": [
          0,
          0.1975
         ],
         "gridcolor": "#E1E5ED",
         "showgrid": false,
         "tickfont": {
          "color": "#4D5663"
         },
         "title": {
          "font": {
           "color": "#4D5663"
          },
          "text": ""
         },
         "zerolinecolor": "#E1E5ED"
        },
        "yaxis16": {
         "anchor": "x16",
         "domain": [
          0,
          0.1975
         ],
         "gridcolor": "#E1E5ED",
         "showgrid": false,
         "tickfont": {
          "color": "#4D5663"
         },
         "title": {
          "font": {
           "color": "#4D5663"
          },
          "text": ""
         },
         "zerolinecolor": "#E1E5ED"
        },
        "yaxis2": {
         "anchor": "x2",
         "domain": [
          0.8025,
          1
         ],
         "gridcolor": "#E1E5ED",
         "showgrid": false,
         "tickfont": {
          "color": "#4D5663"
         },
         "title": {
          "font": {
           "color": "#4D5663"
          },
          "text": ""
         },
         "zerolinecolor": "#E1E5ED"
        },
        "yaxis3": {
         "anchor": "x3",
         "domain": [
          0.8025,
          1
         ],
         "gridcolor": "#E1E5ED",
         "showgrid": false,
         "tickfont": {
          "color": "#4D5663"
         },
         "title": {
          "font": {
           "color": "#4D5663"
          },
          "text": ""
         },
         "zerolinecolor": "#E1E5ED"
        },
        "yaxis4": {
         "anchor": "x4",
         "domain": [
          0.8025,
          1
         ],
         "gridcolor": "#E1E5ED",
         "showgrid": false,
         "tickfont": {
          "color": "#4D5663"
         },
         "title": {
          "font": {
           "color": "#4D5663"
          },
          "text": ""
         },
         "zerolinecolor": "#E1E5ED"
        },
        "yaxis5": {
         "anchor": "x5",
         "domain": [
          0.535,
          0.7325
         ],
         "gridcolor": "#E1E5ED",
         "showgrid": false,
         "tickfont": {
          "color": "#4D5663"
         },
         "title": {
          "font": {
           "color": "#4D5663"
          },
          "text": ""
         },
         "zerolinecolor": "#E1E5ED"
        },
        "yaxis6": {
         "anchor": "x6",
         "domain": [
          0.535,
          0.7325
         ],
         "gridcolor": "#E1E5ED",
         "showgrid": false,
         "tickfont": {
          "color": "#4D5663"
         },
         "title": {
          "font": {
           "color": "#4D5663"
          },
          "text": ""
         },
         "zerolinecolor": "#E1E5ED"
        },
        "yaxis7": {
         "anchor": "x7",
         "domain": [
          0.535,
          0.7325
         ],
         "gridcolor": "#E1E5ED",
         "showgrid": false,
         "tickfont": {
          "color": "#4D5663"
         },
         "title": {
          "font": {
           "color": "#4D5663"
          },
          "text": ""
         },
         "zerolinecolor": "#E1E5ED"
        },
        "yaxis8": {
         "anchor": "x8",
         "domain": [
          0.535,
          0.7325
         ],
         "gridcolor": "#E1E5ED",
         "showgrid": false,
         "tickfont": {
          "color": "#4D5663"
         },
         "title": {
          "font": {
           "color": "#4D5663"
          },
          "text": ""
         },
         "zerolinecolor": "#E1E5ED"
        },
        "yaxis9": {
         "anchor": "x9",
         "domain": [
          0.2675,
          0.465
         ],
         "gridcolor": "#E1E5ED",
         "showgrid": false,
         "tickfont": {
          "color": "#4D5663"
         },
         "title": {
          "font": {
           "color": "#4D5663"
          },
          "text": ""
         },
         "zerolinecolor": "#E1E5ED"
        }
       }
      },
      "text/html": [
       "<div>                            <div id=\"e891f7c9-b2c6-4e8d-bb78-9fa427fad190\" class=\"plotly-graph-div\" style=\"height:525px; width:100%;\"></div>            <script type=\"text/javascript\">                require([\"plotly\"], function(Plotly) {                    window.PLOTLYENV=window.PLOTLYENV || {};\n",
       "                    window.PLOTLYENV.BASE_URL='https://plot.ly';                                    if (document.getElementById(\"e891f7c9-b2c6-4e8d-bb78-9fa427fad190\")) {                    Plotly.newPlot(                        \"e891f7c9-b2c6-4e8d-bb78-9fa427fad190\",                        [{\"histfunc\":\"count\",\"histnorm\":\"\",\"marker\":{\"color\":\"rgba(255, 153, 51, 1.0)\",\"line\":{\"color\":\"#4D5663\",\"width\":1.3}},\"name\":\"A\",\"nbinsx\":10,\"opacity\":0.8,\"orientation\":\"v\",\"x\":[-1.23367774458424,0.7354606535590142,0.18297916358793126,0.4997206964909568,-0.4164376791113165,0.7725868189495974,-0.3190709225596303,-0.34509557310354055,0.17571314182171857,1.2832496432359026,-0.6701622872223576,0.1726151343541529,-0.5371486714244423,0.14866247108121355,-1.1134174896360065,0.9181426264528164,0.2916545629339712,-1.5327750870756958,-1.4981000212493611,-0.6778356750220685,1.735421358474536,-0.6843482671654342,-2.3903111255154244,-0.19203745335697894,-0.7727337242600216,0.4851640083650962,-0.03687388157122996,-0.28013428904290666,0.13278542161376505,0.3119355241632733,1.5559893421845665,-0.14961659575442454,-0.6254401403525508,0.14409253691847518,-0.17776408261353757,-1.506867556747576,-0.9417607912397659,1.8817932769503896,-0.09791659724689179,2.341697749668085,-1.0463068519188832,0.7667785456655989,0.3744052165922298,-0.11600890719464242,1.3157688037328155,-0.47044669371950476,0.5387585482327067,0.7425985029443694,0.9624955022877838,-0.2984520913272161,-0.2183144798873457,0.9022682433066121,1.155171384106318,-0.4639222451394979,1.9799373349193057,-0.9709105566083415,0.4266930092556539,0.7982776980272756,-0.788330192220676,2.214154651931596,0.8517386094525903,0.7307109968115925,0.7635729782447669,0.10645212322818463,0.36019364897067474,0.9746982639638698,-0.5556653065216498,0.17462254664205748,-1.8419332782616773,-1.985223300131962,0.7467115259440948,2.2401539237310297,-0.8646309336109702,0.03176867873429596,1.0856986000536937,0.5765714008077054,1.8425945746859302,-0.5982346749068658,1.281876291366642,-1.4856750066733857,-0.40617642583972385,1.227860895027526,-0.1516154355428637,-0.19119937484773103,1.6412982490327952,-0.16593239072305466,-1.2920286182886802,-0.8691861682544956,-1.850680027577851,2.257954454887254,2.6285325515955864,-0.0684629034273146,1.7513799068573954,-0.46705614107678833,-0.10754645646971306,0.3550472312638334,-0.030799279632314668,0.48260371806705854,0.6037213493070618,1.2001353535703647],\"xaxis\":\"x\",\"yaxis\":\"y\",\"type\":\"histogram\"},{\"line\":{\"color\":\"rgba(128, 128, 128, 1.0)\",\"dash\":\"solid\",\"shape\":\"linear\",\"width\":1.3},\"marker\":{\"size\":2,\"symbol\":\"circle\"},\"mode\":\"markers\",\"name\":\"A\",\"text\":\"\",\"x\":[1.6136967679655434,-1.7743454628646287,-0.7203287172843124,-0.6117954031487445,-0.5009445747690496,-0.24161844138377042,-0.08872694595508866,0.9414124362805255,-1.3156998667030655,-1.4071666051435512,0.5936163122545488,-1.4425960457191493,0.8871373825005632,0.7934761210859214,1.6388025932684638,-0.11005133315602779,-0.10825386825750678,0.0025098233379851074,0.2872930674671653,-0.6648284861864668,-0.15297087907323706,-0.22340340462924857,-1.046194162796279,-0.6992987713385544,-1.428382051025518,2.2717657882437416,-0.2991219216134819,0.8036729570996414,0.07473183143488986,0.03629793496927448,0.7282501907601823,-0.468992428764272,1.1354729217609987,-0.17500536226349744,-0.8823112338592987,-1.0267863666982082,0.22929164557760115,0.08166986290003601,-0.4330250214952117,-1.4768571379632707,-0.03836514380320835,0.5605916358916565,0.3208280805065191,-0.30636035654476584,-0.5856938781868646,-0.9413963300297031,-1.8328437051415842,0.3633607192627451,0.014613820067525655,-2.0581325295536987,-0.5814716694456769,-0.645961870134278,-0.9509169358479385,-0.5364320563027563,-0.09927241848365108,1.1677610430726344,0.3140389325576045,2.2953591028356666,-0.811016454177509,-1.0738306708614167,-0.5448157712114431,1.0117744371276478,0.4037143519820321,-0.07573006893551563,0.20146794629997267,-0.3682498559607633,-1.051561812832864,0.9742748100847685,-1.8840815140861575,-1.163604661761712,0.2695935706119995,-0.2153451906084906,-0.4643422556942716,-0.03181141759971215,1.601791961152759,-1.263754355144204,-0.4277428623143499,0.3758165557541959,0.466825436020422,0.12952785501322436,-1.1010703462267066,-1.2236492596008608,0.01927986704213586,-0.6869701717286061,-0.6547097891615642,-0.2396485802567933,-0.05472819079502166,-2.6898646855476485,-1.2873936728903954,0.6240206318014331,1.249178232250976,0.4185312567426191,-1.4588386970350944,-0.19460072611954962,0.509326925798342,0.1338898266727817,-1.2748281912315276,-1.3360835573105292,-0.2282333872994752,1.0511136019093947],\"xaxis\":\"x2\",\"y\":[-1.23367774458424,0.7354606535590142,0.18297916358793126,0.4997206964909568,-0.4164376791113165,0.7725868189495974,-0.3190709225596303,-0.34509557310354055,0.17571314182171857,1.2832496432359026,-0.6701622872223576,0.1726151343541529,-0.5371486714244423,0.14866247108121355,-1.1134174896360065,0.9181426264528164,0.2916545629339712,-1.5327750870756958,-1.4981000212493611,-0.6778356750220685,1.735421358474536,-0.6843482671654342,-2.3903111255154244,-0.19203745335697894,-0.7727337242600216,0.4851640083650962,-0.03687388157122996,-0.28013428904290666,0.13278542161376505,0.3119355241632733,1.5559893421845665,-0.14961659575442454,-0.6254401403525508,0.14409253691847518,-0.17776408261353757,-1.506867556747576,-0.9417607912397659,1.8817932769503896,-0.09791659724689179,2.341697749668085,-1.0463068519188832,0.7667785456655989,0.3744052165922298,-0.11600890719464242,1.3157688037328155,-0.47044669371950476,0.5387585482327067,0.7425985029443694,0.9624955022877838,-0.2984520913272161,-0.2183144798873457,0.9022682433066121,1.155171384106318,-0.4639222451394979,1.9799373349193057,-0.9709105566083415,0.4266930092556539,0.7982776980272756,-0.788330192220676,2.214154651931596,0.8517386094525903,0.7307109968115925,0.7635729782447669,0.10645212322818463,0.36019364897067474,0.9746982639638698,-0.5556653065216498,0.17462254664205748,-1.8419332782616773,-1.985223300131962,0.7467115259440948,2.2401539237310297,-0.8646309336109702,0.03176867873429596,1.0856986000536937,0.5765714008077054,1.8425945746859302,-0.5982346749068658,1.281876291366642,-1.4856750066733857,-0.40617642583972385,1.227860895027526,-0.1516154355428637,-0.19119937484773103,1.6412982490327952,-0.16593239072305466,-1.2920286182886802,-0.8691861682544956,-1.850680027577851,2.257954454887254,2.6285325515955864,-0.0684629034273146,1.7513799068573954,-0.46705614107678833,-0.10754645646971306,0.3550472312638334,-0.030799279632314668,0.48260371806705854,0.6037213493070618,1.2001353535703647],\"yaxis\":\"y2\",\"type\":\"scatter\"},{\"line\":{\"color\":\"rgba(128, 128, 128, 1.0)\",\"dash\":\"solid\",\"shape\":\"linear\",\"width\":1.3},\"marker\":{\"size\":2,\"symbol\":\"circle\"},\"mode\":\"markers\",\"name\":\"A\",\"text\":\"\",\"x\":[-0.34370852148833775,-1.6037070888676004,-1.0117519586533903,2.3520700857796037,-0.07800786087730324,1.7477028399367123,-1.3134636218504039,0.834917922822358,-1.6879711424176278,-1.4631717164175138,0.06260354179374829,-1.058293815930557,-0.8547977131737582,0.12040414862863882,1.320848958790828,-0.1663789255787278,0.956055668413484,0.13652661175792463,-1.0486821992527868,-0.8123151430828478,-0.3603782295493598,2.0800555742838696,1.0279573944752483,-0.9285579023018954,-1.5249896100398639,-0.42251603931199544,-0.17278746245657228,0.09971652959597924,0.5245379305962313,0.5758482550732602,0.08999784454025511,0.4246620759988931,2.385590884310923,0.9435396158109014,-0.10350349061134614,0.37869652762416994,0.3506595888281066,-1.1023064841618144,-1.515163438097079,0.7018189655599872,-0.5472974960629561,0.45086640912233394,-1.0323496052416319,1.0781607798625312,0.40589874379108193,0.04796820422522915,1.1483656721206774,-0.7254572801758798,0.03615515285397519,-0.3629751313234159,-1.4103474431164458,-0.444878978022152,-1.1567563260758529,0.05392222192325666,1.5723888163918553,0.3168075874475406,1.5084826520533836,1.5033058696550723,0.7140032131679233,-0.013307389720520662,1.303203326685032,-0.46656882533908856,-1.787337883505314,0.289923762209665,0.20032842830256625,-0.36130641876922126,-0.8394345059986312,0.09568776491921355,-0.1009539924355601,0.7409983668257607,-0.31442540937426433,-1.3967235868497487,-2.002851615229901,0.9813604252326612,1.2940876771427605,0.45236708325259406,0.39819579938627014,1.9013035021034381,-0.979183794087184,-0.19388177386612115,-1.3065320126945617,-0.8102323344833,0.7274599286254197,1.2253763472748123,-0.6328830446589793,0.7267424776293127,-0.4303729667109366,1.5517488795556174,1.2946292755127904,0.13838587736783844,-1.3493619397165506,-0.17864844790246678,-0.4549657696654094,-0.3651793980414446,-1.5837668607694977,-1.538225241820272,1.9919583756213672,0.4634375459475504,-1.7056423601701083,-0.4557409185352117],\"xaxis\":\"x3\",\"y\":[-1.23367774458424,0.7354606535590142,0.18297916358793126,0.4997206964909568,-0.4164376791113165,0.7725868189495974,-0.3190709225596303,-0.34509557310354055,0.17571314182171857,1.2832496432359026,-0.6701622872223576,0.1726151343541529,-0.5371486714244423,0.14866247108121355,-1.1134174896360065,0.9181426264528164,0.2916545629339712,-1.5327750870756958,-1.4981000212493611,-0.6778356750220685,1.735421358474536,-0.6843482671654342,-2.3903111255154244,-0.19203745335697894,-0.7727337242600216,0.4851640083650962,-0.03687388157122996,-0.28013428904290666,0.13278542161376505,0.3119355241632733,1.5559893421845665,-0.14961659575442454,-0.6254401403525508,0.14409253691847518,-0.17776408261353757,-1.506867556747576,-0.9417607912397659,1.8817932769503896,-0.09791659724689179,2.341697749668085,-1.0463068519188832,0.7667785456655989,0.3744052165922298,-0.11600890719464242,1.3157688037328155,-0.47044669371950476,0.5387585482327067,0.7425985029443694,0.9624955022877838,-0.2984520913272161,-0.2183144798873457,0.9022682433066121,1.155171384106318,-0.4639222451394979,1.9799373349193057,-0.9709105566083415,0.4266930092556539,0.7982776980272756,-0.788330192220676,2.214154651931596,0.8517386094525903,0.7307109968115925,0.7635729782447669,0.10645212322818463,0.36019364897067474,0.9746982639638698,-0.5556653065216498,0.17462254664205748,-1.8419332782616773,-1.985223300131962,0.7467115259440948,2.2401539237310297,-0.8646309336109702,0.03176867873429596,1.0856986000536937,0.5765714008077054,1.8425945746859302,-0.5982346749068658,1.281876291366642,-1.4856750066733857,-0.40617642583972385,1.227860895027526,-0.1516154355428637,-0.19119937484773103,1.6412982490327952,-0.16593239072305466,-1.2920286182886802,-0.8691861682544956,-1.850680027577851,2.257954454887254,2.6285325515955864,-0.0684629034273146,1.7513799068573954,-0.46705614107678833,-0.10754645646971306,0.3550472312638334,-0.030799279632314668,0.48260371806705854,0.6037213493070618,1.2001353535703647],\"yaxis\":\"y3\",\"type\":\"scatter\"},{\"line\":{\"color\":\"rgba(128, 128, 128, 1.0)\",\"dash\":\"solid\",\"shape\":\"linear\",\"width\":1.3},\"marker\":{\"size\":2,\"symbol\":\"circle\"},\"mode\":\"markers\",\"name\":\"A\",\"text\":\"\",\"x\":[-0.4525155307585302,-1.1847407611918483,-0.6793716908468681,-0.7663491194820993,-2.1037826400325375,0.451631524283149,0.7093347084577076,-0.13353638840608778,1.5205988799445087,1.5278493845638228,-0.3846171086426508,-0.8674568537134518,1.299356130748103,-1.8673558194780966,1.206392511699628,-0.6298690687332809,1.4121137273867659,-0.9932980773519611,-0.08511403258554953,-0.03917959783296583,1.0177798325126055,-0.9142575587934604,0.08487968683490116,0.8140429903383063,0.2027994074813393,-2.2457237748949614,0.797675681069284,-1.4347227334780444,-0.8023559564700763,0.8173008634313658,-2.6143267010803655,0.010099944429897412,1.1448990833802974,-0.13294317369698727,-1.4447427598147196,-0.18236573682642726,-0.1371302988288747,1.7452156674678587,0.9557468926091326,1.6999482466830902,1.0844698760459346,-0.9687820018821905,-0.2898370304894389,-0.3808640586901712,2.466496023407135,-0.8597502401088455,-1.0550011235261636,1.13639270921484,1.9627931527711124,-0.015462480200274966,-0.696353258591921,-0.6215499023794203,-0.640185573946483,-0.28345710445611444,-1.448223204467605,-1.2568378934927584,-0.6129093957117677,1.2866974325236984,2.723007327425759,-1.7488581469360764,-0.7906453832274789,-0.2708486716777824,0.5725303392874214,1.5594650781817387,0.396780769224614,0.4131818712532956,-0.2782569433258647,-0.09888653436213217,0.17228875184139641,0.08463458982687724,0.5857287900509336,0.8365703340936173,-0.6538583301479146,-1.358360897596932,-0.5919410242500869,0.5368324263433479,-2.143818654993575,0.22425849005050116,-1.2945576486575732,-1.6252838191970418,-0.6111592374974577,2.3629129341321335,-0.8704263650104284,-1.0239197809652285,1.3596960473221344,0.2753242239499126,-1.3090562555703824,0.46155247720388887,1.1543044188659888,0.15057621415812555,-2.102842980891349,-0.28836526127846385,1.367076393792901,-0.8683588779318776,0.10089130202092392,-0.2623850238247419,-0.5243677250921439,-1.0854310368659164,-0.1519881281047457,-0.16858694649079947],\"xaxis\":\"x4\",\"y\":[-1.23367774458424,0.7354606535590142,0.18297916358793126,0.4997206964909568,-0.4164376791113165,0.7725868189495974,-0.3190709225596303,-0.34509557310354055,0.17571314182171857,1.2832496432359026,-0.6701622872223576,0.1726151343541529,-0.5371486714244423,0.14866247108121355,-1.1134174896360065,0.9181426264528164,0.2916545629339712,-1.5327750870756958,-1.4981000212493611,-0.6778356750220685,1.735421358474536,-0.6843482671654342,-2.3903111255154244,-0.19203745335697894,-0.7727337242600216,0.4851640083650962,-0.03687388157122996,-0.28013428904290666,0.13278542161376505,0.3119355241632733,1.5559893421845665,-0.14961659575442454,-0.6254401403525508,0.14409253691847518,-0.17776408261353757,-1.506867556747576,-0.9417607912397659,1.8817932769503896,-0.09791659724689179,2.341697749668085,-1.0463068519188832,0.7667785456655989,0.3744052165922298,-0.11600890719464242,1.3157688037328155,-0.47044669371950476,0.5387585482327067,0.7425985029443694,0.9624955022877838,-0.2984520913272161,-0.2183144798873457,0.9022682433066121,1.155171384106318,-0.4639222451394979,1.9799373349193057,-0.9709105566083415,0.4266930092556539,0.7982776980272756,-0.788330192220676,2.214154651931596,0.8517386094525903,0.7307109968115925,0.7635729782447669,0.10645212322818463,0.36019364897067474,0.9746982639638698,-0.5556653065216498,0.17462254664205748,-1.8419332782616773,-1.985223300131962,0.7467115259440948,2.2401539237310297,-0.8646309336109702,0.03176867873429596,1.0856986000536937,0.5765714008077054,1.8425945746859302,-0.5982346749068658,1.281876291366642,-1.4856750066733857,-0.40617642583972385,1.227860895027526,-0.1516154355428637,-0.19119937484773103,1.6412982490327952,-0.16593239072305466,-1.2920286182886802,-0.8691861682544956,-1.850680027577851,2.257954454887254,2.6285325515955864,-0.0684629034273146,1.7513799068573954,-0.46705614107678833,-0.10754645646971306,0.3550472312638334,-0.030799279632314668,0.48260371806705854,0.6037213493070618,1.2001353535703647],\"yaxis\":\"y4\",\"type\":\"scatter\"},{\"line\":{\"color\":\"rgba(128, 128, 128, 1.0)\",\"dash\":\"solid\",\"shape\":\"linear\",\"width\":1.3},\"marker\":{\"size\":2,\"symbol\":\"circle\"},\"mode\":\"markers\",\"name\":\"B\",\"text\":\"\",\"x\":[-1.23367774458424,0.7354606535590142,0.18297916358793126,0.4997206964909568,-0.4164376791113165,0.7725868189495974,-0.3190709225596303,-0.34509557310354055,0.17571314182171857,1.2832496432359026,-0.6701622872223576,0.1726151343541529,-0.5371486714244423,0.14866247108121355,-1.1134174896360065,0.9181426264528164,0.2916545629339712,-1.5327750870756958,-1.4981000212493611,-0.6778356750220685,1.735421358474536,-0.6843482671654342,-2.3903111255154244,-0.19203745335697894,-0.7727337242600216,0.4851640083650962,-0.03687388157122996,-0.28013428904290666,0.13278542161376505,0.3119355241632733,1.5559893421845665,-0.14961659575442454,-0.6254401403525508,0.14409253691847518,-0.17776408261353757,-1.506867556747576,-0.9417607912397659,1.8817932769503896,-0.09791659724689179,2.341697749668085,-1.0463068519188832,0.7667785456655989,0.3744052165922298,-0.11600890719464242,1.3157688037328155,-0.47044669371950476,0.5387585482327067,0.7425985029443694,0.9624955022877838,-0.2984520913272161,-0.2183144798873457,0.9022682433066121,1.155171384106318,-0.4639222451394979,1.9799373349193057,-0.9709105566083415,0.4266930092556539,0.7982776980272756,-0.788330192220676,2.214154651931596,0.8517386094525903,0.7307109968115925,0.7635729782447669,0.10645212322818463,0.36019364897067474,0.9746982639638698,-0.5556653065216498,0.17462254664205748,-1.8419332782616773,-1.985223300131962,0.7467115259440948,2.2401539237310297,-0.8646309336109702,0.03176867873429596,1.0856986000536937,0.5765714008077054,1.8425945746859302,-0.5982346749068658,1.281876291366642,-1.4856750066733857,-0.40617642583972385,1.227860895027526,-0.1516154355428637,-0.19119937484773103,1.6412982490327952,-0.16593239072305466,-1.2920286182886802,-0.8691861682544956,-1.850680027577851,2.257954454887254,2.6285325515955864,-0.0684629034273146,1.7513799068573954,-0.46705614107678833,-0.10754645646971306,0.3550472312638334,-0.030799279632314668,0.48260371806705854,0.6037213493070618,1.2001353535703647],\"xaxis\":\"x5\",\"y\":[1.6136967679655434,-1.7743454628646287,-0.7203287172843124,-0.6117954031487445,-0.5009445747690496,-0.24161844138377042,-0.08872694595508866,0.9414124362805255,-1.3156998667030655,-1.4071666051435512,0.5936163122545488,-1.4425960457191493,0.8871373825005632,0.7934761210859214,1.6388025932684638,-0.11005133315602779,-0.10825386825750678,0.0025098233379851074,0.2872930674671653,-0.6648284861864668,-0.15297087907323706,-0.22340340462924857,-1.046194162796279,-0.6992987713385544,-1.428382051025518,2.2717657882437416,-0.2991219216134819,0.8036729570996414,0.07473183143488986,0.03629793496927448,0.7282501907601823,-0.468992428764272,1.1354729217609987,-0.17500536226349744,-0.8823112338592987,-1.0267863666982082,0.22929164557760115,0.08166986290003601,-0.4330250214952117,-1.4768571379632707,-0.03836514380320835,0.5605916358916565,0.3208280805065191,-0.30636035654476584,-0.5856938781868646,-0.9413963300297031,-1.8328437051415842,0.3633607192627451,0.014613820067525655,-2.0581325295536987,-0.5814716694456769,-0.645961870134278,-0.9509169358479385,-0.5364320563027563,-0.09927241848365108,1.1677610430726344,0.3140389325576045,2.2953591028356666,-0.811016454177509,-1.0738306708614167,-0.5448157712114431,1.0117744371276478,0.4037143519820321,-0.07573006893551563,0.20146794629997267,-0.3682498559607633,-1.051561812832864,0.9742748100847685,-1.8840815140861575,-1.163604661761712,0.2695935706119995,-0.2153451906084906,-0.4643422556942716,-0.03181141759971215,1.601791961152759,-1.263754355144204,-0.4277428623143499,0.3758165557541959,0.466825436020422,0.12952785501322436,-1.1010703462267066,-1.2236492596008608,0.01927986704213586,-0.6869701717286061,-0.6547097891615642,-0.2396485802567933,-0.05472819079502166,-2.6898646855476485,-1.2873936728903954,0.6240206318014331,1.249178232250976,0.4185312567426191,-1.4588386970350944,-0.19460072611954962,0.509326925798342,0.1338898266727817,-1.2748281912315276,-1.3360835573105292,-0.2282333872994752,1.0511136019093947],\"yaxis\":\"y5\",\"type\":\"scatter\"},{\"histfunc\":\"count\",\"histnorm\":\"\",\"marker\":{\"color\":\"rgba(55, 128, 191, 1.0)\",\"line\":{\"color\":\"#4D5663\",\"width\":1.3}},\"name\":\"B\",\"nbinsx\":10,\"opacity\":0.8,\"orientation\":\"v\",\"x\":[1.6136967679655434,-1.7743454628646287,-0.7203287172843124,-0.6117954031487445,-0.5009445747690496,-0.24161844138377042,-0.08872694595508866,0.9414124362805255,-1.3156998667030655,-1.4071666051435512,0.5936163122545488,-1.4425960457191493,0.8871373825005632,0.7934761210859214,1.6388025932684638,-0.11005133315602779,-0.10825386825750678,0.0025098233379851074,0.2872930674671653,-0.6648284861864668,-0.15297087907323706,-0.22340340462924857,-1.046194162796279,-0.6992987713385544,-1.428382051025518,2.2717657882437416,-0.2991219216134819,0.8036729570996414,0.07473183143488986,0.03629793496927448,0.7282501907601823,-0.468992428764272,1.1354729217609987,-0.17500536226349744,-0.8823112338592987,-1.0267863666982082,0.22929164557760115,0.08166986290003601,-0.4330250214952117,-1.4768571379632707,-0.03836514380320835,0.5605916358916565,0.3208280805065191,-0.30636035654476584,-0.5856938781868646,-0.9413963300297031,-1.8328437051415842,0.3633607192627451,0.014613820067525655,-2.0581325295536987,-0.5814716694456769,-0.645961870134278,-0.9509169358479385,-0.5364320563027563,-0.09927241848365108,1.1677610430726344,0.3140389325576045,2.2953591028356666,-0.811016454177509,-1.0738306708614167,-0.5448157712114431,1.0117744371276478,0.4037143519820321,-0.07573006893551563,0.20146794629997267,-0.3682498559607633,-1.051561812832864,0.9742748100847685,-1.8840815140861575,-1.163604661761712,0.2695935706119995,-0.2153451906084906,-0.4643422556942716,-0.03181141759971215,1.601791961152759,-1.263754355144204,-0.4277428623143499,0.3758165557541959,0.466825436020422,0.12952785501322436,-1.1010703462267066,-1.2236492596008608,0.01927986704213586,-0.6869701717286061,-0.6547097891615642,-0.2396485802567933,-0.05472819079502166,-2.6898646855476485,-1.2873936728903954,0.6240206318014331,1.249178232250976,0.4185312567426191,-1.4588386970350944,-0.19460072611954962,0.509326925798342,0.1338898266727817,-1.2748281912315276,-1.3360835573105292,-0.2282333872994752,1.0511136019093947],\"xaxis\":\"x6\",\"yaxis\":\"y6\",\"type\":\"histogram\"},{\"line\":{\"color\":\"rgba(128, 128, 128, 1.0)\",\"dash\":\"solid\",\"shape\":\"linear\",\"width\":1.3},\"marker\":{\"size\":2,\"symbol\":\"circle\"},\"mode\":\"markers\",\"name\":\"B\",\"text\":\"\",\"x\":[-0.34370852148833775,-1.6037070888676004,-1.0117519586533903,2.3520700857796037,-0.07800786087730324,1.7477028399367123,-1.3134636218504039,0.834917922822358,-1.6879711424176278,-1.4631717164175138,0.06260354179374829,-1.058293815930557,-0.8547977131737582,0.12040414862863882,1.320848958790828,-0.1663789255787278,0.956055668413484,0.13652661175792463,-1.0486821992527868,-0.8123151430828478,-0.3603782295493598,2.0800555742838696,1.0279573944752483,-0.9285579023018954,-1.5249896100398639,-0.42251603931199544,-0.17278746245657228,0.09971652959597924,0.5245379305962313,0.5758482550732602,0.08999784454025511,0.4246620759988931,2.385590884310923,0.9435396158109014,-0.10350349061134614,0.37869652762416994,0.3506595888281066,-1.1023064841618144,-1.515163438097079,0.7018189655599872,-0.5472974960629561,0.45086640912233394,-1.0323496052416319,1.0781607798625312,0.40589874379108193,0.04796820422522915,1.1483656721206774,-0.7254572801758798,0.03615515285397519,-0.3629751313234159,-1.4103474431164458,-0.444878978022152,-1.1567563260758529,0.05392222192325666,1.5723888163918553,0.3168075874475406,1.5084826520533836,1.5033058696550723,0.7140032131679233,-0.013307389720520662,1.303203326685032,-0.46656882533908856,-1.787337883505314,0.289923762209665,0.20032842830256625,-0.36130641876922126,-0.8394345059986312,0.09568776491921355,-0.1009539924355601,0.7409983668257607,-0.31442540937426433,-1.3967235868497487,-2.002851615229901,0.9813604252326612,1.2940876771427605,0.45236708325259406,0.39819579938627014,1.9013035021034381,-0.979183794087184,-0.19388177386612115,-1.3065320126945617,-0.8102323344833,0.7274599286254197,1.2253763472748123,-0.6328830446589793,0.7267424776293127,-0.4303729667109366,1.5517488795556174,1.2946292755127904,0.13838587736783844,-1.3493619397165506,-0.17864844790246678,-0.4549657696654094,-0.3651793980414446,-1.5837668607694977,-1.538225241820272,1.9919583756213672,0.4634375459475504,-1.7056423601701083,-0.4557409185352117],\"xaxis\":\"x7\",\"y\":[1.6136967679655434,-1.7743454628646287,-0.7203287172843124,-0.6117954031487445,-0.5009445747690496,-0.24161844138377042,-0.08872694595508866,0.9414124362805255,-1.3156998667030655,-1.4071666051435512,0.5936163122545488,-1.4425960457191493,0.8871373825005632,0.7934761210859214,1.6388025932684638,-0.11005133315602779,-0.10825386825750678,0.0025098233379851074,0.2872930674671653,-0.6648284861864668,-0.15297087907323706,-0.22340340462924857,-1.046194162796279,-0.6992987713385544,-1.428382051025518,2.2717657882437416,-0.2991219216134819,0.8036729570996414,0.07473183143488986,0.03629793496927448,0.7282501907601823,-0.468992428764272,1.1354729217609987,-0.17500536226349744,-0.8823112338592987,-1.0267863666982082,0.22929164557760115,0.08166986290003601,-0.4330250214952117,-1.4768571379632707,-0.03836514380320835,0.5605916358916565,0.3208280805065191,-0.30636035654476584,-0.5856938781868646,-0.9413963300297031,-1.8328437051415842,0.3633607192627451,0.014613820067525655,-2.0581325295536987,-0.5814716694456769,-0.645961870134278,-0.9509169358479385,-0.5364320563027563,-0.09927241848365108,1.1677610430726344,0.3140389325576045,2.2953591028356666,-0.811016454177509,-1.0738306708614167,-0.5448157712114431,1.0117744371276478,0.4037143519820321,-0.07573006893551563,0.20146794629997267,-0.3682498559607633,-1.051561812832864,0.9742748100847685,-1.8840815140861575,-1.163604661761712,0.2695935706119995,-0.2153451906084906,-0.4643422556942716,-0.03181141759971215,1.601791961152759,-1.263754355144204,-0.4277428623143499,0.3758165557541959,0.466825436020422,0.12952785501322436,-1.1010703462267066,-1.2236492596008608,0.01927986704213586,-0.6869701717286061,-0.6547097891615642,-0.2396485802567933,-0.05472819079502166,-2.6898646855476485,-1.2873936728903954,0.6240206318014331,1.249178232250976,0.4185312567426191,-1.4588386970350944,-0.19460072611954962,0.509326925798342,0.1338898266727817,-1.2748281912315276,-1.3360835573105292,-0.2282333872994752,1.0511136019093947],\"yaxis\":\"y7\",\"type\":\"scatter\"},{\"line\":{\"color\":\"rgba(128, 128, 128, 1.0)\",\"dash\":\"solid\",\"shape\":\"linear\",\"width\":1.3},\"marker\":{\"size\":2,\"symbol\":\"circle\"},\"mode\":\"markers\",\"name\":\"B\",\"text\":\"\",\"x\":[-0.4525155307585302,-1.1847407611918483,-0.6793716908468681,-0.7663491194820993,-2.1037826400325375,0.451631524283149,0.7093347084577076,-0.13353638840608778,1.5205988799445087,1.5278493845638228,-0.3846171086426508,-0.8674568537134518,1.299356130748103,-1.8673558194780966,1.206392511699628,-0.6298690687332809,1.4121137273867659,-0.9932980773519611,-0.08511403258554953,-0.03917959783296583,1.0177798325126055,-0.9142575587934604,0.08487968683490116,0.8140429903383063,0.2027994074813393,-2.2457237748949614,0.797675681069284,-1.4347227334780444,-0.8023559564700763,0.8173008634313658,-2.6143267010803655,0.010099944429897412,1.1448990833802974,-0.13294317369698727,-1.4447427598147196,-0.18236573682642726,-0.1371302988288747,1.7452156674678587,0.9557468926091326,1.6999482466830902,1.0844698760459346,-0.9687820018821905,-0.2898370304894389,-0.3808640586901712,2.466496023407135,-0.8597502401088455,-1.0550011235261636,1.13639270921484,1.9627931527711124,-0.015462480200274966,-0.696353258591921,-0.6215499023794203,-0.640185573946483,-0.28345710445611444,-1.448223204467605,-1.2568378934927584,-0.6129093957117677,1.2866974325236984,2.723007327425759,-1.7488581469360764,-0.7906453832274789,-0.2708486716777824,0.5725303392874214,1.5594650781817387,0.396780769224614,0.4131818712532956,-0.2782569433258647,-0.09888653436213217,0.17228875184139641,0.08463458982687724,0.5857287900509336,0.8365703340936173,-0.6538583301479146,-1.358360897596932,-0.5919410242500869,0.5368324263433479,-2.143818654993575,0.22425849005050116,-1.2945576486575732,-1.6252838191970418,-0.6111592374974577,2.3629129341321335,-0.8704263650104284,-1.0239197809652285,1.3596960473221344,0.2753242239499126,-1.3090562555703824,0.46155247720388887,1.1543044188659888,0.15057621415812555,-2.102842980891349,-0.28836526127846385,1.367076393792901,-0.8683588779318776,0.10089130202092392,-0.2623850238247419,-0.5243677250921439,-1.0854310368659164,-0.1519881281047457,-0.16858694649079947],\"xaxis\":\"x8\",\"y\":[1.6136967679655434,-1.7743454628646287,-0.7203287172843124,-0.6117954031487445,-0.5009445747690496,-0.24161844138377042,-0.08872694595508866,0.9414124362805255,-1.3156998667030655,-1.4071666051435512,0.5936163122545488,-1.4425960457191493,0.8871373825005632,0.7934761210859214,1.6388025932684638,-0.11005133315602779,-0.10825386825750678,0.0025098233379851074,0.2872930674671653,-0.6648284861864668,-0.15297087907323706,-0.22340340462924857,-1.046194162796279,-0.6992987713385544,-1.428382051025518,2.2717657882437416,-0.2991219216134819,0.8036729570996414,0.07473183143488986,0.03629793496927448,0.7282501907601823,-0.468992428764272,1.1354729217609987,-0.17500536226349744,-0.8823112338592987,-1.0267863666982082,0.22929164557760115,0.08166986290003601,-0.4330250214952117,-1.4768571379632707,-0.03836514380320835,0.5605916358916565,0.3208280805065191,-0.30636035654476584,-0.5856938781868646,-0.9413963300297031,-1.8328437051415842,0.3633607192627451,0.014613820067525655,-2.0581325295536987,-0.5814716694456769,-0.645961870134278,-0.9509169358479385,-0.5364320563027563,-0.09927241848365108,1.1677610430726344,0.3140389325576045,2.2953591028356666,-0.811016454177509,-1.0738306708614167,-0.5448157712114431,1.0117744371276478,0.4037143519820321,-0.07573006893551563,0.20146794629997267,-0.3682498559607633,-1.051561812832864,0.9742748100847685,-1.8840815140861575,-1.163604661761712,0.2695935706119995,-0.2153451906084906,-0.4643422556942716,-0.03181141759971215,1.601791961152759,-1.263754355144204,-0.4277428623143499,0.3758165557541959,0.466825436020422,0.12952785501322436,-1.1010703462267066,-1.2236492596008608,0.01927986704213586,-0.6869701717286061,-0.6547097891615642,-0.2396485802567933,-0.05472819079502166,-2.6898646855476485,-1.2873936728903954,0.6240206318014331,1.249178232250976,0.4185312567426191,-1.4588386970350944,-0.19460072611954962,0.509326925798342,0.1338898266727817,-1.2748281912315276,-1.3360835573105292,-0.2282333872994752,1.0511136019093947],\"yaxis\":\"y8\",\"type\":\"scatter\"},{\"line\":{\"color\":\"rgba(128, 128, 128, 1.0)\",\"dash\":\"solid\",\"shape\":\"linear\",\"width\":1.3},\"marker\":{\"size\":2,\"symbol\":\"circle\"},\"mode\":\"markers\",\"name\":\"C\",\"text\":\"\",\"x\":[-1.23367774458424,0.7354606535590142,0.18297916358793126,0.4997206964909568,-0.4164376791113165,0.7725868189495974,-0.3190709225596303,-0.34509557310354055,0.17571314182171857,1.2832496432359026,-0.6701622872223576,0.1726151343541529,-0.5371486714244423,0.14866247108121355,-1.1134174896360065,0.9181426264528164,0.2916545629339712,-1.5327750870756958,-1.4981000212493611,-0.6778356750220685,1.735421358474536,-0.6843482671654342,-2.3903111255154244,-0.19203745335697894,-0.7727337242600216,0.4851640083650962,-0.03687388157122996,-0.28013428904290666,0.13278542161376505,0.3119355241632733,1.5559893421845665,-0.14961659575442454,-0.6254401403525508,0.14409253691847518,-0.17776408261353757,-1.506867556747576,-0.9417607912397659,1.8817932769503896,-0.09791659724689179,2.341697749668085,-1.0463068519188832,0.7667785456655989,0.3744052165922298,-0.11600890719464242,1.3157688037328155,-0.47044669371950476,0.5387585482327067,0.7425985029443694,0.9624955022877838,-0.2984520913272161,-0.2183144798873457,0.9022682433066121,1.155171384106318,-0.4639222451394979,1.9799373349193057,-0.9709105566083415,0.4266930092556539,0.7982776980272756,-0.788330192220676,2.214154651931596,0.8517386094525903,0.7307109968115925,0.7635729782447669,0.10645212322818463,0.36019364897067474,0.9746982639638698,-0.5556653065216498,0.17462254664205748,-1.8419332782616773,-1.985223300131962,0.7467115259440948,2.2401539237310297,-0.8646309336109702,0.03176867873429596,1.0856986000536937,0.5765714008077054,1.8425945746859302,-0.5982346749068658,1.281876291366642,-1.4856750066733857,-0.40617642583972385,1.227860895027526,-0.1516154355428637,-0.19119937484773103,1.6412982490327952,-0.16593239072305466,-1.2920286182886802,-0.8691861682544956,-1.850680027577851,2.257954454887254,2.6285325515955864,-0.0684629034273146,1.7513799068573954,-0.46705614107678833,-0.10754645646971306,0.3550472312638334,-0.030799279632314668,0.48260371806705854,0.6037213493070618,1.2001353535703647],\"xaxis\":\"x9\",\"y\":[-0.34370852148833775,-1.6037070888676004,-1.0117519586533903,2.3520700857796037,-0.07800786087730324,1.7477028399367123,-1.3134636218504039,0.834917922822358,-1.6879711424176278,-1.4631717164175138,0.06260354179374829,-1.058293815930557,-0.8547977131737582,0.12040414862863882,1.320848958790828,-0.1663789255787278,0.956055668413484,0.13652661175792463,-1.0486821992527868,-0.8123151430828478,-0.3603782295493598,2.0800555742838696,1.0279573944752483,-0.9285579023018954,-1.5249896100398639,-0.42251603931199544,-0.17278746245657228,0.09971652959597924,0.5245379305962313,0.5758482550732602,0.08999784454025511,0.4246620759988931,2.385590884310923,0.9435396158109014,-0.10350349061134614,0.37869652762416994,0.3506595888281066,-1.1023064841618144,-1.515163438097079,0.7018189655599872,-0.5472974960629561,0.45086640912233394,-1.0323496052416319,1.0781607798625312,0.40589874379108193,0.04796820422522915,1.1483656721206774,-0.7254572801758798,0.03615515285397519,-0.3629751313234159,-1.4103474431164458,-0.444878978022152,-1.1567563260758529,0.05392222192325666,1.5723888163918553,0.3168075874475406,1.5084826520533836,1.5033058696550723,0.7140032131679233,-0.013307389720520662,1.303203326685032,-0.46656882533908856,-1.787337883505314,0.289923762209665,0.20032842830256625,-0.36130641876922126,-0.8394345059986312,0.09568776491921355,-0.1009539924355601,0.7409983668257607,-0.31442540937426433,-1.3967235868497487,-2.002851615229901,0.9813604252326612,1.2940876771427605,0.45236708325259406,0.39819579938627014,1.9013035021034381,-0.979183794087184,-0.19388177386612115,-1.3065320126945617,-0.8102323344833,0.7274599286254197,1.2253763472748123,-0.6328830446589793,0.7267424776293127,-0.4303729667109366,1.5517488795556174,1.2946292755127904,0.13838587736783844,-1.3493619397165506,-0.17864844790246678,-0.4549657696654094,-0.3651793980414446,-1.5837668607694977,-1.538225241820272,1.9919583756213672,0.4634375459475504,-1.7056423601701083,-0.4557409185352117],\"yaxis\":\"y9\",\"type\":\"scatter\"},{\"line\":{\"color\":\"rgba(128, 128, 128, 1.0)\",\"dash\":\"solid\",\"shape\":\"linear\",\"width\":1.3},\"marker\":{\"size\":2,\"symbol\":\"circle\"},\"mode\":\"markers\",\"name\":\"C\",\"text\":\"\",\"x\":[1.6136967679655434,-1.7743454628646287,-0.7203287172843124,-0.6117954031487445,-0.5009445747690496,-0.24161844138377042,-0.08872694595508866,0.9414124362805255,-1.3156998667030655,-1.4071666051435512,0.5936163122545488,-1.4425960457191493,0.8871373825005632,0.7934761210859214,1.6388025932684638,-0.11005133315602779,-0.10825386825750678,0.0025098233379851074,0.2872930674671653,-0.6648284861864668,-0.15297087907323706,-0.22340340462924857,-1.046194162796279,-0.6992987713385544,-1.428382051025518,2.2717657882437416,-0.2991219216134819,0.8036729570996414,0.07473183143488986,0.03629793496927448,0.7282501907601823,-0.468992428764272,1.1354729217609987,-0.17500536226349744,-0.8823112338592987,-1.0267863666982082,0.22929164557760115,0.08166986290003601,-0.4330250214952117,-1.4768571379632707,-0.03836514380320835,0.5605916358916565,0.3208280805065191,-0.30636035654476584,-0.5856938781868646,-0.9413963300297031,-1.8328437051415842,0.3633607192627451,0.014613820067525655,-2.0581325295536987,-0.5814716694456769,-0.645961870134278,-0.9509169358479385,-0.5364320563027563,-0.09927241848365108,1.1677610430726344,0.3140389325576045,2.2953591028356666,-0.811016454177509,-1.0738306708614167,-0.5448157712114431,1.0117744371276478,0.4037143519820321,-0.07573006893551563,0.20146794629997267,-0.3682498559607633,-1.051561812832864,0.9742748100847685,-1.8840815140861575,-1.163604661761712,0.2695935706119995,-0.2153451906084906,-0.4643422556942716,-0.03181141759971215,1.601791961152759,-1.263754355144204,-0.4277428623143499,0.3758165557541959,0.466825436020422,0.12952785501322436,-1.1010703462267066,-1.2236492596008608,0.01927986704213586,-0.6869701717286061,-0.6547097891615642,-0.2396485802567933,-0.05472819079502166,-2.6898646855476485,-1.2873936728903954,0.6240206318014331,1.249178232250976,0.4185312567426191,-1.4588386970350944,-0.19460072611954962,0.509326925798342,0.1338898266727817,-1.2748281912315276,-1.3360835573105292,-0.2282333872994752,1.0511136019093947],\"xaxis\":\"x10\",\"y\":[-0.34370852148833775,-1.6037070888676004,-1.0117519586533903,2.3520700857796037,-0.07800786087730324,1.7477028399367123,-1.3134636218504039,0.834917922822358,-1.6879711424176278,-1.4631717164175138,0.06260354179374829,-1.058293815930557,-0.8547977131737582,0.12040414862863882,1.320848958790828,-0.1663789255787278,0.956055668413484,0.13652661175792463,-1.0486821992527868,-0.8123151430828478,-0.3603782295493598,2.0800555742838696,1.0279573944752483,-0.9285579023018954,-1.5249896100398639,-0.42251603931199544,-0.17278746245657228,0.09971652959597924,0.5245379305962313,0.5758482550732602,0.08999784454025511,0.4246620759988931,2.385590884310923,0.9435396158109014,-0.10350349061134614,0.37869652762416994,0.3506595888281066,-1.1023064841618144,-1.515163438097079,0.7018189655599872,-0.5472974960629561,0.45086640912233394,-1.0323496052416319,1.0781607798625312,0.40589874379108193,0.04796820422522915,1.1483656721206774,-0.7254572801758798,0.03615515285397519,-0.3629751313234159,-1.4103474431164458,-0.444878978022152,-1.1567563260758529,0.05392222192325666,1.5723888163918553,0.3168075874475406,1.5084826520533836,1.5033058696550723,0.7140032131679233,-0.013307389720520662,1.303203326685032,-0.46656882533908856,-1.787337883505314,0.289923762209665,0.20032842830256625,-0.36130641876922126,-0.8394345059986312,0.09568776491921355,-0.1009539924355601,0.7409983668257607,-0.31442540937426433,-1.3967235868497487,-2.002851615229901,0.9813604252326612,1.2940876771427605,0.45236708325259406,0.39819579938627014,1.9013035021034381,-0.979183794087184,-0.19388177386612115,-1.3065320126945617,-0.8102323344833,0.7274599286254197,1.2253763472748123,-0.6328830446589793,0.7267424776293127,-0.4303729667109366,1.5517488795556174,1.2946292755127904,0.13838587736783844,-1.3493619397165506,-0.17864844790246678,-0.4549657696654094,-0.3651793980414446,-1.5837668607694977,-1.538225241820272,1.9919583756213672,0.4634375459475504,-1.7056423601701083,-0.4557409185352117],\"yaxis\":\"y10\",\"type\":\"scatter\"},{\"histfunc\":\"count\",\"histnorm\":\"\",\"marker\":{\"color\":\"rgba(50, 171, 96, 1.0)\",\"line\":{\"color\":\"#4D5663\",\"width\":1.3}},\"name\":\"C\",\"nbinsx\":10,\"opacity\":0.8,\"orientation\":\"v\",\"x\":[-0.34370852148833775,-1.6037070888676004,-1.0117519586533903,2.3520700857796037,-0.07800786087730324,1.7477028399367123,-1.3134636218504039,0.834917922822358,-1.6879711424176278,-1.4631717164175138,0.06260354179374829,-1.058293815930557,-0.8547977131737582,0.12040414862863882,1.320848958790828,-0.1663789255787278,0.956055668413484,0.13652661175792463,-1.0486821992527868,-0.8123151430828478,-0.3603782295493598,2.0800555742838696,1.0279573944752483,-0.9285579023018954,-1.5249896100398639,-0.42251603931199544,-0.17278746245657228,0.09971652959597924,0.5245379305962313,0.5758482550732602,0.08999784454025511,0.4246620759988931,2.385590884310923,0.9435396158109014,-0.10350349061134614,0.37869652762416994,0.3506595888281066,-1.1023064841618144,-1.515163438097079,0.7018189655599872,-0.5472974960629561,0.45086640912233394,-1.0323496052416319,1.0781607798625312,0.40589874379108193,0.04796820422522915,1.1483656721206774,-0.7254572801758798,0.03615515285397519,-0.3629751313234159,-1.4103474431164458,-0.444878978022152,-1.1567563260758529,0.05392222192325666,1.5723888163918553,0.3168075874475406,1.5084826520533836,1.5033058696550723,0.7140032131679233,-0.013307389720520662,1.303203326685032,-0.46656882533908856,-1.787337883505314,0.289923762209665,0.20032842830256625,-0.36130641876922126,-0.8394345059986312,0.09568776491921355,-0.1009539924355601,0.7409983668257607,-0.31442540937426433,-1.3967235868497487,-2.002851615229901,0.9813604252326612,1.2940876771427605,0.45236708325259406,0.39819579938627014,1.9013035021034381,-0.979183794087184,-0.19388177386612115,-1.3065320126945617,-0.8102323344833,0.7274599286254197,1.2253763472748123,-0.6328830446589793,0.7267424776293127,-0.4303729667109366,1.5517488795556174,1.2946292755127904,0.13838587736783844,-1.3493619397165506,-0.17864844790246678,-0.4549657696654094,-0.3651793980414446,-1.5837668607694977,-1.538225241820272,1.9919583756213672,0.4634375459475504,-1.7056423601701083,-0.4557409185352117],\"xaxis\":\"x11\",\"yaxis\":\"y11\",\"type\":\"histogram\"},{\"line\":{\"color\":\"rgba(128, 128, 128, 1.0)\",\"dash\":\"solid\",\"shape\":\"linear\",\"width\":1.3},\"marker\":{\"size\":2,\"symbol\":\"circle\"},\"mode\":\"markers\",\"name\":\"C\",\"text\":\"\",\"x\":[-0.4525155307585302,-1.1847407611918483,-0.6793716908468681,-0.7663491194820993,-2.1037826400325375,0.451631524283149,0.7093347084577076,-0.13353638840608778,1.5205988799445087,1.5278493845638228,-0.3846171086426508,-0.8674568537134518,1.299356130748103,-1.8673558194780966,1.206392511699628,-0.6298690687332809,1.4121137273867659,-0.9932980773519611,-0.08511403258554953,-0.03917959783296583,1.0177798325126055,-0.9142575587934604,0.08487968683490116,0.8140429903383063,0.2027994074813393,-2.2457237748949614,0.797675681069284,-1.4347227334780444,-0.8023559564700763,0.8173008634313658,-2.6143267010803655,0.010099944429897412,1.1448990833802974,-0.13294317369698727,-1.4447427598147196,-0.18236573682642726,-0.1371302988288747,1.7452156674678587,0.9557468926091326,1.6999482466830902,1.0844698760459346,-0.9687820018821905,-0.2898370304894389,-0.3808640586901712,2.466496023407135,-0.8597502401088455,-1.0550011235261636,1.13639270921484,1.9627931527711124,-0.015462480200274966,-0.696353258591921,-0.6215499023794203,-0.640185573946483,-0.28345710445611444,-1.448223204467605,-1.2568378934927584,-0.6129093957117677,1.2866974325236984,2.723007327425759,-1.7488581469360764,-0.7906453832274789,-0.2708486716777824,0.5725303392874214,1.5594650781817387,0.396780769224614,0.4131818712532956,-0.2782569433258647,-0.09888653436213217,0.17228875184139641,0.08463458982687724,0.5857287900509336,0.8365703340936173,-0.6538583301479146,-1.358360897596932,-0.5919410242500869,0.5368324263433479,-2.143818654993575,0.22425849005050116,-1.2945576486575732,-1.6252838191970418,-0.6111592374974577,2.3629129341321335,-0.8704263650104284,-1.0239197809652285,1.3596960473221344,0.2753242239499126,-1.3090562555703824,0.46155247720388887,1.1543044188659888,0.15057621415812555,-2.102842980891349,-0.28836526127846385,1.367076393792901,-0.8683588779318776,0.10089130202092392,-0.2623850238247419,-0.5243677250921439,-1.0854310368659164,-0.1519881281047457,-0.16858694649079947],\"xaxis\":\"x12\",\"y\":[-0.34370852148833775,-1.6037070888676004,-1.0117519586533903,2.3520700857796037,-0.07800786087730324,1.7477028399367123,-1.3134636218504039,0.834917922822358,-1.6879711424176278,-1.4631717164175138,0.06260354179374829,-1.058293815930557,-0.8547977131737582,0.12040414862863882,1.320848958790828,-0.1663789255787278,0.956055668413484,0.13652661175792463,-1.0486821992527868,-0.8123151430828478,-0.3603782295493598,2.0800555742838696,1.0279573944752483,-0.9285579023018954,-1.5249896100398639,-0.42251603931199544,-0.17278746245657228,0.09971652959597924,0.5245379305962313,0.5758482550732602,0.08999784454025511,0.4246620759988931,2.385590884310923,0.9435396158109014,-0.10350349061134614,0.37869652762416994,0.3506595888281066,-1.1023064841618144,-1.515163438097079,0.7018189655599872,-0.5472974960629561,0.45086640912233394,-1.0323496052416319,1.0781607798625312,0.40589874379108193,0.04796820422522915,1.1483656721206774,-0.7254572801758798,0.03615515285397519,-0.3629751313234159,-1.4103474431164458,-0.444878978022152,-1.1567563260758529,0.05392222192325666,1.5723888163918553,0.3168075874475406,1.5084826520533836,1.5033058696550723,0.7140032131679233,-0.013307389720520662,1.303203326685032,-0.46656882533908856,-1.787337883505314,0.289923762209665,0.20032842830256625,-0.36130641876922126,-0.8394345059986312,0.09568776491921355,-0.1009539924355601,0.7409983668257607,-0.31442540937426433,-1.3967235868497487,-2.002851615229901,0.9813604252326612,1.2940876771427605,0.45236708325259406,0.39819579938627014,1.9013035021034381,-0.979183794087184,-0.19388177386612115,-1.3065320126945617,-0.8102323344833,0.7274599286254197,1.2253763472748123,-0.6328830446589793,0.7267424776293127,-0.4303729667109366,1.5517488795556174,1.2946292755127904,0.13838587736783844,-1.3493619397165506,-0.17864844790246678,-0.4549657696654094,-0.3651793980414446,-1.5837668607694977,-1.538225241820272,1.9919583756213672,0.4634375459475504,-1.7056423601701083,-0.4557409185352117],\"yaxis\":\"y12\",\"type\":\"scatter\"},{\"line\":{\"color\":\"rgba(128, 128, 128, 1.0)\",\"dash\":\"solid\",\"shape\":\"linear\",\"width\":1.3},\"marker\":{\"size\":2,\"symbol\":\"circle\"},\"mode\":\"markers\",\"name\":\"D\",\"text\":\"\",\"x\":[-1.23367774458424,0.7354606535590142,0.18297916358793126,0.4997206964909568,-0.4164376791113165,0.7725868189495974,-0.3190709225596303,-0.34509557310354055,0.17571314182171857,1.2832496432359026,-0.6701622872223576,0.1726151343541529,-0.5371486714244423,0.14866247108121355,-1.1134174896360065,0.9181426264528164,0.2916545629339712,-1.5327750870756958,-1.4981000212493611,-0.6778356750220685,1.735421358474536,-0.6843482671654342,-2.3903111255154244,-0.19203745335697894,-0.7727337242600216,0.4851640083650962,-0.03687388157122996,-0.28013428904290666,0.13278542161376505,0.3119355241632733,1.5559893421845665,-0.14961659575442454,-0.6254401403525508,0.14409253691847518,-0.17776408261353757,-1.506867556747576,-0.9417607912397659,1.8817932769503896,-0.09791659724689179,2.341697749668085,-1.0463068519188832,0.7667785456655989,0.3744052165922298,-0.11600890719464242,1.3157688037328155,-0.47044669371950476,0.5387585482327067,0.7425985029443694,0.9624955022877838,-0.2984520913272161,-0.2183144798873457,0.9022682433066121,1.155171384106318,-0.4639222451394979,1.9799373349193057,-0.9709105566083415,0.4266930092556539,0.7982776980272756,-0.788330192220676,2.214154651931596,0.8517386094525903,0.7307109968115925,0.7635729782447669,0.10645212322818463,0.36019364897067474,0.9746982639638698,-0.5556653065216498,0.17462254664205748,-1.8419332782616773,-1.985223300131962,0.7467115259440948,2.2401539237310297,-0.8646309336109702,0.03176867873429596,1.0856986000536937,0.5765714008077054,1.8425945746859302,-0.5982346749068658,1.281876291366642,-1.4856750066733857,-0.40617642583972385,1.227860895027526,-0.1516154355428637,-0.19119937484773103,1.6412982490327952,-0.16593239072305466,-1.2920286182886802,-0.8691861682544956,-1.850680027577851,2.257954454887254,2.6285325515955864,-0.0684629034273146,1.7513799068573954,-0.46705614107678833,-0.10754645646971306,0.3550472312638334,-0.030799279632314668,0.48260371806705854,0.6037213493070618,1.2001353535703647],\"xaxis\":\"x13\",\"y\":[-0.4525155307585302,-1.1847407611918483,-0.6793716908468681,-0.7663491194820993,-2.1037826400325375,0.451631524283149,0.7093347084577076,-0.13353638840608778,1.5205988799445087,1.5278493845638228,-0.3846171086426508,-0.8674568537134518,1.299356130748103,-1.8673558194780966,1.206392511699628,-0.6298690687332809,1.4121137273867659,-0.9932980773519611,-0.08511403258554953,-0.03917959783296583,1.0177798325126055,-0.9142575587934604,0.08487968683490116,0.8140429903383063,0.2027994074813393,-2.2457237748949614,0.797675681069284,-1.4347227334780444,-0.8023559564700763,0.8173008634313658,-2.6143267010803655,0.010099944429897412,1.1448990833802974,-0.13294317369698727,-1.4447427598147196,-0.18236573682642726,-0.1371302988288747,1.7452156674678587,0.9557468926091326,1.6999482466830902,1.0844698760459346,-0.9687820018821905,-0.2898370304894389,-0.3808640586901712,2.466496023407135,-0.8597502401088455,-1.0550011235261636,1.13639270921484,1.9627931527711124,-0.015462480200274966,-0.696353258591921,-0.6215499023794203,-0.640185573946483,-0.28345710445611444,-1.448223204467605,-1.2568378934927584,-0.6129093957117677,1.2866974325236984,2.723007327425759,-1.7488581469360764,-0.7906453832274789,-0.2708486716777824,0.5725303392874214,1.5594650781817387,0.396780769224614,0.4131818712532956,-0.2782569433258647,-0.09888653436213217,0.17228875184139641,0.08463458982687724,0.5857287900509336,0.8365703340936173,-0.6538583301479146,-1.358360897596932,-0.5919410242500869,0.5368324263433479,-2.143818654993575,0.22425849005050116,-1.2945576486575732,-1.6252838191970418,-0.6111592374974577,2.3629129341321335,-0.8704263650104284,-1.0239197809652285,1.3596960473221344,0.2753242239499126,-1.3090562555703824,0.46155247720388887,1.1543044188659888,0.15057621415812555,-2.102842980891349,-0.28836526127846385,1.367076393792901,-0.8683588779318776,0.10089130202092392,-0.2623850238247419,-0.5243677250921439,-1.0854310368659164,-0.1519881281047457,-0.16858694649079947],\"yaxis\":\"y13\",\"type\":\"scatter\"},{\"line\":{\"color\":\"rgba(128, 128, 128, 1.0)\",\"dash\":\"solid\",\"shape\":\"linear\",\"width\":1.3},\"marker\":{\"size\":2,\"symbol\":\"circle\"},\"mode\":\"markers\",\"name\":\"D\",\"text\":\"\",\"x\":[1.6136967679655434,-1.7743454628646287,-0.7203287172843124,-0.6117954031487445,-0.5009445747690496,-0.24161844138377042,-0.08872694595508866,0.9414124362805255,-1.3156998667030655,-1.4071666051435512,0.5936163122545488,-1.4425960457191493,0.8871373825005632,0.7934761210859214,1.6388025932684638,-0.11005133315602779,-0.10825386825750678,0.0025098233379851074,0.2872930674671653,-0.6648284861864668,-0.15297087907323706,-0.22340340462924857,-1.046194162796279,-0.6992987713385544,-1.428382051025518,2.2717657882437416,-0.2991219216134819,0.8036729570996414,0.07473183143488986,0.03629793496927448,0.7282501907601823,-0.468992428764272,1.1354729217609987,-0.17500536226349744,-0.8823112338592987,-1.0267863666982082,0.22929164557760115,0.08166986290003601,-0.4330250214952117,-1.4768571379632707,-0.03836514380320835,0.5605916358916565,0.3208280805065191,-0.30636035654476584,-0.5856938781868646,-0.9413963300297031,-1.8328437051415842,0.3633607192627451,0.014613820067525655,-2.0581325295536987,-0.5814716694456769,-0.645961870134278,-0.9509169358479385,-0.5364320563027563,-0.09927241848365108,1.1677610430726344,0.3140389325576045,2.2953591028356666,-0.811016454177509,-1.0738306708614167,-0.5448157712114431,1.0117744371276478,0.4037143519820321,-0.07573006893551563,0.20146794629997267,-0.3682498559607633,-1.051561812832864,0.9742748100847685,-1.8840815140861575,-1.163604661761712,0.2695935706119995,-0.2153451906084906,-0.4643422556942716,-0.03181141759971215,1.601791961152759,-1.263754355144204,-0.4277428623143499,0.3758165557541959,0.466825436020422,0.12952785501322436,-1.1010703462267066,-1.2236492596008608,0.01927986704213586,-0.6869701717286061,-0.6547097891615642,-0.2396485802567933,-0.05472819079502166,-2.6898646855476485,-1.2873936728903954,0.6240206318014331,1.249178232250976,0.4185312567426191,-1.4588386970350944,-0.19460072611954962,0.509326925798342,0.1338898266727817,-1.2748281912315276,-1.3360835573105292,-0.2282333872994752,1.0511136019093947],\"xaxis\":\"x14\",\"y\":[-0.4525155307585302,-1.1847407611918483,-0.6793716908468681,-0.7663491194820993,-2.1037826400325375,0.451631524283149,0.7093347084577076,-0.13353638840608778,1.5205988799445087,1.5278493845638228,-0.3846171086426508,-0.8674568537134518,1.299356130748103,-1.8673558194780966,1.206392511699628,-0.6298690687332809,1.4121137273867659,-0.9932980773519611,-0.08511403258554953,-0.03917959783296583,1.0177798325126055,-0.9142575587934604,0.08487968683490116,0.8140429903383063,0.2027994074813393,-2.2457237748949614,0.797675681069284,-1.4347227334780444,-0.8023559564700763,0.8173008634313658,-2.6143267010803655,0.010099944429897412,1.1448990833802974,-0.13294317369698727,-1.4447427598147196,-0.18236573682642726,-0.1371302988288747,1.7452156674678587,0.9557468926091326,1.6999482466830902,1.0844698760459346,-0.9687820018821905,-0.2898370304894389,-0.3808640586901712,2.466496023407135,-0.8597502401088455,-1.0550011235261636,1.13639270921484,1.9627931527711124,-0.015462480200274966,-0.696353258591921,-0.6215499023794203,-0.640185573946483,-0.28345710445611444,-1.448223204467605,-1.2568378934927584,-0.6129093957117677,1.2866974325236984,2.723007327425759,-1.7488581469360764,-0.7906453832274789,-0.2708486716777824,0.5725303392874214,1.5594650781817387,0.396780769224614,0.4131818712532956,-0.2782569433258647,-0.09888653436213217,0.17228875184139641,0.08463458982687724,0.5857287900509336,0.8365703340936173,-0.6538583301479146,-1.358360897596932,-0.5919410242500869,0.5368324263433479,-2.143818654993575,0.22425849005050116,-1.2945576486575732,-1.6252838191970418,-0.6111592374974577,2.3629129341321335,-0.8704263650104284,-1.0239197809652285,1.3596960473221344,0.2753242239499126,-1.3090562555703824,0.46155247720388887,1.1543044188659888,0.15057621415812555,-2.102842980891349,-0.28836526127846385,1.367076393792901,-0.8683588779318776,0.10089130202092392,-0.2623850238247419,-0.5243677250921439,-1.0854310368659164,-0.1519881281047457,-0.16858694649079947],\"yaxis\":\"y14\",\"type\":\"scatter\"},{\"line\":{\"color\":\"rgba(128, 128, 128, 1.0)\",\"dash\":\"solid\",\"shape\":\"linear\",\"width\":1.3},\"marker\":{\"size\":2,\"symbol\":\"circle\"},\"mode\":\"markers\",\"name\":\"D\",\"text\":\"\",\"x\":[-0.34370852148833775,-1.6037070888676004,-1.0117519586533903,2.3520700857796037,-0.07800786087730324,1.7477028399367123,-1.3134636218504039,0.834917922822358,-1.6879711424176278,-1.4631717164175138,0.06260354179374829,-1.058293815930557,-0.8547977131737582,0.12040414862863882,1.320848958790828,-0.1663789255787278,0.956055668413484,0.13652661175792463,-1.0486821992527868,-0.8123151430828478,-0.3603782295493598,2.0800555742838696,1.0279573944752483,-0.9285579023018954,-1.5249896100398639,-0.42251603931199544,-0.17278746245657228,0.09971652959597924,0.5245379305962313,0.5758482550732602,0.08999784454025511,0.4246620759988931,2.385590884310923,0.9435396158109014,-0.10350349061134614,0.37869652762416994,0.3506595888281066,-1.1023064841618144,-1.515163438097079,0.7018189655599872,-0.5472974960629561,0.45086640912233394,-1.0323496052416319,1.0781607798625312,0.40589874379108193,0.04796820422522915,1.1483656721206774,-0.7254572801758798,0.03615515285397519,-0.3629751313234159,-1.4103474431164458,-0.444878978022152,-1.1567563260758529,0.05392222192325666,1.5723888163918553,0.3168075874475406,1.5084826520533836,1.5033058696550723,0.7140032131679233,-0.013307389720520662,1.303203326685032,-0.46656882533908856,-1.787337883505314,0.289923762209665,0.20032842830256625,-0.36130641876922126,-0.8394345059986312,0.09568776491921355,-0.1009539924355601,0.7409983668257607,-0.31442540937426433,-1.3967235868497487,-2.002851615229901,0.9813604252326612,1.2940876771427605,0.45236708325259406,0.39819579938627014,1.9013035021034381,-0.979183794087184,-0.19388177386612115,-1.3065320126945617,-0.8102323344833,0.7274599286254197,1.2253763472748123,-0.6328830446589793,0.7267424776293127,-0.4303729667109366,1.5517488795556174,1.2946292755127904,0.13838587736783844,-1.3493619397165506,-0.17864844790246678,-0.4549657696654094,-0.3651793980414446,-1.5837668607694977,-1.538225241820272,1.9919583756213672,0.4634375459475504,-1.7056423601701083,-0.4557409185352117],\"xaxis\":\"x15\",\"y\":[-0.4525155307585302,-1.1847407611918483,-0.6793716908468681,-0.7663491194820993,-2.1037826400325375,0.451631524283149,0.7093347084577076,-0.13353638840608778,1.5205988799445087,1.5278493845638228,-0.3846171086426508,-0.8674568537134518,1.299356130748103,-1.8673558194780966,1.206392511699628,-0.6298690687332809,1.4121137273867659,-0.9932980773519611,-0.08511403258554953,-0.03917959783296583,1.0177798325126055,-0.9142575587934604,0.08487968683490116,0.8140429903383063,0.2027994074813393,-2.2457237748949614,0.797675681069284,-1.4347227334780444,-0.8023559564700763,0.8173008634313658,-2.6143267010803655,0.010099944429897412,1.1448990833802974,-0.13294317369698727,-1.4447427598147196,-0.18236573682642726,-0.1371302988288747,1.7452156674678587,0.9557468926091326,1.6999482466830902,1.0844698760459346,-0.9687820018821905,-0.2898370304894389,-0.3808640586901712,2.466496023407135,-0.8597502401088455,-1.0550011235261636,1.13639270921484,1.9627931527711124,-0.015462480200274966,-0.696353258591921,-0.6215499023794203,-0.640185573946483,-0.28345710445611444,-1.448223204467605,-1.2568378934927584,-0.6129093957117677,1.2866974325236984,2.723007327425759,-1.7488581469360764,-0.7906453832274789,-0.2708486716777824,0.5725303392874214,1.5594650781817387,0.396780769224614,0.4131818712532956,-0.2782569433258647,-0.09888653436213217,0.17228875184139641,0.08463458982687724,0.5857287900509336,0.8365703340936173,-0.6538583301479146,-1.358360897596932,-0.5919410242500869,0.5368324263433479,-2.143818654993575,0.22425849005050116,-1.2945576486575732,-1.6252838191970418,-0.6111592374974577,2.3629129341321335,-0.8704263650104284,-1.0239197809652285,1.3596960473221344,0.2753242239499126,-1.3090562555703824,0.46155247720388887,1.1543044188659888,0.15057621415812555,-2.102842980891349,-0.28836526127846385,1.367076393792901,-0.8683588779318776,0.10089130202092392,-0.2623850238247419,-0.5243677250921439,-1.0854310368659164,-0.1519881281047457,-0.16858694649079947],\"yaxis\":\"y15\",\"type\":\"scatter\"},{\"histfunc\":\"count\",\"histnorm\":\"\",\"marker\":{\"color\":\"rgba(128, 0, 128, 1.0)\",\"line\":{\"color\":\"#4D5663\",\"width\":1.3}},\"name\":\"D\",\"nbinsx\":10,\"opacity\":0.8,\"orientation\":\"v\",\"x\":[-0.4525155307585302,-1.1847407611918483,-0.6793716908468681,-0.7663491194820993,-2.1037826400325375,0.451631524283149,0.7093347084577076,-0.13353638840608778,1.5205988799445087,1.5278493845638228,-0.3846171086426508,-0.8674568537134518,1.299356130748103,-1.8673558194780966,1.206392511699628,-0.6298690687332809,1.4121137273867659,-0.9932980773519611,-0.08511403258554953,-0.03917959783296583,1.0177798325126055,-0.9142575587934604,0.08487968683490116,0.8140429903383063,0.2027994074813393,-2.2457237748949614,0.797675681069284,-1.4347227334780444,-0.8023559564700763,0.8173008634313658,-2.6143267010803655,0.010099944429897412,1.1448990833802974,-0.13294317369698727,-1.4447427598147196,-0.18236573682642726,-0.1371302988288747,1.7452156674678587,0.9557468926091326,1.6999482466830902,1.0844698760459346,-0.9687820018821905,-0.2898370304894389,-0.3808640586901712,2.466496023407135,-0.8597502401088455,-1.0550011235261636,1.13639270921484,1.9627931527711124,-0.015462480200274966,-0.696353258591921,-0.6215499023794203,-0.640185573946483,-0.28345710445611444,-1.448223204467605,-1.2568378934927584,-0.6129093957117677,1.2866974325236984,2.723007327425759,-1.7488581469360764,-0.7906453832274789,-0.2708486716777824,0.5725303392874214,1.5594650781817387,0.396780769224614,0.4131818712532956,-0.2782569433258647,-0.09888653436213217,0.17228875184139641,0.08463458982687724,0.5857287900509336,0.8365703340936173,-0.6538583301479146,-1.358360897596932,-0.5919410242500869,0.5368324263433479,-2.143818654993575,0.22425849005050116,-1.2945576486575732,-1.6252838191970418,-0.6111592374974577,2.3629129341321335,-0.8704263650104284,-1.0239197809652285,1.3596960473221344,0.2753242239499126,-1.3090562555703824,0.46155247720388887,1.1543044188659888,0.15057621415812555,-2.102842980891349,-0.28836526127846385,1.367076393792901,-0.8683588779318776,0.10089130202092392,-0.2623850238247419,-0.5243677250921439,-1.0854310368659164,-0.1519881281047457,-0.16858694649079947],\"xaxis\":\"x16\",\"yaxis\":\"y16\",\"type\":\"histogram\"}],                        {\"bargap\":0.02,\"legend\":{\"bgcolor\":\"#F5F6F9\",\"font\":{\"color\":\"#4D5663\"}},\"paper_bgcolor\":\"#F5F6F9\",\"plot_bgcolor\":\"#F5F6F9\",\"showlegend\":false,\"template\":{\"data\":{\"barpolar\":[{\"marker\":{\"line\":{\"color\":\"#E5ECF6\",\"width\":0.5},\"pattern\":{\"fillmode\":\"overlay\",\"size\":10,\"solidity\":0.2}},\"type\":\"barpolar\"}],\"bar\":[{\"error_x\":{\"color\":\"#2a3f5f\"},\"error_y\":{\"color\":\"#2a3f5f\"},\"marker\":{\"line\":{\"color\":\"#E5ECF6\",\"width\":0.5},\"pattern\":{\"fillmode\":\"overlay\",\"size\":10,\"solidity\":0.2}},\"type\":\"bar\"}],\"carpet\":[{\"aaxis\":{\"endlinecolor\":\"#2a3f5f\",\"gridcolor\":\"white\",\"linecolor\":\"white\",\"minorgridcolor\":\"white\",\"startlinecolor\":\"#2a3f5f\"},\"baxis\":{\"endlinecolor\":\"#2a3f5f\",\"gridcolor\":\"white\",\"linecolor\":\"white\",\"minorgridcolor\":\"white\",\"startlinecolor\":\"#2a3f5f\"},\"type\":\"carpet\"}],\"choropleth\":[{\"colorbar\":{\"outlinewidth\":0,\"ticks\":\"\"},\"type\":\"choropleth\"}],\"contourcarpet\":[{\"colorbar\":{\"outlinewidth\":0,\"ticks\":\"\"},\"type\":\"contourcarpet\"}],\"contour\":[{\"colorbar\":{\"outlinewidth\":0,\"ticks\":\"\"},\"colorscale\":[[0.0,\"#0d0887\"],[0.1111111111111111,\"#46039f\"],[0.2222222222222222,\"#7201a8\"],[0.3333333333333333,\"#9c179e\"],[0.4444444444444444,\"#bd3786\"],[0.5555555555555556,\"#d8576b\"],[0.6666666666666666,\"#ed7953\"],[0.7777777777777778,\"#fb9f3a\"],[0.8888888888888888,\"#fdca26\"],[1.0,\"#f0f921\"]],\"type\":\"contour\"}],\"heatmapgl\":[{\"colorbar\":{\"outlinewidth\":0,\"ticks\":\"\"},\"colorscale\":[[0.0,\"#0d0887\"],[0.1111111111111111,\"#46039f\"],[0.2222222222222222,\"#7201a8\"],[0.3333333333333333,\"#9c179e\"],[0.4444444444444444,\"#bd3786\"],[0.5555555555555556,\"#d8576b\"],[0.6666666666666666,\"#ed7953\"],[0.7777777777777778,\"#fb9f3a\"],[0.8888888888888888,\"#fdca26\"],[1.0,\"#f0f921\"]],\"type\":\"heatmapgl\"}],\"heatmap\":[{\"colorbar\":{\"outlinewidth\":0,\"ticks\":\"\"},\"colorscale\":[[0.0,\"#0d0887\"],[0.1111111111111111,\"#46039f\"],[0.2222222222222222,\"#7201a8\"],[0.3333333333333333,\"#9c179e\"],[0.4444444444444444,\"#bd3786\"],[0.5555555555555556,\"#d8576b\"],[0.6666666666666666,\"#ed7953\"],[0.7777777777777778,\"#fb9f3a\"],[0.8888888888888888,\"#fdca26\"],[1.0,\"#f0f921\"]],\"type\":\"heatmap\"}],\"histogram2dcontour\":[{\"colorbar\":{\"outlinewidth\":0,\"ticks\":\"\"},\"colorscale\":[[0.0,\"#0d0887\"],[0.1111111111111111,\"#46039f\"],[0.2222222222222222,\"#7201a8\"],[0.3333333333333333,\"#9c179e\"],[0.4444444444444444,\"#bd3786\"],[0.5555555555555556,\"#d8576b\"],[0.6666666666666666,\"#ed7953\"],[0.7777777777777778,\"#fb9f3a\"],[0.8888888888888888,\"#fdca26\"],[1.0,\"#f0f921\"]],\"type\":\"histogram2dcontour\"}],\"histogram2d\":[{\"colorbar\":{\"outlinewidth\":0,\"ticks\":\"\"},\"colorscale\":[[0.0,\"#0d0887\"],[0.1111111111111111,\"#46039f\"],[0.2222222222222222,\"#7201a8\"],[0.3333333333333333,\"#9c179e\"],[0.4444444444444444,\"#bd3786\"],[0.5555555555555556,\"#d8576b\"],[0.6666666666666666,\"#ed7953\"],[0.7777777777777778,\"#fb9f3a\"],[0.8888888888888888,\"#fdca26\"],[1.0,\"#f0f921\"]],\"type\":\"histogram2d\"}],\"histogram\":[{\"marker\":{\"pattern\":{\"fillmode\":\"overlay\",\"size\":10,\"solidity\":0.2}},\"type\":\"histogram\"}],\"mesh3d\":[{\"colorbar\":{\"outlinewidth\":0,\"ticks\":\"\"},\"type\":\"mesh3d\"}],\"parcoords\":[{\"line\":{\"colorbar\":{\"outlinewidth\":0,\"ticks\":\"\"}},\"type\":\"parcoords\"}],\"pie\":[{\"automargin\":true,\"type\":\"pie\"}],\"scatter3d\":[{\"line\":{\"colorbar\":{\"outlinewidth\":0,\"ticks\":\"\"}},\"marker\":{\"colorbar\":{\"outlinewidth\":0,\"ticks\":\"\"}},\"type\":\"scatter3d\"}],\"scattercarpet\":[{\"marker\":{\"colorbar\":{\"outlinewidth\":0,\"ticks\":\"\"}},\"type\":\"scattercarpet\"}],\"scattergeo\":[{\"marker\":{\"colorbar\":{\"outlinewidth\":0,\"ticks\":\"\"}},\"type\":\"scattergeo\"}],\"scattergl\":[{\"marker\":{\"colorbar\":{\"outlinewidth\":0,\"ticks\":\"\"}},\"type\":\"scattergl\"}],\"scattermapbox\":[{\"marker\":{\"colorbar\":{\"outlinewidth\":0,\"ticks\":\"\"}},\"type\":\"scattermapbox\"}],\"scatterpolargl\":[{\"marker\":{\"colorbar\":{\"outlinewidth\":0,\"ticks\":\"\"}},\"type\":\"scatterpolargl\"}],\"scatterpolar\":[{\"marker\":{\"colorbar\":{\"outlinewidth\":0,\"ticks\":\"\"}},\"type\":\"scatterpolar\"}],\"scatter\":[{\"fillpattern\":{\"fillmode\":\"overlay\",\"size\":10,\"solidity\":0.2},\"type\":\"scatter\"}],\"scatterternary\":[{\"marker\":{\"colorbar\":{\"outlinewidth\":0,\"ticks\":\"\"}},\"type\":\"scatterternary\"}],\"surface\":[{\"colorbar\":{\"outlinewidth\":0,\"ticks\":\"\"},\"colorscale\":[[0.0,\"#0d0887\"],[0.1111111111111111,\"#46039f\"],[0.2222222222222222,\"#7201a8\"],[0.3333333333333333,\"#9c179e\"],[0.4444444444444444,\"#bd3786\"],[0.5555555555555556,\"#d8576b\"],[0.6666666666666666,\"#ed7953\"],[0.7777777777777778,\"#fb9f3a\"],[0.8888888888888888,\"#fdca26\"],[1.0,\"#f0f921\"]],\"type\":\"surface\"}],\"table\":[{\"cells\":{\"fill\":{\"color\":\"#EBF0F8\"},\"line\":{\"color\":\"white\"}},\"header\":{\"fill\":{\"color\":\"#C8D4E3\"},\"line\":{\"color\":\"white\"}},\"type\":\"table\"}]},\"layout\":{\"annotationdefaults\":{\"arrowcolor\":\"#2a3f5f\",\"arrowhead\":0,\"arrowwidth\":1},\"autotypenumbers\":\"strict\",\"coloraxis\":{\"colorbar\":{\"outlinewidth\":0,\"ticks\":\"\"}},\"colorscale\":{\"diverging\":[[0,\"#8e0152\"],[0.1,\"#c51b7d\"],[0.2,\"#de77ae\"],[0.3,\"#f1b6da\"],[0.4,\"#fde0ef\"],[0.5,\"#f7f7f7\"],[0.6,\"#e6f5d0\"],[0.7,\"#b8e186\"],[0.8,\"#7fbc41\"],[0.9,\"#4d9221\"],[1,\"#276419\"]],\"sequential\":[[0.0,\"#0d0887\"],[0.1111111111111111,\"#46039f\"],[0.2222222222222222,\"#7201a8\"],[0.3333333333333333,\"#9c179e\"],[0.4444444444444444,\"#bd3786\"],[0.5555555555555556,\"#d8576b\"],[0.6666666666666666,\"#ed7953\"],[0.7777777777777778,\"#fb9f3a\"],[0.8888888888888888,\"#fdca26\"],[1.0,\"#f0f921\"]],\"sequentialminus\":[[0.0,\"#0d0887\"],[0.1111111111111111,\"#46039f\"],[0.2222222222222222,\"#7201a8\"],[0.3333333333333333,\"#9c179e\"],[0.4444444444444444,\"#bd3786\"],[0.5555555555555556,\"#d8576b\"],[0.6666666666666666,\"#ed7953\"],[0.7777777777777778,\"#fb9f3a\"],[0.8888888888888888,\"#fdca26\"],[1.0,\"#f0f921\"]]},\"colorway\":[\"#636efa\",\"#EF553B\",\"#00cc96\",\"#ab63fa\",\"#FFA15A\",\"#19d3f3\",\"#FF6692\",\"#B6E880\",\"#FF97FF\",\"#FECB52\"],\"font\":{\"color\":\"#2a3f5f\"},\"geo\":{\"bgcolor\":\"white\",\"lakecolor\":\"white\",\"landcolor\":\"#E5ECF6\",\"showlakes\":true,\"showland\":true,\"subunitcolor\":\"white\"},\"hoverlabel\":{\"align\":\"left\"},\"hovermode\":\"closest\",\"mapbox\":{\"style\":\"light\"},\"paper_bgcolor\":\"white\",\"plot_bgcolor\":\"#E5ECF6\",\"polar\":{\"angularaxis\":{\"gridcolor\":\"white\",\"linecolor\":\"white\",\"ticks\":\"\"},\"bgcolor\":\"#E5ECF6\",\"radialaxis\":{\"gridcolor\":\"white\",\"linecolor\":\"white\",\"ticks\":\"\"}},\"scene\":{\"xaxis\":{\"backgroundcolor\":\"#E5ECF6\",\"gridcolor\":\"white\",\"gridwidth\":2,\"linecolor\":\"white\",\"showbackground\":true,\"ticks\":\"\",\"zerolinecolor\":\"white\"},\"yaxis\":{\"backgroundcolor\":\"#E5ECF6\",\"gridcolor\":\"white\",\"gridwidth\":2,\"linecolor\":\"white\",\"showbackground\":true,\"ticks\":\"\",\"zerolinecolor\":\"white\"},\"zaxis\":{\"backgroundcolor\":\"#E5ECF6\",\"gridcolor\":\"white\",\"gridwidth\":2,\"linecolor\":\"white\",\"showbackground\":true,\"ticks\":\"\",\"zerolinecolor\":\"white\"}},\"shapedefaults\":{\"line\":{\"color\":\"#2a3f5f\"}},\"ternary\":{\"aaxis\":{\"gridcolor\":\"white\",\"linecolor\":\"white\",\"ticks\":\"\"},\"baxis\":{\"gridcolor\":\"white\",\"linecolor\":\"white\",\"ticks\":\"\"},\"bgcolor\":\"#E5ECF6\",\"caxis\":{\"gridcolor\":\"white\",\"linecolor\":\"white\",\"ticks\":\"\"}},\"title\":{\"x\":0.05},\"xaxis\":{\"automargin\":true,\"gridcolor\":\"white\",\"linecolor\":\"white\",\"ticks\":\"\",\"title\":{\"standoff\":15},\"zerolinecolor\":\"white\",\"zerolinewidth\":2},\"yaxis\":{\"automargin\":true,\"gridcolor\":\"white\",\"linecolor\":\"white\",\"ticks\":\"\",\"title\":{\"standoff\":15},\"zerolinecolor\":\"white\",\"zerolinewidth\":2}}},\"title\":{\"font\":{\"color\":\"#4D5663\"}},\"xaxis\":{\"anchor\":\"y\",\"domain\":[0.0,0.2125],\"gridcolor\":\"#E1E5ED\",\"showgrid\":false,\"tickfont\":{\"color\":\"#4D5663\"},\"title\":{\"font\":{\"color\":\"#4D5663\"},\"text\":\"\"},\"zerolinecolor\":\"#E1E5ED\"},\"yaxis\":{\"anchor\":\"x\",\"domain\":[0.8025,1.0],\"gridcolor\":\"#E1E5ED\",\"showgrid\":false,\"tickfont\":{\"color\":\"#4D5663\"},\"title\":{\"font\":{\"color\":\"#4D5663\"},\"text\":\"\"},\"zerolinecolor\":\"#E1E5ED\"},\"xaxis2\":{\"anchor\":\"y2\",\"domain\":[0.2625,0.475],\"gridcolor\":\"#E1E5ED\",\"showgrid\":false,\"tickfont\":{\"color\":\"#4D5663\"},\"title\":{\"font\":{\"color\":\"#4D5663\"},\"text\":\"\"},\"zerolinecolor\":\"#E1E5ED\"},\"yaxis2\":{\"anchor\":\"x2\",\"domain\":[0.8025,1.0],\"gridcolor\":\"#E1E5ED\",\"showgrid\":false,\"tickfont\":{\"color\":\"#4D5663\"},\"title\":{\"font\":{\"color\":\"#4D5663\"},\"text\":\"\"},\"zerolinecolor\":\"#E1E5ED\"},\"xaxis3\":{\"anchor\":\"y3\",\"domain\":[0.525,0.7375],\"gridcolor\":\"#E1E5ED\",\"showgrid\":false,\"tickfont\":{\"color\":\"#4D5663\"},\"title\":{\"font\":{\"color\":\"#4D5663\"},\"text\":\"\"},\"zerolinecolor\":\"#E1E5ED\"},\"yaxis3\":{\"anchor\":\"x3\",\"domain\":[0.8025,1.0],\"gridcolor\":\"#E1E5ED\",\"showgrid\":false,\"tickfont\":{\"color\":\"#4D5663\"},\"title\":{\"font\":{\"color\":\"#4D5663\"},\"text\":\"\"},\"zerolinecolor\":\"#E1E5ED\"},\"xaxis4\":{\"anchor\":\"y4\",\"domain\":[0.7875,1.0],\"gridcolor\":\"#E1E5ED\",\"showgrid\":false,\"tickfont\":{\"color\":\"#4D5663\"},\"title\":{\"font\":{\"color\":\"#4D5663\"},\"text\":\"\"},\"zerolinecolor\":\"#E1E5ED\"},\"yaxis4\":{\"anchor\":\"x4\",\"domain\":[0.8025,1.0],\"gridcolor\":\"#E1E5ED\",\"showgrid\":false,\"tickfont\":{\"color\":\"#4D5663\"},\"title\":{\"font\":{\"color\":\"#4D5663\"},\"text\":\"\"},\"zerolinecolor\":\"#E1E5ED\"},\"xaxis5\":{\"anchor\":\"y5\",\"domain\":[0.0,0.2125],\"gridcolor\":\"#E1E5ED\",\"showgrid\":false,\"tickfont\":{\"color\":\"#4D5663\"},\"title\":{\"font\":{\"color\":\"#4D5663\"},\"text\":\"\"},\"zerolinecolor\":\"#E1E5ED\"},\"yaxis5\":{\"anchor\":\"x5\",\"domain\":[0.535,0.7325],\"gridcolor\":\"#E1E5ED\",\"showgrid\":false,\"tickfont\":{\"color\":\"#4D5663\"},\"title\":{\"font\":{\"color\":\"#4D5663\"},\"text\":\"\"},\"zerolinecolor\":\"#E1E5ED\"},\"xaxis6\":{\"anchor\":\"y6\",\"domain\":[0.2625,0.475],\"gridcolor\":\"#E1E5ED\",\"showgrid\":false,\"tickfont\":{\"color\":\"#4D5663\"},\"title\":{\"font\":{\"color\":\"#4D5663\"},\"text\":\"\"},\"zerolinecolor\":\"#E1E5ED\"},\"yaxis6\":{\"anchor\":\"x6\",\"domain\":[0.535,0.7325],\"gridcolor\":\"#E1E5ED\",\"showgrid\":false,\"tickfont\":{\"color\":\"#4D5663\"},\"title\":{\"font\":{\"color\":\"#4D5663\"},\"text\":\"\"},\"zerolinecolor\":\"#E1E5ED\"},\"xaxis7\":{\"anchor\":\"y7\",\"domain\":[0.525,0.7375],\"gridcolor\":\"#E1E5ED\",\"showgrid\":false,\"tickfont\":{\"color\":\"#4D5663\"},\"title\":{\"font\":{\"color\":\"#4D5663\"},\"text\":\"\"},\"zerolinecolor\":\"#E1E5ED\"},\"yaxis7\":{\"anchor\":\"x7\",\"domain\":[0.535,0.7325],\"gridcolor\":\"#E1E5ED\",\"showgrid\":false,\"tickfont\":{\"color\":\"#4D5663\"},\"title\":{\"font\":{\"color\":\"#4D5663\"},\"text\":\"\"},\"zerolinecolor\":\"#E1E5ED\"},\"xaxis8\":{\"anchor\":\"y8\",\"domain\":[0.7875,1.0],\"gridcolor\":\"#E1E5ED\",\"showgrid\":false,\"tickfont\":{\"color\":\"#4D5663\"},\"title\":{\"font\":{\"color\":\"#4D5663\"},\"text\":\"\"},\"zerolinecolor\":\"#E1E5ED\"},\"yaxis8\":{\"anchor\":\"x8\",\"domain\":[0.535,0.7325],\"gridcolor\":\"#E1E5ED\",\"showgrid\":false,\"tickfont\":{\"color\":\"#4D5663\"},\"title\":{\"font\":{\"color\":\"#4D5663\"},\"text\":\"\"},\"zerolinecolor\":\"#E1E5ED\"},\"xaxis9\":{\"anchor\":\"y9\",\"domain\":[0.0,0.2125],\"gridcolor\":\"#E1E5ED\",\"showgrid\":false,\"tickfont\":{\"color\":\"#4D5663\"},\"title\":{\"font\":{\"color\":\"#4D5663\"},\"text\":\"\"},\"zerolinecolor\":\"#E1E5ED\"},\"yaxis9\":{\"anchor\":\"x9\",\"domain\":[0.2675,0.465],\"gridcolor\":\"#E1E5ED\",\"showgrid\":false,\"tickfont\":{\"color\":\"#4D5663\"},\"title\":{\"font\":{\"color\":\"#4D5663\"},\"text\":\"\"},\"zerolinecolor\":\"#E1E5ED\"},\"xaxis10\":{\"anchor\":\"y10\",\"domain\":[0.2625,0.475],\"gridcolor\":\"#E1E5ED\",\"showgrid\":false,\"tickfont\":{\"color\":\"#4D5663\"},\"title\":{\"font\":{\"color\":\"#4D5663\"},\"text\":\"\"},\"zerolinecolor\":\"#E1E5ED\"},\"yaxis10\":{\"anchor\":\"x10\",\"domain\":[0.2675,0.465],\"gridcolor\":\"#E1E5ED\",\"showgrid\":false,\"tickfont\":{\"color\":\"#4D5663\"},\"title\":{\"font\":{\"color\":\"#4D5663\"},\"text\":\"\"},\"zerolinecolor\":\"#E1E5ED\"},\"xaxis11\":{\"anchor\":\"y11\",\"domain\":[0.525,0.7375],\"gridcolor\":\"#E1E5ED\",\"showgrid\":false,\"tickfont\":{\"color\":\"#4D5663\"},\"title\":{\"font\":{\"color\":\"#4D5663\"},\"text\":\"\"},\"zerolinecolor\":\"#E1E5ED\"},\"yaxis11\":{\"anchor\":\"x11\",\"domain\":[0.2675,0.465],\"gridcolor\":\"#E1E5ED\",\"showgrid\":false,\"tickfont\":{\"color\":\"#4D5663\"},\"title\":{\"font\":{\"color\":\"#4D5663\"},\"text\":\"\"},\"zerolinecolor\":\"#E1E5ED\"},\"xaxis12\":{\"anchor\":\"y12\",\"domain\":[0.7875,1.0],\"gridcolor\":\"#E1E5ED\",\"showgrid\":false,\"tickfont\":{\"color\":\"#4D5663\"},\"title\":{\"font\":{\"color\":\"#4D5663\"},\"text\":\"\"},\"zerolinecolor\":\"#E1E5ED\"},\"yaxis12\":{\"anchor\":\"x12\",\"domain\":[0.2675,0.465],\"gridcolor\":\"#E1E5ED\",\"showgrid\":false,\"tickfont\":{\"color\":\"#4D5663\"},\"title\":{\"font\":{\"color\":\"#4D5663\"},\"text\":\"\"},\"zerolinecolor\":\"#E1E5ED\"},\"xaxis13\":{\"anchor\":\"y13\",\"domain\":[0.0,0.2125],\"gridcolor\":\"#E1E5ED\",\"showgrid\":false,\"tickfont\":{\"color\":\"#4D5663\"},\"title\":{\"font\":{\"color\":\"#4D5663\"},\"text\":\"\"},\"zerolinecolor\":\"#E1E5ED\"},\"yaxis13\":{\"anchor\":\"x13\",\"domain\":[0.0,0.1975],\"gridcolor\":\"#E1E5ED\",\"showgrid\":false,\"tickfont\":{\"color\":\"#4D5663\"},\"title\":{\"font\":{\"color\":\"#4D5663\"},\"text\":\"\"},\"zerolinecolor\":\"#E1E5ED\"},\"xaxis14\":{\"anchor\":\"y14\",\"domain\":[0.2625,0.475],\"gridcolor\":\"#E1E5ED\",\"showgrid\":false,\"tickfont\":{\"color\":\"#4D5663\"},\"title\":{\"font\":{\"color\":\"#4D5663\"},\"text\":\"\"},\"zerolinecolor\":\"#E1E5ED\"},\"yaxis14\":{\"anchor\":\"x14\",\"domain\":[0.0,0.1975],\"gridcolor\":\"#E1E5ED\",\"showgrid\":false,\"tickfont\":{\"color\":\"#4D5663\"},\"title\":{\"font\":{\"color\":\"#4D5663\"},\"text\":\"\"},\"zerolinecolor\":\"#E1E5ED\"},\"xaxis15\":{\"anchor\":\"y15\",\"domain\":[0.525,0.7375],\"gridcolor\":\"#E1E5ED\",\"showgrid\":false,\"tickfont\":{\"color\":\"#4D5663\"},\"title\":{\"font\":{\"color\":\"#4D5663\"},\"text\":\"\"},\"zerolinecolor\":\"#E1E5ED\"},\"yaxis15\":{\"anchor\":\"x15\",\"domain\":[0.0,0.1975],\"gridcolor\":\"#E1E5ED\",\"showgrid\":false,\"tickfont\":{\"color\":\"#4D5663\"},\"title\":{\"font\":{\"color\":\"#4D5663\"},\"text\":\"\"},\"zerolinecolor\":\"#E1E5ED\"},\"xaxis16\":{\"anchor\":\"y16\",\"domain\":[0.7875,1.0],\"gridcolor\":\"#E1E5ED\",\"showgrid\":false,\"tickfont\":{\"color\":\"#4D5663\"},\"title\":{\"font\":{\"color\":\"#4D5663\"},\"text\":\"\"},\"zerolinecolor\":\"#E1E5ED\"},\"yaxis16\":{\"anchor\":\"x16\",\"domain\":[0.0,0.1975],\"gridcolor\":\"#E1E5ED\",\"showgrid\":false,\"tickfont\":{\"color\":\"#4D5663\"},\"title\":{\"font\":{\"color\":\"#4D5663\"},\"text\":\"\"},\"zerolinecolor\":\"#E1E5ED\"}},                        {\"showLink\": true, \"linkText\": \"Export to plot.ly\", \"plotlyServerURL\": \"https://plot.ly\", \"responsive\": true}                    ).then(function(){\n",
       "                            \n",
       "var gd = document.getElementById('e891f7c9-b2c6-4e8d-bb78-9fa427fad190');\n",
       "var x = new MutationObserver(function (mutations, observer) {{\n",
       "        var display = window.getComputedStyle(gd).display;\n",
       "        if (!display || display === 'none') {{\n",
       "            console.log([gd, 'removed!']);\n",
       "            Plotly.purge(gd);\n",
       "            observer.disconnect();\n",
       "        }}\n",
       "}});\n",
       "\n",
       "// Listen for the removal of the full notebook cells\n",
       "var notebookContainer = gd.closest('#notebook-container');\n",
       "if (notebookContainer) {{\n",
       "    x.observe(notebookContainer, {childList: true});\n",
       "}}\n",
       "\n",
       "// Listen for the clearing of the current output cell\n",
       "var outputEl = gd.closest('.output');\n",
       "if (outputEl) {{\n",
       "    x.observe(outputEl, {childList: true});\n",
       "}}\n",
       "\n",
       "                        })                };                });            </script>        </div>"
      ]
     },
     "metadata": {},
     "output_type": "display_data"
    }
   ],
   "source": [
    "df.scatter_matrix()"
   ]
  },
  {
   "cell_type": "markdown",
   "metadata": {
    "collapsed": true
   },
   "source": [
    "# Great Job!"
   ]
  }
 ],
 "metadata": {
  "kernelspec": {
   "display_name": "Python 3",
   "language": "python",
   "name": "python3"
  },
  "language_info": {
   "codemirror_mode": {
    "name": "ipython",
    "version": 3
   },
   "file_extension": ".py",
   "mimetype": "text/x-python",
   "name": "python",
   "nbconvert_exporter": "python",
   "pygments_lexer": "ipython3",
   "version": "3.11.2"
  }
 },
 "nbformat": 4,
 "nbformat_minor": 0
}
